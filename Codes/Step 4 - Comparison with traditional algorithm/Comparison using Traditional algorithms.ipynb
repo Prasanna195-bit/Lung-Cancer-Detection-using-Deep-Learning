{
 "cells": [
  {
   "cell_type": "code",
   "execution_count": 1,
   "metadata": {
    "colab": {
     "base_uri": "https://localhost:8080/",
     "height": 34
    },
    "executionInfo": {
     "elapsed": 26799,
     "status": "ok",
     "timestamp": 1603115374513,
     "user": {
      "displayName": "DIVYANSHU BHAIK",
      "photoUrl": "https://lh3.googleusercontent.com/a-/AOh14Gi1vml2D36-XRNdiec3_IPIhcoGFtn36xsXJyiN=s64",
      "userId": "01508561723939667345"
     },
     "user_tz": -330
    },
    "id": "oagFdfM9RfGR",
    "outputId": "b64b4010-6477-45e8-e1d5-26e1cb6f0729"
   },
   "outputs": [
    {
     "name": "stdout",
     "output_type": "stream",
     "text": [
      "Mounted at /content/gdrive\n"
     ]
    }
   ],
   "source": [
    "from google.colab import drive \n",
    "drive.mount('/content/gdrive')"
   ]
  },
  {
   "cell_type": "code",
   "execution_count": 2,
   "metadata": {},
   "outputs": [
    {
     "name": "stdout",
     "output_type": "stream",
     "text": [
      "Requirement already satisfied: numpy==1.20.2 in c:\\users\\91876\\anaconda3\\envs\\antonioenv\\lib\\site-packages (1.20.2)\n",
      "1.20.2\n"
     ]
    },
    {
     "name": "stderr",
     "output_type": "stream",
     "text": [
      "WARNING: Ignoring invalid distribution -illow (c:\\users\\91876\\appdata\\roaming\\python\\python38\\site-packages)\n",
      "WARNING: Ignoring invalid distribution -llow (c:\\users\\91876\\anaconda3\\envs\\antonioenv\\lib\\site-packages)\n",
      "WARNING: Ignoring invalid distribution -orchvision (c:\\users\\91876\\anaconda3\\envs\\antonioenv\\lib\\site-packages)\n",
      "WARNING: Ignoring invalid distribution -llow (c:\\users\\91876\\anaconda3\\envs\\antonioenv\\lib\\site-packages)\n",
      "WARNING: Ignoring invalid distribution - (c:\\users\\91876\\anaconda3\\envs\\antonioenv\\lib\\site-packages)\n",
      "WARNING: Ignoring invalid distribution -atplotlib (c:\\users\\91876\\anaconda3\\envs\\antonioenv\\lib\\site-packages)\n",
      "WARNING: Ignoring invalid distribution -illow (c:\\users\\91876\\appdata\\roaming\\python\\python38\\site-packages)\n",
      "WARNING: Ignoring invalid distribution -llow (c:\\users\\91876\\anaconda3\\envs\\antonioenv\\lib\\site-packages)\n",
      "WARNING: Ignoring invalid distribution -orchvision (c:\\users\\91876\\anaconda3\\envs\\antonioenv\\lib\\site-packages)\n",
      "WARNING: Ignoring invalid distribution -llow (c:\\users\\91876\\anaconda3\\envs\\antonioenv\\lib\\site-packages)\n",
      "WARNING: Ignoring invalid distribution - (c:\\users\\91876\\anaconda3\\envs\\antonioenv\\lib\\site-packages)\n",
      "WARNING: Ignoring invalid distribution -atplotlib (c:\\users\\91876\\anaconda3\\envs\\antonioenv\\lib\\site-packages)\n",
      "WARNING: Ignoring invalid distribution -illow (c:\\users\\91876\\appdata\\roaming\\python\\python38\\site-packages)\n",
      "WARNING: Ignoring invalid distribution -llow (c:\\users\\91876\\anaconda3\\envs\\antonioenv\\lib\\site-packages)\n",
      "WARNING: Ignoring invalid distribution -orchvision (c:\\users\\91876\\anaconda3\\envs\\antonioenv\\lib\\site-packages)\n",
      "WARNING: Ignoring invalid distribution -llow (c:\\users\\91876\\anaconda3\\envs\\antonioenv\\lib\\site-packages)\n",
      "WARNING: Ignoring invalid distribution - (c:\\users\\91876\\anaconda3\\envs\\antonioenv\\lib\\site-packages)\n",
      "WARNING: Ignoring invalid distribution -atplotlib (c:\\users\\91876\\anaconda3\\envs\\antonioenv\\lib\\site-packages)\n",
      "WARNING: Ignoring invalid distribution -illow (c:\\users\\91876\\appdata\\roaming\\python\\python38\\site-packages)\n",
      "WARNING: Ignoring invalid distribution -llow (c:\\users\\91876\\anaconda3\\envs\\antonioenv\\lib\\site-packages)\n",
      "WARNING: Ignoring invalid distribution -orchvision (c:\\users\\91876\\anaconda3\\envs\\antonioenv\\lib\\site-packages)\n",
      "WARNING: Ignoring invalid distribution -llow (c:\\users\\91876\\anaconda3\\envs\\antonioenv\\lib\\site-packages)\n",
      "WARNING: Ignoring invalid distribution - (c:\\users\\91876\\anaconda3\\envs\\antonioenv\\lib\\site-packages)\n",
      "WARNING: Ignoring invalid distribution -atplotlib (c:\\users\\91876\\anaconda3\\envs\\antonioenv\\lib\\site-packages)\n",
      "WARNING: Ignoring invalid distribution -illow (c:\\users\\91876\\appdata\\roaming\\python\\python38\\site-packages)\n",
      "WARNING: Ignoring invalid distribution -llow (c:\\users\\91876\\anaconda3\\envs\\antonioenv\\lib\\site-packages)\n",
      "WARNING: Ignoring invalid distribution -orchvision (c:\\users\\91876\\anaconda3\\envs\\antonioenv\\lib\\site-packages)\n",
      "WARNING: Ignoring invalid distribution -llow (c:\\users\\91876\\anaconda3\\envs\\antonioenv\\lib\\site-packages)\n",
      "WARNING: Ignoring invalid distribution - (c:\\users\\91876\\anaconda3\\envs\\antonioenv\\lib\\site-packages)\n",
      "WARNING: Ignoring invalid distribution -atplotlib (c:\\users\\91876\\anaconda3\\envs\\antonioenv\\lib\\site-packages)\n"
     ]
    }
   ],
   "source": [
    "!pip install numpy==1.20.2\n",
    "import numpy\n",
    "print(numpy.version.version)"
   ]
  },
  {
   "cell_type": "code",
   "execution_count": 3,
   "metadata": {
    "colab": {
     "base_uri": "https://localhost:8080/",
     "height": 675
    },
    "executionInfo": {
     "elapsed": 7346,
     "status": "ok",
     "timestamp": 1603115386376,
     "user": {
      "displayName": "DIVYANSHU BHAIK",
      "photoUrl": "https://lh3.googleusercontent.com/a-/AOh14Gi1vml2D36-XRNdiec3_IPIhcoGFtn36xsXJyiN=s64",
      "userId": "01508561723939667345"
     },
     "user_tz": -330
    },
    "id": "sS11xlC-nXc5",
    "outputId": "25d1bf38-8e8c-4327-bf6d-887908b5e827",
    "scrolled": false
   },
   "outputs": [
    {
     "name": "stdout",
     "output_type": "stream",
     "text": [
      "2.4.1\n"
     ]
    }
   ],
   "source": [
    "#!pip install tensorflow\n",
    "import tensorflow as tf\n",
    "print(tf.__version__)\n",
    "#!pip install tensorflow==1.15.3"
   ]
  },
  {
   "cell_type": "code",
   "execution_count": 4,
   "metadata": {
    "colab": {
     "base_uri": "https://localhost:8080/",
     "height": 337
    },
    "executionInfo": {
     "elapsed": 20032,
     "status": "ok",
     "timestamp": 1603115400039,
     "user": {
      "displayName": "DIVYANSHU BHAIK",
      "photoUrl": "https://lh3.googleusercontent.com/a-/AOh14Gi1vml2D36-XRNdiec3_IPIhcoGFtn36xsXJyiN=s64",
      "userId": "01508561723939667345"
     },
     "user_tz": -330
    },
    "id": "tNz7nR5-nzqy",
    "outputId": "23dc64de-651e-4dbe-bb9c-61a5741ce936"
   },
   "outputs": [
    {
     "name": "stdout",
     "output_type": "stream",
     "text": [
      "Requirement already satisfied: Pillow in c:\\users\\91876\\anaconda3\\envs\\antonioenv\\lib\\site-packages (8.2.0)\n"
     ]
    },
    {
     "name": "stderr",
     "output_type": "stream",
     "text": [
      "WARNING: Ignoring invalid distribution -illow (c:\\users\\91876\\appdata\\roaming\\python\\python38\\site-packages)\n",
      "WARNING: Ignoring invalid distribution -llow (c:\\users\\91876\\anaconda3\\envs\\antonioenv\\lib\\site-packages)\n",
      "WARNING: Ignoring invalid distribution -orchvision (c:\\users\\91876\\anaconda3\\envs\\antonioenv\\lib\\site-packages)\n",
      "WARNING: Ignoring invalid distribution -llow (c:\\users\\91876\\anaconda3\\envs\\antonioenv\\lib\\site-packages)\n",
      "WARNING: Ignoring invalid distribution - (c:\\users\\91876\\anaconda3\\envs\\antonioenv\\lib\\site-packages)\n",
      "WARNING: Ignoring invalid distribution -atplotlib (c:\\users\\91876\\anaconda3\\envs\\antonioenv\\lib\\site-packages)\n",
      "WARNING: Ignoring invalid distribution -illow (c:\\users\\91876\\appdata\\roaming\\python\\python38\\site-packages)\n",
      "WARNING: Ignoring invalid distribution -llow (c:\\users\\91876\\anaconda3\\envs\\antonioenv\\lib\\site-packages)\n",
      "WARNING: Ignoring invalid distribution -orchvision (c:\\users\\91876\\anaconda3\\envs\\antonioenv\\lib\\site-packages)\n",
      "WARNING: Ignoring invalid distribution -llow (c:\\users\\91876\\anaconda3\\envs\\antonioenv\\lib\\site-packages)\n",
      "WARNING: Ignoring invalid distribution - (c:\\users\\91876\\anaconda3\\envs\\antonioenv\\lib\\site-packages)\n",
      "WARNING: Ignoring invalid distribution -atplotlib (c:\\users\\91876\\anaconda3\\envs\\antonioenv\\lib\\site-packages)\n",
      "WARNING: Ignoring invalid distribution -illow (c:\\users\\91876\\appdata\\roaming\\python\\python38\\site-packages)\n",
      "WARNING: Ignoring invalid distribution -llow (c:\\users\\91876\\anaconda3\\envs\\antonioenv\\lib\\site-packages)\n",
      "WARNING: Ignoring invalid distribution -orchvision (c:\\users\\91876\\anaconda3\\envs\\antonioenv\\lib\\site-packages)\n",
      "WARNING: Ignoring invalid distribution -llow (c:\\users\\91876\\anaconda3\\envs\\antonioenv\\lib\\site-packages)\n",
      "WARNING: Ignoring invalid distribution - (c:\\users\\91876\\anaconda3\\envs\\antonioenv\\lib\\site-packages)\n",
      "WARNING: Ignoring invalid distribution -atplotlib (c:\\users\\91876\\anaconda3\\envs\\antonioenv\\lib\\site-packages)\n",
      "WARNING: Ignoring invalid distribution -illow (c:\\users\\91876\\appdata\\roaming\\python\\python38\\site-packages)\n",
      "WARNING: Ignoring invalid distribution -llow (c:\\users\\91876\\anaconda3\\envs\\antonioenv\\lib\\site-packages)\n",
      "WARNING: Ignoring invalid distribution -orchvision (c:\\users\\91876\\anaconda3\\envs\\antonioenv\\lib\\site-packages)\n",
      "WARNING: Ignoring invalid distribution -llow (c:\\users\\91876\\anaconda3\\envs\\antonioenv\\lib\\site-packages)\n",
      "WARNING: Ignoring invalid distribution - (c:\\users\\91876\\anaconda3\\envs\\antonioenv\\lib\\site-packages)\n",
      "WARNING: Ignoring invalid distribution -atplotlib (c:\\users\\91876\\anaconda3\\envs\\antonioenv\\lib\\site-packages)\n",
      "WARNING: Ignoring invalid distribution -illow (c:\\users\\91876\\appdata\\roaming\\python\\python38\\site-packages)\n",
      "WARNING: Ignoring invalid distribution -llow (c:\\users\\91876\\anaconda3\\envs\\antonioenv\\lib\\site-packages)\n",
      "WARNING: Ignoring invalid distribution -orchvision (c:\\users\\91876\\anaconda3\\envs\\antonioenv\\lib\\site-packages)\n",
      "WARNING: Ignoring invalid distribution -llow (c:\\users\\91876\\anaconda3\\envs\\antonioenv\\lib\\site-packages)\n",
      "WARNING: Ignoring invalid distribution - (c:\\users\\91876\\anaconda3\\envs\\antonioenv\\lib\\site-packages)\n",
      "WARNING: Ignoring invalid distribution -atplotlib (c:\\users\\91876\\anaconda3\\envs\\antonioenv\\lib\\site-packages)\n"
     ]
    },
    {
     "name": "stdout",
     "output_type": "stream",
     "text": [
      "Collecting scipy==1.1.0\n",
      "  Using cached scipy-1.1.0.tar.gz (15.6 MB)\n",
      "Building wheels for collected packages: scipy\n",
      "  Building wheel for scipy (setup.py): started\n",
      "  Building wheel for scipy (setup.py): finished with status 'error'\n",
      "  Running setup.py clean for scipy\n",
      "Failed to build scipy\n",
      "Installing collected packages: scipy\n",
      "  Attempting uninstall: scipy\n",
      "    Found existing installation: scipy 1.6.3\n",
      "    Uninstalling scipy-1.6.3:\n",
      "      Successfully uninstalled scipy-1.6.3\n",
      "    Running setup.py install for scipy: started\n",
      "    Running setup.py install for scipy: finished with status 'error'\n",
      "  Rolling back uninstall of scipy\n",
      "  Moving to c:\\users\\91876\\appdata\\roaming\\python\\python38\\site-packages\\scipy-1.6.3.dist-info\\\n",
      "   from C:\\Users\\91876\\AppData\\Roaming\\Python\\Python38\\site-packages\\~cipy-1.6.3.dist-info\n",
      "  Moving to c:\\users\\91876\\appdata\\roaming\\python\\python38\\site-packages\\scipy\\\n",
      "   from C:\\Users\\91876\\AppData\\Roaming\\Python\\Python38\\site-packages\\~cipy\n"
     ]
    },
    {
     "name": "stderr",
     "output_type": "stream",
     "text": [
      "WARNING: Ignoring invalid distribution -illow (c:\\users\\91876\\appdata\\roaming\\python\\python38\\site-packages)\n",
      "WARNING: Ignoring invalid distribution -llow (c:\\users\\91876\\anaconda3\\envs\\antonioenv\\lib\\site-packages)\n",
      "WARNING: Ignoring invalid distribution -orchvision (c:\\users\\91876\\anaconda3\\envs\\antonioenv\\lib\\site-packages)\n",
      "WARNING: Ignoring invalid distribution -llow (c:\\users\\91876\\anaconda3\\envs\\antonioenv\\lib\\site-packages)\n",
      "WARNING: Ignoring invalid distribution - (c:\\users\\91876\\anaconda3\\envs\\antonioenv\\lib\\site-packages)\n",
      "WARNING: Ignoring invalid distribution -atplotlib (c:\\users\\91876\\anaconda3\\envs\\antonioenv\\lib\\site-packages)\n",
      "WARNING: Ignoring invalid distribution -illow (c:\\users\\91876\\appdata\\roaming\\python\\python38\\site-packages)\n",
      "WARNING: Ignoring invalid distribution -llow (c:\\users\\91876\\anaconda3\\envs\\antonioenv\\lib\\site-packages)\n",
      "WARNING: Ignoring invalid distribution -orchvision (c:\\users\\91876\\anaconda3\\envs\\antonioenv\\lib\\site-packages)\n",
      "WARNING: Ignoring invalid distribution -llow (c:\\users\\91876\\anaconda3\\envs\\antonioenv\\lib\\site-packages)\n",
      "WARNING: Ignoring invalid distribution - (c:\\users\\91876\\anaconda3\\envs\\antonioenv\\lib\\site-packages)\n",
      "WARNING: Ignoring invalid distribution -atplotlib (c:\\users\\91876\\anaconda3\\envs\\antonioenv\\lib\\site-packages)\n",
      "  ERROR: Command errored out with exit status 1:\n",
      "   command: 'C:\\Users\\91876\\anaconda3\\envs\\AntonioEnv\\python.exe' -u -c 'import io, os, sys, setuptools, tokenize; sys.argv[0] = '\"'\"'C:\\\\Users\\\\91876\\\\AppData\\\\Local\\\\Temp\\\\pip-install-10a77jw5\\\\scipy_54822a25a9b24f2dab27b6c377c8198e\\\\setup.py'\"'\"'; __file__='\"'\"'C:\\\\Users\\\\91876\\\\AppData\\\\Local\\\\Temp\\\\pip-install-10a77jw5\\\\scipy_54822a25a9b24f2dab27b6c377c8198e\\\\setup.py'\"'\"';f = getattr(tokenize, '\"'\"'open'\"'\"', open)(__file__) if os.path.exists(__file__) else io.StringIO('\"'\"'from setuptools import setup; setup()'\"'\"');code = f.read().replace('\"'\"'\\r\\n'\"'\"', '\"'\"'\\n'\"'\"');f.close();exec(compile(code, __file__, '\"'\"'exec'\"'\"'))' bdist_wheel -d 'C:\\Users\\91876\\AppData\\Local\\Temp\\pip-wheel-iscwkjr0'\n",
      "       cwd: C:\\Users\\91876\\AppData\\Local\\Temp\\pip-install-10a77jw5\\scipy_54822a25a9b24f2dab27b6c377c8198e\\\n",
      "  Complete output (148 lines):\n",
      "  C:\\Users\\91876\\anaconda3\\envs\\AntonioEnv\\lib\\site-packages\\numpy\\_distributor_init.py:30: UserWarning: loaded more than 1 DLL from .libs:\n",
      "  C:\\Users\\91876\\anaconda3\\envs\\AntonioEnv\\lib\\site-packages\\numpy\\.libs\\libopenblas.GK7GX5KEQ4F6UYO3P26ULGBQYHGQO7J4.gfortran-win_amd64.dll\n",
      "  C:\\Users\\91876\\anaconda3\\envs\\AntonioEnv\\lib\\site-packages\\numpy\\.libs\\libopenblas.PYQHXLVVQ7VESDPUVUADXEVJOBGHJPAY.gfortran-win_amd64.dll\n",
      "  C:\\Users\\91876\\anaconda3\\envs\\AntonioEnv\\lib\\site-packages\\numpy\\.libs\\libopenblas.WCDJNK7YVMPZQ2ME2ZZHJJRJ3JIKNDB7.gfortran-win_amd64.dll\n",
      "    warnings.warn(\"loaded more than 1 DLL from .libs:\"\n",
      "  lapack_opt_info:\n",
      "  lapack_mkl_info:\n",
      "  No module named 'numpy.distutils._msvccompiler' in numpy.distutils; trying from distutils\n",
      "  customize MSVCCompiler\n",
      "    libraries mkl_rt not found in ['C:\\\\Users\\\\91876\\\\anaconda3\\\\envs\\\\AntonioEnv\\\\lib', 'C:\\\\', 'C:\\\\Users\\\\91876\\\\anaconda3\\\\envs\\\\AntonioEnv\\\\libs', 'C:\\\\Users\\\\91876\\\\anaconda3\\\\Library\\\\lib']\n",
      "    NOT AVAILABLE\n",
      "  \n",
      "  openblas_lapack_info:\n",
      "    libraries openblas not found in ['C:\\\\Users\\\\91876\\\\anaconda3\\\\envs\\\\AntonioEnv\\\\lib', 'C:\\\\', 'C:\\\\Users\\\\91876\\\\anaconda3\\\\envs\\\\AntonioEnv\\\\libs', 'C:\\\\Users\\\\91876\\\\anaconda3\\\\Library\\\\lib']\n",
      "  get_default_fcompiler: matching types: '['gnu', 'intelv', 'absoft', 'compaqv', 'intelev', 'gnu95', 'g95', 'intelvem', 'intelem', 'flang']'\n",
      "  customize GnuFCompiler\n",
      "  Could not locate executable g77\n",
      "  Could not locate executable f77\n",
      "  customize IntelVisualFCompiler\n",
      "  Could not locate executable ifort\n",
      "  Could not locate executable ifl\n",
      "  customize AbsoftFCompiler\n",
      "  Could not locate executable f90\n",
      "  customize CompaqVisualFCompiler\n",
      "  Could not locate executable DF\n",
      "  customize IntelItaniumVisualFCompiler\n",
      "  Could not locate executable efl\n",
      "  customize Gnu95FCompiler\n",
      "  Could not locate executable gfortran\n",
      "  Could not locate executable f95\n",
      "  customize G95FCompiler\n",
      "  Could not locate executable g95\n",
      "  customize IntelEM64VisualFCompiler\n",
      "  customize IntelEM64TFCompiler\n",
      "  Could not locate executable efort\n",
      "  Could not locate executable efc\n",
      "  customize PGroupFlangCompiler\n",
      "  Could not locate executable flang\n",
      "  don't know how to compile Fortran code on platform 'nt'\n",
      "    NOT AVAILABLE\n",
      "  \n",
      "  openblas_clapack_info:\n",
      "    libraries openblas,lapack not found in ['C:\\\\Users\\\\91876\\\\anaconda3\\\\envs\\\\AntonioEnv\\\\lib', 'C:\\\\', 'C:\\\\Users\\\\91876\\\\anaconda3\\\\envs\\\\AntonioEnv\\\\libs', 'C:\\\\Users\\\\91876\\\\anaconda3\\\\Library\\\\lib']\n",
      "    NOT AVAILABLE\n",
      "  \n",
      "  flame_info:\n",
      "    libraries flame not found in ['C:\\\\Users\\\\91876\\\\anaconda3\\\\envs\\\\AntonioEnv\\\\lib', 'C:\\\\', 'C:\\\\Users\\\\91876\\\\anaconda3\\\\envs\\\\AntonioEnv\\\\libs', 'C:\\\\Users\\\\91876\\\\anaconda3\\\\Library\\\\lib']\n",
      "    NOT AVAILABLE\n",
      "  \n",
      "  atlas_3_10_threads_info:\n",
      "  Setting PTATLAS=ATLAS\n",
      "    libraries lapack_atlas not found in C:\\Users\\91876\\anaconda3\\envs\\AntonioEnv\\lib\n",
      "    libraries tatlas,tatlas not found in C:\\Users\\91876\\anaconda3\\envs\\AntonioEnv\\lib\n",
      "    libraries lapack_atlas not found in C:\\\n",
      "    libraries tatlas,tatlas not found in C:\\\n",
      "    libraries lapack_atlas not found in C:\\Users\\91876\\anaconda3\\envs\\AntonioEnv\\libs\n",
      "    libraries tatlas,tatlas not found in C:\\Users\\91876\\anaconda3\\envs\\AntonioEnv\\libs\n",
      "    libraries lapack_atlas not found in C:\\Users\\91876\\anaconda3\\Library\\lib\n",
      "    libraries tatlas,tatlas not found in C:\\Users\\91876\\anaconda3\\Library\\lib\n",
      "  <class 'numpy.distutils.system_info.atlas_3_10_threads_info'>\n",
      "    NOT AVAILABLE\n",
      "  \n",
      "  atlas_3_10_info:\n",
      "    libraries lapack_atlas not found in C:\\Users\\91876\\anaconda3\\envs\\AntonioEnv\\lib\n",
      "    libraries satlas,satlas not found in C:\\Users\\91876\\anaconda3\\envs\\AntonioEnv\\lib\n",
      "    libraries lapack_atlas not found in C:\\\n",
      "    libraries satlas,satlas not found in C:\\\n",
      "    libraries lapack_atlas not found in C:\\Users\\91876\\anaconda3\\envs\\AntonioEnv\\libs\n",
      "    libraries satlas,satlas not found in C:\\Users\\91876\\anaconda3\\envs\\AntonioEnv\\libs\n",
      "    libraries lapack_atlas not found in C:\\Users\\91876\\anaconda3\\Library\\lib\n",
      "    libraries satlas,satlas not found in C:\\Users\\91876\\anaconda3\\Library\\lib\n",
      "  <class 'numpy.distutils.system_info.atlas_3_10_info'>\n",
      "    NOT AVAILABLE\n",
      "  \n",
      "  atlas_threads_info:\n",
      "  Setting PTATLAS=ATLAS\n",
      "    libraries lapack_atlas not found in C:\\Users\\91876\\anaconda3\\envs\\AntonioEnv\\lib\n",
      "    libraries ptf77blas,ptcblas,atlas not found in C:\\Users\\91876\\anaconda3\\envs\\AntonioEnv\\lib\n",
      "    libraries lapack_atlas not found in C:\\\n",
      "    libraries ptf77blas,ptcblas,atlas not found in C:\\\n",
      "    libraries lapack_atlas not found in C:\\Users\\91876\\anaconda3\\envs\\AntonioEnv\\libs\n",
      "    libraries ptf77blas,ptcblas,atlas not found in C:\\Users\\91876\\anaconda3\\envs\\AntonioEnv\\libs\n",
      "    libraries lapack_atlas not found in C:\\Users\\91876\\anaconda3\\Library\\lib\n",
      "    libraries ptf77blas,ptcblas,atlas not found in C:\\Users\\91876\\anaconda3\\Library\\lib\n",
      "  <class 'numpy.distutils.system_info.atlas_threads_info'>\n",
      "    NOT AVAILABLE\n",
      "  \n",
      "  atlas_info:\n",
      "    libraries lapack_atlas not found in C:\\Users\\91876\\anaconda3\\envs\\AntonioEnv\\lib\n",
      "    libraries f77blas,cblas,atlas not found in C:\\Users\\91876\\anaconda3\\envs\\AntonioEnv\\lib\n",
      "    libraries lapack_atlas not found in C:\\\n",
      "    libraries f77blas,cblas,atlas not found in C:\\\n",
      "    libraries lapack_atlas not found in C:\\Users\\91876\\anaconda3\\envs\\AntonioEnv\\libs\n",
      "    libraries f77blas,cblas,atlas not found in C:\\Users\\91876\\anaconda3\\envs\\AntonioEnv\\libs\n",
      "    libraries lapack_atlas not found in C:\\Users\\91876\\anaconda3\\Library\\lib\n",
      "    libraries f77blas,cblas,atlas not found in C:\\Users\\91876\\anaconda3\\Library\\lib\n",
      "  <class 'numpy.distutils.system_info.atlas_info'>\n",
      "    NOT AVAILABLE\n",
      "  \n",
      "  lapack_info:\n",
      "    libraries lapack not found in ['C:\\\\Users\\\\91876\\\\anaconda3\\\\envs\\\\AntonioEnv\\\\lib', 'C:\\\\', 'C:\\\\Users\\\\91876\\\\anaconda3\\\\envs\\\\AntonioEnv\\\\libs', 'C:\\\\Users\\\\91876\\\\anaconda3\\\\Library\\\\lib']\n",
      "    NOT AVAILABLE\n",
      "  \n",
      "  C:\\Users\\91876\\anaconda3\\envs\\AntonioEnv\\lib\\site-packages\\numpy\\distutils\\system_info.py:1849: UserWarning:\n",
      "      Lapack (http://www.netlib.org/lapack/) libraries not found.\n",
      "      Directories to search for the libraries can be specified in the\n",
      "      numpy/distutils/site.cfg file (section [lapack]) or by setting\n",
      "      the LAPACK environment variable.\n",
      "    return getattr(self, '_calc_info_{}'.format(name))()\n",
      "  lapack_src_info:\n",
      "    NOT AVAILABLE\n",
      "  \n",
      "  C:\\Users\\91876\\anaconda3\\envs\\AntonioEnv\\lib\\site-packages\\numpy\\distutils\\system_info.py:1849: UserWarning:\n",
      "      Lapack (http://www.netlib.org/lapack/) sources not found.\n",
      "      Directories to search for the sources can be specified in the\n",
      "      numpy/distutils/site.cfg file (section [lapack_src]) or by setting\n",
      "      the LAPACK_SRC environment variable.\n",
      "    return getattr(self, '_calc_info_{}'.format(name))()\n",
      "    NOT AVAILABLE\n",
      "  \n",
      "  Running from scipy source directory.\n",
      "  Traceback (most recent call last):\n",
      "    File \"<string>\", line 1, in <module>\n",
      "    File \"C:\\Users\\91876\\AppData\\Local\\Temp\\pip-install-10a77jw5\\scipy_54822a25a9b24f2dab27b6c377c8198e\\setup.py\", line 474, in <module>\n",
      "      setup_package()\n",
      "    File \"C:\\Users\\91876\\AppData\\Local\\Temp\\pip-install-10a77jw5\\scipy_54822a25a9b24f2dab27b6c377c8198e\\setup.py\", line 470, in setup_package\n",
      "      setup(**metadata)\n",
      "    File \"C:\\Users\\91876\\anaconda3\\envs\\AntonioEnv\\lib\\site-packages\\numpy\\distutils\\core.py\", line 135, in setup\n",
      "      config = configuration()\n",
      "    File \"C:\\Users\\91876\\AppData\\Local\\Temp\\pip-install-10a77jw5\\scipy_54822a25a9b24f2dab27b6c377c8198e\\setup.py\", line 388, in configuration\n",
      "      config.add_subpackage('scipy')\n",
      "    File \"C:\\Users\\91876\\anaconda3\\envs\\AntonioEnv\\lib\\site-packages\\numpy\\distutils\\misc_util.py\", line 1019, in add_subpackage\n",
      "      config_list = self.get_subpackage(subpackage_name, subpackage_path,\n",
      "    File \"C:\\Users\\91876\\anaconda3\\envs\\AntonioEnv\\lib\\site-packages\\numpy\\distutils\\misc_util.py\", line 985, in get_subpackage\n",
      "      config = self._get_configuration_from_setup_py(\n",
      "    File \"C:\\Users\\91876\\anaconda3\\envs\\AntonioEnv\\lib\\site-packages\\numpy\\distutils\\misc_util.py\", line 927, in _get_configuration_from_setup_py\n",
      "      config = setup_module.configuration(*args)\n",
      "    File \"scipy\\setup.py\", line 15, in configuration\n",
      "      config.add_subpackage('linalg')\n",
      "    File \"C:\\Users\\91876\\anaconda3\\envs\\AntonioEnv\\lib\\site-packages\\numpy\\distutils\\misc_util.py\", line 1019, in add_subpackage\n",
      "      config_list = self.get_subpackage(subpackage_name, subpackage_path,\n",
      "    File \"C:\\Users\\91876\\anaconda3\\envs\\AntonioEnv\\lib\\site-packages\\numpy\\distutils\\misc_util.py\", line 985, in get_subpackage\n",
      "      config = self._get_configuration_from_setup_py(\n",
      "    File \"C:\\Users\\91876\\anaconda3\\envs\\AntonioEnv\\lib\\site-packages\\numpy\\distutils\\misc_util.py\", line 927, in _get_configuration_from_setup_py\n",
      "      config = setup_module.configuration(*args)\n",
      "    File \"scipy\\linalg\\setup.py\", line 19, in configuration\n",
      "      raise NotFoundError('no lapack/blas resources found')\n",
      "  numpy.distutils.system_info.NotFoundError: no lapack/blas resources found\n",
      "  ----------------------------------------\n",
      "  ERROR: Failed building wheel for scipy\n",
      "  ERROR: Command errored out with exit status 1:\n",
      "   command: 'C:\\Users\\91876\\anaconda3\\envs\\AntonioEnv\\python.exe' -u -c 'import io, os, sys, setuptools, tokenize; sys.argv[0] = '\"'\"'C:\\\\Users\\\\91876\\\\AppData\\\\Local\\\\Temp\\\\pip-install-10a77jw5\\\\scipy_54822a25a9b24f2dab27b6c377c8198e\\\\setup.py'\"'\"'; __file__='\"'\"'C:\\\\Users\\\\91876\\\\AppData\\\\Local\\\\Temp\\\\pip-install-10a77jw5\\\\scipy_54822a25a9b24f2dab27b6c377c8198e\\\\setup.py'\"'\"';f = getattr(tokenize, '\"'\"'open'\"'\"', open)(__file__) if os.path.exists(__file__) else io.StringIO('\"'\"'from setuptools import setup; setup()'\"'\"');code = f.read().replace('\"'\"'\\r\\n'\"'\"', '\"'\"'\\n'\"'\"');f.close();exec(compile(code, __file__, '\"'\"'exec'\"'\"'))' clean --all\n",
      "       cwd: C:\\Users\\91876\\AppData\\Local\\Temp\\pip-install-10a77jw5\\scipy_54822a25a9b24f2dab27b6c377c8198e\n",
      "  Complete output (14 lines):\n",
      "  C:\\Users\\91876\\anaconda3\\envs\\AntonioEnv\\lib\\site-packages\\numpy\\_distributor_init.py:30: UserWarning: loaded more than 1 DLL from .libs:\n",
      "  C:\\Users\\91876\\anaconda3\\envs\\AntonioEnv\\lib\\site-packages\\numpy\\.libs\\libopenblas.GK7GX5KEQ4F6UYO3P26ULGBQYHGQO7J4.gfortran-win_amd64.dll\n",
      "  C:\\Users\\91876\\anaconda3\\envs\\AntonioEnv\\lib\\site-packages\\numpy\\.libs\\libopenblas.PYQHXLVVQ7VESDPUVUADXEVJOBGHJPAY.gfortran-win_amd64.dll\n",
      "  C:\\Users\\91876\\anaconda3\\envs\\AntonioEnv\\lib\\site-packages\\numpy\\.libs\\libopenblas.WCDJNK7YVMPZQ2ME2ZZHJJRJ3JIKNDB7.gfortran-win_amd64.dll\n",
      "    warnings.warn(\"loaded more than 1 DLL from .libs:\"\n",
      "  \n",
      "  `setup.py clean` is not supported, use one of the following instead:\n",
      "  \n",
      "    - `git clean -xdf` (cleans all files)\n",
      "    - `git clean -Xdf` (cleans all versioned files, doesn't touch\n",
      "                        files that aren't checked into the git repo)\n",
      "  \n",
      "  Add `--force` to your command to use it anyway if you must (unsupported).\n",
      "  \n",
      "  ----------------------------------------\n",
      "  ERROR: Failed cleaning build dir for scipy\n",
      "WARNING: Ignoring invalid distribution -illow (c:\\users\\91876\\appdata\\roaming\\python\\python38\\site-packages)\n",
      "WARNING: Ignoring invalid distribution -llow (c:\\users\\91876\\anaconda3\\envs\\antonioenv\\lib\\site-packages)\n",
      "WARNING: Ignoring invalid distribution -orchvision (c:\\users\\91876\\anaconda3\\envs\\antonioenv\\lib\\site-packages)\n",
      "WARNING: Ignoring invalid distribution -llow (c:\\users\\91876\\anaconda3\\envs\\antonioenv\\lib\\site-packages)\n",
      "WARNING: Ignoring invalid distribution - (c:\\users\\91876\\anaconda3\\envs\\antonioenv\\lib\\site-packages)\n",
      "WARNING: Ignoring invalid distribution -atplotlib (c:\\users\\91876\\anaconda3\\envs\\antonioenv\\lib\\site-packages)\n",
      "    WARNING: Ignoring invalid distribution -illow (c:\\users\\91876\\appdata\\roaming\\python\\python38\\site-packages)\n",
      "    ERROR: Command errored out with exit status 1:\n",
      "     command: 'C:\\Users\\91876\\anaconda3\\envs\\AntonioEnv\\python.exe' -u -c 'import io, os, sys, setuptools, tokenize; sys.argv[0] = '\"'\"'C:\\\\Users\\\\91876\\\\AppData\\\\Local\\\\Temp\\\\pip-install-10a77jw5\\\\scipy_54822a25a9b24f2dab27b6c377c8198e\\\\setup.py'\"'\"'; __file__='\"'\"'C:\\\\Users\\\\91876\\\\AppData\\\\Local\\\\Temp\\\\pip-install-10a77jw5\\\\scipy_54822a25a9b24f2dab27b6c377c8198e\\\\setup.py'\"'\"';f = getattr(tokenize, '\"'\"'open'\"'\"', open)(__file__) if os.path.exists(__file__) else io.StringIO('\"'\"'from setuptools import setup; setup()'\"'\"');code = f.read().replace('\"'\"'\\r\\n'\"'\"', '\"'\"'\\n'\"'\"');f.close();exec(compile(code, __file__, '\"'\"'exec'\"'\"'))' install --record 'C:\\Users\\91876\\AppData\\Local\\Temp\\pip-record-ghlbht_e\\install-record.txt' --single-version-externally-managed --compile --install-headers 'C:\\Users\\91876\\anaconda3\\envs\\AntonioEnv\\Include\\scipy'\n",
      "         cwd: C:\\Users\\91876\\AppData\\Local\\Temp\\pip-install-10a77jw5\\scipy_54822a25a9b24f2dab27b6c377c8198e\\\n",
      "    Complete output (157 lines):\n",
      "    C:\\Users\\91876\\anaconda3\\envs\\AntonioEnv\\lib\\site-packages\\numpy\\_distributor_init.py:30: UserWarning: loaded more than 1 DLL from .libs:\n",
      "    C:\\Users\\91876\\anaconda3\\envs\\AntonioEnv\\lib\\site-packages\\numpy\\.libs\\libopenblas.GK7GX5KEQ4F6UYO3P26ULGBQYHGQO7J4.gfortran-win_amd64.dll\n",
      "    C:\\Users\\91876\\anaconda3\\envs\\AntonioEnv\\lib\\site-packages\\numpy\\.libs\\libopenblas.PYQHXLVVQ7VESDPUVUADXEVJOBGHJPAY.gfortran-win_amd64.dll\n",
      "    C:\\Users\\91876\\anaconda3\\envs\\AntonioEnv\\lib\\site-packages\\numpy\\.libs\\libopenblas.WCDJNK7YVMPZQ2ME2ZZHJJRJ3JIKNDB7.gfortran-win_amd64.dll\n",
      "      warnings.warn(\"loaded more than 1 DLL from .libs:\"\n",
      "    \n",
      "    Note: if you need reliable uninstall behavior, then install\n",
      "    with pip instead of using `setup.py install`:\n",
      "    \n",
      "      - `pip install .`       (from a git repo or downloaded source\n",
      "                               release)\n",
      "      - `pip install scipy`   (last SciPy release on PyPI)\n",
      "    \n",
      "    \n",
      "    lapack_opt_info:\n",
      "    lapack_mkl_info:\n",
      "    No module named 'numpy.distutils._msvccompiler' in numpy.distutils; trying from distutils\n",
      "    customize MSVCCompiler\n",
      "      libraries mkl_rt not found in ['C:\\\\Users\\\\91876\\\\anaconda3\\\\envs\\\\AntonioEnv\\\\lib', 'C:\\\\', 'C:\\\\Users\\\\91876\\\\anaconda3\\\\envs\\\\AntonioEnv\\\\libs', 'C:\\\\Users\\\\91876\\\\anaconda3\\\\Library\\\\lib']\n",
      "      NOT AVAILABLE\n",
      "    \n",
      "    openblas_lapack_info:\n",
      "      libraries openblas not found in ['C:\\\\Users\\\\91876\\\\anaconda3\\\\envs\\\\AntonioEnv\\\\lib', 'C:\\\\', 'C:\\\\Users\\\\91876\\\\anaconda3\\\\envs\\\\AntonioEnv\\\\libs', 'C:\\\\Users\\\\91876\\\\anaconda3\\\\Library\\\\lib']\n",
      "    get_default_fcompiler: matching types: '['gnu', 'intelv', 'absoft', 'compaqv', 'intelev', 'gnu95', 'g95', 'intelvem', 'intelem', 'flang']'\n",
      "    customize GnuFCompiler\n",
      "    Could not locate executable g77\n",
      "    Could not locate executable f77\n",
      "    customize IntelVisualFCompiler\n",
      "    Could not locate executable ifort\n",
      "    Could not locate executable ifl\n",
      "    customize AbsoftFCompiler\n",
      "    Could not locate executable f90\n",
      "    customize CompaqVisualFCompiler\n",
      "    Could not locate executable DF\n",
      "    customize IntelItaniumVisualFCompiler\n",
      "    Could not locate executable efl\n",
      "    customize Gnu95FCompiler\n",
      "    Could not locate executable gfortran\n",
      "    Could not locate executable f95\n",
      "    customize G95FCompiler\n",
      "    Could not locate executable g95\n",
      "    customize IntelEM64VisualFCompiler\n",
      "    customize IntelEM64TFCompiler\n",
      "    Could not locate executable efort\n",
      "    Could not locate executable efc\n",
      "    customize PGroupFlangCompiler\n",
      "    Could not locate executable flang\n",
      "    don't know how to compile Fortran code on platform 'nt'\n",
      "      NOT AVAILABLE\n",
      "    \n",
      "    openblas_clapack_info:\n",
      "      libraries openblas,lapack not found in ['C:\\\\Users\\\\91876\\\\anaconda3\\\\envs\\\\AntonioEnv\\\\lib', 'C:\\\\', 'C:\\\\Users\\\\91876\\\\anaconda3\\\\envs\\\\AntonioEnv\\\\libs', 'C:\\\\Users\\\\91876\\\\anaconda3\\\\Library\\\\lib']\n",
      "      NOT AVAILABLE\n",
      "    \n",
      "    flame_info:\n",
      "      libraries flame not found in ['C:\\\\Users\\\\91876\\\\anaconda3\\\\envs\\\\AntonioEnv\\\\lib', 'C:\\\\', 'C:\\\\Users\\\\91876\\\\anaconda3\\\\envs\\\\AntonioEnv\\\\libs', 'C:\\\\Users\\\\91876\\\\anaconda3\\\\Library\\\\lib']\n",
      "      NOT AVAILABLE\n",
      "    \n",
      "    atlas_3_10_threads_info:\n",
      "    Setting PTATLAS=ATLAS\n"
     ]
    }
   ],
   "source": [
    "!pip install Pillow\n",
    "!pip install scipy==1.1.0"
   ]
  },
  {
   "cell_type": "code",
   "execution_count": 5,
   "metadata": {
    "colab": {
     "base_uri": "https://localhost:8080/",
     "height": 101
    },
    "executionInfo": {
     "elapsed": 28623,
     "status": "ok",
     "timestamp": 1603115409320,
     "user": {
      "displayName": "DIVYANSHU BHAIK",
      "photoUrl": "https://lh3.googleusercontent.com/a-/AOh14Gi1vml2D36-XRNdiec3_IPIhcoGFtn36xsXJyiN=s64",
      "userId": "01508561723939667345"
     },
     "user_tz": -330
    },
    "id": "nkDnFCRAU90P",
    "outputId": "b76eacd1-4944-49a0-d184-70aba9d4f5e4",
    "scrolled": true
   },
   "outputs": [
    {
     "name": "stderr",
     "output_type": "stream",
     "text": [
      "      libraries lapack_atlas not found in C:\\Users\\91876\\anaconda3\\envs\\AntonioEnv\\lib\n",
      "      libraries tatlas,tatlas not found in C:\\Users\\91876\\anaconda3\\envs\\AntonioEnv\\lib\n",
      "      libraries lapack_atlas not found in C:\\\n",
      "      libraries tatlas,tatlas not found in C:\\\n",
      "      libraries lapack_atlas not found in C:\\Users\\91876\\anaconda3\\envs\\AntonioEnv\\libs\n",
      "      libraries tatlas,tatlas not found in C:\\Users\\91876\\anaconda3\\envs\\AntonioEnv\\libs\n",
      "      libraries lapack_atlas not found in C:\\Users\\91876\\anaconda3\\Library\\lib\n",
      "      libraries tatlas,tatlas not found in C:\\Users\\91876\\anaconda3\\Library\\lib\n",
      "    <class 'numpy.distutils.system_info.atlas_3_10_threads_info'>\n",
      "      NOT AVAILABLE\n",
      "    \n",
      "    atlas_3_10_info:\n",
      "      libraries lapack_atlas not found in C:\\Users\\91876\\anaconda3\\envs\\AntonioEnv\\lib\n",
      "      libraries satlas,satlas not found in C:\\Users\\91876\\anaconda3\\envs\\AntonioEnv\\lib\n",
      "      libraries lapack_atlas not found in C:\\\n",
      "      libraries satlas,satlas not found in C:\\\n",
      "      libraries lapack_atlas not found in C:\\Users\\91876\\anaconda3\\envs\\AntonioEnv\\libs\n",
      "      libraries satlas,satlas not found in C:\\Users\\91876\\anaconda3\\envs\\AntonioEnv\\libs\n",
      "      libraries lapack_atlas not found in C:\\Users\\91876\\anaconda3\\Library\\lib\n",
      "      libraries satlas,satlas not found in C:\\Users\\91876\\anaconda3\\Library\\lib\n",
      "    <class 'numpy.distutils.system_info.atlas_3_10_info'>\n",
      "      NOT AVAILABLE\n",
      "    \n",
      "    atlas_threads_info:\n",
      "    Setting PTATLAS=ATLAS\n",
      "      libraries lapack_atlas not found in C:\\Users\\91876\\anaconda3\\envs\\AntonioEnv\\lib\n",
      "      libraries ptf77blas,ptcblas,atlas not found in C:\\Users\\91876\\anaconda3\\envs\\AntonioEnv\\lib\n",
      "      libraries lapack_atlas not found in C:\\\n",
      "      libraries ptf77blas,ptcblas,atlas not found in C:\\\n",
      "      libraries lapack_atlas not found in C:\\Users\\91876\\anaconda3\\envs\\AntonioEnv\\libs\n",
      "      libraries ptf77blas,ptcblas,atlas not found in C:\\Users\\91876\\anaconda3\\envs\\AntonioEnv\\libs\n",
      "      libraries lapack_atlas not found in C:\\Users\\91876\\anaconda3\\Library\\lib\n",
      "      libraries ptf77blas,ptcblas,atlas not found in C:\\Users\\91876\\anaconda3\\Library\\lib\n",
      "    <class 'numpy.distutils.system_info.atlas_threads_info'>\n",
      "      NOT AVAILABLE\n",
      "    \n",
      "    atlas_info:\n",
      "      libraries lapack_atlas not found in C:\\Users\\91876\\anaconda3\\envs\\AntonioEnv\\lib\n",
      "      libraries f77blas,cblas,atlas not found in C:\\Users\\91876\\anaconda3\\envs\\AntonioEnv\\lib\n",
      "      libraries lapack_atlas not found in C:\\\n",
      "      libraries f77blas,cblas,atlas not found in C:\\\n",
      "      libraries lapack_atlas not found in C:\\Users\\91876\\anaconda3\\envs\\AntonioEnv\\libs\n",
      "      libraries f77blas,cblas,atlas not found in C:\\Users\\91876\\anaconda3\\envs\\AntonioEnv\\libs\n",
      "      libraries lapack_atlas not found in C:\\Users\\91876\\anaconda3\\Library\\lib\n",
      "      libraries f77blas,cblas,atlas not found in C:\\Users\\91876\\anaconda3\\Library\\lib\n",
      "    <class 'numpy.distutils.system_info.atlas_info'>\n",
      "      NOT AVAILABLE\n",
      "    \n",
      "    lapack_info:\n",
      "      libraries lapack not found in ['C:\\\\Users\\\\91876\\\\anaconda3\\\\envs\\\\AntonioEnv\\\\lib', 'C:\\\\', 'C:\\\\Users\\\\91876\\\\anaconda3\\\\envs\\\\AntonioEnv\\\\libs', 'C:\\\\Users\\\\91876\\\\anaconda3\\\\Library\\\\lib']\n",
      "      NOT AVAILABLE\n",
      "    \n",
      "    C:\\Users\\91876\\anaconda3\\envs\\AntonioEnv\\lib\\site-packages\\numpy\\distutils\\system_info.py:1849: UserWarning:\n",
      "        Lapack (http://www.netlib.org/lapack/) libraries not found.\n",
      "        Directories to search for the libraries can be specified in the\n",
      "        numpy/distutils/site.cfg file (section [lapack]) or by setting\n",
      "        the LAPACK environment variable.\n",
      "      return getattr(self, '_calc_info_{}'.format(name))()\n",
      "    lapack_src_info:\n",
      "      NOT AVAILABLE\n",
      "    \n",
      "    C:\\Users\\91876\\anaconda3\\envs\\AntonioEnv\\lib\\site-packages\\numpy\\distutils\\system_info.py:1849: UserWarning:\n",
      "        Lapack (http://www.netlib.org/lapack/) sources not found.\n",
      "        Directories to search for the sources can be specified in the\n",
      "        numpy/distutils/site.cfg file (section [lapack_src]) or by setting\n",
      "        the LAPACK_SRC environment variable.\n",
      "      return getattr(self, '_calc_info_{}'.format(name))()\n",
      "      NOT AVAILABLE\n",
      "    \n",
      "    Running from scipy source directory.\n",
      "    Traceback (most recent call last):\n",
      "      File \"<string>\", line 1, in <module>\n",
      "      File \"C:\\Users\\91876\\AppData\\Local\\Temp\\pip-install-10a77jw5\\scipy_54822a25a9b24f2dab27b6c377c8198e\\setup.py\", line 474, in <module>\n",
      "        setup_package()\n",
      "      File \"C:\\Users\\91876\\AppData\\Local\\Temp\\pip-install-10a77jw5\\scipy_54822a25a9b24f2dab27b6c377c8198e\\setup.py\", line 470, in setup_package\n",
      "        setup(**metadata)\n",
      "      File \"C:\\Users\\91876\\anaconda3\\envs\\AntonioEnv\\lib\\site-packages\\numpy\\distutils\\core.py\", line 135, in setup\n",
      "        config = configuration()\n",
      "      File \"C:\\Users\\91876\\AppData\\Local\\Temp\\pip-install-10a77jw5\\scipy_54822a25a9b24f2dab27b6c377c8198e\\setup.py\", line 388, in configuration\n",
      "        config.add_subpackage('scipy')\n",
      "      File \"C:\\Users\\91876\\anaconda3\\envs\\AntonioEnv\\lib\\site-packages\\numpy\\distutils\\misc_util.py\", line 1019, in add_subpackage\n",
      "        config_list = self.get_subpackage(subpackage_name, subpackage_path,\n",
      "      File \"C:\\Users\\91876\\anaconda3\\envs\\AntonioEnv\\lib\\site-packages\\numpy\\distutils\\misc_util.py\", line 985, in get_subpackage\n",
      "        config = self._get_configuration_from_setup_py(\n",
      "      File \"C:\\Users\\91876\\anaconda3\\envs\\AntonioEnv\\lib\\site-packages\\numpy\\distutils\\misc_util.py\", line 927, in _get_configuration_from_setup_py\n",
      "        config = setup_module.configuration(*args)\n",
      "      File \"scipy\\setup.py\", line 15, in configuration\n",
      "        config.add_subpackage('linalg')\n",
      "      File \"C:\\Users\\91876\\anaconda3\\envs\\AntonioEnv\\lib\\site-packages\\numpy\\distutils\\misc_util.py\", line 1019, in add_subpackage\n",
      "        config_list = self.get_subpackage(subpackage_name, subpackage_path,\n",
      "      File \"C:\\Users\\91876\\anaconda3\\envs\\AntonioEnv\\lib\\site-packages\\numpy\\distutils\\misc_util.py\", line 985, in get_subpackage\n",
      "        config = self._get_configuration_from_setup_py(\n",
      "      File \"C:\\Users\\91876\\anaconda3\\envs\\AntonioEnv\\lib\\site-packages\\numpy\\distutils\\misc_util.py\", line 927, in _get_configuration_from_setup_py\n",
      "        config = setup_module.configuration(*args)\n",
      "      File \"scipy\\linalg\\setup.py\", line 19, in configuration\n",
      "        raise NotFoundError('no lapack/blas resources found')\n",
      "    numpy.distutils.system_info.NotFoundError: no lapack/blas resources found\n",
      "    ----------------------------------------\n",
      "ERROR: Command errored out with exit status 1: 'C:\\Users\\91876\\anaconda3\\envs\\AntonioEnv\\python.exe' -u -c 'import io, os, sys, setuptools, tokenize; sys.argv[0] = '\"'\"'C:\\\\Users\\\\91876\\\\AppData\\\\Local\\\\Temp\\\\pip-install-10a77jw5\\\\scipy_54822a25a9b24f2dab27b6c377c8198e\\\\setup.py'\"'\"'; __file__='\"'\"'C:\\\\Users\\\\91876\\\\AppData\\\\Local\\\\Temp\\\\pip-install-10a77jw5\\\\scipy_54822a25a9b24f2dab27b6c377c8198e\\\\setup.py'\"'\"';f = getattr(tokenize, '\"'\"'open'\"'\"', open)(__file__) if os.path.exists(__file__) else io.StringIO('\"'\"'from setuptools import setup; setup()'\"'\"');code = f.read().replace('\"'\"'\\r\\n'\"'\"', '\"'\"'\\n'\"'\"');f.close();exec(compile(code, __file__, '\"'\"'exec'\"'\"'))' install --record 'C:\\Users\\91876\\AppData\\Local\\Temp\\pip-record-ghlbht_e\\install-record.txt' --single-version-externally-managed --compile --install-headers 'C:\\Users\\91876\\anaconda3\\envs\\AntonioEnv\\Include\\scipy' Check the logs for full command output.\n",
      "WARNING: Ignoring invalid distribution -illow (c:\\users\\91876\\appdata\\roaming\\python\\python38\\site-packages)\n",
      "WARNING: Ignoring invalid distribution -llow (c:\\users\\91876\\anaconda3\\envs\\antonioenv\\lib\\site-packages)\n",
      "WARNING: Ignoring invalid distribution -orchvision (c:\\users\\91876\\anaconda3\\envs\\antonioenv\\lib\\site-packages)\n",
      "WARNING: Ignoring invalid distribution -llow (c:\\users\\91876\\anaconda3\\envs\\antonioenv\\lib\\site-packages)\n",
      "WARNING: Ignoring invalid distribution - (c:\\users\\91876\\anaconda3\\envs\\antonioenv\\lib\\site-packages)\n",
      "WARNING: Ignoring invalid distribution -atplotlib (c:\\users\\91876\\anaconda3\\envs\\antonioenv\\lib\\site-packages)\n",
      "WARNING: Ignoring invalid distribution -illow (c:\\users\\91876\\appdata\\roaming\\python\\python38\\site-packages)\n",
      "WARNING: Ignoring invalid distribution -llow (c:\\users\\91876\\anaconda3\\envs\\antonioenv\\lib\\site-packages)\n",
      "WARNING: Ignoring invalid distribution -orchvision (c:\\users\\91876\\anaconda3\\envs\\antonioenv\\lib\\site-packages)\n",
      "WARNING: Ignoring invalid distribution -llow (c:\\users\\91876\\anaconda3\\envs\\antonioenv\\lib\\site-packages)\n",
      "WARNING: Ignoring invalid distribution - (c:\\users\\91876\\anaconda3\\envs\\antonioenv\\lib\\site-packages)\n",
      "WARNING: Ignoring invalid distribution -atplotlib (c:\\users\\91876\\anaconda3\\envs\\antonioenv\\lib\\site-packages)\n"
     ]
    },
    {
     "name": "stdout",
     "output_type": "stream",
     "text": [
      "Requirement already satisfied: SimpleITK in c:\\users\\91876\\anaconda3\\envs\\antonioenv\\lib\\site-packages (2.0.2)\n"
     ]
    },
    {
     "name": "stderr",
     "output_type": "stream",
     "text": [
      "WARNING: Ignoring invalid distribution -illow (c:\\users\\91876\\appdata\\roaming\\python\\python38\\site-packages)\n",
      "WARNING: Ignoring invalid distribution -llow (c:\\users\\91876\\anaconda3\\envs\\antonioenv\\lib\\site-packages)\n",
      "WARNING: Ignoring invalid distribution -orchvision (c:\\users\\91876\\anaconda3\\envs\\antonioenv\\lib\\site-packages)\n",
      "WARNING: Ignoring invalid distribution -llow (c:\\users\\91876\\anaconda3\\envs\\antonioenv\\lib\\site-packages)\n",
      "WARNING: Ignoring invalid distribution - (c:\\users\\91876\\anaconda3\\envs\\antonioenv\\lib\\site-packages)\n",
      "WARNING: Ignoring invalid distribution -atplotlib (c:\\users\\91876\\anaconda3\\envs\\antonioenv\\lib\\site-packages)\n",
      "WARNING: Ignoring invalid distribution -illow (c:\\users\\91876\\appdata\\roaming\\python\\python38\\site-packages)\n",
      "WARNING: Ignoring invalid distribution -llow (c:\\users\\91876\\anaconda3\\envs\\antonioenv\\lib\\site-packages)\n",
      "WARNING: Ignoring invalid distribution -orchvision (c:\\users\\91876\\anaconda3\\envs\\antonioenv\\lib\\site-packages)\n",
      "WARNING: Ignoring invalid distribution -llow (c:\\users\\91876\\anaconda3\\envs\\antonioenv\\lib\\site-packages)\n",
      "WARNING: Ignoring invalid distribution - (c:\\users\\91876\\anaconda3\\envs\\antonioenv\\lib\\site-packages)\n",
      "WARNING: Ignoring invalid distribution -atplotlib (c:\\users\\91876\\anaconda3\\envs\\antonioenv\\lib\\site-packages)\n",
      "WARNING: Ignoring invalid distribution -illow (c:\\users\\91876\\appdata\\roaming\\python\\python38\\site-packages)\n",
      "WARNING: Ignoring invalid distribution -llow (c:\\users\\91876\\anaconda3\\envs\\antonioenv\\lib\\site-packages)\n",
      "WARNING: Ignoring invalid distribution -orchvision (c:\\users\\91876\\anaconda3\\envs\\antonioenv\\lib\\site-packages)\n",
      "WARNING: Ignoring invalid distribution -llow (c:\\users\\91876\\anaconda3\\envs\\antonioenv\\lib\\site-packages)\n",
      "WARNING: Ignoring invalid distribution - (c:\\users\\91876\\anaconda3\\envs\\antonioenv\\lib\\site-packages)\n",
      "WARNING: Ignoring invalid distribution -atplotlib (c:\\users\\91876\\anaconda3\\envs\\antonioenv\\lib\\site-packages)\n",
      "WARNING: Ignoring invalid distribution -illow (c:\\users\\91876\\appdata\\roaming\\python\\python38\\site-packages)\n",
      "WARNING: Ignoring invalid distribution -llow (c:\\users\\91876\\anaconda3\\envs\\antonioenv\\lib\\site-packages)\n",
      "WARNING: Ignoring invalid distribution -orchvision (c:\\users\\91876\\anaconda3\\envs\\antonioenv\\lib\\site-packages)\n",
      "WARNING: Ignoring invalid distribution -llow (c:\\users\\91876\\anaconda3\\envs\\antonioenv\\lib\\site-packages)\n",
      "WARNING: Ignoring invalid distribution - (c:\\users\\91876\\anaconda3\\envs\\antonioenv\\lib\\site-packages)\n",
      "WARNING: Ignoring invalid distribution -atplotlib (c:\\users\\91876\\anaconda3\\envs\\antonioenv\\lib\\site-packages)\n",
      "WARNING: Ignoring invalid distribution -illow (c:\\users\\91876\\appdata\\roaming\\python\\python38\\site-packages)\n",
      "WARNING: Ignoring invalid distribution -llow (c:\\users\\91876\\anaconda3\\envs\\antonioenv\\lib\\site-packages)\n",
      "WARNING: Ignoring invalid distribution -orchvision (c:\\users\\91876\\anaconda3\\envs\\antonioenv\\lib\\site-packages)\n",
      "WARNING: Ignoring invalid distribution -llow (c:\\users\\91876\\anaconda3\\envs\\antonioenv\\lib\\site-packages)\n",
      "WARNING: Ignoring invalid distribution - (c:\\users\\91876\\anaconda3\\envs\\antonioenv\\lib\\site-packages)\n",
      "WARNING: Ignoring invalid distribution -atplotlib (c:\\users\\91876\\anaconda3\\envs\\antonioenv\\lib\\site-packages)\n"
     ]
    }
   ],
   "source": [
    "! pip install SimpleITK"
   ]
  },
  {
   "cell_type": "code",
   "execution_count": 6,
   "metadata": {
    "executionInfo": {
     "elapsed": 27916,
     "status": "ok",
     "timestamp": 1603115409326,
     "user": {
      "displayName": "DIVYANSHU BHAIK",
      "photoUrl": "https://lh3.googleusercontent.com/a-/AOh14Gi1vml2D36-XRNdiec3_IPIhcoGFtn36xsXJyiN=s64",
      "userId": "01508561723939667345"
     },
     "user_tz": -330
    },
    "id": "qH_UCUhJVJFl"
   },
   "outputs": [],
   "source": [
    "import SimpleITK as sitk"
   ]
  },
  {
   "cell_type": "code",
   "execution_count": 7,
   "metadata": {},
   "outputs": [],
   "source": [
    "#import matplotlib\n",
    "#print('matplotlib: {}'.format(matplotlib.__version__))"
   ]
  },
  {
   "cell_type": "code",
   "execution_count": 8,
   "metadata": {},
   "outputs": [],
   "source": [
    "#!conda remove scipy scikit-learn -y\n",
    "#!conda install scipy scikit-learn -y"
   ]
  },
  {
   "cell_type": "code",
   "execution_count": 9,
   "metadata": {},
   "outputs": [
    {
     "name": "stdout",
     "output_type": "stream",
     "text": [
      "Requirement already satisfied: pandas in c:\\users\\91876\\anaconda3\\envs\\antonioenv\\lib\\site-packages (1.2.4)\n",
      "Requirement already satisfied: pytz>=2017.3 in c:\\users\\91876\\anaconda3\\envs\\antonioenv\\lib\\site-packages (from pandas) (2021.1)\n",
      "Requirement already satisfied: numpy>=1.16.5 in c:\\users\\91876\\anaconda3\\envs\\antonioenv\\lib\\site-packages (from pandas) (1.20.2)\n",
      "Requirement already satisfied: python-dateutil>=2.7.3 in c:\\users\\91876\\appdata\\roaming\\python\\python38\\site-packages (from pandas) (2.8.1)\n",
      "Requirement already satisfied: six>=1.5 in c:\\users\\91876\\appdata\\roaming\\python\\python38\\site-packages (from python-dateutil>=2.7.3->pandas) (1.15.0)\n"
     ]
    },
    {
     "name": "stderr",
     "output_type": "stream",
     "text": [
      "WARNING: Ignoring invalid distribution -illow (c:\\users\\91876\\appdata\\roaming\\python\\python38\\site-packages)\n",
      "WARNING: Ignoring invalid distribution -llow (c:\\users\\91876\\anaconda3\\envs\\antonioenv\\lib\\site-packages)\n",
      "WARNING: Ignoring invalid distribution -orchvision (c:\\users\\91876\\anaconda3\\envs\\antonioenv\\lib\\site-packages)\n",
      "WARNING: Ignoring invalid distribution -llow (c:\\users\\91876\\anaconda3\\envs\\antonioenv\\lib\\site-packages)\n",
      "WARNING: Ignoring invalid distribution - (c:\\users\\91876\\anaconda3\\envs\\antonioenv\\lib\\site-packages)\n",
      "WARNING: Ignoring invalid distribution -atplotlib (c:\\users\\91876\\anaconda3\\envs\\antonioenv\\lib\\site-packages)\n",
      "WARNING: Ignoring invalid distribution -illow (c:\\users\\91876\\appdata\\roaming\\python\\python38\\site-packages)\n",
      "WARNING: Ignoring invalid distribution -llow (c:\\users\\91876\\anaconda3\\envs\\antonioenv\\lib\\site-packages)\n",
      "WARNING: Ignoring invalid distribution -orchvision (c:\\users\\91876\\anaconda3\\envs\\antonioenv\\lib\\site-packages)\n",
      "WARNING: Ignoring invalid distribution -llow (c:\\users\\91876\\anaconda3\\envs\\antonioenv\\lib\\site-packages)\n",
      "WARNING: Ignoring invalid distribution - (c:\\users\\91876\\anaconda3\\envs\\antonioenv\\lib\\site-packages)\n",
      "WARNING: Ignoring invalid distribution -atplotlib (c:\\users\\91876\\anaconda3\\envs\\antonioenv\\lib\\site-packages)\n",
      "WARNING: Ignoring invalid distribution -illow (c:\\users\\91876\\appdata\\roaming\\python\\python38\\site-packages)\n",
      "WARNING: Ignoring invalid distribution -llow (c:\\users\\91876\\anaconda3\\envs\\antonioenv\\lib\\site-packages)\n",
      "WARNING: Ignoring invalid distribution -orchvision (c:\\users\\91876\\anaconda3\\envs\\antonioenv\\lib\\site-packages)\n",
      "WARNING: Ignoring invalid distribution -llow (c:\\users\\91876\\anaconda3\\envs\\antonioenv\\lib\\site-packages)\n",
      "WARNING: Ignoring invalid distribution - (c:\\users\\91876\\anaconda3\\envs\\antonioenv\\lib\\site-packages)\n",
      "WARNING: Ignoring invalid distribution -atplotlib (c:\\users\\91876\\anaconda3\\envs\\antonioenv\\lib\\site-packages)\n",
      "WARNING: Ignoring invalid distribution -illow (c:\\users\\91876\\appdata\\roaming\\python\\python38\\site-packages)\n",
      "WARNING: Ignoring invalid distribution -llow (c:\\users\\91876\\anaconda3\\envs\\antonioenv\\lib\\site-packages)\n",
      "WARNING: Ignoring invalid distribution -orchvision (c:\\users\\91876\\anaconda3\\envs\\antonioenv\\lib\\site-packages)\n",
      "WARNING: Ignoring invalid distribution -llow (c:\\users\\91876\\anaconda3\\envs\\antonioenv\\lib\\site-packages)\n",
      "WARNING: Ignoring invalid distribution - (c:\\users\\91876\\anaconda3\\envs\\antonioenv\\lib\\site-packages)\n",
      "WARNING: Ignoring invalid distribution -atplotlib (c:\\users\\91876\\anaconda3\\envs\\antonioenv\\lib\\site-packages)\n",
      "WARNING: Ignoring invalid distribution -illow (c:\\users\\91876\\appdata\\roaming\\python\\python38\\site-packages)\n",
      "WARNING: Ignoring invalid distribution -llow (c:\\users\\91876\\anaconda3\\envs\\antonioenv\\lib\\site-packages)\n",
      "WARNING: Ignoring invalid distribution -orchvision (c:\\users\\91876\\anaconda3\\envs\\antonioenv\\lib\\site-packages)\n",
      "WARNING: Ignoring invalid distribution -llow (c:\\users\\91876\\anaconda3\\envs\\antonioenv\\lib\\site-packages)\n",
      "WARNING: Ignoring invalid distribution - (c:\\users\\91876\\anaconda3\\envs\\antonioenv\\lib\\site-packages)\n",
      "WARNING: Ignoring invalid distribution -atplotlib (c:\\users\\91876\\anaconda3\\envs\\antonioenv\\lib\\site-packages)\n"
     ]
    }
   ],
   "source": [
    "#!conda install pandas\n",
    "!pip install pandas"
   ]
  },
  {
   "cell_type": "code",
   "execution_count": 10,
   "metadata": {
    "executionInfo": {
     "elapsed": 27058,
     "status": "ok",
     "timestamp": 1603115409330,
     "user": {
      "displayName": "DIVYANSHU BHAIK",
      "photoUrl": "https://lh3.googleusercontent.com/a-/AOh14Gi1vml2D36-XRNdiec3_IPIhcoGFtn36xsXJyiN=s64",
      "userId": "01508561723939667345"
     },
     "user_tz": -330
    },
    "id": "hUX2wPZ5DZCn"
   },
   "outputs": [],
   "source": [
    "import numpy as np\n",
    "import pandas as pd\n",
    "\n",
    "import matplotlib\n",
    "\n",
    "import os\n",
    "import glob\n",
    "\n",
    "##import SimpleITK as sitk\n",
    "\n",
    "from PIL import Image\n",
    "from PIL import *\n",
    "\n",
    "\n",
    "\n",
    "#from scipy.misc import imread\n",
    "from matplotlib.pyplot import imread\n",
    "#from skimage.io import imread   #changed\n",
    "\n",
    "%matplotlib inline\n",
    "from IPython.display import clear_output\n",
    "pd.options.mode.chained_assignment = None\n",
    "import matplotlib.pyplot as plt\n",
    "import seaborn as sns \n"
   ]
  },
  {
   "cell_type": "code",
   "execution_count": 11,
   "metadata": {
    "executionInfo": {
     "elapsed": 16798,
     "status": "ok",
     "timestamp": 1603115412327,
     "user": {
      "displayName": "DIVYANSHU BHAIK",
      "photoUrl": "https://lh3.googleusercontent.com/a-/AOh14Gi1vml2D36-XRNdiec3_IPIhcoGFtn36xsXJyiN=s64",
      "userId": "01508561723939667345"
     },
     "user_tz": -330
    },
    "id": "Q2n_Mg0KRayf"
   },
   "outputs": [],
   "source": [
    "annotations = pd.read_csv('C:\\\\Users\\\\91876\\\\Downloads\\\\New_Dataset\\\\annotations.csv') # dataset\n",
    "candidates = pd.read_csv('C:\\\\Users\\\\91876\\\\Downloads\\\\New_Dataset\\\\candidates.csv')"
   ]
  },
  {
   "cell_type": "code",
   "execution_count": 12,
   "metadata": {
    "colab": {
     "base_uri": "https://localhost:8080/",
     "height": 195
    },
    "executionInfo": {
     "elapsed": 13610,
     "status": "ok",
     "timestamp": 1603115412330,
     "user": {
      "displayName": "DIVYANSHU BHAIK",
      "photoUrl": "https://lh3.googleusercontent.com/a-/AOh14Gi1vml2D36-XRNdiec3_IPIhcoGFtn36xsXJyiN=s64",
      "userId": "01508561723939667345"
     },
     "user_tz": -330
    },
    "id": "blH5EPTpTA5R",
    "outputId": "8db9445a-316a-46bf-980d-f4f1f43309bd"
   },
   "outputs": [
    {
     "data": {
      "text/html": [
       "<div>\n",
       "<style scoped>\n",
       "    .dataframe tbody tr th:only-of-type {\n",
       "        vertical-align: middle;\n",
       "    }\n",
       "\n",
       "    .dataframe tbody tr th {\n",
       "        vertical-align: top;\n",
       "    }\n",
       "\n",
       "    .dataframe thead th {\n",
       "        text-align: right;\n",
       "    }\n",
       "</style>\n",
       "<table border=\"1\" class=\"dataframe\">\n",
       "  <thead>\n",
       "    <tr style=\"text-align: right;\">\n",
       "      <th></th>\n",
       "      <th>seriesuid</th>\n",
       "      <th>coordX</th>\n",
       "      <th>coordY</th>\n",
       "      <th>coordZ</th>\n",
       "      <th>diameter_mm</th>\n",
       "    </tr>\n",
       "  </thead>\n",
       "  <tbody>\n",
       "    <tr>\n",
       "      <th>0</th>\n",
       "      <td>1.3.6.1.4.1.14519.5.2.1.6279.6001.100225287222...</td>\n",
       "      <td>-128.699421</td>\n",
       "      <td>-175.319272</td>\n",
       "      <td>-298.387506</td>\n",
       "      <td>5.651471</td>\n",
       "    </tr>\n",
       "    <tr>\n",
       "      <th>1</th>\n",
       "      <td>1.3.6.1.4.1.14519.5.2.1.6279.6001.100225287222...</td>\n",
       "      <td>103.783651</td>\n",
       "      <td>-211.925149</td>\n",
       "      <td>-227.121250</td>\n",
       "      <td>4.224708</td>\n",
       "    </tr>\n",
       "    <tr>\n",
       "      <th>2</th>\n",
       "      <td>1.3.6.1.4.1.14519.5.2.1.6279.6001.100398138793...</td>\n",
       "      <td>69.639017</td>\n",
       "      <td>-140.944586</td>\n",
       "      <td>876.374496</td>\n",
       "      <td>5.786348</td>\n",
       "    </tr>\n",
       "    <tr>\n",
       "      <th>3</th>\n",
       "      <td>1.3.6.1.4.1.14519.5.2.1.6279.6001.100621383016...</td>\n",
       "      <td>-24.013824</td>\n",
       "      <td>192.102405</td>\n",
       "      <td>-391.081276</td>\n",
       "      <td>8.143262</td>\n",
       "    </tr>\n",
       "    <tr>\n",
       "      <th>4</th>\n",
       "      <td>1.3.6.1.4.1.14519.5.2.1.6279.6001.100621383016...</td>\n",
       "      <td>2.441547</td>\n",
       "      <td>172.464881</td>\n",
       "      <td>-405.493732</td>\n",
       "      <td>18.545150</td>\n",
       "    </tr>\n",
       "  </tbody>\n",
       "</table>\n",
       "</div>"
      ],
      "text/plain": [
       "                                           seriesuid      coordX      coordY  \\\n",
       "0  1.3.6.1.4.1.14519.5.2.1.6279.6001.100225287222... -128.699421 -175.319272   \n",
       "1  1.3.6.1.4.1.14519.5.2.1.6279.6001.100225287222...  103.783651 -211.925149   \n",
       "2  1.3.6.1.4.1.14519.5.2.1.6279.6001.100398138793...   69.639017 -140.944586   \n",
       "3  1.3.6.1.4.1.14519.5.2.1.6279.6001.100621383016...  -24.013824  192.102405   \n",
       "4  1.3.6.1.4.1.14519.5.2.1.6279.6001.100621383016...    2.441547  172.464881   \n",
       "\n",
       "       coordZ  diameter_mm  \n",
       "0 -298.387506     5.651471  \n",
       "1 -227.121250     4.224708  \n",
       "2  876.374496     5.786348  \n",
       "3 -391.081276     8.143262  \n",
       "4 -405.493732    18.545150  "
      ]
     },
     "execution_count": 12,
     "metadata": {},
     "output_type": "execute_result"
    }
   ],
   "source": [
    "annotations.head()"
   ]
  },
  {
   "cell_type": "code",
   "execution_count": 13,
   "metadata": {
    "colab": {
     "base_uri": "https://localhost:8080/",
     "height": 34
    },
    "executionInfo": {
     "elapsed": 11777,
     "status": "ok",
     "timestamp": 1603115412339,
     "user": {
      "displayName": "DIVYANSHU BHAIK",
      "photoUrl": "https://lh3.googleusercontent.com/a-/AOh14Gi1vml2D36-XRNdiec3_IPIhcoGFtn36xsXJyiN=s64",
      "userId": "01508561723939667345"
     },
     "user_tz": -330
    },
    "id": "AZcLNa9nTFWr",
    "outputId": "6c2543c4-682d-4848-bd38-7d7d9960d10a"
   },
   "outputs": [
    {
     "data": {
      "text/plain": [
       "1351"
      ]
     },
     "execution_count": 13,
     "metadata": {},
     "output_type": "execute_result"
    }
   ],
   "source": [
    "candidates['class'].sum()"
   ]
  },
  {
   "cell_type": "code",
   "execution_count": 14,
   "metadata": {
    "colab": {
     "base_uri": "https://localhost:8080/",
     "height": 218
    },
    "executionInfo": {
     "elapsed": 10780,
     "status": "ok",
     "timestamp": 1603115412342,
     "user": {
      "displayName": "DIVYANSHU BHAIK",
      "photoUrl": "https://lh3.googleusercontent.com/a-/AOh14Gi1vml2D36-XRNdiec3_IPIhcoGFtn36xsXJyiN=s64",
      "userId": "01508561723939667345"
     },
     "user_tz": -330
    },
    "id": "AOC9aR4VTIia",
    "outputId": "7c1eb290-5592-439b-bb8d-229c6a2e9f49"
   },
   "outputs": [
    {
     "name": "stdout",
     "output_type": "stream",
     "text": [
      "<class 'pandas.core.frame.DataFrame'>\n",
      "RangeIndex: 551065 entries, 0 to 551064\n",
      "Data columns (total 5 columns):\n",
      " #   Column     Non-Null Count   Dtype  \n",
      "---  ------     --------------   -----  \n",
      " 0   seriesuid  551065 non-null  object \n",
      " 1   coordX     551065 non-null  float64\n",
      " 2   coordY     551065 non-null  float64\n",
      " 3   coordZ     551065 non-null  float64\n",
      " 4   class      551065 non-null  int64  \n",
      "dtypes: float64(3), int64(1), object(1)\n",
      "memory usage: 21.0+ MB\n"
     ]
    }
   ],
   "source": [
    "candidates.info()"
   ]
  },
  {
   "cell_type": "code",
   "execution_count": 15,
   "metadata": {
    "colab": {
     "base_uri": "https://localhost:8080/",
     "height": 50
    },
    "executionInfo": {
     "elapsed": 2065,
     "status": "ok",
     "timestamp": 1603115418493,
     "user": {
      "displayName": "DIVYANSHU BHAIK",
      "photoUrl": "https://lh3.googleusercontent.com/a-/AOh14Gi1vml2D36-XRNdiec3_IPIhcoGFtn36xsXJyiN=s64",
      "userId": "01508561723939667345"
     },
     "user_tz": -330
    },
    "id": "cX2lxJNuTLuv",
    "outputId": "0c1b96d4-c08c-4535-bd96-3558998916f8"
   },
   "outputs": [
    {
     "name": "stdout",
     "output_type": "stream",
     "text": [
      "1351\n",
      "549714\n"
     ]
    }
   ],
   "source": [
    "print(len(candidates[candidates['class'] == 1]))\n",
    "print(len(candidates[candidates['class'] == 0]))"
   ]
  },
  {
   "cell_type": "code",
   "execution_count": 16,
   "metadata": {
    "colab": {
     "base_uri": "https://localhost:8080/",
     "height": 34
    },
    "executionInfo": {
     "elapsed": 1268,
     "status": "ok",
     "timestamp": 1603115418495,
     "user": {
      "displayName": "DIVYANSHU BHAIK",
      "photoUrl": "https://lh3.googleusercontent.com/a-/AOh14Gi1vml2D36-XRNdiec3_IPIhcoGFtn36xsXJyiN=s64",
      "userId": "01508561723939667345"
     },
     "user_tz": -330
    },
    "id": "y0TFoyQtTPFi",
    "outputId": "b0bf0500-e674-44da-e135-f0b3fddef130"
   },
   "outputs": [
    {
     "name": "stdout",
     "output_type": "stream",
     "text": [
      "8\n"
     ]
    }
   ],
   "source": [
    "import multiprocessing\n",
    "num_cores = multiprocessing.cpu_count()\n",
    "print(num_cores)"
   ]
  },
  {
   "cell_type": "code",
   "execution_count": 17,
   "metadata": {
    "executionInfo": {
     "elapsed": 1288,
     "status": "ok",
     "timestamp": 1603115419183,
     "user": {
      "displayName": "DIVYANSHU BHAIK",
      "photoUrl": "https://lh3.googleusercontent.com/a-/AOh14Gi1vml2D36-XRNdiec3_IPIhcoGFtn36xsXJyiN=s64",
      "userId": "01508561723939667345"
     },
     "user_tz": -330
    },
    "id": "iCDjiuduTiyQ"
   },
   "outputs": [],
   "source": [
    "class CTScan(object):\n",
    "    def __init__(self, filename = None, coords = None):\n",
    "        self.filename = filename\n",
    "        self.coords = coords\n",
    "        self.ds = None\n",
    "        self.image = None\n",
    "\n",
    "    def reset_coords(self, coords):\n",
    "        self.coords = coords\n",
    "\n",
    "    def read_mhd_image(self):\n",
    "        path = glob.glob('C:\\\\Users\\\\91876\\\\Downloads\\\\New_Dataset\\\\seg-lungs-LUNA16\\\\'+ self.filename + '.mhd')\n",
    "        self.ds = sitk.ReadImage(path[0])\n",
    "        self.image = sitk.GetArrayFromImage(self.ds)\n",
    "\n",
    "    def get_resolution(self):\n",
    "        return self.ds.GetSpacing()\n",
    "\n",
    "    def get_origin(self):\n",
    "        return self.ds.GetOrigin()\n",
    "\n",
    "    def get_ds(self):\n",
    "        return self.ds\n",
    "\n",
    "    def get_voxel_coords(self):\n",
    "        origin = self.get_origin()\n",
    "        resolution = self.get_resolution()\n",
    "        voxel_coords = [np.absolute(self.coords[j]-origin[j])/resolution[j] \\\n",
    "            for j in range(len(self.coords))]\n",
    "        return tuple(voxel_coords)\n",
    "    \n",
    "    def get_image(self):\n",
    "        return self.image\n",
    "    \n",
    "    def get_subimage(self, width):\n",
    "        self.read_mhd_image()\n",
    "        x, y, z = self.get_voxel_coords()\n",
    "        subImage = self.image[z, y-width/2:y+width/2, x-width/2:x+width/2]\n",
    "        return subImage   \n",
    "    def normalizePlanes(self, npzarray):\n",
    "        maxHU = 400.\n",
    "        minHU = -1000.\n",
    "        npzarray = (npzarray - minHU) / (maxHU - minHU)\n",
    "        npzarray[npzarray>1] = 1.\n",
    "        npzarray[npzarray<0] = 0.\n",
    "        return npzarray\n",
    "    \n",
    "    def save_image(self, filename, width):\n",
    "        image = self.get_subimage(width)\n",
    "        image = self.normalizePlanes(image)\n",
    "        Image.fromarray(image*255).convert('L').save(filename)"
   ]
  },
  {
   "cell_type": "code",
   "execution_count": 18,
   "metadata": {
    "executionInfo": {
     "elapsed": 1067,
     "status": "ok",
     "timestamp": 1603115423347,
     "user": {
      "displayName": "DIVYANSHU BHAIK",
      "photoUrl": "https://lh3.googleusercontent.com/a-/AOh14Gi1vml2D36-XRNdiec3_IPIhcoGFtn36xsXJyiN=s64",
      "userId": "01508561723939667345"
     },
     "user_tz": -330
    },
    "id": "3whhDPp5VOGj"
   },
   "outputs": [],
   "source": [
    "positives = candidates[candidates['class']==1].index  \n",
    "negatives = candidates[candidates['class']==0].index"
   ]
  },
  {
   "cell_type": "code",
   "execution_count": 19,
   "metadata": {
    "executionInfo": {
     "elapsed": 13330,
     "status": "ok",
     "timestamp": 1603115438082,
     "user": {
      "displayName": "DIVYANSHU BHAIK",
      "photoUrl": "https://lh3.googleusercontent.com/a-/AOh14Gi1vml2D36-XRNdiec3_IPIhcoGFtn36xsXJyiN=s64",
      "userId": "01508561723939667345"
     },
     "user_tz": -330
    },
    "id": "gLpNocTAVS6K"
   },
   "outputs": [],
   "source": [
    "scan = CTScan(np.asarray(candidates.iloc[negatives[600]])[0], \\\n",
    "              np.asarray(candidates.iloc[negatives[600]])[1:-1])\n",
    "scan.read_mhd_image()\n",
    "x, y, z = scan.get_voxel_coords()\n",
    "image = scan.get_image()\n",
    "dx, dy, dz = scan.get_resolution()\n",
    "x0, y0, z0 = scan.get_origin()"
   ]
  },
  {
   "cell_type": "code",
   "execution_count": 20,
   "metadata": {
    "executionInfo": {
     "elapsed": 13108,
     "status": "ok",
     "timestamp": 1603115438647,
     "user": {
      "displayName": "DIVYANSHU BHAIK",
      "photoUrl": "https://lh3.googleusercontent.com/a-/AOh14Gi1vml2D36-XRNdiec3_IPIhcoGFtn36xsXJyiN=s64",
      "userId": "01508561723939667345"
     },
     "user_tz": -330
    },
    "id": "oVQqaP2fVZXV"
   },
   "outputs": [],
   "source": [
    "filename = '1.3.6.1.4.1.14519.5.2.1.6279.6001.100398138793540579077826395208'\n",
    "coords = (70.19, -140.93, 877.68)#[877.68, -140.93, 70.19]\n",
    "scan = CTScan(filename, coords)\n",
    "scan.read_mhd_image()\n",
    "x, y, z = scan.get_voxel_coords()\n",
    "image = scan.get_image()\n",
    "dx, dy, dz = scan.get_resolution()\n",
    "x0, y0, z0 = scan.get_origin()"
   ]
  },
  {
   "cell_type": "code",
   "execution_count": 21,
   "metadata": {
    "colab": {
     "base_uri": "https://localhost:8080/",
     "height": 118
    },
    "executionInfo": {
     "elapsed": 12466,
     "status": "ok",
     "timestamp": 1603115438649,
     "user": {
      "displayName": "DIVYANSHU BHAIK",
      "photoUrl": "https://lh3.googleusercontent.com/a-/AOh14Gi1vml2D36-XRNdiec3_IPIhcoGFtn36xsXJyiN=s64",
      "userId": "01508561723939667345"
     },
     "user_tz": -330
    },
    "id": "_Pl1C_SQVeTj",
    "outputId": "51d4728d-dcf5-453a-ddc8-09c6e5483669"
   },
   "outputs": [
    {
     "data": {
      "text/plain": [
       "Int64Index([    13,     78,   1303,   3050,   3052,   3080,   3223,   3285,\n",
       "              3287,   3289,\n",
       "            ...\n",
       "            545928, 546205, 546372, 546400, 547498, 548674, 550171, 550334,\n",
       "            550810, 550906],\n",
       "           dtype='int64', length=1351)"
      ]
     },
     "execution_count": 21,
     "metadata": {},
     "output_type": "execute_result"
    }
   ],
   "source": [
    "positives"
   ]
  },
  {
   "cell_type": "code",
   "execution_count": 22,
   "metadata": {
    "executionInfo": {
     "elapsed": 1442,
     "status": "ok",
     "timestamp": 1603115475580,
     "user": {
      "displayName": "DIVYANSHU BHAIK",
      "photoUrl": "https://lh3.googleusercontent.com/a-/AOh14Gi1vml2D36-XRNdiec3_IPIhcoGFtn36xsXJyiN=s64",
      "userId": "01508561723939667345"
     },
     "user_tz": -330
    },
    "id": "--k2yKIGVhpk"
   },
   "outputs": [],
   "source": [
    "np.random.seed(42)\n",
    "negIndexes = np.random.choice(negatives, len(positives)*5, replace = False)"
   ]
  },
  {
   "cell_type": "code",
   "execution_count": 23,
   "metadata": {
    "executionInfo": {
     "elapsed": 1399,
     "status": "ok",
     "timestamp": 1603115479701,
     "user": {
      "displayName": "DIVYANSHU BHAIK",
      "photoUrl": "https://lh3.googleusercontent.com/a-/AOh14Gi1vml2D36-XRNdiec3_IPIhcoGFtn36xsXJyiN=s64",
      "userId": "01508561723939667345"
     },
     "user_tz": -330
    },
    "id": "o-GtWQOiVloy"
   },
   "outputs": [],
   "source": [
    "candidatesDf = candidates.iloc[list(positives)+list(negIndexes)]"
   ]
  },
  {
   "cell_type": "code",
   "execution_count": 24,
   "metadata": {
    "executionInfo": {
     "elapsed": 986,
     "status": "ok",
     "timestamp": 1603115487190,
     "user": {
      "displayName": "DIVYANSHU BHAIK",
      "photoUrl": "https://lh3.googleusercontent.com/a-/AOh14Gi1vml2D36-XRNdiec3_IPIhcoGFtn36xsXJyiN=s64",
      "userId": "01508561723939667345"
     },
     "user_tz": -330
    },
    "id": "-m7_X42mVpJz"
   },
   "outputs": [],
   "source": [
    "from sklearn.model_selection import train_test_split\n",
    "X = candidatesDf.iloc[:,:-1]\n",
    "y = candidatesDf.iloc[:,-1]\n",
    "X_train, X_test, y_train, y_test = train_test_split(X, y, test_size = 0.20, random_state = 42)"
   ]
  },
  {
   "cell_type": "code",
   "execution_count": 25,
   "metadata": {
    "colab": {
     "base_uri": "https://localhost:8080/",
     "height": 34
    },
    "executionInfo": {
     "elapsed": 1006,
     "status": "ok",
     "timestamp": 1603115489180,
     "user": {
      "displayName": "DIVYANSHU BHAIK",
      "photoUrl": "https://lh3.googleusercontent.com/a-/AOh14Gi1vml2D36-XRNdiec3_IPIhcoGFtn36xsXJyiN=s64",
      "userId": "01508561723939667345"
     },
     "user_tz": -330
    },
    "id": "5mEZ27d6V4Up",
    "outputId": "c1855f79-90fa-4971-9e10-8057a3671399"
   },
   "outputs": [
    {
     "data": {
      "text/plain": [
       "25936"
      ]
     },
     "execution_count": 25,
     "metadata": {},
     "output_type": "execute_result"
    }
   ],
   "source": [
    "X_train.size"
   ]
  },
  {
   "cell_type": "code",
   "execution_count": 26,
   "metadata": {
    "colab": {
     "base_uri": "https://localhost:8080/",
     "height": 218
    },
    "executionInfo": {
     "elapsed": 1041,
     "status": "ok",
     "timestamp": 1603115491021,
     "user": {
      "displayName": "DIVYANSHU BHAIK",
      "photoUrl": "https://lh3.googleusercontent.com/a-/AOh14Gi1vml2D36-XRNdiec3_IPIhcoGFtn36xsXJyiN=s64",
      "userId": "01508561723939667345"
     },
     "user_tz": -330
    },
    "id": "9MNUIyvawvaS",
    "outputId": "1d672e85-89e4-436e-e331-4ece57081a15"
   },
   "outputs": [
    {
     "data": {
      "text/plain": [
       "178085    0\n",
       "108126    0\n",
       "416697    0\n",
       "342095    0\n",
       "116478    0\n",
       "         ..\n",
       "469116    0\n",
       "164439    0\n",
       "333192    1\n",
       "358382    0\n",
       "536292    0\n",
       "Name: class, Length: 6484, dtype: int64"
      ]
     },
     "execution_count": 26,
     "metadata": {},
     "output_type": "execute_result"
    }
   ],
   "source": [
    "y_train"
   ]
  },
  {
   "cell_type": "code",
   "execution_count": 27,
   "metadata": {
    "colab": {
     "base_uri": "https://localhost:8080/",
     "height": 218
    },
    "executionInfo": {
     "elapsed": 1483,
     "status": "ok",
     "timestamp": 1603115493836,
     "user": {
      "displayName": "DIVYANSHU BHAIK",
      "photoUrl": "https://lh3.googleusercontent.com/a-/AOh14Gi1vml2D36-XRNdiec3_IPIhcoGFtn36xsXJyiN=s64",
      "userId": "01508561723939667345"
     },
     "user_tz": -330
    },
    "id": "c08T5JduwzoL",
    "outputId": "79f4d414-3bbc-4d5e-9f64-8a1d2f3d347a"
   },
   "outputs": [
    {
     "data": {
      "text/plain": [
       "189342    0\n",
       "145102    0\n",
       "31546     0\n",
       "441280    1\n",
       "215578    0\n",
       "         ..\n",
       "87015     0\n",
       "245189    0\n",
       "533231    0\n",
       "52755     0\n",
       "379730    0\n",
       "Name: class, Length: 1622, dtype: int64"
      ]
     },
     "execution_count": 27,
     "metadata": {},
     "output_type": "execute_result"
    }
   ],
   "source": [
    "y_test"
   ]
  },
  {
   "cell_type": "code",
   "execution_count": 28,
   "metadata": {
    "executionInfo": {
     "elapsed": 1319,
     "status": "ok",
     "timestamp": 1603115497301,
     "user": {
      "displayName": "DIVYANSHU BHAIK",
      "photoUrl": "https://lh3.googleusercontent.com/a-/AOh14Gi1vml2D36-XRNdiec3_IPIhcoGFtn36xsXJyiN=s64",
      "userId": "01508561723939667345"
     },
     "user_tz": -330
    },
    "id": "oGI2CG0EV-bu"
   },
   "outputs": [],
   "source": [
    "X_train, X_val, y_train, y_val = train_test_split(X_train, y_train, test_size = 0.20, random_state = 42)"
   ]
  },
  {
   "cell_type": "code",
   "execution_count": 29,
   "metadata": {
    "colab": {
     "base_uri": "https://localhost:8080/",
     "height": 34
    },
    "executionInfo": {
     "elapsed": 1172,
     "status": "ok",
     "timestamp": 1603115500060,
     "user": {
      "displayName": "DIVYANSHU BHAIK",
      "photoUrl": "https://lh3.googleusercontent.com/a-/AOh14Gi1vml2D36-XRNdiec3_IPIhcoGFtn36xsXJyiN=s64",
      "userId": "01508561723939667345"
     },
     "user_tz": -330
    },
    "id": "qHYhZkqdw64b",
    "outputId": "26ea887d-9b71-4a39-d4df-f18cb33428cf"
   },
   "outputs": [
    {
     "data": {
      "text/plain": [
       "20748"
      ]
     },
     "execution_count": 29,
     "metadata": {},
     "output_type": "execute_result"
    }
   ],
   "source": [
    "X_train.size"
   ]
  },
  {
   "cell_type": "code",
   "execution_count": 30,
   "metadata": {
    "colab": {
     "base_uri": "https://localhost:8080/",
     "height": 402
    },
    "executionInfo": {
     "elapsed": 1722,
     "status": "ok",
     "timestamp": 1603115502639,
     "user": {
      "displayName": "DIVYANSHU BHAIK",
      "photoUrl": "https://lh3.googleusercontent.com/a-/AOh14Gi1vml2D36-XRNdiec3_IPIhcoGFtn36xsXJyiN=s64",
      "userId": "01508561723939667345"
     },
     "user_tz": -330
    },
    "id": "AZZt2UVUw-pH",
    "outputId": "fbf925da-7165-4867-fcc0-953beb3f420f"
   },
   "outputs": [
    {
     "data": {
      "text/html": [
       "<div>\n",
       "<style scoped>\n",
       "    .dataframe tbody tr th:only-of-type {\n",
       "        vertical-align: middle;\n",
       "    }\n",
       "\n",
       "    .dataframe tbody tr th {\n",
       "        vertical-align: top;\n",
       "    }\n",
       "\n",
       "    .dataframe thead th {\n",
       "        text-align: right;\n",
       "    }\n",
       "</style>\n",
       "<table border=\"1\" class=\"dataframe\">\n",
       "  <thead>\n",
       "    <tr style=\"text-align: right;\">\n",
       "      <th></th>\n",
       "      <th>seriesuid</th>\n",
       "      <th>coordX</th>\n",
       "      <th>coordY</th>\n",
       "      <th>coordZ</th>\n",
       "    </tr>\n",
       "  </thead>\n",
       "  <tbody>\n",
       "    <tr>\n",
       "      <th>59270</th>\n",
       "      <td>1.3.6.1.4.1.14519.5.2.1.6279.6001.132817748896...</td>\n",
       "      <td>-97.808167</td>\n",
       "      <td>3.897917</td>\n",
       "      <td>-201.030000</td>\n",
       "    </tr>\n",
       "    <tr>\n",
       "      <th>150277</th>\n",
       "      <td>1.3.6.1.4.1.14519.5.2.1.6279.6001.182192086929...</td>\n",
       "      <td>58.990000</td>\n",
       "      <td>-24.230000</td>\n",
       "      <td>-18.320000</td>\n",
       "    </tr>\n",
       "    <tr>\n",
       "      <th>432208</th>\n",
       "      <td>1.3.6.1.4.1.14519.5.2.1.6279.6001.397522780537...</td>\n",
       "      <td>-50.307219</td>\n",
       "      <td>159.439740</td>\n",
       "      <td>-113.418797</td>\n",
       "    </tr>\n",
       "    <tr>\n",
       "      <th>423122</th>\n",
       "      <td>1.3.6.1.4.1.14519.5.2.1.6279.6001.339882192295...</td>\n",
       "      <td>-106.731000</td>\n",
       "      <td>-104.468000</td>\n",
       "      <td>751.163333</td>\n",
       "    </tr>\n",
       "    <tr>\n",
       "      <th>344581</th>\n",
       "      <td>1.3.6.1.4.1.14519.5.2.1.6279.6001.296863826932...</td>\n",
       "      <td>67.240000</td>\n",
       "      <td>-32.590000</td>\n",
       "      <td>-107.790000</td>\n",
       "    </tr>\n",
       "    <tr>\n",
       "      <th>...</th>\n",
       "      <td>...</td>\n",
       "      <td>...</td>\n",
       "      <td>...</td>\n",
       "      <td>...</td>\n",
       "    </tr>\n",
       "    <tr>\n",
       "      <th>323102</th>\n",
       "      <td>1.3.6.1.4.1.14519.5.2.1.6279.6001.279953669991...</td>\n",
       "      <td>-22.239361</td>\n",
       "      <td>84.653132</td>\n",
       "      <td>-161.740390</td>\n",
       "    </tr>\n",
       "    <tr>\n",
       "      <th>94004</th>\n",
       "      <td>1.3.6.1.4.1.14519.5.2.1.6279.6001.149893110752...</td>\n",
       "      <td>52.320000</td>\n",
       "      <td>65.000000</td>\n",
       "      <td>-117.870000</td>\n",
       "    </tr>\n",
       "    <tr>\n",
       "      <th>459476</th>\n",
       "      <td>1.3.6.1.4.1.14519.5.2.1.6279.6001.503980049263...</td>\n",
       "      <td>-112.420630</td>\n",
       "      <td>37.648160</td>\n",
       "      <td>-67.928064</td>\n",
       "    </tr>\n",
       "    <tr>\n",
       "      <th>241550</th>\n",
       "      <td>1.3.6.1.4.1.14519.5.2.1.6279.6001.230416590143...</td>\n",
       "      <td>-27.740000</td>\n",
       "      <td>-121.660000</td>\n",
       "      <td>-254.130000</td>\n",
       "    </tr>\n",
       "    <tr>\n",
       "      <th>211695</th>\n",
       "      <td>1.3.6.1.4.1.14519.5.2.1.6279.6001.215785045378...</td>\n",
       "      <td>-58.670000</td>\n",
       "      <td>163.720000</td>\n",
       "      <td>-641.700000</td>\n",
       "    </tr>\n",
       "  </tbody>\n",
       "</table>\n",
       "<p>5187 rows × 4 columns</p>\n",
       "</div>"
      ],
      "text/plain": [
       "                                                seriesuid      coordX  \\\n",
       "59270   1.3.6.1.4.1.14519.5.2.1.6279.6001.132817748896...  -97.808167   \n",
       "150277  1.3.6.1.4.1.14519.5.2.1.6279.6001.182192086929...   58.990000   \n",
       "432208  1.3.6.1.4.1.14519.5.2.1.6279.6001.397522780537...  -50.307219   \n",
       "423122  1.3.6.1.4.1.14519.5.2.1.6279.6001.339882192295... -106.731000   \n",
       "344581  1.3.6.1.4.1.14519.5.2.1.6279.6001.296863826932...   67.240000   \n",
       "...                                                   ...         ...   \n",
       "323102  1.3.6.1.4.1.14519.5.2.1.6279.6001.279953669991...  -22.239361   \n",
       "94004   1.3.6.1.4.1.14519.5.2.1.6279.6001.149893110752...   52.320000   \n",
       "459476  1.3.6.1.4.1.14519.5.2.1.6279.6001.503980049263... -112.420630   \n",
       "241550  1.3.6.1.4.1.14519.5.2.1.6279.6001.230416590143...  -27.740000   \n",
       "211695  1.3.6.1.4.1.14519.5.2.1.6279.6001.215785045378...  -58.670000   \n",
       "\n",
       "            coordY      coordZ  \n",
       "59270     3.897917 -201.030000  \n",
       "150277  -24.230000  -18.320000  \n",
       "432208  159.439740 -113.418797  \n",
       "423122 -104.468000  751.163333  \n",
       "344581  -32.590000 -107.790000  \n",
       "...            ...         ...  \n",
       "323102   84.653132 -161.740390  \n",
       "94004    65.000000 -117.870000  \n",
       "459476   37.648160  -67.928064  \n",
       "241550 -121.660000 -254.130000  \n",
       "211695  163.720000 -641.700000  \n",
       "\n",
       "[5187 rows x 4 columns]"
      ]
     },
     "execution_count": 30,
     "metadata": {},
     "output_type": "execute_result"
    }
   ],
   "source": [
    "X_train"
   ]
  },
  {
   "cell_type": "code",
   "execution_count": 31,
   "metadata": {
    "colab": {
     "base_uri": "https://localhost:8080/",
     "height": 218
    },
    "executionInfo": {
     "elapsed": 1670,
     "status": "ok",
     "timestamp": 1603115505324,
     "user": {
      "displayName": "DIVYANSHU BHAIK",
      "photoUrl": "https://lh3.googleusercontent.com/a-/AOh14Gi1vml2D36-XRNdiec3_IPIhcoGFtn36xsXJyiN=s64",
      "userId": "01508561723939667345"
     },
     "user_tz": -330
    },
    "id": "RftMDNVGxDUu",
    "outputId": "45b352a3-44f3-41e6-8a69-ea1e7e0f9b70"
   },
   "outputs": [
    {
     "data": {
      "text/plain": [
       "59270     0\n",
       "150277    0\n",
       "432208    0\n",
       "423122    0\n",
       "344581    0\n",
       "         ..\n",
       "323102    0\n",
       "94004     0\n",
       "459476    1\n",
       "241550    0\n",
       "211695    0\n",
       "Name: class, Length: 5187, dtype: int64"
      ]
     },
     "execution_count": 31,
     "metadata": {},
     "output_type": "execute_result"
    }
   ],
   "source": [
    "y_train"
   ]
  },
  {
   "cell_type": "code",
   "execution_count": 32,
   "metadata": {
    "colab": {
     "base_uri": "https://localhost:8080/",
     "height": 34
    },
    "executionInfo": {
     "elapsed": 1352,
     "status": "ok",
     "timestamp": 1603115506298,
     "user": {
      "displayName": "DIVYANSHU BHAIK",
      "photoUrl": "https://lh3.googleusercontent.com/a-/AOh14Gi1vml2D36-XRNdiec3_IPIhcoGFtn36xsXJyiN=s64",
      "userId": "01508561723939667345"
     },
     "user_tz": -330
    },
    "id": "Rbvy9OaCWEAQ",
    "outputId": "f6651024-68d4-4cdc-9693-6bc7eebb50b6"
   },
   "outputs": [
    {
     "data": {
      "text/plain": [
       "5187"
      ]
     },
     "execution_count": 32,
     "metadata": {},
     "output_type": "execute_result"
    }
   ],
   "source": [
    "len(X_train)"
   ]
  },
  {
   "cell_type": "code",
   "execution_count": 33,
   "metadata": {
    "executionInfo": {
     "elapsed": 2203,
     "status": "ok",
     "timestamp": 1603115509385,
     "user": {
      "displayName": "DIVYANSHU BHAIK",
      "photoUrl": "https://lh3.googleusercontent.com/a-/AOh14Gi1vml2D36-XRNdiec3_IPIhcoGFtn36xsXJyiN=s64",
      "userId": "01508561723939667345"
     },
     "user_tz": -330
    },
    "id": "BlkcD09KWILb"
   },
   "outputs": [],
   "source": [
    "X_train.to_pickle(r'C:\\\\Users\\\\91876\\\\Downloads\\New_Dataset\\\\preprocessed_data\\\\traindata')\n",
    "X_test.to_pickle(r'C:\\\\Users\\\\91876\\\\Downloads\\New_Dataset\\\\preprocessed_data\\\\testdata')\n",
    "X_val.to_pickle(r'C:\\\\Users\\\\91876\\\\Downloads\\New_Dataset\\\\preprocessed_data\\\\valdata')"
   ]
  },
  {
   "cell_type": "code",
   "execution_count": 34,
   "metadata": {
    "executionInfo": {
     "elapsed": 1239,
     "status": "ok",
     "timestamp": 1603115511716,
     "user": {
      "displayName": "DIVYANSHU BHAIK",
      "photoUrl": "https://lh3.googleusercontent.com/a-/AOh14Gi1vml2D36-XRNdiec3_IPIhcoGFtn36xsXJyiN=s64",
      "userId": "01508561723939667345"
     },
     "user_tz": -330
    },
    "id": "NWIFVJobWrIO"
   },
   "outputs": [],
   "source": [
    "def normalizePlanes(npzarray):\n",
    "    maxHU = 400.\n",
    "    minHU = -1000.\n",
    "    npzarray = (npzarray - minHU) / (maxHU - minHU)\n",
    "    npzarray[npzarray>1] = 1.\n",
    "    npzarray[npzarray<0] = 0.\n",
    "    return npzarray"
   ]
  },
  {
   "cell_type": "code",
   "execution_count": 35,
   "metadata": {
    "colab": {
     "base_uri": "https://localhost:8080/",
     "height": 67
    },
    "executionInfo": {
     "elapsed": 1180,
     "status": "ok",
     "timestamp": 1603115530693,
     "user": {
      "displayName": "DIVYANSHU BHAIK",
      "photoUrl": "https://lh3.googleusercontent.com/a-/AOh14Gi1vml2D36-XRNdiec3_IPIhcoGFtn36xsXJyiN=s64",
      "userId": "01508561723939667345"
     },
     "user_tz": -330
    },
    "id": "83fjF0_2WufO",
    "outputId": "a16649ac-66b4-4233-f467-bc02ec16a99a"
   },
   "outputs": [
    {
     "name": "stdout",
     "output_type": "stream",
     "text": [
      "number of positive cases are 845\n",
      "total set size is 5187\n",
      "percentage of positive cases are 0.16290726817042606\n"
     ]
    }
   ],
   "source": [
    "print('number of positive cases are ' + str(y_train.sum()))\n",
    "print('total set size is ' + str(len(y_train)))\n",
    "print('percentage of positive cases are ' + str(y_train.sum()*1.0/len(y_train)))"
   ]
  },
  {
   "cell_type": "code",
   "execution_count": 36,
   "metadata": {
    "colab": {
     "base_uri": "https://localhost:8080/",
     "height": 34
    },
    "executionInfo": {
     "elapsed": 1496,
     "status": "ok",
     "timestamp": 1603115538056,
     "user": {
      "displayName": "DIVYANSHU BHAIK",
      "photoUrl": "https://lh3.googleusercontent.com/a-/AOh14Gi1vml2D36-XRNdiec3_IPIhcoGFtn36xsXJyiN=s64",
      "userId": "01508561723939667345"
     },
     "user_tz": -330
    },
    "id": "vNyRIUBGW7cr",
    "outputId": "f488be54-e721-4157-9ccf-fbc8539f34ac"
   },
   "outputs": [
    {
     "name": "stdout",
     "output_type": "stream",
     "text": [
      "6877 6877\n"
     ]
    }
   ],
   "source": [
    "tempDf = X_train[y_train == 1]\n",
    "tempDf = tempDf.set_index(X_train[y_train == 1].index + 1000000)\n",
    "X_train_new = X_train.append(tempDf)\n",
    "tempDf = tempDf.set_index(X_train[y_train == 1].index + 2000000)\n",
    "X_train_new = X_train_new.append(tempDf)\n",
    "\n",
    "ytemp = y_train.reindex(X_train[y_train == 1].index + 1000000)\n",
    "ytemp.loc[:] = 1\n",
    "y_train_new = y_train.append(ytemp)\n",
    "ytemp = y_train.reindex(X_train[y_train == 1].index + 2000000)\n",
    "ytemp.loc[:] = 1\n",
    "y_train_new = y_train_new.append(ytemp)\n",
    "\n",
    "print(len(X_train_new), len(y_train_new))"
   ]
  },
  {
   "cell_type": "code",
   "execution_count": 37,
   "metadata": {
    "colab": {
     "base_uri": "https://localhost:8080/",
     "height": 402
    },
    "executionInfo": {
     "elapsed": 1731,
     "status": "ok",
     "timestamp": 1603115576705,
     "user": {
      "displayName": "DIVYANSHU BHAIK",
      "photoUrl": "https://lh3.googleusercontent.com/a-/AOh14Gi1vml2D36-XRNdiec3_IPIhcoGFtn36xsXJyiN=s64",
      "userId": "01508561723939667345"
     },
     "user_tz": -330
    },
    "id": "u6DaBK6ExRYc",
    "outputId": "1664bd4e-27c0-44a6-eaa3-c24578f37348"
   },
   "outputs": [
    {
     "data": {
      "text/html": [
       "<div>\n",
       "<style scoped>\n",
       "    .dataframe tbody tr th:only-of-type {\n",
       "        vertical-align: middle;\n",
       "    }\n",
       "\n",
       "    .dataframe tbody tr th {\n",
       "        vertical-align: top;\n",
       "    }\n",
       "\n",
       "    .dataframe thead th {\n",
       "        text-align: right;\n",
       "    }\n",
       "</style>\n",
       "<table border=\"1\" class=\"dataframe\">\n",
       "  <thead>\n",
       "    <tr style=\"text-align: right;\">\n",
       "      <th></th>\n",
       "      <th>seriesuid</th>\n",
       "      <th>coordX</th>\n",
       "      <th>coordY</th>\n",
       "      <th>coordZ</th>\n",
       "    </tr>\n",
       "  </thead>\n",
       "  <tbody>\n",
       "    <tr>\n",
       "      <th>59270</th>\n",
       "      <td>1.3.6.1.4.1.14519.5.2.1.6279.6001.132817748896...</td>\n",
       "      <td>-97.808167</td>\n",
       "      <td>3.897917</td>\n",
       "      <td>-201.030000</td>\n",
       "    </tr>\n",
       "    <tr>\n",
       "      <th>150277</th>\n",
       "      <td>1.3.6.1.4.1.14519.5.2.1.6279.6001.182192086929...</td>\n",
       "      <td>58.990000</td>\n",
       "      <td>-24.230000</td>\n",
       "      <td>-18.320000</td>\n",
       "    </tr>\n",
       "    <tr>\n",
       "      <th>432208</th>\n",
       "      <td>1.3.6.1.4.1.14519.5.2.1.6279.6001.397522780537...</td>\n",
       "      <td>-50.307219</td>\n",
       "      <td>159.439740</td>\n",
       "      <td>-113.418797</td>\n",
       "    </tr>\n",
       "    <tr>\n",
       "      <th>423122</th>\n",
       "      <td>1.3.6.1.4.1.14519.5.2.1.6279.6001.339882192295...</td>\n",
       "      <td>-106.731000</td>\n",
       "      <td>-104.468000</td>\n",
       "      <td>751.163333</td>\n",
       "    </tr>\n",
       "    <tr>\n",
       "      <th>344581</th>\n",
       "      <td>1.3.6.1.4.1.14519.5.2.1.6279.6001.296863826932...</td>\n",
       "      <td>67.240000</td>\n",
       "      <td>-32.590000</td>\n",
       "      <td>-107.790000</td>\n",
       "    </tr>\n",
       "    <tr>\n",
       "      <th>...</th>\n",
       "      <td>...</td>\n",
       "      <td>...</td>\n",
       "      <td>...</td>\n",
       "      <td>...</td>\n",
       "    </tr>\n",
       "    <tr>\n",
       "      <th>2436163</th>\n",
       "      <td>1.3.6.1.4.1.14519.5.2.1.6279.6001.404768898286...</td>\n",
       "      <td>88.955096</td>\n",
       "      <td>224.250740</td>\n",
       "      <td>-586.901865</td>\n",
       "    </tr>\n",
       "    <tr>\n",
       "      <th>2013078</th>\n",
       "      <td>1.3.6.1.4.1.14519.5.2.1.6279.6001.106719103982...</td>\n",
       "      <td>-57.089458</td>\n",
       "      <td>72.608061</td>\n",
       "      <td>1791.668825</td>\n",
       "    </tr>\n",
       "    <tr>\n",
       "      <th>2352132</th>\n",
       "      <td>1.3.6.1.4.1.14519.5.2.1.6279.6001.300246184547...</td>\n",
       "      <td>100.136716</td>\n",
       "      <td>3.904990</td>\n",
       "      <td>-93.909072</td>\n",
       "    </tr>\n",
       "    <tr>\n",
       "      <th>2188812</th>\n",
       "      <td>1.3.6.1.4.1.14519.5.2.1.6279.6001.202187810895...</td>\n",
       "      <td>118.180000</td>\n",
       "      <td>-42.910000</td>\n",
       "      <td>-247.440000</td>\n",
       "    </tr>\n",
       "    <tr>\n",
       "      <th>2459476</th>\n",
       "      <td>1.3.6.1.4.1.14519.5.2.1.6279.6001.503980049263...</td>\n",
       "      <td>-112.420630</td>\n",
       "      <td>37.648160</td>\n",
       "      <td>-67.928064</td>\n",
       "    </tr>\n",
       "  </tbody>\n",
       "</table>\n",
       "<p>6877 rows × 4 columns</p>\n",
       "</div>"
      ],
      "text/plain": [
       "                                                 seriesuid      coordX  \\\n",
       "59270    1.3.6.1.4.1.14519.5.2.1.6279.6001.132817748896...  -97.808167   \n",
       "150277   1.3.6.1.4.1.14519.5.2.1.6279.6001.182192086929...   58.990000   \n",
       "432208   1.3.6.1.4.1.14519.5.2.1.6279.6001.397522780537...  -50.307219   \n",
       "423122   1.3.6.1.4.1.14519.5.2.1.6279.6001.339882192295... -106.731000   \n",
       "344581   1.3.6.1.4.1.14519.5.2.1.6279.6001.296863826932...   67.240000   \n",
       "...                                                    ...         ...   \n",
       "2436163  1.3.6.1.4.1.14519.5.2.1.6279.6001.404768898286...   88.955096   \n",
       "2013078  1.3.6.1.4.1.14519.5.2.1.6279.6001.106719103982...  -57.089458   \n",
       "2352132  1.3.6.1.4.1.14519.5.2.1.6279.6001.300246184547...  100.136716   \n",
       "2188812  1.3.6.1.4.1.14519.5.2.1.6279.6001.202187810895...  118.180000   \n",
       "2459476  1.3.6.1.4.1.14519.5.2.1.6279.6001.503980049263... -112.420630   \n",
       "\n",
       "             coordY       coordZ  \n",
       "59270      3.897917  -201.030000  \n",
       "150277   -24.230000   -18.320000  \n",
       "432208   159.439740  -113.418797  \n",
       "423122  -104.468000   751.163333  \n",
       "344581   -32.590000  -107.790000  \n",
       "...             ...          ...  \n",
       "2436163  224.250740  -586.901865  \n",
       "2013078   72.608061  1791.668825  \n",
       "2352132    3.904990   -93.909072  \n",
       "2188812  -42.910000  -247.440000  \n",
       "2459476   37.648160   -67.928064  \n",
       "\n",
       "[6877 rows x 4 columns]"
      ]
     },
     "execution_count": 37,
     "metadata": {},
     "output_type": "execute_result"
    }
   ],
   "source": [
    "X_train_new"
   ]
  },
  {
   "cell_type": "code",
   "execution_count": 38,
   "metadata": {
    "colab": {
     "base_uri": "https://localhost:8080/",
     "height": 218
    },
    "executionInfo": {
     "elapsed": 1567,
     "status": "ok",
     "timestamp": 1603115635507,
     "user": {
      "displayName": "DIVYANSHU BHAIK",
      "photoUrl": "https://lh3.googleusercontent.com/a-/AOh14Gi1vml2D36-XRNdiec3_IPIhcoGFtn36xsXJyiN=s64",
      "userId": "01508561723939667345"
     },
     "user_tz": -330
    },
    "id": "LNSgvBHlxTxy",
    "outputId": "27fed1da-7f7e-42ae-8012-2cd42e04ea37"
   },
   "outputs": [
    {
     "data": {
      "text/plain": [
       "59270      0.0\n",
       "150277     0.0\n",
       "432208     0.0\n",
       "423122     0.0\n",
       "344581     0.0\n",
       "          ... \n",
       "2436163    1.0\n",
       "2013078    1.0\n",
       "2352132    1.0\n",
       "2188812    1.0\n",
       "2459476    1.0\n",
       "Name: class, Length: 6877, dtype: float64"
      ]
     },
     "execution_count": 38,
     "metadata": {},
     "output_type": "execute_result"
    }
   ],
   "source": [
    "y_train_new"
   ]
  },
  {
   "cell_type": "code",
   "execution_count": 39,
   "metadata": {
    "colab": {
     "base_uri": "https://localhost:8080/",
     "height": 118
    },
    "executionInfo": {
     "elapsed": 841,
     "status": "ok",
     "timestamp": 1603115636159,
     "user": {
      "displayName": "DIVYANSHU BHAIK",
      "photoUrl": "https://lh3.googleusercontent.com/a-/AOh14Gi1vml2D36-XRNdiec3_IPIhcoGFtn36xsXJyiN=s64",
      "userId": "01508561723939667345"
     },
     "user_tz": -330
    },
    "id": "rmmL5HsKXBSM",
    "outputId": "b7c731fb-2b11-44ed-8cf5-69c63105547f"
   },
   "outputs": [
    {
     "data": {
      "text/plain": [
       "Int64Index([  59270,  150277,  432208,  423122,  344581,   75111,  246217,\n",
       "             292479,  147683,  468235,\n",
       "            ...\n",
       "            2282167, 2300642, 2021354, 2461166, 2332952, 2436163, 2013078,\n",
       "            2352132, 2188812, 2459476],\n",
       "           dtype='int64', length=6877)"
      ]
     },
     "execution_count": 39,
     "metadata": {},
     "output_type": "execute_result"
    }
   ],
   "source": [
    "X_train_new.index"
   ]
  },
  {
   "cell_type": "code",
   "execution_count": 40,
   "metadata": {
    "executionInfo": {
     "elapsed": 1129,
     "status": "ok",
     "timestamp": 1603115638632,
     "user": {
      "displayName": "DIVYANSHU BHAIK",
      "photoUrl": "https://lh3.googleusercontent.com/a-/AOh14Gi1vml2D36-XRNdiec3_IPIhcoGFtn36xsXJyiN=s64",
      "userId": "01508561723939667345"
     },
     "user_tz": -330
    },
    "id": "xofeRiaYXNpv"
   },
   "outputs": [],
   "source": [
    "import scipy.misc"
   ]
  },
  {
   "cell_type": "code",
   "execution_count": 41,
   "metadata": {
    "executionInfo": {
     "elapsed": 2171,
     "status": "ok",
     "timestamp": 1603115641749,
     "user": {
      "displayName": "DIVYANSHU BHAIK",
      "photoUrl": "https://lh3.googleusercontent.com/a-/AOh14Gi1vml2D36-XRNdiec3_IPIhcoGFtn36xsXJyiN=s64",
      "userId": "01508561723939667345"
     },
     "user_tz": -330
    },
    "id": "GA8lDGgMu2pU"
   },
   "outputs": [],
   "source": [
    "import cv2"
   ]
  },
  {
   "cell_type": "code",
   "execution_count": 42,
   "metadata": {
    "executionInfo": {
     "elapsed": 3457,
     "status": "ok",
     "timestamp": 1603115645665,
     "user": {
      "displayName": "DIVYANSHU BHAIK",
      "photoUrl": "https://lh3.googleusercontent.com/a-/AOh14Gi1vml2D36-XRNdiec3_IPIhcoGFtn36xsXJyiN=s64",
      "userId": "01508561723939667345"
     },
     "user_tz": -330
    },
    "id": "hW7F3bdyXBai"
   },
   "outputs": [],
   "source": [
    "#from scipy.misc import imresize\n",
    "from PIL import *\n",
    "\n",
    "class PreProcessing(object):\n",
    "    def __init__(self, image = None):\n",
    "        self.image = image\n",
    "    \n",
    "    def subtract_mean(self):\n",
    "        self.image = (self.image/255.0 - 0.25)*255\n",
    "        return self.image\n",
    "    \n",
    "    def downsample_data(self):\n",
    "        self.image = cv2.resize(self.image, (40,40), interpolation = cv2.INTER_AREA)\n",
    "        return self.image\n",
    "\n",
    "    def upsample_data(self):\n",
    "        self.image = cv2.resize(self.image, (224, 224), interpolation = cv2.INTER_CUBIC)\n",
    "        return self.image"
   ]
  },
  {
   "cell_type": "markdown",
   "metadata": {
    "id": "EPdjKj6KxdGN"
   },
   "source": [
    "Imported the preprocessed and segmented dataset"
   ]
  },
  {
   "cell_type": "code",
   "execution_count": 43,
   "metadata": {},
   "outputs": [
    {
     "name": "stdout",
     "output_type": "stream",
     "text": [
      "Collecting Pillow==4.0.0\n",
      "  Using cached Pillow-4.0.0.tar.gz (11.1 MB)\n",
      "Requirement already satisfied: olefile in c:\\users\\91876\\anaconda3\\envs\\antonioenv\\lib\\site-packages (from Pillow==4.0.0) (0.46)\n",
      "Building wheels for collected packages: Pillow\n",
      "  Building wheel for Pillow (setup.py): started\n",
      "  Building wheel for Pillow (setup.py): finished with status 'error'\n",
      "  Running setup.py clean for Pillow\n",
      "Failed to build Pillow\n",
      "Installing collected packages: Pillow\n",
      "  Attempting uninstall: Pillow\n",
      "    Found existing installation: Pillow 8.2.0\n",
      "    Uninstalling Pillow-8.2.0:\n",
      "      Successfully uninstalled Pillow-8.2.0\n",
      "    Running setup.py install for Pillow: started\n",
      "    Running setup.py install for Pillow: finished with status 'error'\n",
      "  Rolling back uninstall of Pillow\n",
      "  Moving to c:\\users\\91876\\anaconda3\\envs\\antonioenv\\lib\\site-packages\\pil\\\n"
     ]
    },
    {
     "name": "stderr",
     "output_type": "stream",
     "text": [
      "WARNING: Ignoring invalid distribution -illow (c:\\users\\91876\\appdata\\roaming\\python\\python38\\site-packages)\n",
      "WARNING: Ignoring invalid distribution -llow (c:\\users\\91876\\anaconda3\\envs\\antonioenv\\lib\\site-packages)\n",
      "WARNING: Ignoring invalid distribution -orchvision (c:\\users\\91876\\anaconda3\\envs\\antonioenv\\lib\\site-packages)\n",
      "WARNING: Ignoring invalid distribution -llow (c:\\users\\91876\\anaconda3\\envs\\antonioenv\\lib\\site-packages)\n",
      "WARNING: Ignoring invalid distribution - (c:\\users\\91876\\anaconda3\\envs\\antonioenv\\lib\\site-packages)\n",
      "WARNING: Ignoring invalid distribution -atplotlib (c:\\users\\91876\\anaconda3\\envs\\antonioenv\\lib\\site-packages)\n",
      "WARNING: Ignoring invalid distribution -illow (c:\\users\\91876\\appdata\\roaming\\python\\python38\\site-packages)\n",
      "WARNING: Ignoring invalid distribution -llow (c:\\users\\91876\\anaconda3\\envs\\antonioenv\\lib\\site-packages)\n",
      "WARNING: Ignoring invalid distribution -orchvision (c:\\users\\91876\\anaconda3\\envs\\antonioenv\\lib\\site-packages)\n",
      "WARNING: Ignoring invalid distribution -llow (c:\\users\\91876\\anaconda3\\envs\\antonioenv\\lib\\site-packages)\n",
      "WARNING: Ignoring invalid distribution - (c:\\users\\91876\\anaconda3\\envs\\antonioenv\\lib\\site-packages)\n",
      "WARNING: Ignoring invalid distribution -atplotlib (c:\\users\\91876\\anaconda3\\envs\\antonioenv\\lib\\site-packages)\n",
      "  ERROR: Command errored out with exit status 1:\n",
      "   command: 'C:\\Users\\91876\\anaconda3\\envs\\AntonioEnv\\python.exe' -u -c 'import io, os, sys, setuptools, tokenize; sys.argv[0] = '\"'\"'C:\\\\Users\\\\91876\\\\AppData\\\\Local\\\\Temp\\\\pip-install-n036ngm2\\\\pillow_75b98591d91242fab8fff405e0619951\\\\setup.py'\"'\"'; __file__='\"'\"'C:\\\\Users\\\\91876\\\\AppData\\\\Local\\\\Temp\\\\pip-install-n036ngm2\\\\pillow_75b98591d91242fab8fff405e0619951\\\\setup.py'\"'\"';f = getattr(tokenize, '\"'\"'open'\"'\"', open)(__file__) if os.path.exists(__file__) else io.StringIO('\"'\"'from setuptools import setup; setup()'\"'\"');code = f.read().replace('\"'\"'\\r\\n'\"'\"', '\"'\"'\\n'\"'\"');f.close();exec(compile(code, __file__, '\"'\"'exec'\"'\"'))' bdist_wheel -d 'C:\\Users\\91876\\AppData\\Local\\Temp\\pip-wheel-ul_eo8lt'\n",
      "       cwd: C:\\Users\\91876\\AppData\\Local\\Temp\\pip-install-n036ngm2\\pillow_75b98591d91242fab8fff405e0619951\\\n",
      "  Complete output (168 lines):\n",
      "  Single threaded build for windows\n",
      "  running bdist_wheel\n",
      "  running build\n",
      "  running build_py\n",
      "  creating build\n",
      "  creating build\\lib.win-amd64-3.8\n",
      "  creating build\\lib.win-amd64-3.8\\PIL\n",
      "  copying PIL\\BdfFontFile.py -> build\\lib.win-amd64-3.8\\PIL\n",
      "  copying PIL\\BmpImagePlugin.py -> build\\lib.win-amd64-3.8\\PIL\n",
      "  copying PIL\\BufrStubImagePlugin.py -> build\\lib.win-amd64-3.8\\PIL\n",
      "  copying PIL\\ContainerIO.py -> build\\lib.win-amd64-3.8\\PIL\n",
      "  copying PIL\\CurImagePlugin.py -> build\\lib.win-amd64-3.8\\PIL\n",
      "  copying PIL\\DcxImagePlugin.py -> build\\lib.win-amd64-3.8\\PIL\n",
      "  copying PIL\\DdsImagePlugin.py -> build\\lib.win-amd64-3.8\\PIL\n",
      "  copying PIL\\EpsImagePlugin.py -> build\\lib.win-amd64-3.8\\PIL\n",
      "  copying PIL\\ExifTags.py -> build\\lib.win-amd64-3.8\\PIL\n",
      "  copying PIL\\features.py -> build\\lib.win-amd64-3.8\\PIL\n",
      "  copying PIL\\FitsStubImagePlugin.py -> build\\lib.win-amd64-3.8\\PIL\n",
      "  copying PIL\\FliImagePlugin.py -> build\\lib.win-amd64-3.8\\PIL\n",
      "  copying PIL\\FontFile.py -> build\\lib.win-amd64-3.8\\PIL\n",
      "  copying PIL\\FpxImagePlugin.py -> build\\lib.win-amd64-3.8\\PIL\n",
      "  copying PIL\\FtexImagePlugin.py -> build\\lib.win-amd64-3.8\\PIL\n",
      "  copying PIL\\GbrImagePlugin.py -> build\\lib.win-amd64-3.8\\PIL\n",
      "  copying PIL\\GdImageFile.py -> build\\lib.win-amd64-3.8\\PIL\n",
      "  copying PIL\\GifImagePlugin.py -> build\\lib.win-amd64-3.8\\PIL\n",
      "  copying PIL\\GimpGradientFile.py -> build\\lib.win-amd64-3.8\\PIL\n",
      "  copying PIL\\GimpPaletteFile.py -> build\\lib.win-amd64-3.8\\PIL\n",
      "  copying PIL\\GribStubImagePlugin.py -> build\\lib.win-amd64-3.8\\PIL\n",
      "  copying PIL\\Hdf5StubImagePlugin.py -> build\\lib.win-amd64-3.8\\PIL\n",
      "  copying PIL\\IcnsImagePlugin.py -> build\\lib.win-amd64-3.8\\PIL\n",
      "  copying PIL\\IcoImagePlugin.py -> build\\lib.win-amd64-3.8\\PIL\n",
      "  copying PIL\\Image.py -> build\\lib.win-amd64-3.8\\PIL\n",
      "  copying PIL\\ImageChops.py -> build\\lib.win-amd64-3.8\\PIL\n",
      "  copying PIL\\ImageCms.py -> build\\lib.win-amd64-3.8\\PIL\n",
      "  copying PIL\\ImageColor.py -> build\\lib.win-amd64-3.8\\PIL\n",
      "  copying PIL\\ImageDraw.py -> build\\lib.win-amd64-3.8\\PIL\n",
      "  copying PIL\\ImageDraw2.py -> build\\lib.win-amd64-3.8\\PIL\n",
      "  copying PIL\\ImageEnhance.py -> build\\lib.win-amd64-3.8\\PIL\n",
      "  copying PIL\\ImageFile.py -> build\\lib.win-amd64-3.8\\PIL\n",
      "  copying PIL\\ImageFilter.py -> build\\lib.win-amd64-3.8\\PIL\n",
      "  copying PIL\\ImageFont.py -> build\\lib.win-amd64-3.8\\PIL\n",
      "  copying PIL\\ImageGrab.py -> build\\lib.win-amd64-3.8\\PIL\n",
      "  copying PIL\\ImageMath.py -> build\\lib.win-amd64-3.8\\PIL\n",
      "  copying PIL\\ImageMode.py -> build\\lib.win-amd64-3.8\\PIL\n",
      "  copying PIL\\ImageMorph.py -> build\\lib.win-amd64-3.8\\PIL\n",
      "  copying PIL\\ImageOps.py -> build\\lib.win-amd64-3.8\\PIL\n",
      "  copying PIL\\ImagePalette.py -> build\\lib.win-amd64-3.8\\PIL\n",
      "  copying PIL\\ImagePath.py -> build\\lib.win-amd64-3.8\\PIL\n",
      "  copying PIL\\ImageQt.py -> build\\lib.win-amd64-3.8\\PIL\n",
      "  copying PIL\\ImageSequence.py -> build\\lib.win-amd64-3.8\\PIL\n",
      "  copying PIL\\ImageShow.py -> build\\lib.win-amd64-3.8\\PIL\n",
      "  copying PIL\\ImageStat.py -> build\\lib.win-amd64-3.8\\PIL\n",
      "  copying PIL\\ImageTk.py -> build\\lib.win-amd64-3.8\\PIL\n",
      "  copying PIL\\ImageTransform.py -> build\\lib.win-amd64-3.8\\PIL\n",
      "  copying PIL\\ImageWin.py -> build\\lib.win-amd64-3.8\\PIL\n",
      "  copying PIL\\ImImagePlugin.py -> build\\lib.win-amd64-3.8\\PIL\n",
      "  copying PIL\\ImtImagePlugin.py -> build\\lib.win-amd64-3.8\\PIL\n",
      "  copying PIL\\IptcImagePlugin.py -> build\\lib.win-amd64-3.8\\PIL\n",
      "  copying PIL\\Jpeg2KImagePlugin.py -> build\\lib.win-amd64-3.8\\PIL\n",
      "  copying PIL\\JpegImagePlugin.py -> build\\lib.win-amd64-3.8\\PIL\n",
      "  copying PIL\\JpegPresets.py -> build\\lib.win-amd64-3.8\\PIL\n",
      "  copying PIL\\McIdasImagePlugin.py -> build\\lib.win-amd64-3.8\\PIL\n",
      "  copying PIL\\MicImagePlugin.py -> build\\lib.win-amd64-3.8\\PIL\n",
      "  copying PIL\\MpegImagePlugin.py -> build\\lib.win-amd64-3.8\\PIL\n",
      "  copying PIL\\MpoImagePlugin.py -> build\\lib.win-amd64-3.8\\PIL\n",
      "  copying PIL\\MspImagePlugin.py -> build\\lib.win-amd64-3.8\\PIL\n",
      "  copying PIL\\OleFileIO.py -> build\\lib.win-amd64-3.8\\PIL\n",
      "  copying PIL\\PaletteFile.py -> build\\lib.win-amd64-3.8\\PIL\n",
      "  copying PIL\\PalmImagePlugin.py -> build\\lib.win-amd64-3.8\\PIL\n",
      "  copying PIL\\PcdImagePlugin.py -> build\\lib.win-amd64-3.8\\PIL\n",
      "  copying PIL\\PcfFontFile.py -> build\\lib.win-amd64-3.8\\PIL\n",
      "  copying PIL\\PcxImagePlugin.py -> build\\lib.win-amd64-3.8\\PIL\n",
      "  copying PIL\\PdfImagePlugin.py -> build\\lib.win-amd64-3.8\\PIL\n",
      "  copying PIL\\PixarImagePlugin.py -> build\\lib.win-amd64-3.8\\PIL\n",
      "  copying PIL\\PngImagePlugin.py -> build\\lib.win-amd64-3.8\\PIL\n",
      "  copying PIL\\PpmImagePlugin.py -> build\\lib.win-amd64-3.8\\PIL\n",
      "  copying PIL\\PsdImagePlugin.py -> build\\lib.win-amd64-3.8\\PIL\n",
      "  copying PIL\\PSDraw.py -> build\\lib.win-amd64-3.8\\PIL\n",
      "  copying PIL\\PyAccess.py -> build\\lib.win-amd64-3.8\\PIL\n",
      "  copying PIL\\SgiImagePlugin.py -> build\\lib.win-amd64-3.8\\PIL\n",
      "  copying PIL\\SpiderImagePlugin.py -> build\\lib.win-amd64-3.8\\PIL\n",
      "  copying PIL\\SunImagePlugin.py -> build\\lib.win-amd64-3.8\\PIL\n",
      "  copying PIL\\TarIO.py -> build\\lib.win-amd64-3.8\\PIL\n",
      "  copying PIL\\TgaImagePlugin.py -> build\\lib.win-amd64-3.8\\PIL\n",
      "  copying PIL\\TiffImagePlugin.py -> build\\lib.win-amd64-3.8\\PIL\n",
      "  copying PIL\\TiffTags.py -> build\\lib.win-amd64-3.8\\PIL\n",
      "  copying PIL\\WalImageFile.py -> build\\lib.win-amd64-3.8\\PIL\n",
      "  copying PIL\\WebPImagePlugin.py -> build\\lib.win-amd64-3.8\\PIL\n",
      "  copying PIL\\WmfImagePlugin.py -> build\\lib.win-amd64-3.8\\PIL\n",
      "  copying PIL\\XbmImagePlugin.py -> build\\lib.win-amd64-3.8\\PIL\n",
      "  copying PIL\\XpmImagePlugin.py -> build\\lib.win-amd64-3.8\\PIL\n",
      "  copying PIL\\XVThumbImagePlugin.py -> build\\lib.win-amd64-3.8\\PIL\n",
      "  copying PIL\\_binary.py -> build\\lib.win-amd64-3.8\\PIL\n",
      "  copying PIL\\_tkinter_finder.py -> build\\lib.win-amd64-3.8\\PIL\n",
      "  copying PIL\\_util.py -> build\\lib.win-amd64-3.8\\PIL\n",
      "  copying PIL\\__init__.py -> build\\lib.win-amd64-3.8\\PIL\n",
      "  running egg_info\n",
      "  writing Pillow.egg-info\\PKG-INFO\n",
      "  writing dependency_links to Pillow.egg-info\\dependency_links.txt\n",
      "  writing requirements to Pillow.egg-info\\requires.txt\n",
      "  writing top-level names to Pillow.egg-info\\top_level.txt\n",
      "  reading manifest file 'Pillow.egg-info\\SOURCES.txt'\n",
      "  reading manifest template 'MANIFEST.in'\n",
      "  warning: no files found matching '*.sh'\n",
      "  no previously-included directories found matching 'docs\\_static'\n",
      "  warning: no previously-included files found matching '.coveragerc'\n",
      "  warning: no previously-included files found matching '.editorconfig'\n",
      "  warning: no previously-included files found matching '.landscape.yaml'\n",
      "  warning: no previously-included files found matching 'appveyor.yml'\n",
      "  warning: no previously-included files found matching 'build_children.sh'\n",
      "  warning: no previously-included files found matching 'tox.ini'\n",
      "  warning: no previously-included files matching '.git*' found anywhere in distribution\n",
      "  warning: no previously-included files matching '*.pyc' found anywhere in distribution\n",
      "  warning: no previously-included files matching '*.so' found anywhere in distribution\n",
      "  writing manifest file 'Pillow.egg-info\\SOURCES.txt'\n",
      "  running build_ext\n",
      "  \n",
      "  \n",
      "  The headers or library files could not be found for zlib,\n",
      "  a required dependency when compiling Pillow from source.\n",
      "  \n",
      "  Please see the install instructions at:\n",
      "     http://pillow.readthedocs.io/en/latest/installation.html\n",
      "  \n",
      "  Traceback (most recent call last):\n",
      "    File \"C:\\Users\\91876\\AppData\\Local\\Temp\\pip-install-n036ngm2\\pillow_75b98591d91242fab8fff405e0619951\\setup.py\", line 746, in <module>\n",
      "      setup(name=NAME,\n",
      "    File \"C:\\Users\\91876\\anaconda3\\envs\\AntonioEnv\\lib\\site-packages\\setuptools\\__init__.py\", line 153, in setup\n",
      "      return distutils.core.setup(**attrs)\n",
      "    File \"C:\\Users\\91876\\anaconda3\\envs\\AntonioEnv\\lib\\distutils\\core.py\", line 148, in setup\n",
      "      dist.run_commands()\n",
      "    File \"C:\\Users\\91876\\anaconda3\\envs\\AntonioEnv\\lib\\distutils\\dist.py\", line 966, in run_commands\n",
      "      self.run_command(cmd)\n",
      "    File \"C:\\Users\\91876\\anaconda3\\envs\\AntonioEnv\\lib\\distutils\\dist.py\", line 985, in run_command\n",
      "      cmd_obj.run()\n",
      "    File \"C:\\Users\\91876\\AppData\\Roaming\\Python\\Python38\\site-packages\\wheel\\bdist_wheel.py\", line 299, in run\n",
      "      self.run_command('build')\n",
      "    File \"C:\\Users\\91876\\anaconda3\\envs\\AntonioEnv\\lib\\distutils\\cmd.py\", line 313, in run_command\n",
      "      self.distribution.run_command(command)\n",
      "    File \"C:\\Users\\91876\\anaconda3\\envs\\AntonioEnv\\lib\\distutils\\dist.py\", line 985, in run_command\n",
      "      cmd_obj.run()\n",
      "    File \"C:\\Users\\91876\\anaconda3\\envs\\AntonioEnv\\lib\\distutils\\command\\build.py\", line 135, in run\n",
      "      self.run_command(cmd_name)\n",
      "    File \"C:\\Users\\91876\\anaconda3\\envs\\AntonioEnv\\lib\\distutils\\cmd.py\", line 313, in run_command\n",
      "      self.distribution.run_command(command)\n",
      "    File \"C:\\Users\\91876\\anaconda3\\envs\\AntonioEnv\\lib\\distutils\\dist.py\", line 985, in run_command\n",
      "      cmd_obj.run()\n",
      "    File \"C:\\Users\\91876\\anaconda3\\envs\\AntonioEnv\\lib\\distutils\\command\\build_ext.py\", line 340, in run\n",
      "      self.build_extensions()\n",
      "    File \"C:\\Users\\91876\\AppData\\Local\\Temp\\pip-install-n036ngm2\\pillow_75b98591d91242fab8fff405e0619951\\setup.py\", line 549, in build_extensions\n",
      "      raise RequiredDependencyException(f)\n",
      "  __main__.RequiredDependencyException: zlib\n",
      "  \n",
      "  During handling of the above exception, another exception occurred:\n",
      "  \n",
      "  Traceback (most recent call last):\n",
      "    File \"<string>\", line 1, in <module>\n",
      "    File \"C:\\Users\\91876\\AppData\\Local\\Temp\\pip-install-n036ngm2\\pillow_75b98591d91242fab8fff405e0619951\\setup.py\", line 791, in <module>\n",
      "      raise RequiredDependencyException(msg)\n",
      "  __main__.RequiredDependencyException:\n",
      "  \n",
      "  The headers or library files could not be found for zlib,\n",
      "  a required dependency when compiling Pillow from source.\n",
      "  \n",
      "  Please see the install instructions at:\n",
      "     http://pillow.readthedocs.io/en/latest/installation.html\n",
      "  \n",
      "  \n",
      "  ----------------------------------------\n",
      "  ERROR: Failed building wheel for Pillow\n",
      "WARNING: Ignoring invalid distribution -illow (c:\\users\\91876\\appdata\\roaming\\python\\python38\\site-packages)\n",
      "WARNING: Ignoring invalid distribution -llow (c:\\users\\91876\\anaconda3\\envs\\antonioenv\\lib\\site-packages)\n",
      "WARNING: Ignoring invalid distribution -orchvision (c:\\users\\91876\\anaconda3\\envs\\antonioenv\\lib\\site-packages)\n",
      "WARNING: Ignoring invalid distribution -llow (c:\\users\\91876\\anaconda3\\envs\\antonioenv\\lib\\site-packages)\n",
      "WARNING: Ignoring invalid distribution - (c:\\users\\91876\\anaconda3\\envs\\antonioenv\\lib\\site-packages)\n",
      "WARNING: Ignoring invalid distribution -atplotlib (c:\\users\\91876\\anaconda3\\envs\\antonioenv\\lib\\site-packages)\n",
      "    WARNING: Ignoring invalid distribution -illow (c:\\users\\91876\\appdata\\roaming\\python\\python38\\site-packages)\n",
      "    WARNING: Ignoring invalid distribution -llow (c:\\users\\91876\\anaconda3\\envs\\antonioenv\\lib\\site-packages)\n",
      "    WARNING: Ignoring invalid distribution -orchvision (c:\\users\\91876\\anaconda3\\envs\\antonioenv\\lib\\site-packages)\n",
      "    WARNING: Ignoring invalid distribution -llow (c:\\users\\91876\\anaconda3\\envs\\antonioenv\\lib\\site-packages)\n",
      "    WARNING: Ignoring invalid distribution - (c:\\users\\91876\\anaconda3\\envs\\antonioenv\\lib\\site-packages)\n",
      "    WARNING: Ignoring invalid distribution -atplotlib (c:\\users\\91876\\anaconda3\\envs\\antonioenv\\lib\\site-packages)\n",
      "    ERROR: Command errored out with exit status 1:\n",
      "     command: 'C:\\Users\\91876\\anaconda3\\envs\\AntonioEnv\\python.exe' -u -c 'import io, os, sys, setuptools, tokenize; sys.argv[0] = '\"'\"'C:\\\\Users\\\\91876\\\\AppData\\\\Local\\\\Temp\\\\pip-install-n036ngm2\\\\pillow_75b98591d91242fab8fff405e0619951\\\\setup.py'\"'\"'; __file__='\"'\"'C:\\\\Users\\\\91876\\\\AppData\\\\Local\\\\Temp\\\\pip-install-n036ngm2\\\\pillow_75b98591d91242fab8fff405e0619951\\\\setup.py'\"'\"';f = getattr(tokenize, '\"'\"'open'\"'\"', open)(__file__) if os.path.exists(__file__) else io.StringIO('\"'\"'from setuptools import setup; setup()'\"'\"');code = f.read().replace('\"'\"'\\r\\n'\"'\"', '\"'\"'\\n'\"'\"');f.close();exec(compile(code, __file__, '\"'\"'exec'\"'\"'))' install --record 'C:\\Users\\91876\\AppData\\Local\\Temp\\pip-record-rdb5qtzh\\install-record.txt' --single-version-externally-managed --compile --install-headers 'C:\\Users\\91876\\anaconda3\\envs\\AntonioEnv\\Include\\Pillow'\n",
      "         cwd: C:\\Users\\91876\\AppData\\Local\\Temp\\pip-install-n036ngm2\\pillow_75b98591d91242fab8fff405e0619951\\\n",
      "    Complete output (170 lines):\n",
      "    Single threaded build for windows\n",
      "    running install\n",
      "    running build\n",
      "    running build_py\n",
      "    creating build\n",
      "    creating build\\lib.win-amd64-3.8\n",
      "    creating build\\lib.win-amd64-3.8\\PIL\n",
      "    copying PIL\\BdfFontFile.py -> build\\lib.win-amd64-3.8\\PIL\n",
      "    copying PIL\\BmpImagePlugin.py -> build\\lib.win-amd64-3.8\\PIL\n",
      "    copying PIL\\BufrStubImagePlugin.py -> build\\lib.win-amd64-3.8\\PIL\n",
      "    copying PIL\\ContainerIO.py -> build\\lib.win-amd64-3.8\\PIL\n",
      "    copying PIL\\CurImagePlugin.py -> build\\lib.win-amd64-3.8\\PIL\n",
      "    copying PIL\\DcxImagePlugin.py -> build\\lib.win-amd64-3.8\\PIL\n",
      "    copying PIL\\DdsImagePlugin.py -> build\\lib.win-amd64-3.8\\PIL\n",
      "    copying PIL\\EpsImagePlugin.py -> build\\lib.win-amd64-3.8\\PIL\n",
      "    copying PIL\\ExifTags.py -> build\\lib.win-amd64-3.8\\PIL\n",
      "    copying PIL\\features.py -> build\\lib.win-amd64-3.8\\PIL\n",
      "    copying PIL\\FitsStubImagePlugin.py -> build\\lib.win-amd64-3.8\\PIL\n",
      "    copying PIL\\FliImagePlugin.py -> build\\lib.win-amd64-3.8\\PIL\n",
      "    copying PIL\\FontFile.py -> build\\lib.win-amd64-3.8\\PIL\n",
      "    copying PIL\\FpxImagePlugin.py -> build\\lib.win-amd64-3.8\\PIL\n",
      "    copying PIL\\FtexImagePlugin.py -> build\\lib.win-amd64-3.8\\PIL\n",
      "    copying PIL\\GbrImagePlugin.py -> build\\lib.win-amd64-3.8\\PIL\n",
      "    copying PIL\\GdImageFile.py -> build\\lib.win-amd64-3.8\\PIL\n",
      "    copying PIL\\GifImagePlugin.py -> build\\lib.win-amd64-3.8\\PIL\n",
      "    copying PIL\\GimpGradientFile.py -> build\\lib.win-amd64-3.8\\PIL\n",
      "    copying PIL\\GimpPaletteFile.py -> build\\lib.win-amd64-3.8\\PIL\n",
      "    copying PIL\\GribStubImagePlugin.py -> build\\lib.win-amd64-3.8\\PIL\n",
      "    copying PIL\\Hdf5StubImagePlugin.py -> build\\lib.win-amd64-3.8\\PIL\n",
      "    copying PIL\\IcnsImagePlugin.py -> build\\lib.win-amd64-3.8\\PIL\n",
      "    copying PIL\\IcoImagePlugin.py -> build\\lib.win-amd64-3.8\\PIL\n",
      "    copying PIL\\Image.py -> build\\lib.win-amd64-3.8\\PIL\n",
      "    copying PIL\\ImageChops.py -> build\\lib.win-amd64-3.8\\PIL\n",
      "    copying PIL\\ImageCms.py -> build\\lib.win-amd64-3.8\\PIL\n",
      "    copying PIL\\ImageColor.py -> build\\lib.win-amd64-3.8\\PIL\n",
      "    copying PIL\\ImageDraw.py -> build\\lib.win-amd64-3.8\\PIL\n",
      "    copying PIL\\ImageDraw2.py -> build\\lib.win-amd64-3.8\\PIL\n",
      "    copying PIL\\ImageEnhance.py -> build\\lib.win-amd64-3.8\\PIL\n",
      "    copying PIL\\ImageFile.py -> build\\lib.win-amd64-3.8\\PIL\n",
      "    copying PIL\\ImageFilter.py -> build\\lib.win-amd64-3.8\\PIL\n",
      "    copying PIL\\ImageFont.py -> build\\lib.win-amd64-3.8\\PIL\n",
      "    copying PIL\\ImageGrab.py -> build\\lib.win-amd64-3.8\\PIL\n",
      "    copying PIL\\ImageMath.py -> build\\lib.win-amd64-3.8\\PIL\n",
      "    copying PIL\\ImageMode.py -> build\\lib.win-amd64-3.8\\PIL\n",
      "    copying PIL\\ImageMorph.py -> build\\lib.win-amd64-3.8\\PIL\n",
      "    copying PIL\\ImageOps.py -> build\\lib.win-amd64-3.8\\PIL\n",
      "    copying PIL\\ImagePalette.py -> build\\lib.win-amd64-3.8\\PIL\n",
      "    copying PIL\\ImagePath.py -> build\\lib.win-amd64-3.8\\PIL\n",
      "    copying PIL\\ImageQt.py -> build\\lib.win-amd64-3.8\\PIL\n",
      "    copying PIL\\ImageSequence.py -> build\\lib.win-amd64-3.8\\PIL\n",
      "    copying PIL\\ImageShow.py -> build\\lib.win-amd64-3.8\\PIL\n",
      "    copying PIL\\ImageStat.py -> build\\lib.win-amd64-3.8\\PIL\n",
      "    copying PIL\\ImageTk.py -> build\\lib.win-amd64-3.8\\PIL\n",
      "    copying PIL\\ImageTransform.py -> build\\lib.win-amd64-3.8\\PIL\n",
      "    copying PIL\\ImageWin.py -> build\\lib.win-amd64-3.8\\PIL\n",
      "    copying PIL\\ImImagePlugin.py -> build\\lib.win-amd64-3.8\\PIL\n",
      "    copying PIL\\ImtImagePlugin.py -> build\\lib.win-amd64-3.8\\PIL\n",
      "    copying PIL\\IptcImagePlugin.py -> build\\lib.win-amd64-3.8\\PIL\n",
      "    copying PIL\\Jpeg2KImagePlugin.py -> build\\lib.win-amd64-3.8\\PIL\n",
      "    copying PIL\\JpegImagePlugin.py -> build\\lib.win-amd64-3.8\\PIL\n",
      "    copying PIL\\JpegPresets.py -> build\\lib.win-amd64-3.8\\PIL\n",
      "    copying PIL\\McIdasImagePlugin.py -> build\\lib.win-amd64-3.8\\PIL\n",
      "    copying PIL\\MicImagePlugin.py -> build\\lib.win-amd64-3.8\\PIL\n",
      "    copying PIL\\MpegImagePlugin.py -> build\\lib.win-amd64-3.8\\PIL\n",
      "    copying PIL\\MpoImagePlugin.py -> build\\lib.win-amd64-3.8\\PIL\n",
      "    copying PIL\\MspImagePlugin.py -> build\\lib.win-amd64-3.8\\PIL\n",
      "    copying PIL\\OleFileIO.py -> build\\lib.win-amd64-3.8\\PIL\n",
      "    copying PIL\\PaletteFile.py -> build\\lib.win-amd64-3.8\\PIL\n",
      "    copying PIL\\PalmImagePlugin.py -> build\\lib.win-amd64-3.8\\PIL\n",
      "    copying PIL\\PcdImagePlugin.py -> build\\lib.win-amd64-3.8\\PIL\n",
      "    copying PIL\\PcfFontFile.py -> build\\lib.win-amd64-3.8\\PIL\n",
      "    copying PIL\\PcxImagePlugin.py -> build\\lib.win-amd64-3.8\\PIL\n",
      "    copying PIL\\PdfImagePlugin.py -> build\\lib.win-amd64-3.8\\PIL\n",
      "    copying PIL\\PixarImagePlugin.py -> build\\lib.win-amd64-3.8\\PIL\n",
      "    copying PIL\\PngImagePlugin.py -> build\\lib.win-amd64-3.8\\PIL\n",
      "    copying PIL\\PpmImagePlugin.py -> build\\lib.win-amd64-3.8\\PIL\n",
      "    copying PIL\\PsdImagePlugin.py -> build\\lib.win-amd64-3.8\\PIL\n",
      "    copying PIL\\PSDraw.py -> build\\lib.win-amd64-3.8\\PIL\n",
      "    copying PIL\\PyAccess.py -> build\\lib.win-amd64-3.8\\PIL\n",
      "    copying PIL\\SgiImagePlugin.py -> build\\lib.win-amd64-3.8\\PIL\n",
      "    copying PIL\\SpiderImagePlugin.py -> build\\lib.win-amd64-3.8\\PIL\n",
      "    copying PIL\\SunImagePlugin.py -> build\\lib.win-amd64-3.8\\PIL\n",
      "    copying PIL\\TarIO.py -> build\\lib.win-amd64-3.8\\PIL\n",
      "    copying PIL\\TgaImagePlugin.py -> build\\lib.win-amd64-3.8\\PIL\n",
      "    copying PIL\\TiffImagePlugin.py -> build\\lib.win-amd64-3.8\\PIL\n",
      "    copying PIL\\TiffTags.py -> build\\lib.win-amd64-3.8\\PIL\n",
      "    copying PIL\\WalImageFile.py -> build\\lib.win-amd64-3.8\\PIL\n",
      "    copying PIL\\WebPImagePlugin.py -> build\\lib.win-amd64-3.8\\PIL\n",
      "    copying PIL\\WmfImagePlugin.py -> build\\lib.win-amd64-3.8\\PIL\n",
      "    copying PIL\\XbmImagePlugin.py -> build\\lib.win-amd64-3.8\\PIL\n",
      "    copying PIL\\XpmImagePlugin.py -> build\\lib.win-amd64-3.8\\PIL\n",
      "    copying PIL\\XVThumbImagePlugin.py -> build\\lib.win-amd64-3.8\\PIL\n",
      "    copying PIL\\_binary.py -> build\\lib.win-amd64-3.8\\PIL\n",
      "    copying PIL\\_tkinter_finder.py -> build\\lib.win-amd64-3.8\\PIL\n",
      "    copying PIL\\_util.py -> build\\lib.win-amd64-3.8\\PIL\n",
      "    copying PIL\\__init__.py -> build\\lib.win-amd64-3.8\\PIL\n",
      "    running egg_info\n",
      "    writing Pillow.egg-info\\PKG-INFO\n",
      "    writing dependency_links to Pillow.egg-info\\dependency_links.txt\n",
      "    writing requirements to Pillow.egg-info\\requires.txt\n",
      "    writing top-level names to Pillow.egg-info\\top_level.txt\n",
      "    reading manifest file 'Pillow.egg-info\\SOURCES.txt'\n",
      "    reading manifest template 'MANIFEST.in'\n",
      "    warning: no files found matching '*.sh'\n",
      "    no previously-included directories found matching 'docs\\_static'\n",
      "    warning: no previously-included files found matching '.coveragerc'\n",
      "    warning: no previously-included files found matching '.editorconfig'\n",
      "    warning: no previously-included files found matching '.landscape.yaml'\n",
      "    warning: no previously-included files found matching 'appveyor.yml'\n",
      "    warning: no previously-included files found matching 'build_children.sh'\n",
      "    warning: no previously-included files found matching 'tox.ini'\n",
      "    warning: no previously-included files matching '.git*' found anywhere in distribution\n",
      "    warning: no previously-included files matching '*.pyc' found anywhere in distribution\n",
      "    warning: no previously-included files matching '*.so' found anywhere in distribution\n",
      "    writing manifest file 'Pillow.egg-info\\SOURCES.txt'\n",
      "    running build_ext\n",
      "    \n",
      "    \n",
      "    The headers or library files could not be found for zlib,\n",
      "    a required dependency when compiling Pillow from source.\n",
      "    \n",
      "    Please see the install instructions at:\n",
      "       http://pillow.readthedocs.io/en/latest/installation.html\n",
      "    \n",
      "    Traceback (most recent call last):\n",
      "      File \"C:\\Users\\91876\\AppData\\Local\\Temp\\pip-install-n036ngm2\\pillow_75b98591d91242fab8fff405e0619951\\setup.py\", line 746, in <module>\n",
      "        setup(name=NAME,\n",
      "      File \"C:\\Users\\91876\\anaconda3\\envs\\AntonioEnv\\lib\\site-packages\\setuptools\\__init__.py\", line 153, in setup\n",
      "        return distutils.core.setup(**attrs)\n",
      "      File \"C:\\Users\\91876\\anaconda3\\envs\\AntonioEnv\\lib\\distutils\\core.py\", line 148, in setup\n",
      "        dist.run_commands()\n",
      "      File \"C:\\Users\\91876\\anaconda3\\envs\\AntonioEnv\\lib\\distutils\\dist.py\", line 966, in run_commands\n",
      "        self.run_command(cmd)\n",
      "      File \"C:\\Users\\91876\\anaconda3\\envs\\AntonioEnv\\lib\\distutils\\dist.py\", line 985, in run_command\n",
      "        cmd_obj.run()\n",
      "      File \"C:\\Users\\91876\\anaconda3\\envs\\AntonioEnv\\lib\\site-packages\\setuptools\\command\\install.py\", line 61, in run\n",
      "        return orig.install.run(self)\n",
      "      File \"C:\\Users\\91876\\anaconda3\\envs\\AntonioEnv\\lib\\distutils\\command\\install.py\", line 545, in run\n",
      "        self.run_command('build')\n",
      "      File \"C:\\Users\\91876\\anaconda3\\envs\\AntonioEnv\\lib\\distutils\\cmd.py\", line 313, in run_command\n",
      "        self.distribution.run_command(command)\n",
      "      File \"C:\\Users\\91876\\anaconda3\\envs\\AntonioEnv\\lib\\distutils\\dist.py\", line 985, in run_command\n",
      "        cmd_obj.run()\n",
      "      File \"C:\\Users\\91876\\anaconda3\\envs\\AntonioEnv\\lib\\distutils\\command\\build.py\", line 135, in run\n",
      "        self.run_command(cmd_name)\n",
      "      File \"C:\\Users\\91876\\anaconda3\\envs\\AntonioEnv\\lib\\distutils\\cmd.py\", line 313, in run_command\n",
      "        self.distribution.run_command(command)\n",
      "      File \"C:\\Users\\91876\\anaconda3\\envs\\AntonioEnv\\lib\\distutils\\dist.py\", line 985, in run_command\n",
      "        cmd_obj.run()\n",
      "      File \"C:\\Users\\91876\\anaconda3\\envs\\AntonioEnv\\lib\\distutils\\command\\build_ext.py\", line 340, in run\n",
      "        self.build_extensions()\n",
      "      File \"C:\\Users\\91876\\AppData\\Local\\Temp\\pip-install-n036ngm2\\pillow_75b98591d91242fab8fff405e0619951\\setup.py\", line 549, in build_extensions\n",
      "        raise RequiredDependencyException(f)\n",
      "    __main__.RequiredDependencyException: zlib\n",
      "    \n",
      "    During handling of the above exception, another exception occurred:\n",
      "    \n",
      "    Traceback (most recent call last):\n",
      "      File \"<string>\", line 1, in <module>\n",
      "      File \"C:\\Users\\91876\\AppData\\Local\\Temp\\pip-install-n036ngm2\\pillow_75b98591d91242fab8fff405e0619951\\setup.py\", line 791, in <module>\n",
      "        raise RequiredDependencyException(msg)\n",
      "    __main__.RequiredDependencyException:\n",
      "    \n",
      "    The headers or library files could not be found for zlib,\n",
      "    a required dependency when compiling Pillow from source.\n",
      "    \n",
      "    Please see the install instructions at:\n",
      "       http://pillow.readthedocs.io/en/latest/installation.html\n",
      "    \n",
      "    \n",
      "    ----------------------------------------\n",
      "ERROR: Command errored out with exit status 1: 'C:\\Users\\91876\\anaconda3\\envs\\AntonioEnv\\python.exe' -u -c 'import io, os, sys, setuptools, tokenize; sys.argv[0] = '\"'\"'C:\\\\Users\\\\91876\\\\AppData\\\\Local\\\\Temp\\\\pip-install-n036ngm2\\\\pillow_75b98591d91242fab8fff405e0619951\\\\setup.py'\"'\"'; __file__='\"'\"'C:\\\\Users\\\\91876\\\\AppData\\\\Local\\\\Temp\\\\pip-install-n036ngm2\\\\pillow_75b98591d91242fab8fff405e0619951\\\\setup.py'\"'\"';f = getattr(tokenize, '\"'\"'open'\"'\"', open)(__file__) if os.path.exists(__file__) else io.StringIO('\"'\"'from setuptools import setup; setup()'\"'\"');code = f.read().replace('\"'\"'\\r\\n'\"'\"', '\"'\"'\\n'\"'\"');f.close();exec(compile(code, __file__, '\"'\"'exec'\"'\"'))' install --record 'C:\\Users\\91876\\AppData\\Local\\Temp\\pip-record-rdb5qtzh\\install-record.txt' --single-version-externally-managed --compile --install-headers 'C:\\Users\\91876\\anaconda3\\envs\\AntonioEnv\\Include\\Pillow' Check the logs for full command output.\n",
      "WARNING: Ignoring invalid distribution -illow (c:\\users\\91876\\appdata\\roaming\\python\\python38\\site-packages)\n",
      "WARNING: Ignoring invalid distribution -llow (c:\\users\\91876\\anaconda3\\envs\\antonioenv\\lib\\site-packages)\n",
      "WARNING: Ignoring invalid distribution -orchvision (c:\\users\\91876\\anaconda3\\envs\\antonioenv\\lib\\site-packages)\n",
      "WARNING: Ignoring invalid distribution -llow (c:\\users\\91876\\anaconda3\\envs\\antonioenv\\lib\\site-packages)\n",
      "WARNING: Ignoring invalid distribution - (c:\\users\\91876\\anaconda3\\envs\\antonioenv\\lib\\site-packages)\n",
      "WARNING: Ignoring invalid distribution -atplotlib (c:\\users\\91876\\anaconda3\\envs\\antonioenv\\lib\\site-packages)\n",
      "WARNING: Ignoring invalid distribution -illow (c:\\users\\91876\\appdata\\roaming\\python\\python38\\site-packages)\n",
      "WARNING: Ignoring invalid distribution -llow (c:\\users\\91876\\anaconda3\\envs\\antonioenv\\lib\\site-packages)\n",
      "WARNING: Ignoring invalid distribution -orchvision (c:\\users\\91876\\anaconda3\\envs\\antonioenv\\lib\\site-packages)\n",
      "WARNING: Ignoring invalid distribution -llow (c:\\users\\91876\\anaconda3\\envs\\antonioenv\\lib\\site-packages)\n",
      "WARNING: Ignoring invalid distribution - (c:\\users\\91876\\anaconda3\\envs\\antonioenv\\lib\\site-packages)\n",
      "WARNING: Ignoring invalid distribution -atplotlib (c:\\users\\91876\\anaconda3\\envs\\antonioenv\\lib\\site-packages)\n"
     ]
    },
    {
     "name": "stdout",
     "output_type": "stream",
     "text": [
      "   from C:\\Users\\91876\\anaconda3\\envs\\AntonioEnv\\Lib\\site-packages\\~~l\n",
      "  Moving to c:\\users\\91876\\anaconda3\\envs\\antonioenv\\lib\\site-packages\\pillow-8.2.0.dist-info\\\n",
      "   from C:\\Users\\91876\\anaconda3\\envs\\AntonioEnv\\Lib\\site-packages\\~=llow-8.2.0.dist-info\n"
     ]
    },
    {
     "name": "stderr",
     "output_type": "stream",
     "text": [
      "WARNING: Ignoring invalid distribution -illow (c:\\users\\91876\\appdata\\roaming\\python\\python38\\site-packages)\n",
      "WARNING: Ignoring invalid distribution -llow (c:\\users\\91876\\anaconda3\\envs\\antonioenv\\lib\\site-packages)\n",
      "WARNING: Ignoring invalid distribution -orchvision (c:\\users\\91876\\anaconda3\\envs\\antonioenv\\lib\\site-packages)\n",
      "WARNING: Ignoring invalid distribution -llow (c:\\users\\91876\\anaconda3\\envs\\antonioenv\\lib\\site-packages)\n",
      "WARNING: Ignoring invalid distribution - (c:\\users\\91876\\anaconda3\\envs\\antonioenv\\lib\\site-packages)\n",
      "WARNING: Ignoring invalid distribution -atplotlib (c:\\users\\91876\\anaconda3\\envs\\antonioenv\\lib\\site-packages)\n",
      "WARNING: Ignoring invalid distribution -illow (c:\\users\\91876\\appdata\\roaming\\python\\python38\\site-packages)\n",
      "WARNING: Ignoring invalid distribution -llow (c:\\users\\91876\\anaconda3\\envs\\antonioenv\\lib\\site-packages)\n",
      "WARNING: Ignoring invalid distribution -orchvision (c:\\users\\91876\\anaconda3\\envs\\antonioenv\\lib\\site-packages)\n",
      "WARNING: Ignoring invalid distribution -llow (c:\\users\\91876\\anaconda3\\envs\\antonioenv\\lib\\site-packages)\n",
      "WARNING: Ignoring invalid distribution - (c:\\users\\91876\\anaconda3\\envs\\antonioenv\\lib\\site-packages)\n",
      "WARNING: Ignoring invalid distribution -atplotlib (c:\\users\\91876\\anaconda3\\envs\\antonioenv\\lib\\site-packages)\n",
      "ERROR: Could not find a version that satisfies the requirement PIL (from versions: none)\n",
      "ERROR: No matching distribution found for PIL\n",
      "WARNING: Ignoring invalid distribution -illow (c:\\users\\91876\\appdata\\roaming\\python\\python38\\site-packages)\n",
      "WARNING: Ignoring invalid distribution -llow (c:\\users\\91876\\anaconda3\\envs\\antonioenv\\lib\\site-packages)\n",
      "WARNING: Ignoring invalid distribution -orchvision (c:\\users\\91876\\anaconda3\\envs\\antonioenv\\lib\\site-packages)\n",
      "WARNING: Ignoring invalid distribution -llow (c:\\users\\91876\\anaconda3\\envs\\antonioenv\\lib\\site-packages)\n",
      "WARNING: Ignoring invalid distribution - (c:\\users\\91876\\anaconda3\\envs\\antonioenv\\lib\\site-packages)\n",
      "WARNING: Ignoring invalid distribution -atplotlib (c:\\users\\91876\\anaconda3\\envs\\antonioenv\\lib\\site-packages)\n",
      "WARNING: Ignoring invalid distribution -illow (c:\\users\\91876\\appdata\\roaming\\python\\python38\\site-packages)\n",
      "WARNING: Ignoring invalid distribution -llow (c:\\users\\91876\\anaconda3\\envs\\antonioenv\\lib\\site-packages)\n",
      "WARNING: Ignoring invalid distribution -orchvision (c:\\users\\91876\\anaconda3\\envs\\antonioenv\\lib\\site-packages)\n",
      "WARNING: Ignoring invalid distribution -llow (c:\\users\\91876\\anaconda3\\envs\\antonioenv\\lib\\site-packages)\n",
      "WARNING: Ignoring invalid distribution - (c:\\users\\91876\\anaconda3\\envs\\antonioenv\\lib\\site-packages)\n",
      "WARNING: Ignoring invalid distribution -atplotlib (c:\\users\\91876\\anaconda3\\envs\\antonioenv\\lib\\site-packages)\n"
     ]
    },
    {
     "name": "stdout",
     "output_type": "stream",
     "text": [
      "Requirement already satisfied: image in c:\\users\\91876\\anaconda3\\envs\\antonioenv\\lib\\site-packages (1.5.33)\n",
      "Requirement already satisfied: six in c:\\users\\91876\\appdata\\roaming\\python\\python38\\site-packages (from image) (1.15.0)\n",
      "Requirement already satisfied: pillow in c:\\users\\91876\\anaconda3\\envs\\antonioenv\\lib\\site-packages (from image) (8.2.0)\n",
      "Requirement already satisfied: django in c:\\users\\91876\\anaconda3\\envs\\antonioenv\\lib\\site-packages (from image) (3.2)\n",
      "Requirement already satisfied: sqlparse>=0.2.2 in c:\\users\\91876\\anaconda3\\envs\\antonioenv\\lib\\site-packages (from django->image) (0.4.1)\n",
      "Requirement already satisfied: pytz in c:\\users\\91876\\anaconda3\\envs\\antonioenv\\lib\\site-packages (from django->image) (2021.1)\n",
      "Requirement already satisfied: asgiref<4,>=3.3.2 in c:\\users\\91876\\anaconda3\\envs\\antonioenv\\lib\\site-packages (from django->image) (3.3.4)\n"
     ]
    },
    {
     "name": "stderr",
     "output_type": "stream",
     "text": [
      "WARNING: Ignoring invalid distribution -illow (c:\\users\\91876\\appdata\\roaming\\python\\python38\\site-packages)\n",
      "WARNING: Ignoring invalid distribution -llow (c:\\users\\91876\\anaconda3\\envs\\antonioenv\\lib\\site-packages)\n",
      "WARNING: Ignoring invalid distribution -orchvision (c:\\users\\91876\\anaconda3\\envs\\antonioenv\\lib\\site-packages)\n",
      "WARNING: Ignoring invalid distribution -llow (c:\\users\\91876\\anaconda3\\envs\\antonioenv\\lib\\site-packages)\n",
      "WARNING: Ignoring invalid distribution - (c:\\users\\91876\\anaconda3\\envs\\antonioenv\\lib\\site-packages)\n",
      "WARNING: Ignoring invalid distribution -atplotlib (c:\\users\\91876\\anaconda3\\envs\\antonioenv\\lib\\site-packages)\n",
      "WARNING: Ignoring invalid distribution -illow (c:\\users\\91876\\appdata\\roaming\\python\\python38\\site-packages)\n",
      "WARNING: Ignoring invalid distribution -llow (c:\\users\\91876\\anaconda3\\envs\\antonioenv\\lib\\site-packages)\n",
      "WARNING: Ignoring invalid distribution -orchvision (c:\\users\\91876\\anaconda3\\envs\\antonioenv\\lib\\site-packages)\n",
      "WARNING: Ignoring invalid distribution -llow (c:\\users\\91876\\anaconda3\\envs\\antonioenv\\lib\\site-packages)\n",
      "WARNING: Ignoring invalid distribution - (c:\\users\\91876\\anaconda3\\envs\\antonioenv\\lib\\site-packages)\n",
      "WARNING: Ignoring invalid distribution -atplotlib (c:\\users\\91876\\anaconda3\\envs\\antonioenv\\lib\\site-packages)\n",
      "WARNING: Ignoring invalid distribution -illow (c:\\users\\91876\\appdata\\roaming\\python\\python38\\site-packages)\n",
      "WARNING: Ignoring invalid distribution -llow (c:\\users\\91876\\anaconda3\\envs\\antonioenv\\lib\\site-packages)\n",
      "WARNING: Ignoring invalid distribution -orchvision (c:\\users\\91876\\anaconda3\\envs\\antonioenv\\lib\\site-packages)\n",
      "WARNING: Ignoring invalid distribution -llow (c:\\users\\91876\\anaconda3\\envs\\antonioenv\\lib\\site-packages)\n",
      "WARNING: Ignoring invalid distribution - (c:\\users\\91876\\anaconda3\\envs\\antonioenv\\lib\\site-packages)\n",
      "WARNING: Ignoring invalid distribution -atplotlib (c:\\users\\91876\\anaconda3\\envs\\antonioenv\\lib\\site-packages)\n",
      "WARNING: Ignoring invalid distribution -illow (c:\\users\\91876\\appdata\\roaming\\python\\python38\\site-packages)\n",
      "WARNING: Ignoring invalid distribution -llow (c:\\users\\91876\\anaconda3\\envs\\antonioenv\\lib\\site-packages)\n",
      "WARNING: Ignoring invalid distribution -orchvision (c:\\users\\91876\\anaconda3\\envs\\antonioenv\\lib\\site-packages)\n",
      "WARNING: Ignoring invalid distribution -llow (c:\\users\\91876\\anaconda3\\envs\\antonioenv\\lib\\site-packages)\n",
      "WARNING: Ignoring invalid distribution - (c:\\users\\91876\\anaconda3\\envs\\antonioenv\\lib\\site-packages)\n",
      "WARNING: Ignoring invalid distribution -atplotlib (c:\\users\\91876\\anaconda3\\envs\\antonioenv\\lib\\site-packages)\n",
      "WARNING: Ignoring invalid distribution -illow (c:\\users\\91876\\appdata\\roaming\\python\\python38\\site-packages)\n",
      "WARNING: Ignoring invalid distribution -llow (c:\\users\\91876\\anaconda3\\envs\\antonioenv\\lib\\site-packages)\n",
      "WARNING: Ignoring invalid distribution -orchvision (c:\\users\\91876\\anaconda3\\envs\\antonioenv\\lib\\site-packages)\n",
      "WARNING: Ignoring invalid distribution -llow (c:\\users\\91876\\anaconda3\\envs\\antonioenv\\lib\\site-packages)\n",
      "WARNING: Ignoring invalid distribution - (c:\\users\\91876\\anaconda3\\envs\\antonioenv\\lib\\site-packages)\n",
      "WARNING: Ignoring invalid distribution -atplotlib (c:\\users\\91876\\anaconda3\\envs\\antonioenv\\lib\\site-packages)\n"
     ]
    }
   ],
   "source": [
    "!pip install Pillow==4.0.0\n",
    "!pip install PIL\n",
    "!pip install image\n",
    "from PIL import Image"
   ]
  },
  {
   "cell_type": "code",
   "execution_count": 44,
   "metadata": {},
   "outputs": [],
   "source": [
    "#!conda install matplotlib\n",
    "\n"
   ]
  },
  {
   "cell_type": "code",
   "execution_count": 45,
   "metadata": {
    "colab": {
     "base_uri": "https://localhost:8080/",
     "height": 679
    },
    "executionInfo": {
     "elapsed": 49596,
     "status": "ok",
     "timestamp": 1603115699690,
     "user": {
      "displayName": "DIVYANSHU BHAIK",
      "photoUrl": "https://lh3.googleusercontent.com/a-/AOh14Gi1vml2D36-XRNdiec3_IPIhcoGFtn36xsXJyiN=s64",
      "userId": "01508561723939667345"
     },
     "user_tz": -330
    },
    "id": "ZSJ3n1QOXmhE",
    "outputId": "37d8e742-a79e-4944-8545-d5d93f9c3308",
    "scrolled": false
   },
   "outputs": [
    {
     "name": "stderr",
     "output_type": "stream",
     "text": [
      "Clipping input data to the valid range for imshow with RGB data ([0..1] for floats or [0..255] for integers).\n",
      "Clipping input data to the valid range for imshow with RGB data ([0..1] for floats or [0..255] for integers).\n"
     ]
    },
    {
     "name": "stdout",
     "output_type": "stream",
     "text": [
      "Original shape of input image:  (50, 50, 3)\n"
     ]
    },
    {
     "data": {
      "image/png": "[encoded data removed]",
      "text/plain": [
       "<Figure size 720x720 with 4 Axes>"
      ]
     },
     "metadata": {
      "needs_background": "light"
     },
     "output_type": "display_data"
    }
   ],
   "source": [
    "import matplotlib.pyplot as plt\n",
    "import PIL\n",
    "\n",
    "\n",
    "dirName = 'C:\\\\Users\\\\91876\\\\Downloads\\\\New_Dataset\\\\data\\\\train\\\\image_7.jpg'\n",
    "plt.figure(figsize = (10,10))\n",
    "inp = cv2.imread(dirName)          #(dirName + 'image_'+ str(7) + '.jpg')\n",
    "print (\"Original shape of input image: \", inp.shape)\n",
    "plt.subplot(221)\n",
    "plt.imshow(inp, cmap='gray')\n",
    "plt.grid(False)\n",
    "\n",
    "inp = PreProcessing(inp).upsample_data()\n",
    "Pp = PreProcessing(inp)\n",
    "\n",
    "inp2 = Pp.subtract_mean()\n",
    "plt.subplot(222)\n",
    "plt.imshow(inp2, cmap='gray')\n",
    "plt.grid(False)\n",
    "\n",
    "inp3 =ImageEnhance.Contrast(Image.fromarray(inp))   #line 17 and 19 some error\n",
    "contrast = 1.5\n",
    "inp3 = inp3.enhance(contrast)\n",
    "plt.subplot(223)\n",
    "plt.imshow(inp3, cmap='gray')\n",
    "plt.grid(False)\n",
    "\n",
    "inp4 = Pp.downsample_data()\n",
    "plt.subplot(224)\n",
    "plt.imshow(inp4,cmap='gray')\n",
    "plt.grid(False)\n"
   ]
  },
  {
   "cell_type": "code",
   "execution_count": 46,
   "metadata": {
    "colab": {
     "base_uri": "https://localhost:8080/",
     "height": 34
    },
    "executionInfo": {
     "elapsed": 1958,
     "status": "ok",
     "timestamp": 1603115945818,
     "user": {
      "displayName": "DIVYANSHU BHAIK",
      "photoUrl": "https://lh3.googleusercontent.com/a-/AOh14Gi1vml2D36-XRNdiec3_IPIhcoGFtn36xsXJyiN=s64",
      "userId": "01508561723939667345"
     },
     "user_tz": -330
    },
    "id": "oS3Usiyz9hvt",
    "outputId": "b749759d-707c-4aa5-fdc2-fcdcbf4c5db4"
   },
   "outputs": [
    {
     "data": {
      "text/plain": [
       "(224, 224, 3)"
      ]
     },
     "execution_count": 46,
     "metadata": {},
     "output_type": "execute_result"
    }
   ],
   "source": [
    "inp.shape   #C:\\Users\\91876\\Downloads\\New_Dataset\\data\\train\\image_7.jpg"
   ]
  },
  {
   "cell_type": "code",
   "execution_count": 47,
   "metadata": {},
   "outputs": [
    {
     "name": "stdout",
     "output_type": "stream",
     "text": [
      "8.2.0\n"
     ]
    },
    {
     "name": "stderr",
     "output_type": "stream",
     "text": [
      "<ipython-input-47-fb5b99d616c2>:2: DeprecationWarning: PILLOW_VERSION is deprecated and will be removed in Pillow 9 (2022-01-02). Use __version__ instead.\n",
      "  print(PIL.PILLOW_VERSION)\n"
     ]
    }
   ],
   "source": [
    "import PIL\n",
    "print(PIL.PILLOW_VERSION)"
   ]
  },
  {
   "cell_type": "code",
   "execution_count": 48,
   "metadata": {
    "colab": {
     "base_uri": "https://localhost:8080/",
     "height": 34
    },
    "executionInfo": {
     "elapsed": 2017,
     "status": "ok",
     "timestamp": 1603115948753,
     "user": {
      "displayName": "DIVYANSHU BHAIK",
      "photoUrl": "https://lh3.googleusercontent.com/a-/AOh14Gi1vml2D36-XRNdiec3_IPIhcoGFtn36xsXJyiN=s64",
      "userId": "01508561723939667345"
     },
     "user_tz": -330
    },
    "id": "itmrK-Pd9kEA",
    "outputId": "7f6df0df-f8a2-4eb6-93a4-97cc9d4155f7"
   },
   "outputs": [
    {
     "data": {
      "text/plain": [
       "dtype('uint8')"
      ]
     },
     "execution_count": 48,
     "metadata": {},
     "output_type": "execute_result"
    }
   ],
   "source": [
    "inp.dtype"
   ]
  },
  {
   "cell_type": "code",
   "execution_count": 49,
   "metadata": {
    "executionInfo": {
     "elapsed": 2088,
     "status": "ok",
     "timestamp": 1603115952782,
     "user": {
      "displayName": "DIVYANSHU BHAIK",
      "photoUrl": "https://lh3.googleusercontent.com/a-/AOh14Gi1vml2D36-XRNdiec3_IPIhcoGFtn36xsXJyiN=s64",
      "userId": "01508561723939667345"
     },
     "user_tz": -330
    },
    "id": "K1-6dbeHX5KN"
   },
   "outputs": [],
   "source": [
    "#!pip install tflearn==0.3.2\n",
    "#import tflearn"
   ]
  },
  {
   "cell_type": "code",
   "execution_count": 50,
   "metadata": {
    "colab": {
     "base_uri": "https://localhost:8080/",
     "height": 34
    },
    "executionInfo": {
     "elapsed": 1876,
     "status": "ok",
     "timestamp": 1603115953608,
     "user": {
      "displayName": "DIVYANSHU BHAIK",
      "photoUrl": "https://lh3.googleusercontent.com/a-/AOh14Gi1vml2D36-XRNdiec3_IPIhcoGFtn36xsXJyiN=s64",
      "userId": "01508561723939667345"
     },
     "user_tz": -330
    },
    "id": "u4VDRK6YX8qK",
    "outputId": "082945aa-bdb9-4e46-f04f-42bf4c168438"
   },
   "outputs": [
    {
     "data": {
      "text/plain": [
       "array([0, 0, 0, ..., 1, 1, 1])"
      ]
     },
     "execution_count": 50,
     "metadata": {},
     "output_type": "execute_result"
    }
   ],
   "source": [
    "y_train_new.values.astype(int)"
   ]
  },
  {
   "cell_type": "markdown",
   "metadata": {
    "id": "KJKCoyavtMGT"
   },
   "source": [
    "Training"
   ]
  },
  {
   "cell_type": "code",
   "execution_count": 51,
   "metadata": {
    "colab": {
     "base_uri": "https://localhost:8080/",
     "height": 35
    },
    "executionInfo": {
     "elapsed": 1656,
     "status": "ok",
     "timestamp": 1603115956976,
     "user": {
      "displayName": "DIVYANSHU BHAIK",
      "photoUrl": "https://lh3.googleusercontent.com/a-/AOh14Gi1vml2D36-XRNdiec3_IPIhcoGFtn36xsXJyiN=s64",
      "userId": "01508561723939667345"
     },
     "user_tz": -330
    },
    "id": "RDzOhxO8YWbd",
    "outputId": "028c11bc-c993-40b7-d561-b7c1cee792ef"
   },
   "outputs": [
    {
     "data": {
      "text/plain": [
       "'C:\\\\Users\\\\91876\\\\Downloads\\\\New_Dataset\\\\data\\\\train\\\\image_7.jpg'"
      ]
     },
     "execution_count": 51,
     "metadata": {},
     "output_type": "execute_result"
    }
   ],
   "source": [
    "dirName"
   ]
  },
  {
   "cell_type": "code",
   "execution_count": 52,
   "metadata": {
    "colab": {
     "base_uri": "https://localhost:8080/",
     "height": 151
    },
    "executionInfo": {
     "elapsed": 1686,
     "status": "ok",
     "timestamp": 1603115971028,
     "user": {
      "displayName": "DIVYANSHU BHAIK",
      "photoUrl": "https://lh3.googleusercontent.com/a-/AOh14Gi1vml2D36-XRNdiec3_IPIhcoGFtn36xsXJyiN=s64",
      "userId": "01508561723939667345"
     },
     "user_tz": -330
    },
    "id": "dmaOUQxBWDU8",
    "outputId": "3a496e9e-b7cb-4847-a50c-4fd9c1770674"
   },
   "outputs": [
    {
     "data": {
      "text/plain": [
       "array(['C:\\\\Users\\\\91876\\\\Downloads\\\\New_Dataset\\\\data\\\\train\\\\image_59270.jpg',\n",
       "       'C:\\\\Users\\\\91876\\\\Downloads\\\\New_Dataset\\\\data\\\\train\\\\image_150277.jpg',\n",
       "       'C:\\\\Users\\\\91876\\\\Downloads\\\\New_Dataset\\\\data\\\\train\\\\image_432208.jpg',\n",
       "       ...,\n",
       "       'C:\\\\Users\\\\91876\\\\Downloads\\\\New_Dataset\\\\data\\\\train\\\\image_2352132.jpg',\n",
       "       'C:\\\\Users\\\\91876\\\\Downloads\\\\New_Dataset\\\\data\\\\train\\\\image_2188812.jpg',\n",
       "       'C:\\\\Users\\\\91876\\\\Downloads\\\\New_Dataset\\\\data\\\\train\\\\image_2459476.jpg'],\n",
       "      dtype='<U65')"
      ]
     },
     "execution_count": 52,
     "metadata": {},
     "output_type": "execute_result"
    }
   ],
   "source": [
    "train_filenames =\\\n",
    "X_train_new.index.to_series().apply(lambda x:\\\n",
    "                                    'C:\\\\Users\\\\91876\\\\Downloads\\\\New_Dataset\\\\data\\\\train\\\\image_'+str(x)+'.jpg')\n",
    "train_filenames.values.astype(str)"
   ]
  },
  {
   "cell_type": "code",
   "execution_count": 53,
   "metadata": {
    "colab": {
     "base_uri": "https://localhost:8080/",
     "height": 151
    },
    "executionInfo": {
     "elapsed": 1691,
     "status": "ok",
     "timestamp": 1603115974892,
     "user": {
      "displayName": "DIVYANSHU BHAIK",
      "photoUrl": "https://lh3.googleusercontent.com/a-/AOh14Gi1vml2D36-XRNdiec3_IPIhcoGFtn36xsXJyiN=s64",
      "userId": "01508561723939667345"
     },
     "user_tz": -330
    },
    "id": "tDYKxaONilee",
    "outputId": "5fb077df-20c7-4d50-ba52-8c467c824b2c"
   },
   "outputs": [
    {
     "data": {
      "text/plain": [
       "array(['C:\\\\Users\\\\91876\\\\Downloads\\\\New_Dataset\\\\data\\\\train\\\\image_59270.jpg',\n",
       "       'C:\\\\Users\\\\91876\\\\Downloads\\\\New_Dataset\\\\data\\\\train\\\\image_150277.jpg',\n",
       "       'C:\\\\Users\\\\91876\\\\Downloads\\\\New_Dataset\\\\data\\\\train\\\\image_432208.jpg',\n",
       "       ...,\n",
       "       'C:\\\\Users\\\\91876\\\\Downloads\\\\New_Dataset\\\\data\\\\train\\\\image_2352132.jpg',\n",
       "       'C:\\\\Users\\\\91876\\\\Downloads\\\\New_Dataset\\\\data\\\\train\\\\image_2188812.jpg',\n",
       "       'C:\\\\Users\\\\91876\\\\Downloads\\\\New_Dataset\\\\data\\\\train\\\\image_2459476.jpg'],\n",
       "      dtype='<U65')"
      ]
     },
     "execution_count": 53,
     "metadata": {},
     "output_type": "execute_result"
    }
   ],
   "source": [
    "train_filenames.values.astype(str)"
   ]
  },
  {
   "cell_type": "code",
   "execution_count": 54,
   "metadata": {
    "cellView": "code",
    "executionInfo": {
     "elapsed": 1876,
     "status": "ok",
     "timestamp": 1603115977765,
     "user": {
      "displayName": "DIVYANSHU BHAIK",
      "photoUrl": "https://lh3.googleusercontent.com/a-/AOh14Gi1vml2D36-XRNdiec3_IPIhcoGFtn36xsXJyiN=s64",
      "userId": "01508561723939667345"
     },
     "user_tz": -330
    },
    "id": "trYUOgm8WEsT"
   },
   "outputs": [],
   "source": [
    "#@title Default title text\n",
    "dataset_file = 'traindatalabels.txt'\n",
    "filenames = train_filenames.values.astype(str)\n",
    "train_filenames =X_train_new.index.to_series().apply(lambda x:filenames)\n",
    "labels = y_train_new.values.astype(int)\n",
    "traindata = np.zeros(filenames.size,\\\n",
    "                     dtype=[('var1', 'S36'), ('var2', int)])\n",
    "traindata['var1'] = filenames\n",
    "traindata['var2'] = labels\n",
    "\n",
    "np.savetxt(dataset_file, traindata, fmt=\"%10s %d\")"
   ]
  },
  {
   "cell_type": "code",
   "execution_count": 55,
   "metadata": {
    "colab": {
     "base_uri": "https://localhost:8080/",
     "height": 134
    },
    "executionInfo": {
     "elapsed": 1513,
     "status": "ok",
     "timestamp": 1603115980346,
     "user": {
      "displayName": "DIVYANSHU BHAIK",
      "photoUrl": "https://lh3.googleusercontent.com/a-/AOh14Gi1vml2D36-XRNdiec3_IPIhcoGFtn36xsXJyiN=s64",
      "userId": "01508561723939667345"
     },
     "user_tz": -330
    },
    "id": "YltbIGH1ycMe",
    "outputId": "da3110b3-d099-4994-889b-22420bf2d8cf"
   },
   "outputs": [
    {
     "data": {
      "text/plain": [
       "array([(b'C:\\\\Users\\\\91876\\\\Downloads\\\\New_Dataset', 0),\n",
       "       (b'C:\\\\Users\\\\91876\\\\Downloads\\\\New_Dataset', 0),\n",
       "       (b'C:\\\\Users\\\\91876\\\\Downloads\\\\New_Dataset', 0), ...,\n",
       "       (b'C:\\\\Users\\\\91876\\\\Downloads\\\\New_Dataset', 1),\n",
       "       (b'C:\\\\Users\\\\91876\\\\Downloads\\\\New_Dataset', 1),\n",
       "       (b'C:\\\\Users\\\\91876\\\\Downloads\\\\New_Dataset', 1)],\n",
       "      dtype=[('var1', 'S36'), ('var2', '<i4')])"
      ]
     },
     "execution_count": 55,
     "metadata": {},
     "output_type": "execute_result"
    }
   ],
   "source": [
    "traindata"
   ]
  },
  {
   "cell_type": "code",
   "execution_count": 56,
   "metadata": {
    "executionInfo": {
     "elapsed": 2071,
     "status": "ok",
     "timestamp": 1603115983500,
     "user": {
      "displayName": "DIVYANSHU BHAIK",
      "photoUrl": "https://lh3.googleusercontent.com/a-/AOh14Gi1vml2D36-XRNdiec3_IPIhcoGFtn36xsXJyiN=s64",
      "userId": "01508561723939667345"
     },
     "user_tz": -330
    },
    "id": "oROsag4Kn8PE"
   },
   "outputs": [],
   "source": [
    "#import tflearn"
   ]
  },
  {
   "cell_type": "code",
   "execution_count": 57,
   "metadata": {
    "executionInfo": {
     "elapsed": 1721,
     "status": "ok",
     "timestamp": 1603115986355,
     "user": {
      "displayName": "DIVYANSHU BHAIK",
      "photoUrl": "https://lh3.googleusercontent.com/a-/AOh14Gi1vml2D36-XRNdiec3_IPIhcoGFtn36xsXJyiN=s64",
      "userId": "01508561723939667345"
     },
     "user_tz": -330
    },
    "id": "WkKFOp_5WHdq"
   },
   "outputs": [],
   "source": [
    "# Build a HDF5 dataset (only required once)\n",
    "#from tflearn.data_utils import build_hdf5_image_dataset\n",
    "#build_hdf5_image_dataset(dataset_file, image_shape=(50, 50), mode='file', output_path='traindataset.h5', categorical_labels=True, normalize=True)"
   ]
  },
  {
   "cell_type": "code",
   "execution_count": 58,
   "metadata": {
    "executionInfo": {
     "elapsed": 2947,
     "status": "ok",
     "timestamp": 1603115990177,
     "user": {
      "displayName": "DIVYANSHU BHAIK",
      "photoUrl": "https://lh3.googleusercontent.com/a-/AOh14Gi1vml2D36-XRNdiec3_IPIhcoGFtn36xsXJyiN=s64",
      "userId": "01508561723939667345"
     },
     "user_tz": -330
    },
    "id": "UhteYbaEcyb0"
   },
   "outputs": [],
   "source": [
    "# Load HDF5 dataset\n",
    "import h5py\n",
    "h5f = h5py.File('C:\\\\Users\\\\91876\\Downloads\\\\New_Dataset\\\\data\\\\traindataset.h5', 'r')\n",
    "X_train_images = h5f['X']\n",
    "Y_train_labels = h5f['Y']\n",
    "\n",
    "h5f2 = h5py.File('C:\\\\Users\\\\91876\\Downloads\\\\New_Dataset\\\\data\\\\valdataset.h5', 'r')\n",
    "X_val_images = h5f2['X']\n",
    "Y_val_labels = h5f2['Y']"
   ]
  },
  {
   "cell_type": "code",
   "execution_count": 59,
   "metadata": {
    "colab": {
     "base_uri": "https://localhost:8080/",
     "height": 34
    },
    "executionInfo": {
     "elapsed": 2799,
     "status": "ok",
     "timestamp": 1603115990952,
     "user": {
      "displayName": "DIVYANSHU BHAIK",
      "photoUrl": "https://lh3.googleusercontent.com/a-/AOh14Gi1vml2D36-XRNdiec3_IPIhcoGFtn36xsXJyiN=s64",
      "userId": "01508561723939667345"
     },
     "user_tz": -330
    },
    "id": "hhZ9hy_SzF13",
    "outputId": "5433c2be-9b53-4d65-d756-ccd5e1c2aa71"
   },
   "outputs": [
    {
     "data": {
      "text/plain": [
       "<HDF5 dataset \"X\": shape (5187, 50, 50), type \"<f4\">"
      ]
     },
     "execution_count": 59,
     "metadata": {},
     "output_type": "execute_result"
    }
   ],
   "source": [
    "X_train_images"
   ]
  },
  {
   "cell_type": "code",
   "execution_count": 60,
   "metadata": {
    "colab": {
     "base_uri": "https://localhost:8080/",
     "height": 34
    },
    "executionInfo": {
     "elapsed": 2506,
     "status": "ok",
     "timestamp": 1603115994308,
     "user": {
      "displayName": "DIVYANSHU BHAIK",
      "photoUrl": "https://lh3.googleusercontent.com/a-/AOh14Gi1vml2D36-XRNdiec3_IPIhcoGFtn36xsXJyiN=s64",
      "userId": "01508561723939667345"
     },
     "user_tz": -330
    },
    "id": "tQN98hNczK__",
    "outputId": "02aedfce-8ef8-4d48-93ed-c7602cfea61a"
   },
   "outputs": [
    {
     "data": {
      "text/plain": [
       "<HDF5 dataset \"Y\": shape (5187, 2), type \"<f4\">"
      ]
     },
     "execution_count": 60,
     "metadata": {},
     "output_type": "execute_result"
    }
   ],
   "source": [
    "Y_train_labels"
   ]
  },
  {
   "cell_type": "markdown",
   "metadata": {
    "id": "g12MYSUn8qN2"
   },
   "source": [
    "Testing_image_processing"
   ]
  },
  {
   "cell_type": "code",
   "execution_count": 61,
   "metadata": {
    "executionInfo": {
     "elapsed": 1219,
     "status": "ok",
     "timestamp": 1603116001297,
     "user": {
      "displayName": "DIVYANSHU BHAIK",
      "photoUrl": "https://lh3.googleusercontent.com/a-/AOh14Gi1vml2D36-XRNdiec3_IPIhcoGFtn36xsXJyiN=s64",
      "userId": "01508561723939667345"
     },
     "user_tz": -330
    },
    "id": "tXU1Hceb5DX7"
   },
   "outputs": [],
   "source": [
    "X_train_processing = np.array(X_train_images)\n",
    "X_val_processing = np.array(X_val_images)"
   ]
  },
  {
   "cell_type": "code",
   "execution_count": 62,
   "metadata": {
    "colab": {
     "base_uri": "https://localhost:8080/",
     "height": 50
    },
    "executionInfo": {
     "elapsed": 1026,
     "status": "ok",
     "timestamp": 1603116003224,
     "user": {
      "displayName": "DIVYANSHU BHAIK",
      "photoUrl": "https://lh3.googleusercontent.com/a-/AOh14Gi1vml2D36-XRNdiec3_IPIhcoGFtn36xsXJyiN=s64",
      "userId": "01508561723939667345"
     },
     "user_tz": -330
    },
    "id": "oepsu2Lh5Pv1",
    "outputId": "482120d9-59a5-4f79-ead4-bb18fb138315"
   },
   "outputs": [
    {
     "name": "stdout",
     "output_type": "stream",
     "text": [
      "(5187, 50, 50)\n",
      "(1297, 50, 50)\n"
     ]
    }
   ],
   "source": [
    "print(X_train_processing.shape)\n",
    "print(X_val_processing.shape)"
   ]
  },
  {
   "cell_type": "code",
   "execution_count": 63,
   "metadata": {
    "colab": {
     "base_uri": "https://localhost:8080/",
     "height": 50
    },
    "executionInfo": {
     "elapsed": 1326,
     "status": "ok",
     "timestamp": 1603116005880,
     "user": {
      "displayName": "DIVYANSHU BHAIK",
      "photoUrl": "https://lh3.googleusercontent.com/a-/AOh14Gi1vml2D36-XRNdiec3_IPIhcoGFtn36xsXJyiN=s64",
      "userId": "01508561723939667345"
     },
     "user_tz": -330
    },
    "id": "xvLu-z0S5POp",
    "outputId": "b5966f6b-499c-4a02-c24a-013ee40e7b50"
   },
   "outputs": [
    {
     "name": "stdout",
     "output_type": "stream",
     "text": [
      "float32\n",
      "float32\n"
     ]
    }
   ],
   "source": [
    "print(X_train_processing.dtype)\n",
    "print(X_val_processing.dtype)"
   ]
  },
  {
   "cell_type": "code",
   "execution_count": 64,
   "metadata": {
    "executionInfo": {
     "elapsed": 1272,
     "status": "ok",
     "timestamp": 1603116008079,
     "user": {
      "displayName": "DIVYANSHU BHAIK",
      "photoUrl": "https://lh3.googleusercontent.com/a-/AOh14Gi1vml2D36-XRNdiec3_IPIhcoGFtn36xsXJyiN=s64",
      "userId": "01508561723939667345"
     },
     "user_tz": -330
    },
    "id": "wHiic6xM6RKG"
   },
   "outputs": [],
   "source": [
    "img_test = X_train_processing[1000]\n",
    "img_test_downsampled = PreProcessing(img_test).downsample_data()\n",
    "img_test_upsampled = PreProcessing(img_test).upsample_data()"
   ]
  },
  {
   "cell_type": "code",
   "execution_count": 65,
   "metadata": {
    "colab": {
     "base_uri": "https://localhost:8080/",
     "height": 34
    },
    "executionInfo": {
     "elapsed": 1205,
     "status": "ok",
     "timestamp": 1603116010368,
     "user": {
      "displayName": "DIVYANSHU BHAIK",
      "photoUrl": "https://lh3.googleusercontent.com/a-/AOh14Gi1vml2D36-XRNdiec3_IPIhcoGFtn36xsXJyiN=s64",
      "userId": "01508561723939667345"
     },
     "user_tz": -330
    },
    "id": "S7-bKCkeuijV",
    "outputId": "c7f60a33-748d-467c-9a0e-839d8a96761f"
   },
   "outputs": [
    {
     "name": "stdout",
     "output_type": "stream",
     "text": [
      "[1. 0.]\n"
     ]
    }
   ],
   "source": [
    "print(Y_train_labels[1000])"
   ]
  },
  {
   "cell_type": "code",
   "execution_count": 66,
   "metadata": {
    "colab": {
     "base_uri": "https://localhost:8080/",
     "height": 220
    },
    "executionInfo": {
     "elapsed": 1375,
     "status": "ok",
     "timestamp": 1603116016143,
     "user": {
      "displayName": "DIVYANSHU BHAIK",
      "photoUrl": "https://lh3.googleusercontent.com/a-/AOh14Gi1vml2D36-XRNdiec3_IPIhcoGFtn36xsXJyiN=s64",
      "userId": "01508561723939667345"
     },
     "user_tz": -330
    },
    "id": "npm_nTN97zw4",
    "outputId": "a50dbeaa-9453-4157-9d23-3209caa53e00"
   },
   "outputs": [
    {
     "data": {
      "text/plain": [
       "<matplotlib.image.AxesImage at 0x17c3e92ec10>"
      ]
     },
     "execution_count": 66,
     "metadata": {},
     "output_type": "execute_result"
    },
    {
     "data": {
      "image/png": "[encoded data removed]",
      "text/plain": [
       "<Figure size 432x288 with 2 Axes>"
      ]
     },
     "metadata": {
      "needs_background": "light"
     },
     "output_type": "display_data"
    }
   ],
   "source": [
    "plt.subplot(121)\n",
    "plt.imshow(img_test,cmap='gray')\n",
    "plt.subplot(122)\n",
    "plt.imshow(img_test_downsampled,cmap='gray')"
   ]
  },
  {
   "cell_type": "code",
   "execution_count": 67,
   "metadata": {
    "colab": {
     "base_uri": "https://localhost:8080/",
     "height": 221
    },
    "executionInfo": {
     "elapsed": 1715,
     "status": "ok",
     "timestamp": 1603116199046,
     "user": {
      "displayName": "DIVYANSHU BHAIK",
      "photoUrl": "https://lh3.googleusercontent.com/a-/AOh14Gi1vml2D36-XRNdiec3_IPIhcoGFtn36xsXJyiN=s64",
      "userId": "01508561723939667345"
     },
     "user_tz": -330
    },
    "id": "-HH5au8b6RHT",
    "outputId": "ed2a06eb-f271-46f4-923c-256687efad8f"
   },
   "outputs": [
    {
     "data": {
      "text/plain": [
       "<matplotlib.image.AxesImage at 0x17c3e852ac0>"
      ]
     },
     "execution_count": 67,
     "metadata": {},
     "output_type": "execute_result"
    },
    {
     "data": {
      "image/png": "[encoded data removed]",
      "text/plain": [
       "<Figure size 432x288 with 2 Axes>"
      ]
     },
     "metadata": {
      "needs_background": "light"
     },
     "output_type": "display_data"
    }
   ],
   "source": [
    "plt.subplot(121)\n",
    "plt.imshow(img_test,cmap='gray')\n",
    "plt.subplot(122)\n",
    "plt.imshow(img_test_upsampled,cmap='gray')"
   ]
  },
  {
   "cell_type": "code",
   "execution_count": 68,
   "metadata": {
    "colab": {
     "base_uri": "https://localhost:8080/",
     "height": 221
    },
    "executionInfo": {
     "elapsed": 2271,
     "status": "ok",
     "timestamp": 1603116200928,
     "user": {
      "displayName": "DIVYANSHU BHAIK",
      "photoUrl": "https://lh3.googleusercontent.com/a-/AOh14Gi1vml2D36-XRNdiec3_IPIhcoGFtn36xsXJyiN=s64",
      "userId": "01508561723939667345"
     },
     "user_tz": -330
    },
    "id": "ickGDx2q6B4W",
    "outputId": "66fbe252-6ea8-416f-e99f-2e9442db8693"
   },
   "outputs": [
    {
     "data": {
      "text/plain": [
       "<matplotlib.image.AxesImage at 0x17c3e97b850>"
      ]
     },
     "execution_count": 68,
     "metadata": {},
     "output_type": "execute_result"
    },
    {
     "data": {
      "image/png": "[encoded data removed]",
      "text/plain": [
       "<Figure size 432x288 with 2 Axes>"
      ]
     },
     "metadata": {
      "needs_background": "light"
     },
     "output_type": "display_data"
    }
   ],
   "source": [
    "img_test_subtracted_mean = PreProcessing(img_test_upsampled).subtract_mean()\n",
    "plt.subplot(121)\n",
    "plt.imshow(img_test_upsampled,cmap='gray')\n",
    "plt.subplot(122)\n",
    "plt.imshow(img_test_subtracted_mean,cmap='gray')"
   ]
  },
  {
   "cell_type": "markdown",
   "metadata": {
    "id": "bEfzN3gA994w"
   },
   "source": [
    "testing cv2 BRISK algorithm"
   ]
  },
  {
   "cell_type": "markdown",
   "metadata": {
    "id": "M6cGpWBX_QZR"
   },
   "source": [
    "need some work and research"
   ]
  },
  {
   "cell_type": "code",
   "execution_count": 69,
   "metadata": {
    "colab": {
     "base_uri": "https://localhost:8080/",
     "height": 302
    },
    "executionInfo": {
     "elapsed": 2922,
     "status": "ok",
     "timestamp": 1603119895157,
     "user": {
      "displayName": "DIVYANSHU BHAIK",
      "photoUrl": "https://lh3.googleusercontent.com/a-/AOh14Gi1vml2D36-XRNdiec3_IPIhcoGFtn36xsXJyiN=s64",
      "userId": "01508561723939667345"
     },
     "user_tz": -330
    },
    "id": "WLyVQjfN98pS",
    "outputId": "dafc89dd-6696-411f-ec08-bce102792c37"
   },
   "outputs": [
    {
     "data": {
      "text/plain": [
       "<matplotlib.image.AxesImage at 0x17c44760370>"
      ]
     },
     "execution_count": 69,
     "metadata": {},
     "output_type": "execute_result"
    },
    {
     "data": {
      "image/png": "[encoded data removed]",
      "text/plain": [
       "<Figure size 432x288 with 4 Axes>"
      ]
     },
     "metadata": {
      "needs_background": "light"
     },
     "output_type": "display_data"
    }
   ],
   "source": [
    "import cv2\n",
    "brisk = cv2.BRISK_create(50)\n",
    "img_BRISK_1 = img_test_upsampled.copy()\n",
    "rgb = cv2.cvtColor(img_BRISK_1, cv2.COLOR_GRAY2RGB)\n",
    "img_BRISK_2 = rgb*1000\n",
    "img_BRISK_3 = np.array(img_BRISK_2, dtype=np.uint8)\n",
    "img_contr_copy = img_BRISK_3.copy()\n",
    "\n",
    "plt.subplot(221)\n",
    "plt.imshow(img_BRISK_3, cmap='gray')\n",
    "kpts_1, des_1 = brisk.detectAndCompute(img_BRISK_3, None)\n",
    "\n",
    "image_BRISK_1 = cv2.drawKeypoints(image=img_BRISK_3, outImage=img_BRISK_3, keypoints=kpts_1, flags=cv2.DRAW_MATCHES_FLAGS_DRAW_RICH_KEYPOINTS)\n",
    "plt.subplot(222)\n",
    "plt.imshow(image_BRISK_1, cmap='gray')\n",
    "\n",
    "\n",
    "# with enhanced contrast\n",
    "\n",
    "inp_contr = ImageEnhance.Contrast(Image.fromarray(img_contr_copy))\n",
    "contrast = 1.5\n",
    "img_contr = inp_contr.enhance(contrast)\n",
    "plt.subplot(223)\n",
    "plt.imshow(img_contr, cmap='gray')\n",
    "img_BRISK_4 = np.array(img_contr)\n",
    "kpts_2, des_2 = brisk.detectAndCompute(img_BRISK_4, None)\n",
    "\n",
    "image_BRISK_2 = cv2.drawKeypoints(image=img_BRISK_4, outImage=img_BRISK_4, keypoints=kpts_2, flags=cv2.DRAW_MATCHES_FLAGS_DRAW_RICH_KEYPOINTS)\n",
    "plt.subplot(224)\n",
    "plt.imshow(image_BRISK_2, cmap='gray')"
   ]
  },
  {
   "cell_type": "markdown",
   "metadata": {
    "id": "FB2UWMmh6nzP"
   },
   "source": [
    "test both with other CV2 algorithms and then implement all those algorithms with DL model self defined."
   ]
  },
  {
   "cell_type": "markdown",
   "metadata": {
    "id": "v4RyjtpF8ugu"
   },
   "source": [
    "Converting to training dataset"
   ]
  },
  {
   "cell_type": "code",
   "execution_count": 70,
   "metadata": {
    "executionInfo": {
     "elapsed": 1588,
     "status": "ok",
     "timestamp": 1602743373018,
     "user": {
      "displayName": "DIVYANSHU BHAIK",
      "photoUrl": "https://lh3.googleusercontent.com/a-/AOh14Gi1vml2D36-XRNdiec3_IPIhcoGFtn36xsXJyiN=s64",
      "userId": "01508561723939667345"
     },
     "user_tz": -330
    },
    "id": "8QSDTBsW08f7"
   },
   "outputs": [],
   "source": [
    "X_train_images_np = np.expand_dims(np.array(X_train_images), axis = 3)\n",
    "y_train_labels_np = np.array(Y_train_labels)\n",
    "X_val_images_np = np.expand_dims(np.array(X_val_images), axis = 3)\n",
    "y_val_labels_np = np.array(Y_val_labels)"
   ]
  },
  {
   "cell_type": "code",
   "execution_count": 71,
   "metadata": {
    "colab": {
     "base_uri": "https://localhost:8080/",
     "height": 84
    },
    "executionInfo": {
     "elapsed": 2591,
     "status": "ok",
     "timestamp": 1602743376543,
     "user": {
      "displayName": "DIVYANSHU BHAIK",
      "photoUrl": "https://lh3.googleusercontent.com/a-/AOh14Gi1vml2D36-XRNdiec3_IPIhcoGFtn36xsXJyiN=s64",
      "userId": "01508561723939667345"
     },
     "user_tz": -330
    },
    "id": "GU-6Li9w1GNm",
    "outputId": "0a5354a5-230b-427e-e8ed-5b7f80b9e7bc"
   },
   "outputs": [
    {
     "name": "stdout",
     "output_type": "stream",
     "text": [
      "(5187, 50, 50, 1)\n",
      "(5187, 2)\n",
      "(1297, 50, 50, 1)\n",
      "(1297, 2)\n"
     ]
    }
   ],
   "source": [
    "print(X_train_images_np.shape)\n",
    "print(y_train_labels_np.shape)\n",
    "print(X_val_images_np.shape)\n",
    "print(y_val_labels_np.shape)"
   ]
  },
  {
   "cell_type": "code",
   "execution_count": 72,
   "metadata": {
    "colab": {
     "base_uri": "https://localhost:8080/",
     "height": 84
    },
    "executionInfo": {
     "elapsed": 1054,
     "status": "ok",
     "timestamp": 1602743378454,
     "user": {
      "displayName": "DIVYANSHU BHAIK",
      "photoUrl": "https://lh3.googleusercontent.com/a-/AOh14Gi1vml2D36-XRNdiec3_IPIhcoGFtn36xsXJyiN=s64",
      "userId": "01508561723939667345"
     },
     "user_tz": -330
    },
    "id": "rF3FNjDK4Qsd",
    "outputId": "77df7948-1f25-4f98-a77e-342e2e11555d"
   },
   "outputs": [
    {
     "name": "stdout",
     "output_type": "stream",
     "text": [
      "float32\n",
      "float32\n",
      "float32\n",
      "float32\n"
     ]
    }
   ],
   "source": [
    "print(X_train_images_np.dtype)\n",
    "print(y_train_labels_np.dtype)\n",
    "print(X_val_images_np.dtype)\n",
    "print(y_val_labels_np.dtype)"
   ]
  },
  {
   "cell_type": "markdown",
   "metadata": {
    "id": "PupRq7Y67i0X"
   },
   "source": [
    "processing for test dataset"
   ]
  },
  {
   "cell_type": "code",
   "execution_count": 73,
   "metadata": {
    "executionInfo": {
     "elapsed": 2329,
     "status": "ok",
     "timestamp": 1602743393745,
     "user": {
      "displayName": "DIVYANSHU BHAIK",
      "photoUrl": "https://lh3.googleusercontent.com/a-/AOh14Gi1vml2D36-XRNdiec3_IPIhcoGFtn36xsXJyiN=s64",
      "userId": "01508561723939667345"
     },
     "user_tz": -330
    },
    "id": "p7PPI0q27npv"
   },
   "outputs": [],
   "source": [
    "h5f2 = h5py.File('C:\\\\Users\\\\91876\\Downloads\\\\New_Dataset\\\\data\\\\testdataset.h5', 'r')\n",
    "X_test_images = h5f2['X']\n",
    "Y_test_labels = h5f2['Y']"
   ]
  },
  {
   "cell_type": "code",
   "execution_count": 74,
   "metadata": {
    "executionInfo": {
     "elapsed": 2748,
     "status": "ok",
     "timestamp": 1602743394580,
     "user": {
      "displayName": "DIVYANSHU BHAIK",
      "photoUrl": "https://lh3.googleusercontent.com/a-/AOh14Gi1vml2D36-XRNdiec3_IPIhcoGFtn36xsXJyiN=s64",
      "userId": "01508561723939667345"
     },
     "user_tz": -330
    },
    "id": "TuFFgBEj7nvp"
   },
   "outputs": [],
   "source": [
    "X_test_images_np = np.expand_dims(np.array(X_test_images), axis = 3)\n",
    "y_test_labels_np = np.array(Y_test_labels)"
   ]
  },
  {
   "cell_type": "code",
   "execution_count": 75,
   "metadata": {
    "colab": {
     "base_uri": "https://localhost:8080/",
     "height": 50
    },
    "executionInfo": {
     "elapsed": 1953,
     "status": "ok",
     "timestamp": 1602743394581,
     "user": {
      "displayName": "DIVYANSHU BHAIK",
      "photoUrl": "https://lh3.googleusercontent.com/a-/AOh14Gi1vml2D36-XRNdiec3_IPIhcoGFtn36xsXJyiN=s64",
      "userId": "01508561723939667345"
     },
     "user_tz": -330
    },
    "id": "BT_ueskk7nmP",
    "outputId": "cffa2a81-67b7-4fb5-c1e4-71c83eee5ad0"
   },
   "outputs": [
    {
     "name": "stdout",
     "output_type": "stream",
     "text": [
      "(1622, 50, 50, 1)\n",
      "(1622, 2)\n"
     ]
    }
   ],
   "source": [
    "print(X_test_images_np.shape)\n",
    "print(y_test_labels_np.shape)"
   ]
  },
  {
   "cell_type": "code",
   "execution_count": 76,
   "metadata": {
    "colab": {
     "base_uri": "https://localhost:8080/",
     "height": 50
    },
    "executionInfo": {
     "elapsed": 1648,
     "status": "ok",
     "timestamp": 1602743401970,
     "user": {
      "displayName": "DIVYANSHU BHAIK",
      "photoUrl": "https://lh3.googleusercontent.com/a-/AOh14Gi1vml2D36-XRNdiec3_IPIhcoGFtn36xsXJyiN=s64",
      "userId": "01508561723939667345"
     },
     "user_tz": -330
    },
    "id": "NDLWNTmf8Klg",
    "outputId": "d5f6732f-8db4-4773-8623-314927c0aa64"
   },
   "outputs": [
    {
     "name": "stdout",
     "output_type": "stream",
     "text": [
      "float32\n",
      "float32\n"
     ]
    }
   ],
   "source": [
    "print(X_test_images_np.dtype)\n",
    "print(y_test_labels_np.dtype)"
   ]
  },
  {
   "cell_type": "code",
   "execution_count": 78,
   "metadata": {},
   "outputs": [
    {
     "name": "stdout",
     "output_type": "stream",
     "text": [
      "Requirement already satisfied: tensorflow==2.4.1 in c:\\users\\91876\\appdata\\roaming\\python\\python38\\site-packages (2.4.1)\n",
      "Requirement already satisfied: six~=1.15.0 in c:\\users\\91876\\appdata\\roaming\\python\\python38\\site-packages (from tensorflow==2.4.1) (1.15.0)\n",
      "Requirement already satisfied: google-pasta~=0.2 in c:\\users\\91876\\appdata\\roaming\\python\\python38\\site-packages (from tensorflow==2.4.1) (0.2.0)\n",
      "Requirement already satisfied: keras-preprocessing~=1.1.2 in c:\\users\\91876\\appdata\\roaming\\python\\python38\\site-packages (from tensorflow==2.4.1) (1.1.2)\n",
      "Requirement already satisfied: grpcio~=1.32.0 in c:\\users\\91876\\appdata\\roaming\\python\\python38\\site-packages (from tensorflow==2.4.1) (1.32.0)\n",
      "Collecting numpy~=1.19.2\n",
      "  Using cached numpy-1.19.5-cp38-cp38-win_amd64.whl (13.3 MB)\n",
      "Requirement already satisfied: h5py~=2.10.0 in c:\\users\\91876\\appdata\\roaming\\python\\python38\\site-packages (from tensorflow==2.4.1) (2.10.0)\n",
      "Requirement already satisfied: opt-einsum~=3.3.0 in c:\\users\\91876\\appdata\\roaming\\python\\python38\\site-packages (from tensorflow==2.4.1) (3.3.0)\n",
      "Requirement already satisfied: flatbuffers~=1.12.0 in c:\\users\\91876\\appdata\\roaming\\python\\python38\\site-packages (from tensorflow==2.4.1) (1.12)\n",
      "Requirement already satisfied: wrapt~=1.12.1 in c:\\users\\91876\\appdata\\roaming\\python\\python38\\site-packages (from tensorflow==2.4.1) (1.12.1)\n",
      "Requirement already satisfied: astunparse~=1.6.3 in c:\\users\\91876\\appdata\\roaming\\python\\python38\\site-packages (from tensorflow==2.4.1) (1.6.3)\n",
      "Requirement already satisfied: gast==0.3.3 in c:\\users\\91876\\appdata\\roaming\\python\\python38\\site-packages (from tensorflow==2.4.1) (0.3.3)"
     ]
    },
    {
     "name": "stderr",
     "output_type": "stream",
     "text": [
      "WARNING: Ignoring invalid distribution -illow (c:\\users\\91876\\appdata\\roaming\\python\\python38\\site-packages)\n",
      "WARNING: Ignoring invalid distribution -llow (c:\\users\\91876\\anaconda3\\envs\\antonioenv\\lib\\site-packages)\n",
      "WARNING: Ignoring invalid distribution -orchvision (c:\\users\\91876\\anaconda3\\envs\\antonioenv\\lib\\site-packages)\n",
      "WARNING: Ignoring invalid distribution -llow (c:\\users\\91876\\anaconda3\\envs\\antonioenv\\lib\\site-packages)\n",
      "WARNING: Ignoring invalid distribution - (c:\\users\\91876\\anaconda3\\envs\\antonioenv\\lib\\site-packages)\n",
      "WARNING: Ignoring invalid distribution -atplotlib (c:\\users\\91876\\anaconda3\\envs\\antonioenv\\lib\\site-packages)\n",
      "WARNING: Ignoring invalid distribution -illow (c:\\users\\91876\\appdata\\roaming\\python\\python38\\site-packages)\n",
      "WARNING: Ignoring invalid distribution -llow (c:\\users\\91876\\anaconda3\\envs\\antonioenv\\lib\\site-packages)\n",
      "WARNING: Ignoring invalid distribution -orchvision (c:\\users\\91876\\anaconda3\\envs\\antonioenv\\lib\\site-packages)\n",
      "WARNING: Ignoring invalid distribution -llow (c:\\users\\91876\\anaconda3\\envs\\antonioenv\\lib\\site-packages)\n",
      "WARNING: Ignoring invalid distribution - (c:\\users\\91876\\anaconda3\\envs\\antonioenv\\lib\\site-packages)\n",
      "WARNING: Ignoring invalid distribution -atplotlib (c:\\users\\91876\\anaconda3\\envs\\antonioenv\\lib\\site-packages)\n",
      "WARNING: Ignoring invalid distribution -illow (c:\\users\\91876\\appdata\\roaming\\python\\python38\\site-packages)\n",
      "WARNING: Ignoring invalid distribution -llow (c:\\users\\91876\\anaconda3\\envs\\antonioenv\\lib\\site-packages)\n",
      "WARNING: Ignoring invalid distribution -orchvision (c:\\users\\91876\\anaconda3\\envs\\antonioenv\\lib\\site-packages)\n",
      "WARNING: Ignoring invalid distribution -llow (c:\\users\\91876\\anaconda3\\envs\\antonioenv\\lib\\site-packages)\n",
      "WARNING: Ignoring invalid distribution - (c:\\users\\91876\\anaconda3\\envs\\antonioenv\\lib\\site-packages)\n",
      "WARNING: Ignoring invalid distribution -atplotlib (c:\\users\\91876\\anaconda3\\envs\\antonioenv\\lib\\site-packages)\n",
      "    WARNING: Ignoring invalid distribution -illow (c:\\users\\91876\\appdata\\roaming\\python\\python38\\site-packages)\n",
      "    WARNING: Ignoring invalid distribution -llow (c:\\users\\91876\\anaconda3\\envs\\antonioenv\\lib\\site-packages)\n",
      "    WARNING: Ignoring invalid distribution -orchvision (c:\\users\\91876\\anaconda3\\envs\\antonioenv\\lib\\site-packages)\n",
      "    WARNING: Ignoring invalid distribution -llow (c:\\users\\91876\\anaconda3\\envs\\antonioenv\\lib\\site-packages)\n",
      "    WARNING: Ignoring invalid distribution - (c:\\users\\91876\\anaconda3\\envs\\antonioenv\\lib\\site-packages)\n",
      "    WARNING: Ignoring invalid distribution -atplotlib (c:\\users\\91876\\anaconda3\\envs\\antonioenv\\lib\\site-packages)\n",
      "ERROR: Could not install packages due to an OSError: [WinError 5] Access is denied: 'C:\\\\Users\\\\91876\\\\anaconda3\\\\envs\\\\AntonioEnv\\\\Lib\\\\site-packages\\\\numpy\\\\.libs\\\\libopenblas.WCDJNK7YVMPZQ2ME2ZZHJJRJ3JIKNDB7.gfortran-win_amd64.dll'\n",
      "Consider using the `--user` option or check the permissions.\n",
      "\n",
      "WARNING: Ignoring invalid distribution -illow (c:\\users\\91876\\appdata\\roaming\\python\\python38\\site-packages)\n",
      "WARNING: Ignoring invalid distribution -llow (c:\\users\\91876\\anaconda3\\envs\\antonioenv\\lib\\site-packages)\n",
      "WARNING: Ignoring invalid distribution -orchvision (c:\\users\\91876\\anaconda3\\envs\\antonioenv\\lib\\site-packages)\n",
      "WARNING: Ignoring invalid distribution -llow (c:\\users\\91876\\anaconda3\\envs\\antonioenv\\lib\\site-packages)\n",
      "WARNING: Ignoring invalid distribution - (c:\\users\\91876\\anaconda3\\envs\\antonioenv\\lib\\site-packages)\n"
     ]
    },
    {
     "name": "stdout",
     "output_type": "stream",
     "text": [
      "\n",
      "Requirement already satisfied: absl-py~=0.10 in c:\\users\\91876\\appdata\\roaming\\python\\python38\\site-packages (from tensorflow==2.4.1) (0.13.0)\n",
      "Requirement already satisfied: tensorboard~=2.4 in c:\\users\\91876\\appdata\\roaming\\python\\python38\\site-packages (from tensorflow==2.4.1) (2.5.0)\n",
      "Requirement already satisfied: typing-extensions~=3.7.4 in c:\\users\\91876\\appdata\\roaming\\python\\python38\\site-packages (from tensorflow==2.4.1) (3.7.4.3)\n",
      "Requirement already satisfied: wheel~=0.35 in c:\\users\\91876\\appdata\\roaming\\python\\python38\\site-packages (from tensorflow==2.4.1) (0.36.2)\n",
      "Requirement already satisfied: tensorflow-estimator<2.5.0,>=2.4.0 in c:\\users\\91876\\appdata\\roaming\\python\\python38\\site-packages (from tensorflow==2.4.1) (2.4.0)\n",
      "Requirement already satisfied: protobuf>=3.9.2 in c:\\users\\91876\\appdata\\roaming\\python\\python38\\site-packages (from tensorflow==2.4.1) (3.17.3)\n",
      "Requirement already satisfied: termcolor~=1.1.0 in c:\\users\\91876\\appdata\\roaming\\python\\python38\\site-packages (from tensorflow==2.4.1) (1.1.0)\n",
      "Requirement already satisfied: tensorboard-data-server<0.7.0,>=0.6.0 in c:\\users\\91876\\appdata\\roaming\\python\\python38\\site-packages (from tensorboard~=2.4->tensorflow==2.4.1) (0.6.1)\n",
      "Requirement already satisfied: tensorboard-plugin-wit>=1.6.0 in c:\\users\\91876\\appdata\\roaming\\python\\python38\\site-packages (from tensorboard~=2.4->tensorflow==2.4.1) (1.8.0)\n",
      "Requirement already satisfied: werkzeug>=0.11.15 in c:\\users\\91876\\appdata\\roaming\\python\\python38\\site-packages (from tensorboard~=2.4->tensorflow==2.4.1) (2.0.1)\n",
      "Requirement already satisfied: google-auth<2,>=1.6.3 in c:\\users\\91876\\appdata\\roaming\\python\\python38\\site-packages (from tensorboard~=2.4->tensorflow==2.4.1) (1.31.0)\n",
      "Requirement already satisfied: google-auth-oauthlib<0.5,>=0.4.1 in c:\\users\\91876\\appdata\\roaming\\python\\python38\\site-packages (from tensorboard~=2.4->tensorflow==2.4.1) (0.4.4)\n",
      "Requirement already satisfied: setuptools>=41.0.0 in c:\\users\\91876\\anaconda3\\envs\\antonioenv\\lib\\site-packages (from tensorboard~=2.4->tensorflow==2.4.1) (57.0.0)\n",
      "Requirement already satisfied: requests<3,>=2.21.0 in c:\\users\\91876\\appdata\\roaming\\python\\python38\\site-packages (from tensorboard~=2.4->tensorflow==2.4.1) (2.25.1)\n",
      "Requirement already satisfied: markdown>=2.6.8 in c:\\users\\91876\\appdata\\roaming\\python\\python38\\site-packages (from tensorboard~=2.4->tensorflow==2.4.1) (3.3.4)\n",
      "Requirement already satisfied: pyasn1-modules>=0.2.1 in c:\\users\\91876\\appdata\\roaming\\python\\python38\\site-packages (from google-auth<2,>=1.6.3->tensorboard~=2.4->tensorflow==2.4.1) (0.2.8)\n",
      "Requirement already satisfied: rsa<5,>=3.1.4 in c:\\users\\91876\\appdata\\roaming\\python\\python38\\site-packages (from google-auth<2,>=1.6.3->tensorboard~=2.4->tensorflow==2.4.1) (4.7.2)\n",
      "Requirement already satisfied: cachetools<5.0,>=2.0.0 in c:\\users\\91876\\appdata\\roaming\\python\\python38\\site-packages (from google-auth<2,>=1.6.3->tensorboard~=2.4->tensorflow==2.4.1) (4.2.2)\n",
      "Requirement already satisfied: requests-oauthlib>=0.7.0 in c:\\users\\91876\\appdata\\roaming\\python\\python38\\site-packages (from google-auth-oauthlib<0.5,>=0.4.1->tensorboard~=2.4->tensorflow==2.4.1) (1.3.0)\n",
      "Requirement already satisfied: pyasn1<0.5.0,>=0.4.6 in c:\\users\\91876\\appdata\\roaming\\python\\python38\\site-packages (from pyasn1-modules>=0.2.1->google-auth<2,>=1.6.3->tensorboard~=2.4->tensorflow==2.4.1) (0.4.8)\n",
      "Requirement already satisfied: chardet<5,>=3.0.2 in c:\\users\\91876\\appdata\\roaming\\python\\python38\\site-packages (from requests<3,>=2.21.0->tensorboard~=2.4->tensorflow==2.4.1) (4.0.0)\n",
      "Requirement already satisfied: certifi>=2017.4.17 in c:\\users\\91876\\appdata\\roaming\\python\\python38\\site-packages (from requests<3,>=2.21.0->tensorboard~=2.4->tensorflow==2.4.1) (2021.5.30)\n",
      "Requirement already satisfied: urllib3<1.27,>=1.21.1 in c:\\users\\91876\\appdata\\roaming\\python\\python38\\site-packages (from requests<3,>=2.21.0->tensorboard~=2.4->tensorflow==2.4.1) (1.26.5)\n",
      "Requirement already satisfied: idna<3,>=2.5 in c:\\users\\91876\\appdata\\roaming\\python\\python38\\site-packages (from requests<3,>=2.21.0->tensorboard~=2.4->tensorflow==2.4.1) (2.10)\n",
      "Requirement already satisfied: oauthlib>=3.0.0 in c:\\users\\91876\\appdata\\roaming\\python\\python38\\site-packages (from requests-oauthlib>=0.7.0->google-auth-oauthlib<0.5,>=0.4.1->tensorboard~=2.4->tensorflow==2.4.1) (3.1.1)\n",
      "Installing collected packages: numpy\n",
      "  Attempting uninstall: numpy\n",
      "    Found existing installation: numpy 1.20.2\n",
      "    Uninstalling numpy-1.20.2:\n",
      "      Successfully uninstalled numpy-1.20.2\n",
      "  Rolling back uninstall of numpy\n",
      "  Moving to c:\\users\\91876\\anaconda3\\envs\\antonioenv\\lib\\site-packages\\numpy-1.20.2.dist-info\\\n",
      "   from C:\\Users\\91876\\anaconda3\\envs\\AntonioEnv\\Lib\\site-packages\\~umpy-1.20.2.dist-info\n",
      "  Moving to c:\\users\\91876\\anaconda3\\envs\\antonioenv\\lib\\site-packages\\numpy\\.libs\\libopenblas.gk7gx5keq4f6uyo3p26ulgbqyhgqo7j4.gfortran-win_amd64.dll\n",
      "   from C:\\Users\\91876\\AppData\\Local\\Temp\\pip-uninstall-_hmsrq0y\\libopenblas.gk7gx5keq4f6uyo3p26ulgbqyhgqo7j4.gfortran-win_amd64.dll\n",
      "  Moving to c:\\users\\91876\\anaconda3\\envs\\antonioenv\\lib\\site-packages\\numpy\\__config__.py\n",
      "   from C:\\Users\\91876\\AppData\\Local\\Temp\\pip-uninstall-8yfx6584\\__config__.py\n",
      "  Moving to c:\\users\\91876\\anaconda3\\envs\\antonioenv\\lib\\site-packages\\numpy\\__init__.cython-30.pxd\n",
      "   from C:\\Users\\91876\\AppData\\Local\\Temp\\pip-uninstall-8yfx6584\\__init__.cython-30.pxd\n",
      "  Moving to c:\\users\\91876\\anaconda3\\envs\\antonioenv\\lib\\site-packages\\numpy\\__init__.pxd\n",
      "   from C:\\Users\\91876\\AppData\\Local\\Temp\\pip-uninstall-8yfx6584\\__init__.pxd\n",
      "  Moving to c:\\users\\91876\\anaconda3\\envs\\antonioenv\\lib\\site-packages\\numpy\\__init__.py\n",
      "   from C:\\Users\\91876\\AppData\\Local\\Temp\\pip-uninstall-8yfx6584\\__init__.py\n",
      "  Moving to c:\\users\\91876\\anaconda3\\envs\\antonioenv\\lib\\site-packages\\numpy\\__init__.pyi\n",
      "   from C:\\Users\\91876\\AppData\\Local\\Temp\\pip-uninstall-8yfx6584\\__init__.pyi\n",
      "  Moving to c:\\users\\91876\\anaconda3\\envs\\antonioenv\\lib\\site-packages\\numpy\\__pycache__\\\n",
      "   from C:\\Users\\91876\\anaconda3\\envs\\AntonioEnv\\Lib\\site-packages\\numpy\\~=pycache__\n",
      "  Moving to c:\\users\\91876\\anaconda3\\envs\\antonioenv\\lib\\site-packages\\numpy\\_distributor_init.py\n",
      "   from C:\\Users\\91876\\AppData\\Local\\Temp\\pip-uninstall-8yfx6584\\_distributor_init.py\n",
      "  Moving to c:\\users\\91876\\anaconda3\\envs\\antonioenv\\lib\\site-packages\\numpy\\_globals.py\n",
      "   from C:\\Users\\91876\\AppData\\Local\\Temp\\pip-uninstall-8yfx6584\\_globals.py\n",
      "  Moving to c:\\users\\91876\\anaconda3\\envs\\antonioenv\\lib\\site-packages\\numpy\\_pytesttester.py\n",
      "   from C:\\Users\\91876\\AppData\\Local\\Temp\\pip-uninstall-8yfx6584\\_pytesttester.py\n",
      "  Moving to c:\\users\\91876\\anaconda3\\envs\\antonioenv\\lib\\site-packages\\numpy\\char.pyi\n",
      "   from C:\\Users\\91876\\AppData\\Local\\Temp\\pip-uninstall-8yfx6584\\char.pyi\n",
      "  Moving to c:\\users\\91876\\anaconda3\\envs\\antonioenv\\lib\\site-packages\\numpy\\compat\\\n",
      "   from C:\\Users\\91876\\anaconda3\\envs\\AntonioEnv\\Lib\\site-packages\\numpy\\~=mpat\n",
      "  Moving to c:\\users\\91876\\anaconda3\\envs\\antonioenv\\lib\\site-packages\\numpy\\conftest.py\n",
      "   from C:\\Users\\91876\\AppData\\Local\\Temp\\pip-uninstall-8yfx6584\\conftest.py\n",
      "  Moving to c:\\users\\91876\\anaconda3\\envs\\antonioenv\\lib\\site-packages\\numpy\\core\\__init__.py\n",
      "   from C:\\Users\\91876\\AppData\\Local\\Temp\\pip-uninstall-8yfx6584\\core\\__init__.py\n",
      "  Moving to c:\\users\\91876\\anaconda3\\envs\\antonioenv\\lib\\site-packages\\numpy\\core\\__init__.pyi\n",
      "   from C:\\Users\\91876\\AppData\\Local\\Temp\\pip-uninstall-8yfx6584\\core\\__init__.pyi\n",
      "  Moving to c:\\users\\91876\\anaconda3\\envs\\antonioenv\\lib\\site-packages\\numpy\\core\\__pycache__\\\n",
      "   from C:\\Users\\91876\\anaconda3\\envs\\AntonioEnv\\Lib\\site-packages\\numpy\\core\\~=pycache__\n",
      "  Moving to c:\\users\\91876\\anaconda3\\envs\\antonioenv\\lib\\site-packages\\numpy\\core\\_add_newdocs.py\n",
      "   from C:\\Users\\91876\\AppData\\Local\\Temp\\pip-uninstall-8yfx6584\\core\\_add_newdocs.py\n",
      "  Moving to c:\\users\\91876\\anaconda3\\envs\\antonioenv\\lib\\site-packages\\numpy\\core\\_add_newdocs_scalars.py\n",
      "   from C:\\Users\\91876\\AppData\\Local\\Temp\\pip-uninstall-8yfx6584\\core\\_add_newdocs_scalars.py\n",
      "  Moving to c:\\users\\91876\\anaconda3\\envs\\antonioenv\\lib\\site-packages\\numpy\\core\\_asarray.py\n",
      "   from C:\\Users\\91876\\AppData\\Local\\Temp\\pip-uninstall-8yfx6584\\core\\_asarray.py\n",
      "  Moving to c:\\users\\91876\\anaconda3\\envs\\antonioenv\\lib\\site-packages\\numpy\\core\\_asarray.pyi\n",
      "   from C:\\Users\\91876\\AppData\\Local\\Temp\\pip-uninstall-8yfx6584\\core\\_asarray.pyi\n",
      "  Moving to c:\\users\\91876\\anaconda3\\envs\\antonioenv\\lib\\site-packages\\numpy\\core\\_dtype.py\n",
      "   from C:\\Users\\91876\\AppData\\Local\\Temp\\pip-uninstall-8yfx6584\\core\\_dtype.py\n",
      "  Moving to c:\\users\\91876\\anaconda3\\envs\\antonioenv\\lib\\site-packages\\numpy\\core\\_dtype_ctypes.py\n",
      "   from C:\\Users\\91876\\AppData\\Local\\Temp\\pip-uninstall-8yfx6584\\core\\_dtype_ctypes.py\n",
      "  Moving to c:\\users\\91876\\anaconda3\\envs\\antonioenv\\lib\\site-packages\\numpy\\core\\_exceptions.py\n",
      "   from C:\\Users\\91876\\AppData\\Local\\Temp\\pip-uninstall-8yfx6584\\core\\_exceptions.py\n",
      "  Moving to c:\\users\\91876\\anaconda3\\envs\\antonioenv\\lib\\site-packages\\numpy\\core\\_internal.py\n",
      "   from C:\\Users\\91876\\AppData\\Local\\Temp\\pip-uninstall-8yfx6584\\core\\_internal.py\n",
      "  Moving to c:\\users\\91876\\anaconda3\\envs\\antonioenv\\lib\\site-packages\\numpy\\core\\_internal.pyi\n",
      "   from C:\\Users\\91876\\AppData\\Local\\Temp\\pip-uninstall-8yfx6584\\core\\_internal.pyi\n",
      "  Moving to c:\\users\\91876\\anaconda3\\envs\\antonioenv\\lib\\site-packages\\numpy\\core\\_methods.py\n",
      "   from C:\\Users\\91876\\AppData\\Local\\Temp\\pip-uninstall-8yfx6584\\core\\_methods.py\n",
      "  Moving to c:\\users\\91876\\anaconda3\\envs\\antonioenv\\lib\\site-packages\\numpy\\core\\_multiarray_tests.cp38-win_amd64.pyd\n",
      "   from C:\\Users\\91876\\AppData\\Local\\Temp\\pip-uninstall-8yfx6584\\core\\_multiarray_tests.cp38-win_amd64.pyd\n",
      "  Moving to c:\\users\\91876\\anaconda3\\envs\\antonioenv\\lib\\site-packages\\numpy\\core\\_multiarray_umath.cp38-win_amd64.pyd\n",
      "   from C:\\Users\\91876\\AppData\\Local\\Temp\\pip-uninstall-8yfx6584\\core\\_multiarray_umath.cp38-win_amd64.pyd\n",
      "  Moving to c:\\users\\91876\\anaconda3\\envs\\antonioenv\\lib\\site-packages\\numpy\\core\\_operand_flag_tests.cp38-win_amd64.pyd\n",
      "   from C:\\Users\\91876\\AppData\\Local\\Temp\\pip-uninstall-8yfx6584\\core\\_operand_flag_tests.cp38-win_amd64.pyd\n",
      "  Moving to c:\\users\\91876\\anaconda3\\envs\\antonioenv\\lib\\site-packages\\numpy\\core\\_rational_tests.cp38-win_amd64.pyd\n",
      "   from C:\\Users\\91876\\AppData\\Local\\Temp\\pip-uninstall-8yfx6584\\core\\_rational_tests.cp38-win_amd64.pyd\n",
      "  Moving to c:\\users\\91876\\anaconda3\\envs\\antonioenv\\lib\\site-packages\\numpy\\core\\_simd.cp38-win_amd64.pyd\n",
      "   from C:\\Users\\91876\\AppData\\Local\\Temp\\pip-uninstall-8yfx6584\\core\\_simd.cp38-win_amd64.pyd\n",
      "  Moving to c:\\users\\91876\\anaconda3\\envs\\antonioenv\\lib\\site-packages\\numpy\\core\\_string_helpers.py\n",
      "   from C:\\Users\\91876\\AppData\\Local\\Temp\\pip-uninstall-8yfx6584\\core\\_string_helpers.py\n",
      "  Moving to c:\\users\\91876\\anaconda3\\envs\\antonioenv\\lib\\site-packages\\numpy\\core\\_struct_ufunc_tests.cp38-win_amd64.pyd\n",
      "   from C:\\Users\\91876\\AppData\\Local\\Temp\\pip-uninstall-8yfx6584\\core\\_struct_ufunc_tests.cp38-win_amd64.pyd\n",
      "  Moving to c:\\users\\91876\\anaconda3\\envs\\antonioenv\\lib\\site-packages\\numpy\\core\\_type_aliases.py\n",
      "   from C:\\Users\\91876\\AppData\\Local\\Temp\\pip-uninstall-8yfx6584\\core\\_type_aliases.py\n",
      "  Moving to c:\\users\\91876\\anaconda3\\envs\\antonioenv\\lib\\site-packages\\numpy\\core\\_type_aliases.pyi\n",
      "   from C:\\Users\\91876\\AppData\\Local\\Temp\\pip-uninstall-8yfx6584\\core\\_type_aliases.pyi\n",
      "  Moving to c:\\users\\91876\\anaconda3\\envs\\antonioenv\\lib\\site-packages\\numpy\\core\\_ufunc_config.py\n",
      "   from C:\\Users\\91876\\AppData\\Local\\Temp\\pip-uninstall-8yfx6584\\core\\_ufunc_config.py\n",
      "  Moving to c:\\users\\91876\\anaconda3\\envs\\antonioenv\\lib\\site-packages\\numpy\\core\\_ufunc_config.pyi\n",
      "   from C:\\Users\\91876\\AppData\\Local\\Temp\\pip-uninstall-8yfx6584\\core\\_ufunc_config.pyi\n",
      "  Moving to c:\\users\\91876\\anaconda3\\envs\\antonioenv\\lib\\site-packages\\numpy\\core\\_umath_tests.cp38-win_amd64.pyd\n",
      "   from C:\\Users\\91876\\AppData\\Local\\Temp\\pip-uninstall-8yfx6584\\core\\_umath_tests.cp38-win_amd64.pyd\n",
      "  Moving to c:\\users\\91876\\anaconda3\\envs\\antonioenv\\lib\\site-packages\\numpy\\core\\arrayprint.py\n",
      "   from C:\\Users\\91876\\AppData\\Local\\Temp\\pip-uninstall-8yfx6584\\core\\arrayprint.py\n",
      "  Moving to c:\\users\\91876\\anaconda3\\envs\\antonioenv\\lib\\site-packages\\numpy\\core\\cversions.py\n",
      "   from C:\\Users\\91876\\AppData\\Local\\Temp\\pip-uninstall-8yfx6584\\core\\cversions.py\n",
      "  Moving to c:\\users\\91876\\anaconda3\\envs\\antonioenv\\lib\\site-packages\\numpy\\core\\defchararray.py\n",
      "   from C:\\Users\\91876\\AppData\\Local\\Temp\\pip-uninstall-8yfx6584\\core\\defchararray.py\n",
      "  Moving to c:\\users\\91876\\anaconda3\\envs\\antonioenv\\lib\\site-packages\\numpy\\core\\einsumfunc.py\n",
      "   from C:\\Users\\91876\\AppData\\Local\\Temp\\pip-uninstall-8yfx6584\\core\\einsumfunc.py\n",
      "  Moving to c:\\users\\91876\\anaconda3\\envs\\antonioenv\\lib\\site-packages\\numpy\\core\\fromnumeric.py\n",
      "   from C:\\Users\\91876\\AppData\\Local\\Temp\\pip-uninstall-8yfx6584\\core\\fromnumeric.py\n",
      "  Moving to c:\\users\\91876\\anaconda3\\envs\\antonioenv\\lib\\site-packages\\numpy\\core\\fromnumeric.pyi\n",
      "   from C:\\Users\\91876\\AppData\\Local\\Temp\\pip-uninstall-8yfx6584\\core\\fromnumeric.pyi\n",
      "  Moving to c:\\users\\91876\\anaconda3\\envs\\antonioenv\\lib\\site-packages\\numpy\\core\\function_base.py\n",
      "   from C:\\Users\\91876\\AppData\\Local\\Temp\\pip-uninstall-8yfx6584\\core\\function_base.py\n",
      "  Moving to c:\\users\\91876\\anaconda3\\envs\\antonioenv\\lib\\site-packages\\numpy\\core\\function_base.pyi\n",
      "   from C:\\Users\\91876\\AppData\\Local\\Temp\\pip-uninstall-8yfx6584\\core\\function_base.pyi\n",
      "  Moving to c:\\users\\91876\\anaconda3\\envs\\antonioenv\\lib\\site-packages\\numpy\\core\\generate_numpy_api.py\n",
      "   from C:\\Users\\91876\\AppData\\Local\\Temp\\pip-uninstall-8yfx6584\\core\\generate_numpy_api.py\n",
      "  Moving to c:\\users\\91876\\anaconda3\\envs\\antonioenv\\lib\\site-packages\\numpy\\core\\getlimits.py\n",
      "   from C:\\Users\\91876\\AppData\\Local\\Temp\\pip-uninstall-8yfx6584\\core\\getlimits.py\n",
      "  Moving to c:\\users\\91876\\anaconda3\\envs\\antonioenv\\lib\\site-packages\\numpy\\core\\include\\numpy\\\n",
      "   from C:\\Users\\91876\\anaconda3\\envs\\AntonioEnv\\Lib\\site-packages\\numpy\\core\\include\\~=mpy\n",
      "  Moving to c:\\users\\91876\\anaconda3\\envs\\antonioenv\\lib\\site-packages\\numpy\\core\\lib\\\n",
      "   from C:\\Users\\91876\\anaconda3\\envs\\AntonioEnv\\Lib\\site-packages\\numpy\\core\\~=b\n",
      "  Moving to c:\\users\\91876\\anaconda3\\envs\\antonioenv\\lib\\site-packages\\numpy\\core\\machar.py\n",
      "   from C:\\Users\\91876\\AppData\\Local\\Temp\\pip-uninstall-8yfx6584\\core\\machar.py\n",
      "  Moving to c:\\users\\91876\\anaconda3\\envs\\antonioenv\\lib\\site-packages\\numpy\\core\\memmap.py\n",
      "   from C:\\Users\\91876\\AppData\\Local\\Temp\\pip-uninstall-8yfx6584\\core\\memmap.py\n",
      "  Moving to c:\\users\\91876\\anaconda3\\envs\\antonioenv\\lib\\site-packages\\numpy\\core\\multiarray.py\n",
      "   from C:\\Users\\91876\\AppData\\Local\\Temp\\pip-uninstall-8yfx6584\\core\\multiarray.py\n",
      "  Moving to c:\\users\\91876\\anaconda3\\envs\\antonioenv\\lib\\site-packages\\numpy\\core\\numeric.py\n",
      "   from C:\\Users\\91876\\AppData\\Local\\Temp\\pip-uninstall-8yfx6584\\core\\numeric.py\n",
      "  Moving to c:\\users\\91876\\anaconda3\\envs\\antonioenv\\lib\\site-packages\\numpy\\core\\numeric.pyi\n",
      "   from C:\\Users\\91876\\AppData\\Local\\Temp\\pip-uninstall-8yfx6584\\core\\numeric.pyi\n",
      "  Moving to c:\\users\\91876\\anaconda3\\envs\\antonioenv\\lib\\site-packages\\numpy\\core\\numerictypes.py\n",
      "   from C:\\Users\\91876\\AppData\\Local\\Temp\\pip-uninstall-8yfx6584\\core\\numerictypes.py\n",
      "  Moving to c:\\users\\91876\\anaconda3\\envs\\antonioenv\\lib\\site-packages\\numpy\\core\\numerictypes.pyi\n",
      "   from C:\\Users\\91876\\AppData\\Local\\Temp\\pip-uninstall-8yfx6584\\core\\numerictypes.pyi\n",
      "  Moving to c:\\users\\91876\\anaconda3\\envs\\antonioenv\\lib\\site-packages\\numpy\\core\\overrides.py\n",
      "   from C:\\Users\\91876\\AppData\\Local\\Temp\\pip-uninstall-8yfx6584\\core\\overrides.py\n",
      "  Moving to c:\\users\\91876\\anaconda3\\envs\\antonioenv\\lib\\site-packages\\numpy\\core\\records.py\n",
      "   from C:\\Users\\91876\\AppData\\Local\\Temp\\pip-uninstall-8yfx6584\\core\\records.py\n",
      "  Moving to c:\\users\\91876\\anaconda3\\envs\\antonioenv\\lib\\site-packages\\numpy\\core\\setup.py\n",
      "   from C:\\Users\\91876\\AppData\\Local\\Temp\\pip-uninstall-8yfx6584\\core\\setup.py\n",
      "  Moving to c:\\users\\91876\\anaconda3\\envs\\antonioenv\\lib\\site-packages\\numpy\\core\\setup_common.py\n",
      "   from C:\\Users\\91876\\AppData\\Local\\Temp\\pip-uninstall-8yfx6584\\core\\setup_common.py\n",
      "  Moving to c:\\users\\91876\\anaconda3\\envs\\antonioenv\\lib\\site-packages\\numpy\\core\\shape_base.py\n",
      "   from C:\\Users\\91876\\AppData\\Local\\Temp\\pip-uninstall-8yfx6584\\core\\shape_base.py\n",
      "  Moving to c:\\users\\91876\\anaconda3\\envs\\antonioenv\\lib\\site-packages\\numpy\\core\\shape_base.pyi\n",
      "   from C:\\Users\\91876\\AppData\\Local\\Temp\\pip-uninstall-8yfx6584\\core\\shape_base.pyi\n",
      "  Moving to c:\\users\\91876\\anaconda3\\envs\\antonioenv\\lib\\site-packages\\numpy\\core\\tests\\__init__.py\n",
      "   from C:\\Users\\91876\\AppData\\Local\\Temp\\pip-uninstall-8yfx6584\\core\\tests\\__init__.py\n",
      "  Moving to c:\\users\\91876\\anaconda3\\envs\\antonioenv\\lib\\site-packages\\numpy\\core\\tests\\__pycache__\\__init__.cpython-38.pyc\n",
      "   from C:\\Users\\91876\\AppData\\Local\\Temp\\pip-uninstall-8yfx6584\\core\\tests\\__pycache__\\__init__.cpython-38.pyc\n",
      "  Moving to c:\\users\\91876\\anaconda3\\envs\\antonioenv\\lib\\site-packages\\numpy\\core\\tests\\__pycache__\\_locales.cpython-38.pyc\n",
      "   from C:\\Users\\91876\\AppData\\Local\\Temp\\pip-uninstall-8yfx6584\\core\\tests\\__pycache__\\_locales.cpython-38.pyc\n",
      "  Moving to c:\\users\\91876\\anaconda3\\envs\\antonioenv\\lib\\site-packages\\numpy\\core\\tests\\__pycache__\\test__exceptions.cpython-38.pyc\n",
      "   from C:\\Users\\91876\\AppData\\Local\\Temp\\pip-uninstall-8yfx6584\\core\\tests\\__pycache__\\test__exceptions.cpython-38.pyc\n",
      "  Moving to c:\\users\\91876\\anaconda3\\envs\\antonioenv\\lib\\site-packages\\numpy\\core\\tests\\__pycache__\\test_abc.cpython-38.pyc\n",
      "   from C:\\Users\\91876\\AppData\\Local\\Temp\\pip-uninstall-8yfx6584\\core\\tests\\__pycache__\\test_abc.cpython-38.pyc\n",
      "  Moving to c:\\users\\91876\\anaconda3\\envs\\antonioenv\\lib\\site-packages\\numpy\\core\\tests\\__pycache__\\test_api.cpython-38.pyc\n",
      "   from C:\\Users\\91876\\AppData\\Local\\Temp\\pip-uninstall-8yfx6584\\core\\tests\\__pycache__\\test_api.cpython-38.pyc\n",
      "  Moving to c:\\users\\91876\\anaconda3\\envs\\antonioenv\\lib\\site-packages\\numpy\\core\\tests\\__pycache__\\test_array_coercion.cpython-38.pyc\n",
      "   from C:\\Users\\91876\\AppData\\Local\\Temp\\pip-uninstall-8yfx6584\\core\\tests\\__pycache__\\test_array_coercion.cpython-38.pyc\n",
      "  Moving to c:\\users\\91876\\anaconda3\\envs\\antonioenv\\lib\\site-packages\\numpy\\core\\tests\\__pycache__\\test_arrayprint.cpython-38.pyc\n",
      "   from C:\\Users\\91876\\AppData\\Local\\Temp\\pip-uninstall-8yfx6584\\core\\tests\\__pycache__\\test_arrayprint.cpython-38.pyc\n",
      "  Moving to c:\\users\\91876\\anaconda3\\envs\\antonioenv\\lib\\site-packages\\numpy\\core\\tests\\__pycache__\\test_casting_unittests.cpython-38.pyc\n",
      "   from C:\\Users\\91876\\AppData\\Local\\Temp\\pip-uninstall-8yfx6584\\core\\tests\\__pycache__\\test_casting_unittests.cpython-38.pyc\n",
      "  Moving to c:\\users\\91876\\anaconda3\\envs\\antonioenv\\lib\\site-packages\\numpy\\core\\tests\\__pycache__\\test_conversion_utils.cpython-38.pyc\n",
      "   from C:\\Users\\91876\\AppData\\Local\\Temp\\pip-uninstall-8yfx6584\\core\\tests\\__pycache__\\test_conversion_utils.cpython-38.pyc\n",
      "  Moving to c:\\users\\91876\\anaconda3\\envs\\antonioenv\\lib\\site-packages\\numpy\\core\\tests\\__pycache__\\test_cpu_dispatcher.cpython-38.pyc\n",
      "   from C:\\Users\\91876\\AppData\\Local\\Temp\\pip-uninstall-8yfx6584\\core\\tests\\__pycache__\\test_cpu_dispatcher.cpython-38.pyc\n",
      "  Moving to c:\\users\\91876\\anaconda3\\envs\\antonioenv\\lib\\site-packages\\numpy\\core\\tests\\__pycache__\\test_cpu_features.cpython-38.pyc\n",
      "   from C:\\Users\\91876\\AppData\\Local\\Temp\\pip-uninstall-8yfx6584\\core\\tests\\__pycache__\\test_cpu_features.cpython-38.pyc\n",
      "  Moving to c:\\users\\91876\\anaconda3\\envs\\antonioenv\\lib\\site-packages\\numpy\\core\\tests\\__pycache__\\test_cython.cpython-38.pyc\n",
      "   from C:\\Users\\91876\\AppData\\Local\\Temp\\pip-uninstall-8yfx6584\\core\\tests\\__pycache__\\test_cython.cpython-38.pyc\n",
      "  Moving to c:\\users\\91876\\anaconda3\\envs\\antonioenv\\lib\\site-packages\\numpy\\core\\tests\\__pycache__\\test_datetime.cpython-38.pyc\n",
      "   from C:\\Users\\91876\\AppData\\Local\\Temp\\pip-uninstall-8yfx6584\\core\\tests\\__pycache__\\test_datetime.cpython-38.pyc\n",
      "  Moving to c:\\users\\91876\\anaconda3\\envs\\antonioenv\\lib\\site-packages\\numpy\\core\\tests\\__pycache__\\test_defchararray.cpython-38.pyc\n",
      "   from C:\\Users\\91876\\AppData\\Local\\Temp\\pip-uninstall-8yfx6584\\core\\tests\\__pycache__\\test_defchararray.cpython-38.pyc\n",
      "  Moving to c:\\users\\91876\\anaconda3\\envs\\antonioenv\\lib\\site-packages\\numpy\\core\\tests\\__pycache__\\test_deprecations.cpython-38.pyc\n",
      "   from C:\\Users\\91876\\AppData\\Local\\Temp\\pip-uninstall-8yfx6584\\core\\tests\\__pycache__\\test_deprecations.cpython-38.pyc\n",
      "  Moving to c:\\users\\91876\\anaconda3\\envs\\antonioenv\\lib\\site-packages\\numpy\\core\\tests\\__pycache__\\test_dtype.cpython-38.pyc\n",
      "   from C:\\Users\\91876\\AppData\\Local\\Temp\\pip-uninstall-8yfx6584\\core\\tests\\__pycache__\\test_dtype.cpython-38.pyc\n",
      "  Moving to c:\\users\\91876\\anaconda3\\envs\\antonioenv\\lib\\site-packages\\numpy\\core\\tests\\__pycache__\\test_einsum.cpython-38.pyc\n",
      "   from C:\\Users\\91876\\AppData\\Local\\Temp\\pip-uninstall-8yfx6584\\core\\tests\\__pycache__\\test_einsum.cpython-38.pyc\n",
      "  Moving to c:\\users\\91876\\anaconda3\\envs\\antonioenv\\lib\\site-packages\\numpy\\core\\tests\\__pycache__\\test_errstate.cpython-38.pyc\n",
      "   from C:\\Users\\91876\\AppData\\Local\\Temp\\pip-uninstall-8yfx6584\\core\\tests\\__pycache__\\test_errstate.cpython-38.pyc\n",
      "  Moving to c:\\users\\91876\\anaconda3\\envs\\antonioenv\\lib\\site-packages\\numpy\\core\\tests\\__pycache__\\test_extint128.cpython-38.pyc\n",
      "   from C:\\Users\\91876\\AppData\\Local\\Temp\\pip-uninstall-8yfx6584\\core\\tests\\__pycache__\\test_extint128.cpython-38.pyc\n",
      "  Moving to c:\\users\\91876\\anaconda3\\envs\\antonioenv\\lib\\site-packages\\numpy\\core\\tests\\__pycache__\\test_function_base.cpython-38.pyc\n",
      "   from C:\\Users\\91876\\AppData\\Local\\Temp\\pip-uninstall-8yfx6584\\core\\tests\\__pycache__\\test_function_base.cpython-38.pyc\n",
      "  Moving to c:\\users\\91876\\anaconda3\\envs\\antonioenv\\lib\\site-packages\\numpy\\core\\tests\\__pycache__\\test_getlimits.cpython-38.pyc\n",
      "   from C:\\Users\\91876\\AppData\\Local\\Temp\\pip-uninstall-8yfx6584\\core\\tests\\__pycache__\\test_getlimits.cpython-38.pyc\n",
      "  Moving to c:\\users\\91876\\anaconda3\\envs\\antonioenv\\lib\\site-packages\\numpy\\core\\tests\\__pycache__\\test_half.cpython-38.pyc\n",
      "   from C:\\Users\\91876\\AppData\\Local\\Temp\\pip-uninstall-8yfx6584\\core\\tests\\__pycache__\\test_half.cpython-38.pyc\n",
      "  Moving to c:\\users\\91876\\anaconda3\\envs\\antonioenv\\lib\\site-packages\\numpy\\core\\tests\\__pycache__\\test_indexerrors.cpython-38.pyc\n",
      "   from C:\\Users\\91876\\AppData\\Local\\Temp\\pip-uninstall-8yfx6584\\core\\tests\\__pycache__\\test_indexerrors.cpython-38.pyc\n",
      "  Moving to c:\\users\\91876\\anaconda3\\envs\\antonioenv\\lib\\site-packages\\numpy\\core\\tests\\__pycache__\\test_indexing.cpython-38.pyc\n",
      "   from C:\\Users\\91876\\AppData\\Local\\Temp\\pip-uninstall-8yfx6584\\core\\tests\\__pycache__\\test_indexing.cpython-38.pyc\n",
      "  Moving to c:\\users\\91876\\anaconda3\\envs\\antonioenv\\lib\\site-packages\\numpy\\core\\tests\\__pycache__\\test_item_selection.cpython-38.pyc\n",
      "   from C:\\Users\\91876\\AppData\\Local\\Temp\\pip-uninstall-8yfx6584\\core\\tests\\__pycache__\\test_item_selection.cpython-38.pyc\n",
      "  Moving to c:\\users\\91876\\anaconda3\\envs\\antonioenv\\lib\\site-packages\\numpy\\core\\tests\\__pycache__\\test_longdouble.cpython-38.pyc\n",
      "   from C:\\Users\\91876\\AppData\\Local\\Temp\\pip-uninstall-8yfx6584\\core\\tests\\__pycache__\\test_longdouble.cpython-38.pyc\n",
      "  Moving to c:\\users\\91876\\anaconda3\\envs\\antonioenv\\lib\\site-packages\\numpy\\core\\tests\\__pycache__\\test_machar.cpython-38.pyc\n",
      "   from C:\\Users\\91876\\AppData\\Local\\Temp\\pip-uninstall-8yfx6584\\core\\tests\\__pycache__\\test_machar.cpython-38.pyc\n",
      "  Moving to c:\\users\\91876\\anaconda3\\envs\\antonioenv\\lib\\site-packages\\numpy\\core\\tests\\__pycache__\\test_mem_overlap.cpython-38.pyc\n",
      "   from C:\\Users\\91876\\AppData\\Local\\Temp\\pip-uninstall-8yfx6584\\core\\tests\\__pycache__\\test_mem_overlap.cpython-38.pyc\n",
      "  Moving to c:\\users\\91876\\anaconda3\\envs\\antonioenv\\lib\\site-packages\\numpy\\core\\tests\\__pycache__\\test_memmap.cpython-38.pyc\n",
      "   from C:\\Users\\91876\\AppData\\Local\\Temp\\pip-uninstall-8yfx6584\\core\\tests\\__pycache__\\test_memmap.cpython-38.pyc\n",
      "  Moving to c:\\users\\91876\\anaconda3\\envs\\antonioenv\\lib\\site-packages\\numpy\\core\\tests\\__pycache__\\test_multiarray.cpython-38.pyc\n",
      "   from C:\\Users\\91876\\AppData\\Local\\Temp\\pip-uninstall-8yfx6584\\core\\tests\\__pycache__\\test_multiarray.cpython-38.pyc\n",
      "  Moving to c:\\users\\91876\\anaconda3\\envs\\antonioenv\\lib\\site-packages\\numpy\\core\\tests\\__pycache__\\test_nditer.cpython-38.pyc\n",
      "   from C:\\Users\\91876\\AppData\\Local\\Temp\\pip-uninstall-8yfx6584\\core\\tests\\__pycache__\\test_nditer.cpython-38.pyc\n",
      "  Moving to c:\\users\\91876\\anaconda3\\envs\\antonioenv\\lib\\site-packages\\numpy\\core\\tests\\__pycache__\\test_numeric.cpython-38.pyc\n",
      "   from C:\\Users\\91876\\AppData\\Local\\Temp\\pip-uninstall-8yfx6584\\core\\tests\\__pycache__\\test_numeric.cpython-38.pyc\n",
      "  Moving to c:\\users\\91876\\anaconda3\\envs\\antonioenv\\lib\\site-packages\\numpy\\core\\tests\\__pycache__\\test_numerictypes.cpython-38.pyc\n",
      "   from C:\\Users\\91876\\AppData\\Local\\Temp\\pip-uninstall-8yfx6584\\core\\tests\\__pycache__\\test_numerictypes.cpython-38.pyc\n",
      "  Moving to c:\\users\\91876\\anaconda3\\envs\\antonioenv\\lib\\site-packages\\numpy\\core\\tests\\__pycache__\\test_overrides.cpython-38.pyc\n",
      "   from C:\\Users\\91876\\AppData\\Local\\Temp\\pip-uninstall-8yfx6584\\core\\tests\\__pycache__\\test_overrides.cpython-38.pyc\n",
      "  Moving to c:\\users\\91876\\anaconda3\\envs\\antonioenv\\lib\\site-packages\\numpy\\core\\tests\\__pycache__\\test_print.cpython-38.pyc\n",
      "   from C:\\Users\\91876\\AppData\\Local\\Temp\\pip-uninstall-8yfx6584\\core\\tests\\__pycache__\\test_print.cpython-38.pyc\n",
      "  Moving to c:\\users\\91876\\anaconda3\\envs\\antonioenv\\lib\\site-packages\\numpy\\core\\tests\\__pycache__\\test_protocols.cpython-38.pyc\n",
      "   from C:\\Users\\91876\\AppData\\Local\\Temp\\pip-uninstall-8yfx6584\\core\\tests\\__pycache__\\test_protocols.cpython-38.pyc\n",
      "  Moving to c:\\users\\91876\\anaconda3\\envs\\antonioenv\\lib\\site-packages\\numpy\\core\\tests\\__pycache__\\test_records.cpython-38.pyc\n",
      "   from C:\\Users\\91876\\AppData\\Local\\Temp\\pip-uninstall-8yfx6584\\core\\tests\\__pycache__\\test_records.cpython-38.pyc\n",
      "  Moving to c:\\users\\91876\\anaconda3\\envs\\antonioenv\\lib\\site-packages\\numpy\\core\\tests\\__pycache__\\test_regression.cpython-38.pyc\n",
      "   from C:\\Users\\91876\\AppData\\Local\\Temp\\pip-uninstall-8yfx6584\\core\\tests\\__pycache__\\test_regression.cpython-38.pyc\n",
      "  Moving to c:\\users\\91876\\anaconda3\\envs\\antonioenv\\lib\\site-packages\\numpy\\core\\tests\\__pycache__\\test_scalar_ctors.cpython-38.pyc\n",
      "   from C:\\Users\\91876\\AppData\\Local\\Temp\\pip-uninstall-8yfx6584\\core\\tests\\__pycache__\\test_scalar_ctors.cpython-38.pyc\n",
      "  Moving to c:\\users\\91876\\anaconda3\\envs\\antonioenv\\lib\\site-packages\\numpy\\core\\tests\\__pycache__\\test_scalar_methods.cpython-38.pyc\n",
      "   from C:\\Users\\91876\\AppData\\Local\\Temp\\pip-uninstall-8yfx6584\\core\\tests\\__pycache__\\test_scalar_methods.cpython-38.pyc\n",
      "  Moving to c:\\users\\91876\\anaconda3\\envs\\antonioenv\\lib\\site-packages\\numpy\\core\\tests\\__pycache__\\test_scalarbuffer.cpython-38.pyc\n",
      "   from C:\\Users\\91876\\AppData\\Local\\Temp\\pip-uninstall-8yfx6584\\core\\tests\\__pycache__\\test_scalarbuffer.cpython-38.pyc\n",
      "  Moving to c:\\users\\91876\\anaconda3\\envs\\antonioenv\\lib\\site-packages\\numpy\\core\\tests\\__pycache__\\test_scalarinherit.cpython-38.pyc\n",
      "   from C:\\Users\\91876\\AppData\\Local\\Temp\\pip-uninstall-8yfx6584\\core\\tests\\__pycache__\\test_scalarinherit.cpython-38.pyc\n",
      "  Moving to c:\\users\\91876\\anaconda3\\envs\\antonioenv\\lib\\site-packages\\numpy\\core\\tests\\__pycache__\\test_scalarmath.cpython-38.pyc\n",
      "   from C:\\Users\\91876\\AppData\\Local\\Temp\\pip-uninstall-8yfx6584\\core\\tests\\__pycache__\\test_scalarmath.cpython-38.pyc\n",
      "  Moving to c:\\users\\91876\\anaconda3\\envs\\antonioenv\\lib\\site-packages\\numpy\\core\\tests\\__pycache__\\test_scalarprint.cpython-38.pyc\n",
      "   from C:\\Users\\91876\\AppData\\Local\\Temp\\pip-uninstall-8yfx6584\\core\\tests\\__pycache__\\test_scalarprint.cpython-38.pyc\n",
      "  Moving to c:\\users\\91876\\anaconda3\\envs\\antonioenv\\lib\\site-packages\\numpy\\core\\tests\\__pycache__\\test_shape_base.cpython-38.pyc\n",
      "   from C:\\Users\\91876\\AppData\\Local\\Temp\\pip-uninstall-8yfx6584\\core\\tests\\__pycache__\\test_shape_base.cpython-38.pyc\n",
      "  Moving to c:\\users\\91876\\anaconda3\\envs\\antonioenv\\lib\\site-packages\\numpy\\core\\tests\\__pycache__\\test_simd.cpython-38.pyc\n",
      "   from C:\\Users\\91876\\AppData\\Local\\Temp\\pip-uninstall-8yfx6584\\core\\tests\\__pycache__\\test_simd.cpython-38.pyc\n",
      "  Moving to c:\\users\\91876\\anaconda3\\envs\\antonioenv\\lib\\site-packages\\numpy\\core\\tests\\__pycache__\\test_simd_module.cpython-38.pyc\n",
      "   from C:\\Users\\91876\\AppData\\Local\\Temp\\pip-uninstall-8yfx6584\\core\\tests\\__pycache__\\test_simd_module.cpython-38.pyc\n",
      "  Moving to c:\\users\\91876\\anaconda3\\envs\\antonioenv\\lib\\site-packages\\numpy\\core\\tests\\__pycache__\\test_ufunc.cpython-38.pyc\n",
      "   from C:\\Users\\91876\\AppData\\Local\\Temp\\pip-uninstall-8yfx6584\\core\\tests\\__pycache__\\test_ufunc.cpython-38.pyc\n",
      "  Moving to c:\\users\\91876\\anaconda3\\envs\\antonioenv\\lib\\site-packages\\numpy\\core\\tests\\__pycache__\\test_umath.cpython-38.pyc\n",
      "   from C:\\Users\\91876\\AppData\\Local\\Temp\\pip-uninstall-8yfx6584\\core\\tests\\__pycache__\\test_umath.cpython-38.pyc\n",
      "  Moving to c:\\users\\91876\\anaconda3\\envs\\antonioenv\\lib\\site-packages\\numpy\\core\\tests\\__pycache__\\test_umath_accuracy.cpython-38.pyc\n",
      "   from C:\\Users\\91876\\AppData\\Local\\Temp\\pip-uninstall-8yfx6584\\core\\tests\\__pycache__\\test_umath_accuracy.cpython-38.pyc\n",
      "  Moving to c:\\users\\91876\\anaconda3\\envs\\antonioenv\\lib\\site-packages\\numpy\\core\\tests\\__pycache__\\test_umath_complex.cpython-38.pyc\n",
      "   from C:\\Users\\91876\\AppData\\Local\\Temp\\pip-uninstall-8yfx6584\\core\\tests\\__pycache__\\test_umath_complex.cpython-38.pyc\n",
      "  Moving to c:\\users\\91876\\anaconda3\\envs\\antonioenv\\lib\\site-packages\\numpy\\core\\tests\\__pycache__\\test_unicode.cpython-38.pyc\n",
      "   from C:\\Users\\91876\\AppData\\Local\\Temp\\pip-uninstall-8yfx6584\\core\\tests\\__pycache__\\test_unicode.cpython-38.pyc\n",
      "  Moving to c:\\users\\91876\\anaconda3\\envs\\antonioenv\\lib\\site-packages\\numpy\\core\\tests\\_locales.py\n",
      "   from C:\\Users\\91876\\AppData\\Local\\Temp\\pip-uninstall-8yfx6584\\core\\tests\\_locales.py\n",
      "  Moving to c:\\users\\91876\\anaconda3\\envs\\antonioenv\\lib\\site-packages\\numpy\\core\\tests\\data\\\n",
      "   from C:\\Users\\91876\\anaconda3\\envs\\AntonioEnv\\Lib\\site-packages\\numpy\\core\\tests\\~=ta\n",
      "  Moving to c:\\users\\91876\\anaconda3\\envs\\antonioenv\\lib\\site-packages\\numpy\\core\\tests\\examples\\\n",
      "   from C:\\Users\\91876\\anaconda3\\envs\\AntonioEnv\\Lib\\site-packages\\numpy\\core\\tests\\~=amples\n",
      "  Moving to c:\\users\\91876\\anaconda3\\envs\\antonioenv\\lib\\site-packages\\numpy\\core\\tests\\test__exceptions.py\n",
      "   from C:\\Users\\91876\\AppData\\Local\\Temp\\pip-uninstall-8yfx6584\\core\\tests\\test__exceptions.py\n",
      "  Moving to c:\\users\\91876\\anaconda3\\envs\\antonioenv\\lib\\site-packages\\numpy\\core\\tests\\test_abc.py\n",
      "   from C:\\Users\\91876\\AppData\\Local\\Temp\\pip-uninstall-8yfx6584\\core\\tests\\test_abc.py\n",
      "  Moving to c:\\users\\91876\\anaconda3\\envs\\antonioenv\\lib\\site-packages\\numpy\\core\\tests\\test_api.py\n",
      "   from C:\\Users\\91876\\AppData\\Local\\Temp\\pip-uninstall-8yfx6584\\core\\tests\\test_api.py\n",
      "  Moving to c:\\users\\91876\\anaconda3\\envs\\antonioenv\\lib\\site-packages\\numpy\\core\\tests\\test_array_coercion.py\n",
      "   from C:\\Users\\91876\\AppData\\Local\\Temp\\pip-uninstall-8yfx6584\\core\\tests\\test_array_coercion.py\n",
      "  Moving to c:\\users\\91876\\anaconda3\\envs\\antonioenv\\lib\\site-packages\\numpy\\core\\tests\\test_arrayprint.py\n",
      "   from C:\\Users\\91876\\AppData\\Local\\Temp\\pip-uninstall-8yfx6584\\core\\tests\\test_arrayprint.py\n",
      "  Moving to c:\\users\\91876\\anaconda3\\envs\\antonioenv\\lib\\site-packages\\numpy\\core\\tests\\test_casting_unittests.py\n",
      "   from C:\\Users\\91876\\AppData\\Local\\Temp\\pip-uninstall-8yfx6584\\core\\tests\\test_casting_unittests.py\n",
      "  Moving to c:\\users\\91876\\anaconda3\\envs\\antonioenv\\lib\\site-packages\\numpy\\core\\tests\\test_conversion_utils.py\n",
      "   from C:\\Users\\91876\\AppData\\Local\\Temp\\pip-uninstall-8yfx6584\\core\\tests\\test_conversion_utils.py\n",
      "  Moving to c:\\users\\91876\\anaconda3\\envs\\antonioenv\\lib\\site-packages\\numpy\\core\\tests\\test_cpu_dispatcher.py\n",
      "   from C:\\Users\\91876\\AppData\\Local\\Temp\\pip-uninstall-8yfx6584\\core\\tests\\test_cpu_dispatcher.py\n",
      "  Moving to c:\\users\\91876\\anaconda3\\envs\\antonioenv\\lib\\site-packages\\numpy\\core\\tests\\test_cpu_features.py\n",
      "   from C:\\Users\\91876\\AppData\\Local\\Temp\\pip-uninstall-8yfx6584\\core\\tests\\test_cpu_features.py\n",
      "  Moving to c:\\users\\91876\\anaconda3\\envs\\antonioenv\\lib\\site-packages\\numpy\\core\\tests\\test_cython.py\n",
      "   from C:\\Users\\91876\\AppData\\Local\\Temp\\pip-uninstall-8yfx6584\\core\\tests\\test_cython.py\n",
      "  Moving to c:\\users\\91876\\anaconda3\\envs\\antonioenv\\lib\\site-packages\\numpy\\core\\tests\\test_datetime.py\n",
      "   from C:\\Users\\91876\\AppData\\Local\\Temp\\pip-uninstall-8yfx6584\\core\\tests\\test_datetime.py\n",
      "  Moving to c:\\users\\91876\\anaconda3\\envs\\antonioenv\\lib\\site-packages\\numpy\\core\\tests\\test_defchararray.py\n",
      "   from C:\\Users\\91876\\AppData\\Local\\Temp\\pip-uninstall-8yfx6584\\core\\tests\\test_defchararray.py\n",
      "  Moving to c:\\users\\91876\\anaconda3\\envs\\antonioenv\\lib\\site-packages\\numpy\\core\\tests\\test_deprecations.py\n",
      "   from C:\\Users\\91876\\AppData\\Local\\Temp\\pip-uninstall-8yfx6584\\core\\tests\\test_deprecations.py\n",
      "  Moving to c:\\users\\91876\\anaconda3\\envs\\antonioenv\\lib\\site-packages\\numpy\\core\\tests\\test_dtype.py\n",
      "   from C:\\Users\\91876\\AppData\\Local\\Temp\\pip-uninstall-8yfx6584\\core\\tests\\test_dtype.py\n",
      "  Moving to c:\\users\\91876\\anaconda3\\envs\\antonioenv\\lib\\site-packages\\numpy\\core\\tests\\test_einsum.py\n",
      "   from C:\\Users\\91876\\AppData\\Local\\Temp\\pip-uninstall-8yfx6584\\core\\tests\\test_einsum.py\n",
      "  Moving to c:\\users\\91876\\anaconda3\\envs\\antonioenv\\lib\\site-packages\\numpy\\core\\tests\\test_errstate.py\n",
      "   from C:\\Users\\91876\\AppData\\Local\\Temp\\pip-uninstall-8yfx6584\\core\\tests\\test_errstate.py\n",
      "  Moving to c:\\users\\91876\\anaconda3\\envs\\antonioenv\\lib\\site-packages\\numpy\\core\\tests\\test_extint128.py\n",
      "   from C:\\Users\\91876\\AppData\\Local\\Temp\\pip-uninstall-8yfx6584\\core\\tests\\test_extint128.py\n",
      "  Moving to c:\\users\\91876\\anaconda3\\envs\\antonioenv\\lib\\site-packages\\numpy\\core\\tests\\test_function_base.py\n",
      "   from C:\\Users\\91876\\AppData\\Local\\Temp\\pip-uninstall-8yfx6584\\core\\tests\\test_function_base.py\n",
      "  Moving to c:\\users\\91876\\anaconda3\\envs\\antonioenv\\lib\\site-packages\\numpy\\core\\tests\\test_getlimits.py\n",
      "   from C:\\Users\\91876\\AppData\\Local\\Temp\\pip-uninstall-8yfx6584\\core\\tests\\test_getlimits.py\n",
      "  Moving to c:\\users\\91876\\anaconda3\\envs\\antonioenv\\lib\\site-packages\\numpy\\core\\tests\\test_half.py\n",
      "   from C:\\Users\\91876\\AppData\\Local\\Temp\\pip-uninstall-8yfx6584\\core\\tests\\test_half.py\n",
      "  Moving to c:\\users\\91876\\anaconda3\\envs\\antonioenv\\lib\\site-packages\\numpy\\core\\tests\\test_indexerrors.py\n",
      "   from C:\\Users\\91876\\AppData\\Local\\Temp\\pip-uninstall-8yfx6584\\core\\tests\\test_indexerrors.py\n",
      "  Moving to c:\\users\\91876\\anaconda3\\envs\\antonioenv\\lib\\site-packages\\numpy\\core\\tests\\test_indexing.py\n",
      "   from C:\\Users\\91876\\AppData\\Local\\Temp\\pip-uninstall-8yfx6584\\core\\tests\\test_indexing.py\n",
      "  Moving to c:\\users\\91876\\anaconda3\\envs\\antonioenv\\lib\\site-packages\\numpy\\core\\tests\\test_item_selection.py\n",
      "   from C:\\Users\\91876\\AppData\\Local\\Temp\\pip-uninstall-8yfx6584\\core\\tests\\test_item_selection.py\n",
      "  Moving to c:\\users\\91876\\anaconda3\\envs\\antonioenv\\lib\\site-packages\\numpy\\core\\tests\\test_longdouble.py\n",
      "   from C:\\Users\\91876\\AppData\\Local\\Temp\\pip-uninstall-8yfx6584\\core\\tests\\test_longdouble.py\n",
      "  Moving to c:\\users\\91876\\anaconda3\\envs\\antonioenv\\lib\\site-packages\\numpy\\core\\tests\\test_machar.py\n",
      "   from C:\\Users\\91876\\AppData\\Local\\Temp\\pip-uninstall-8yfx6584\\core\\tests\\test_machar.py\n",
      "  Moving to c:\\users\\91876\\anaconda3\\envs\\antonioenv\\lib\\site-packages\\numpy\\core\\tests\\test_mem_overlap.py\n",
      "   from C:\\Users\\91876\\AppData\\Local\\Temp\\pip-uninstall-8yfx6584\\core\\tests\\test_mem_overlap.py\n",
      "  Moving to c:\\users\\91876\\anaconda3\\envs\\antonioenv\\lib\\site-packages\\numpy\\core\\tests\\test_memmap.py\n",
      "   from C:\\Users\\91876\\AppData\\Local\\Temp\\pip-uninstall-8yfx6584\\core\\tests\\test_memmap.py\n",
      "  Moving to c:\\users\\91876\\anaconda3\\envs\\antonioenv\\lib\\site-packages\\numpy\\core\\tests\\test_multiarray.py\n",
      "   from C:\\Users\\91876\\AppData\\Local\\Temp\\pip-uninstall-8yfx6584\\core\\tests\\test_multiarray.py\n",
      "  Moving to c:\\users\\91876\\anaconda3\\envs\\antonioenv\\lib\\site-packages\\numpy\\core\\tests\\test_nditer.py\n",
      "   from C:\\Users\\91876\\AppData\\Local\\Temp\\pip-uninstall-8yfx6584\\core\\tests\\test_nditer.py\n",
      "  Moving to c:\\users\\91876\\anaconda3\\envs\\antonioenv\\lib\\site-packages\\numpy\\core\\tests\\test_numeric.py\n",
      "   from C:\\Users\\91876\\AppData\\Local\\Temp\\pip-uninstall-8yfx6584\\core\\tests\\test_numeric.py\n",
      "  Moving to c:\\users\\91876\\anaconda3\\envs\\antonioenv\\lib\\site-packages\\numpy\\core\\tests\\test_numerictypes.py\n",
      "   from C:\\Users\\91876\\AppData\\Local\\Temp\\pip-uninstall-8yfx6584\\core\\tests\\test_numerictypes.py\n",
      "  Moving to c:\\users\\91876\\anaconda3\\envs\\antonioenv\\lib\\site-packages\\numpy\\core\\tests\\test_overrides.py\n",
      "   from C:\\Users\\91876\\AppData\\Local\\Temp\\pip-uninstall-8yfx6584\\core\\tests\\test_overrides.py\n",
      "  Moving to c:\\users\\91876\\anaconda3\\envs\\antonioenv\\lib\\site-packages\\numpy\\core\\tests\\test_print.py\n",
      "   from C:\\Users\\91876\\AppData\\Local\\Temp\\pip-uninstall-8yfx6584\\core\\tests\\test_print.py\n",
      "  Moving to c:\\users\\91876\\anaconda3\\envs\\antonioenv\\lib\\site-packages\\numpy\\core\\tests\\test_protocols.py\n",
      "   from C:\\Users\\91876\\AppData\\Local\\Temp\\pip-uninstall-8yfx6584\\core\\tests\\test_protocols.py\n",
      "  Moving to c:\\users\\91876\\anaconda3\\envs\\antonioenv\\lib\\site-packages\\numpy\\core\\tests\\test_records.py\n",
      "   from C:\\Users\\91876\\AppData\\Local\\Temp\\pip-uninstall-8yfx6584\\core\\tests\\test_records.py\n",
      "  Moving to c:\\users\\91876\\anaconda3\\envs\\antonioenv\\lib\\site-packages\\numpy\\core\\tests\\test_regression.py\n",
      "   from C:\\Users\\91876\\AppData\\Local\\Temp\\pip-uninstall-8yfx6584\\core\\tests\\test_regression.py\n",
      "  Moving to c:\\users\\91876\\anaconda3\\envs\\antonioenv\\lib\\site-packages\\numpy\\core\\tests\\test_scalar_ctors.py\n",
      "   from C:\\Users\\91876\\AppData\\Local\\Temp\\pip-uninstall-8yfx6584\\core\\tests\\test_scalar_ctors.py\n",
      "  Moving to c:\\users\\91876\\anaconda3\\envs\\antonioenv\\lib\\site-packages\\numpy\\core\\tests\\test_scalar_methods.py\n",
      "   from C:\\Users\\91876\\AppData\\Local\\Temp\\pip-uninstall-8yfx6584\\core\\tests\\test_scalar_methods.py\n"
     ]
    },
    {
     "name": "stderr",
     "output_type": "stream",
     "text": [
      "WARNING: Ignoring invalid distribution -atplotlib (c:\\users\\91876\\anaconda3\\envs\\antonioenv\\lib\\site-packages)\n",
      "WARNING: Ignoring invalid distribution -illow (c:\\users\\91876\\appdata\\roaming\\python\\python38\\site-packages)\n",
      "WARNING: Ignoring invalid distribution -llow (c:\\users\\91876\\anaconda3\\envs\\antonioenv\\lib\\site-packages)\n",
      "WARNING: Ignoring invalid distribution -orchvision (c:\\users\\91876\\anaconda3\\envs\\antonioenv\\lib\\site-packages)\n",
      "WARNING: Ignoring invalid distribution -llow (c:\\users\\91876\\anaconda3\\envs\\antonioenv\\lib\\site-packages)\n",
      "WARNING: Ignoring invalid distribution - (c:\\users\\91876\\anaconda3\\envs\\antonioenv\\lib\\site-packages)\n",
      "WARNING: Ignoring invalid distribution -atplotlib (c:\\users\\91876\\anaconda3\\envs\\antonioenv\\lib\\site-packages)\n"
     ]
    },
    {
     "name": "stdout",
     "output_type": "stream",
     "text": [
      "  Moving to c:\\users\\91876\\anaconda3\\envs\\antonioenv\\lib\\site-packages\\numpy\\core\\tests\\test_scalarbuffer.py\n",
      "   from C:\\Users\\91876\\AppData\\Local\\Temp\\pip-uninstall-8yfx6584\\core\\tests\\test_scalarbuffer.py\n",
      "  Moving to c:\\users\\91876\\anaconda3\\envs\\antonioenv\\lib\\site-packages\\numpy\\core\\tests\\test_scalarinherit.py\n",
      "   from C:\\Users\\91876\\AppData\\Local\\Temp\\pip-uninstall-8yfx6584\\core\\tests\\test_scalarinherit.py\n",
      "  Moving to c:\\users\\91876\\anaconda3\\envs\\antonioenv\\lib\\site-packages\\numpy\\core\\tests\\test_scalarmath.py\n",
      "   from C:\\Users\\91876\\AppData\\Local\\Temp\\pip-uninstall-8yfx6584\\core\\tests\\test_scalarmath.py\n",
      "  Moving to c:\\users\\91876\\anaconda3\\envs\\antonioenv\\lib\\site-packages\\numpy\\core\\tests\\test_scalarprint.py\n",
      "   from C:\\Users\\91876\\AppData\\Local\\Temp\\pip-uninstall-8yfx6584\\core\\tests\\test_scalarprint.py\n",
      "  Moving to c:\\users\\91876\\anaconda3\\envs\\antonioenv\\lib\\site-packages\\numpy\\core\\tests\\test_shape_base.py\n",
      "   from C:\\Users\\91876\\AppData\\Local\\Temp\\pip-uninstall-8yfx6584\\core\\tests\\test_shape_base.py\n",
      "  Moving to c:\\users\\91876\\anaconda3\\envs\\antonioenv\\lib\\site-packages\\numpy\\core\\tests\\test_simd.py\n",
      "   from C:\\Users\\91876\\AppData\\Local\\Temp\\pip-uninstall-8yfx6584\\core\\tests\\test_simd.py\n",
      "  Moving to c:\\users\\91876\\anaconda3\\envs\\antonioenv\\lib\\site-packages\\numpy\\core\\tests\\test_simd_module.py\n",
      "   from C:\\Users\\91876\\AppData\\Local\\Temp\\pip-uninstall-8yfx6584\\core\\tests\\test_simd_module.py\n",
      "  Moving to c:\\users\\91876\\anaconda3\\envs\\antonioenv\\lib\\site-packages\\numpy\\core\\tests\\test_ufunc.py\n",
      "   from C:\\Users\\91876\\AppData\\Local\\Temp\\pip-uninstall-8yfx6584\\core\\tests\\test_ufunc.py\n",
      "  Moving to c:\\users\\91876\\anaconda3\\envs\\antonioenv\\lib\\site-packages\\numpy\\core\\tests\\test_umath.py\n",
      "   from C:\\Users\\91876\\AppData\\Local\\Temp\\pip-uninstall-8yfx6584\\core\\tests\\test_umath.py\n",
      "  Moving to c:\\users\\91876\\anaconda3\\envs\\antonioenv\\lib\\site-packages\\numpy\\core\\tests\\test_umath_accuracy.py\n",
      "   from C:\\Users\\91876\\AppData\\Local\\Temp\\pip-uninstall-8yfx6584\\core\\tests\\test_umath_accuracy.py\n",
      "  Moving to c:\\users\\91876\\anaconda3\\envs\\antonioenv\\lib\\site-packages\\numpy\\core\\tests\\test_umath_complex.py\n",
      "   from C:\\Users\\91876\\AppData\\Local\\Temp\\pip-uninstall-8yfx6584\\core\\tests\\test_umath_complex.py\n",
      "  Moving to c:\\users\\91876\\anaconda3\\envs\\antonioenv\\lib\\site-packages\\numpy\\core\\tests\\test_unicode.py\n",
      "   from C:\\Users\\91876\\AppData\\Local\\Temp\\pip-uninstall-8yfx6584\\core\\tests\\test_unicode.py\n",
      "  Moving to c:\\users\\91876\\anaconda3\\envs\\antonioenv\\lib\\site-packages\\numpy\\core\\umath.py\n",
      "   from C:\\Users\\91876\\AppData\\Local\\Temp\\pip-uninstall-8yfx6584\\core\\umath.py\n",
      "  Moving to c:\\users\\91876\\anaconda3\\envs\\antonioenv\\lib\\site-packages\\numpy\\core\\umath_tests.py\n",
      "   from C:\\Users\\91876\\AppData\\Local\\Temp\\pip-uninstall-8yfx6584\\core\\umath_tests.py\n",
      "  Moving to c:\\users\\91876\\anaconda3\\envs\\antonioenv\\lib\\site-packages\\numpy\\ctypeslib.py\n",
      "   from C:\\Users\\91876\\AppData\\Local\\Temp\\pip-uninstall-8yfx6584\\ctypeslib.py\n",
      "  Moving to c:\\users\\91876\\anaconda3\\envs\\antonioenv\\lib\\site-packages\\numpy\\ctypeslib.pyi\n",
      "   from C:\\Users\\91876\\AppData\\Local\\Temp\\pip-uninstall-8yfx6584\\ctypeslib.pyi\n",
      "  Moving to c:\\users\\91876\\anaconda3\\envs\\antonioenv\\lib\\site-packages\\numpy\\distutils\\__config__.py\n",
      "   from C:\\Users\\91876\\AppData\\Local\\Temp\\pip-uninstall-8yfx6584\\distutils\\__config__.py\n",
      "  Moving to c:\\users\\91876\\anaconda3\\envs\\antonioenv\\lib\\site-packages\\numpy\\distutils\\__init__.py\n",
      "   from C:\\Users\\91876\\AppData\\Local\\Temp\\pip-uninstall-8yfx6584\\distutils\\__init__.py\n",
      "  Moving to c:\\users\\91876\\anaconda3\\envs\\antonioenv\\lib\\site-packages\\numpy\\distutils\\__init__.pyi\n",
      "   from C:\\Users\\91876\\AppData\\Local\\Temp\\pip-uninstall-8yfx6584\\distutils\\__init__.pyi\n",
      "  Moving to c:\\users\\91876\\anaconda3\\envs\\antonioenv\\lib\\site-packages\\numpy\\distutils\\__pycache__\\__config__.cpython-38.pyc\n",
      "   from C:\\Users\\91876\\AppData\\Local\\Temp\\pip-uninstall-8yfx6584\\distutils\\__pycache__\\__config__.cpython-38.pyc\n",
      "  Moving to c:\\users\\91876\\anaconda3\\envs\\antonioenv\\lib\\site-packages\\numpy\\distutils\\__pycache__\\__init__.cpython-38.pyc\n",
      "   from C:\\Users\\91876\\AppData\\Local\\Temp\\pip-uninstall-8yfx6584\\distutils\\__pycache__\\__init__.cpython-38.pyc\n",
      "  Moving to c:\\users\\91876\\anaconda3\\envs\\antonioenv\\lib\\site-packages\\numpy\\distutils\\__pycache__\\_shell_utils.cpython-38.pyc\n",
      "   from C:\\Users\\91876\\AppData\\Local\\Temp\\pip-uninstall-8yfx6584\\distutils\\__pycache__\\_shell_utils.cpython-38.pyc\n",
      "  Moving to c:\\users\\91876\\anaconda3\\envs\\antonioenv\\lib\\site-packages\\numpy\\distutils\\__pycache__\\ccompiler.cpython-38.pyc\n",
      "   from C:\\Users\\91876\\AppData\\Local\\Temp\\pip-uninstall-8yfx6584\\distutils\\__pycache__\\ccompiler.cpython-38.pyc\n",
      "  Moving to c:\\users\\91876\\anaconda3\\envs\\antonioenv\\lib\\site-packages\\numpy\\distutils\\__pycache__\\ccompiler_opt.cpython-38.pyc\n",
      "   from C:\\Users\\91876\\AppData\\Local\\Temp\\pip-uninstall-8yfx6584\\distutils\\__pycache__\\ccompiler_opt.cpython-38.pyc\n",
      "  Moving to c:\\users\\91876\\anaconda3\\envs\\antonioenv\\lib\\site-packages\\numpy\\distutils\\__pycache__\\conv_template.cpython-38.pyc\n",
      "   from C:\\Users\\91876\\AppData\\Local\\Temp\\pip-uninstall-8yfx6584\\distutils\\__pycache__\\conv_template.cpython-38.pyc\n",
      "  Moving to c:\\users\\91876\\anaconda3\\envs\\antonioenv\\lib\\site-packages\\numpy\\distutils\\__pycache__\\core.cpython-38.pyc\n",
      "   from C:\\Users\\91876\\AppData\\Local\\Temp\\pip-uninstall-8yfx6584\\distutils\\__pycache__\\core.cpython-38.pyc\n",
      "  Moving to c:\\users\\91876\\anaconda3\\envs\\antonioenv\\lib\\site-packages\\numpy\\distutils\\__pycache__\\cpuinfo.cpython-38.pyc\n",
      "   from C:\\Users\\91876\\AppData\\Local\\Temp\\pip-uninstall-8yfx6584\\distutils\\__pycache__\\cpuinfo.cpython-38.pyc\n",
      "  Moving to c:\\users\\91876\\anaconda3\\envs\\antonioenv\\lib\\site-packages\\numpy\\distutils\\__pycache__\\exec_command.cpython-38.pyc\n",
      "   from C:\\Users\\91876\\AppData\\Local\\Temp\\pip-uninstall-8yfx6584\\distutils\\__pycache__\\exec_command.cpython-38.pyc\n",
      "  Moving to c:\\users\\91876\\anaconda3\\envs\\antonioenv\\lib\\site-packages\\numpy\\distutils\\__pycache__\\extension.cpython-38.pyc\n",
      "   from C:\\Users\\91876\\AppData\\Local\\Temp\\pip-uninstall-8yfx6584\\distutils\\__pycache__\\extension.cpython-38.pyc\n",
      "  Moving to c:\\users\\91876\\anaconda3\\envs\\antonioenv\\lib\\site-packages\\numpy\\distutils\\__pycache__\\from_template.cpython-38.pyc\n",
      "   from C:\\Users\\91876\\AppData\\Local\\Temp\\pip-uninstall-8yfx6584\\distutils\\__pycache__\\from_template.cpython-38.pyc\n",
      "  Moving to c:\\users\\91876\\anaconda3\\envs\\antonioenv\\lib\\site-packages\\numpy\\distutils\\__pycache__\\intelccompiler.cpython-38.pyc\n",
      "   from C:\\Users\\91876\\AppData\\Local\\Temp\\pip-uninstall-8yfx6584\\distutils\\__pycache__\\intelccompiler.cpython-38.pyc\n",
      "  Moving to c:\\users\\91876\\anaconda3\\envs\\antonioenv\\lib\\site-packages\\numpy\\distutils\\__pycache__\\lib2def.cpython-38.pyc\n",
      "   from C:\\Users\\91876\\AppData\\Local\\Temp\\pip-uninstall-8yfx6584\\distutils\\__pycache__\\lib2def.cpython-38.pyc\n",
      "  Moving to c:\\users\\91876\\anaconda3\\envs\\antonioenv\\lib\\site-packages\\numpy\\distutils\\__pycache__\\line_endings.cpython-38.pyc\n",
      "   from C:\\Users\\91876\\AppData\\Local\\Temp\\pip-uninstall-8yfx6584\\distutils\\__pycache__\\line_endings.cpython-38.pyc\n",
      "  Moving to c:\\users\\91876\\anaconda3\\envs\\antonioenv\\lib\\site-packages\\numpy\\distutils\\__pycache__\\log.cpython-38.pyc\n",
      "   from C:\\Users\\91876\\AppData\\Local\\Temp\\pip-uninstall-8yfx6584\\distutils\\__pycache__\\log.cpython-38.pyc\n",
      "  Moving to c:\\users\\91876\\anaconda3\\envs\\antonioenv\\lib\\site-packages\\numpy\\distutils\\__pycache__\\mingw32ccompiler.cpython-38.pyc\n",
      "   from C:\\Users\\91876\\AppData\\Local\\Temp\\pip-uninstall-8yfx6584\\distutils\\__pycache__\\mingw32ccompiler.cpython-38.pyc\n",
      "  Moving to c:\\users\\91876\\anaconda3\\envs\\antonioenv\\lib\\site-packages\\numpy\\distutils\\__pycache__\\misc_util.cpython-38.pyc\n",
      "   from C:\\Users\\91876\\AppData\\Local\\Temp\\pip-uninstall-8yfx6584\\distutils\\__pycache__\\misc_util.cpython-38.pyc\n",
      "  Moving to c:\\users\\91876\\anaconda3\\envs\\antonioenv\\lib\\site-packages\\numpy\\distutils\\__pycache__\\msvc9compiler.cpython-38.pyc\n",
      "   from C:\\Users\\91876\\AppData\\Local\\Temp\\pip-uninstall-8yfx6584\\distutils\\__pycache__\\msvc9compiler.cpython-38.pyc\n",
      "  Moving to c:\\users\\91876\\anaconda3\\envs\\antonioenv\\lib\\site-packages\\numpy\\distutils\\__pycache__\\msvccompiler.cpython-38.pyc\n",
      "   from C:\\Users\\91876\\AppData\\Local\\Temp\\pip-uninstall-8yfx6584\\distutils\\__pycache__\\msvccompiler.cpython-38.pyc\n",
      "  Moving to c:\\users\\91876\\anaconda3\\envs\\antonioenv\\lib\\site-packages\\numpy\\distutils\\__pycache__\\npy_pkg_config.cpython-38.pyc\n",
      "   from C:\\Users\\91876\\AppData\\Local\\Temp\\pip-uninstall-8yfx6584\\distutils\\__pycache__\\npy_pkg_config.cpython-38.pyc\n",
      "  Moving to c:\\users\\91876\\anaconda3\\envs\\antonioenv\\lib\\site-packages\\numpy\\distutils\\__pycache__\\numpy_distribution.cpython-38.pyc\n",
      "   from C:\\Users\\91876\\AppData\\Local\\Temp\\pip-uninstall-8yfx6584\\distutils\\__pycache__\\numpy_distribution.cpython-38.pyc\n",
      "  Moving to c:\\users\\91876\\anaconda3\\envs\\antonioenv\\lib\\site-packages\\numpy\\distutils\\__pycache__\\pathccompiler.cpython-38.pyc\n",
      "   from C:\\Users\\91876\\AppData\\Local\\Temp\\pip-uninstall-8yfx6584\\distutils\\__pycache__\\pathccompiler.cpython-38.pyc\n",
      "  Moving to c:\\users\\91876\\anaconda3\\envs\\antonioenv\\lib\\site-packages\\numpy\\distutils\\__pycache__\\setup.cpython-38.pyc\n",
      "   from C:\\Users\\91876\\AppData\\Local\\Temp\\pip-uninstall-8yfx6584\\distutils\\__pycache__\\setup.cpython-38.pyc\n",
      "  Moving to c:\\users\\91876\\anaconda3\\envs\\antonioenv\\lib\\site-packages\\numpy\\distutils\\__pycache__\\system_info.cpython-38.pyc\n",
      "   from C:\\Users\\91876\\AppData\\Local\\Temp\\pip-uninstall-8yfx6584\\distutils\\__pycache__\\system_info.cpython-38.pyc\n",
      "  Moving to c:\\users\\91876\\anaconda3\\envs\\antonioenv\\lib\\site-packages\\numpy\\distutils\\__pycache__\\unixccompiler.cpython-38.pyc\n",
      "   from C:\\Users\\91876\\AppData\\Local\\Temp\\pip-uninstall-8yfx6584\\distutils\\__pycache__\\unixccompiler.cpython-38.pyc\n",
      "  Moving to c:\\users\\91876\\anaconda3\\envs\\antonioenv\\lib\\site-packages\\numpy\\distutils\\_shell_utils.py\n",
      "   from C:\\Users\\91876\\AppData\\Local\\Temp\\pip-uninstall-8yfx6584\\distutils\\_shell_utils.py\n",
      "  Moving to c:\\users\\91876\\anaconda3\\envs\\antonioenv\\lib\\site-packages\\numpy\\distutils\\ccompiler.py\n",
      "   from C:\\Users\\91876\\AppData\\Local\\Temp\\pip-uninstall-8yfx6584\\distutils\\ccompiler.py\n",
      "  Moving to c:\\users\\91876\\anaconda3\\envs\\antonioenv\\lib\\site-packages\\numpy\\distutils\\ccompiler_opt.py\n",
      "   from C:\\Users\\91876\\AppData\\Local\\Temp\\pip-uninstall-8yfx6584\\distutils\\ccompiler_opt.py\n",
      "  Moving to c:\\users\\91876\\anaconda3\\envs\\antonioenv\\lib\\site-packages\\numpy\\distutils\\checks\\\n",
      "   from C:\\Users\\91876\\anaconda3\\envs\\AntonioEnv\\Lib\\site-packages\\numpy\\distutils\\~=ecks\n",
      "  Moving to c:\\users\\91876\\anaconda3\\envs\\antonioenv\\lib\\site-packages\\numpy\\distutils\\command\\\n",
      "   from C:\\Users\\91876\\anaconda3\\envs\\AntonioEnv\\Lib\\site-packages\\numpy\\distutils\\~=mmand\n",
      "  Moving to c:\\users\\91876\\anaconda3\\envs\\antonioenv\\lib\\site-packages\\numpy\\distutils\\conv_template.py\n",
      "   from C:\\Users\\91876\\AppData\\Local\\Temp\\pip-uninstall-8yfx6584\\distutils\\conv_template.py\n",
      "  Moving to c:\\users\\91876\\anaconda3\\envs\\antonioenv\\lib\\site-packages\\numpy\\distutils\\core.py\n",
      "   from C:\\Users\\91876\\AppData\\Local\\Temp\\pip-uninstall-8yfx6584\\distutils\\core.py\n",
      "  Moving to c:\\users\\91876\\anaconda3\\envs\\antonioenv\\lib\\site-packages\\numpy\\distutils\\cpuinfo.py\n",
      "   from C:\\Users\\91876\\AppData\\Local\\Temp\\pip-uninstall-8yfx6584\\distutils\\cpuinfo.py\n",
      "  Moving to c:\\users\\91876\\anaconda3\\envs\\antonioenv\\lib\\site-packages\\numpy\\distutils\\exec_command.py\n",
      "   from C:\\Users\\91876\\AppData\\Local\\Temp\\pip-uninstall-8yfx6584\\distutils\\exec_command.py\n",
      "  Moving to c:\\users\\91876\\anaconda3\\envs\\antonioenv\\lib\\site-packages\\numpy\\distutils\\extension.py\n",
      "   from C:\\Users\\91876\\AppData\\Local\\Temp\\pip-uninstall-8yfx6584\\distutils\\extension.py\n",
      "  Moving to c:\\users\\91876\\anaconda3\\envs\\antonioenv\\lib\\site-packages\\numpy\\distutils\\fcompiler\\\n",
      "   from C:\\Users\\91876\\anaconda3\\envs\\AntonioEnv\\Lib\\site-packages\\numpy\\distutils\\~=ompiler\n",
      "  Moving to c:\\users\\91876\\anaconda3\\envs\\antonioenv\\lib\\site-packages\\numpy\\distutils\\from_template.py\n",
      "   from C:\\Users\\91876\\AppData\\Local\\Temp\\pip-uninstall-8yfx6584\\distutils\\from_template.py\n",
      "  Moving to c:\\users\\91876\\anaconda3\\envs\\antonioenv\\lib\\site-packages\\numpy\\distutils\\intelccompiler.py\n",
      "   from C:\\Users\\91876\\AppData\\Local\\Temp\\pip-uninstall-8yfx6584\\distutils\\intelccompiler.py\n",
      "  Moving to c:\\users\\91876\\anaconda3\\envs\\antonioenv\\lib\\site-packages\\numpy\\distutils\\lib2def.py\n",
      "   from C:\\Users\\91876\\AppData\\Local\\Temp\\pip-uninstall-8yfx6584\\distutils\\lib2def.py\n",
      "  Moving to c:\\users\\91876\\anaconda3\\envs\\antonioenv\\lib\\site-packages\\numpy\\distutils\\line_endings.py\n",
      "   from C:\\Users\\91876\\AppData\\Local\\Temp\\pip-uninstall-8yfx6584\\distutils\\line_endings.py\n",
      "  Moving to c:\\users\\91876\\anaconda3\\envs\\antonioenv\\lib\\site-packages\\numpy\\distutils\\log.py\n",
      "   from C:\\Users\\91876\\AppData\\Local\\Temp\\pip-uninstall-8yfx6584\\distutils\\log.py\n",
      "  Moving to c:\\users\\91876\\anaconda3\\envs\\antonioenv\\lib\\site-packages\\numpy\\distutils\\mingw32ccompiler.py\n",
      "   from C:\\Users\\91876\\AppData\\Local\\Temp\\pip-uninstall-8yfx6584\\distutils\\mingw32ccompiler.py\n",
      "  Moving to c:\\users\\91876\\anaconda3\\envs\\antonioenv\\lib\\site-packages\\numpy\\distutils\\mingw\\\n",
      "   from C:\\Users\\91876\\anaconda3\\envs\\AntonioEnv\\Lib\\site-packages\\numpy\\distutils\\~=ngw\n",
      "  Moving to c:\\users\\91876\\anaconda3\\envs\\antonioenv\\lib\\site-packages\\numpy\\distutils\\misc_util.py\n",
      "   from C:\\Users\\91876\\AppData\\Local\\Temp\\pip-uninstall-8yfx6584\\distutils\\misc_util.py\n",
      "  Moving to c:\\users\\91876\\anaconda3\\envs\\antonioenv\\lib\\site-packages\\numpy\\distutils\\msvc9compiler.py\n",
      "   from C:\\Users\\91876\\AppData\\Local\\Temp\\pip-uninstall-8yfx6584\\distutils\\msvc9compiler.py\n",
      "  Moving to c:\\users\\91876\\anaconda3\\envs\\antonioenv\\lib\\site-packages\\numpy\\distutils\\msvccompiler.py\n",
      "   from C:\\Users\\91876\\AppData\\Local\\Temp\\pip-uninstall-8yfx6584\\distutils\\msvccompiler.py\n",
      "  Moving to c:\\users\\91876\\anaconda3\\envs\\antonioenv\\lib\\site-packages\\numpy\\distutils\\npy_pkg_config.py\n",
      "   from C:\\Users\\91876\\AppData\\Local\\Temp\\pip-uninstall-8yfx6584\\distutils\\npy_pkg_config.py\n",
      "  Moving to c:\\users\\91876\\anaconda3\\envs\\antonioenv\\lib\\site-packages\\numpy\\distutils\\numpy_distribution.py\n",
      "   from C:\\Users\\91876\\AppData\\Local\\Temp\\pip-uninstall-8yfx6584\\distutils\\numpy_distribution.py\n",
      "  Moving to c:\\users\\91876\\anaconda3\\envs\\antonioenv\\lib\\site-packages\\numpy\\distutils\\pathccompiler.py\n",
      "   from C:\\Users\\91876\\AppData\\Local\\Temp\\pip-uninstall-8yfx6584\\distutils\\pathccompiler.py\n",
      "  Moving to c:\\users\\91876\\anaconda3\\envs\\antonioenv\\lib\\site-packages\\numpy\\distutils\\setup.py\n",
      "   from C:\\Users\\91876\\AppData\\Local\\Temp\\pip-uninstall-8yfx6584\\distutils\\setup.py\n",
      "  Moving to c:\\users\\91876\\anaconda3\\envs\\antonioenv\\lib\\site-packages\\numpy\\distutils\\system_info.py\n",
      "   from C:\\Users\\91876\\AppData\\Local\\Temp\\pip-uninstall-8yfx6584\\distutils\\system_info.py\n",
      "  Moving to c:\\users\\91876\\anaconda3\\envs\\antonioenv\\lib\\site-packages\\numpy\\distutils\\tests\\\n",
      "   from C:\\Users\\91876\\anaconda3\\envs\\AntonioEnv\\Lib\\site-packages\\numpy\\distutils\\~=sts\n",
      "  Moving to c:\\users\\91876\\anaconda3\\envs\\antonioenv\\lib\\site-packages\\numpy\\distutils\\unixccompiler.py\n",
      "   from C:\\Users\\91876\\AppData\\Local\\Temp\\pip-uninstall-8yfx6584\\distutils\\unixccompiler.py\n",
      "  Moving to c:\\users\\91876\\anaconda3\\envs\\antonioenv\\lib\\site-packages\\numpy\\doc\\__init__.py\n",
      "   from C:\\Users\\91876\\AppData\\Local\\Temp\\pip-uninstall-8yfx6584\\doc\\__init__.py\n",
      "  Moving to c:\\users\\91876\\anaconda3\\envs\\antonioenv\\lib\\site-packages\\numpy\\doc\\__pycache__\\__init__.cpython-38.pyc\n",
      "   from C:\\Users\\91876\\AppData\\Local\\Temp\\pip-uninstall-8yfx6584\\doc\\__pycache__\\__init__.cpython-38.pyc\n",
      "  Moving to c:\\users\\91876\\anaconda3\\envs\\antonioenv\\lib\\site-packages\\numpy\\doc\\__pycache__\\constants.cpython-38.pyc\n",
      "   from C:\\Users\\91876\\AppData\\Local\\Temp\\pip-uninstall-8yfx6584\\doc\\__pycache__\\constants.cpython-38.pyc\n",
      "  Moving to c:\\users\\91876\\anaconda3\\envs\\antonioenv\\lib\\site-packages\\numpy\\doc\\__pycache__\\ufuncs.cpython-38.pyc\n",
      "   from C:\\Users\\91876\\AppData\\Local\\Temp\\pip-uninstall-8yfx6584\\doc\\__pycache__\\ufuncs.cpython-38.pyc\n",
      "  Moving to c:\\users\\91876\\anaconda3\\envs\\antonioenv\\lib\\site-packages\\numpy\\doc\\constants.py\n",
      "   from C:\\Users\\91876\\AppData\\Local\\Temp\\pip-uninstall-8yfx6584\\doc\\constants.py\n",
      "  Moving to c:\\users\\91876\\anaconda3\\envs\\antonioenv\\lib\\site-packages\\numpy\\doc\\ufuncs.py\n",
      "   from C:\\Users\\91876\\AppData\\Local\\Temp\\pip-uninstall-8yfx6584\\doc\\ufuncs.py\n",
      "  Moving to c:\\users\\91876\\anaconda3\\envs\\antonioenv\\lib\\site-packages\\numpy\\dual.py\n",
      "   from C:\\Users\\91876\\AppData\\Local\\Temp\\pip-uninstall-8yfx6584\\dual.py\n",
      "  Moving to c:\\users\\91876\\anaconda3\\envs\\antonioenv\\lib\\site-packages\\numpy\\emath.pyi\n",
      "   from C:\\Users\\91876\\AppData\\Local\\Temp\\pip-uninstall-8yfx6584\\emath.pyi\n",
      "  Moving to c:\\users\\91876\\anaconda3\\envs\\antonioenv\\lib\\site-packages\\numpy\\f2py\\\n",
      "   from C:\\Users\\91876\\anaconda3\\envs\\AntonioEnv\\Lib\\site-packages\\numpy\\~=py\n",
      "  Moving to c:\\users\\91876\\anaconda3\\envs\\antonioenv\\lib\\site-packages\\numpy\\fft\\__init__.py\n",
      "   from C:\\Users\\91876\\AppData\\Local\\Temp\\pip-uninstall-8yfx6584\\fft\\__init__.py\n",
      "  Moving to c:\\users\\91876\\anaconda3\\envs\\antonioenv\\lib\\site-packages\\numpy\\fft\\__init__.pyi\n",
      "   from C:\\Users\\91876\\AppData\\Local\\Temp\\pip-uninstall-8yfx6584\\fft\\__init__.pyi\n",
      "  Moving to c:\\users\\91876\\anaconda3\\envs\\antonioenv\\lib\\site-packages\\numpy\\fft\\__pycache__\\\n",
      "   from C:\\Users\\91876\\anaconda3\\envs\\AntonioEnv\\Lib\\site-packages\\numpy\\fft\\~.pycache__\n",
      "  Moving to c:\\users\\91876\\anaconda3\\envs\\antonioenv\\lib\\site-packages\\numpy\\fft\\_pocketfft.py\n",
      "   from C:\\Users\\91876\\AppData\\Local\\Temp\\pip-uninstall-8yfx6584\\fft\\_pocketfft.py\n",
      "  Moving to c:\\users\\91876\\anaconda3\\envs\\antonioenv\\lib\\site-packages\\numpy\\fft\\_pocketfft_internal.cp38-win_amd64.pyd\n",
      "   from C:\\Users\\91876\\AppData\\Local\\Temp\\pip-uninstall-8yfx6584\\fft\\_pocketfft_internal.cp38-win_amd64.pyd\n",
      "  Moving to c:\\users\\91876\\anaconda3\\envs\\antonioenv\\lib\\site-packages\\numpy\\fft\\helper.py\n",
      "   from C:\\Users\\91876\\AppData\\Local\\Temp\\pip-uninstall-8yfx6584\\fft\\helper.py\n",
      "  Moving to c:\\users\\91876\\anaconda3\\envs\\antonioenv\\lib\\site-packages\\numpy\\fft\\setup.py\n",
      "   from C:\\Users\\91876\\AppData\\Local\\Temp\\pip-uninstall-8yfx6584\\fft\\setup.py\n",
      "  Moving to c:\\users\\91876\\anaconda3\\envs\\antonioenv\\lib\\site-packages\\numpy\\fft\\tests\\\n",
      "   from C:\\Users\\91876\\anaconda3\\envs\\AntonioEnv\\Lib\\site-packages\\numpy\\fft\\~.sts\n",
      "  Moving to c:\\users\\91876\\anaconda3\\envs\\antonioenv\\lib\\site-packages\\numpy\\lib\\__init__.py\n",
      "   from C:\\Users\\91876\\AppData\\Local\\Temp\\pip-uninstall-8yfx6584\\lib\\__init__.py\n",
      "  Moving to c:\\users\\91876\\anaconda3\\envs\\antonioenv\\lib\\site-packages\\numpy\\lib\\__init__.pyi\n",
      "   from C:\\Users\\91876\\AppData\\Local\\Temp\\pip-uninstall-8yfx6584\\lib\\__init__.pyi\n",
      "  Moving to c:\\users\\91876\\anaconda3\\envs\\antonioenv\\lib\\site-packages\\numpy\\lib\\__pycache__\\__init__.cpython-38.pyc\n",
      "   from C:\\Users\\91876\\AppData\\Local\\Temp\\pip-uninstall-8yfx6584\\lib\\__pycache__\\__init__.cpython-38.pyc\n",
      "  Moving to c:\\users\\91876\\anaconda3\\envs\\antonioenv\\lib\\site-packages\\numpy\\lib\\__pycache__\\_datasource.cpython-38.pyc\n",
      "   from C:\\Users\\91876\\AppData\\Local\\Temp\\pip-uninstall-8yfx6584\\lib\\__pycache__\\_datasource.cpython-38.pyc\n",
      "  Moving to c:\\users\\91876\\anaconda3\\envs\\antonioenv\\lib\\site-packages\\numpy\\lib\\__pycache__\\_iotools.cpython-38.pyc\n",
      "   from C:\\Users\\91876\\AppData\\Local\\Temp\\pip-uninstall-8yfx6584\\lib\\__pycache__\\_iotools.cpython-38.pyc\n",
      "  Moving to c:\\users\\91876\\anaconda3\\envs\\antonioenv\\lib\\site-packages\\numpy\\lib\\__pycache__\\_version.cpython-38.pyc\n",
      "   from C:\\Users\\91876\\AppData\\Local\\Temp\\pip-uninstall-8yfx6584\\lib\\__pycache__\\_version.cpython-38.pyc\n",
      "  Moving to c:\\users\\91876\\anaconda3\\envs\\antonioenv\\lib\\site-packages\\numpy\\lib\\__pycache__\\arraypad.cpython-38.pyc\n",
      "   from C:\\Users\\91876\\AppData\\Local\\Temp\\pip-uninstall-8yfx6584\\lib\\__pycache__\\arraypad.cpython-38.pyc\n",
      "  Moving to c:\\users\\91876\\anaconda3\\envs\\antonioenv\\lib\\site-packages\\numpy\\lib\\__pycache__\\arraysetops.cpython-38.pyc\n",
      "   from C:\\Users\\91876\\AppData\\Local\\Temp\\pip-uninstall-8yfx6584\\lib\\__pycache__\\arraysetops.cpython-38.pyc\n",
      "  Moving to c:\\users\\91876\\anaconda3\\envs\\antonioenv\\lib\\site-packages\\numpy\\lib\\__pycache__\\arrayterator.cpython-38.pyc\n",
      "   from C:\\Users\\91876\\AppData\\Local\\Temp\\pip-uninstall-8yfx6584\\lib\\__pycache__\\arrayterator.cpython-38.pyc\n",
      "  Moving to c:\\users\\91876\\anaconda3\\envs\\antonioenv\\lib\\site-packages\\numpy\\lib\\__pycache__\\format.cpython-38.pyc\n",
      "   from C:\\Users\\91876\\AppData\\Local\\Temp\\pip-uninstall-8yfx6584\\lib\\__pycache__\\format.cpython-38.pyc\n",
      "  Moving to c:\\users\\91876\\anaconda3\\envs\\antonioenv\\lib\\site-packages\\numpy\\lib\\__pycache__\\function_base.cpython-38.pyc\n",
      "   from C:\\Users\\91876\\AppData\\Local\\Temp\\pip-uninstall-8yfx6584\\lib\\__pycache__\\function_base.cpython-38.pyc\n",
      "  Moving to c:\\users\\91876\\anaconda3\\envs\\antonioenv\\lib\\site-packages\\numpy\\lib\\__pycache__\\histograms.cpython-38.pyc\n",
      "   from C:\\Users\\91876\\AppData\\Local\\Temp\\pip-uninstall-8yfx6584\\lib\\__pycache__\\histograms.cpython-38.pyc\n",
      "  Moving to c:\\users\\91876\\anaconda3\\envs\\antonioenv\\lib\\site-packages\\numpy\\lib\\__pycache__\\index_tricks.cpython-38.pyc\n",
      "   from C:\\Users\\91876\\AppData\\Local\\Temp\\pip-uninstall-8yfx6584\\lib\\__pycache__\\index_tricks.cpython-38.pyc\n",
      "  Moving to c:\\users\\91876\\anaconda3\\envs\\antonioenv\\lib\\site-packages\\numpy\\lib\\__pycache__\\mixins.cpython-38.pyc\n",
      "   from C:\\Users\\91876\\AppData\\Local\\Temp\\pip-uninstall-8yfx6584\\lib\\__pycache__\\mixins.cpython-38.pyc\n",
      "  Moving to c:\\users\\91876\\anaconda3\\envs\\antonioenv\\lib\\site-packages\\numpy\\lib\\__pycache__\\nanfunctions.cpython-38.pyc\n",
      "   from C:\\Users\\91876\\AppData\\Local\\Temp\\pip-uninstall-8yfx6584\\lib\\__pycache__\\nanfunctions.cpython-38.pyc\n",
      "  Moving to c:\\users\\91876\\anaconda3\\envs\\antonioenv\\lib\\site-packages\\numpy\\lib\\__pycache__\\npyio.cpython-38.pyc\n",
      "   from C:\\Users\\91876\\AppData\\Local\\Temp\\pip-uninstall-8yfx6584\\lib\\__pycache__\\npyio.cpython-38.pyc\n",
      "  Moving to c:\\users\\91876\\anaconda3\\envs\\antonioenv\\lib\\site-packages\\numpy\\lib\\__pycache__\\polynomial.cpython-38.pyc\n",
      "   from C:\\Users\\91876\\AppData\\Local\\Temp\\pip-uninstall-8yfx6584\\lib\\__pycache__\\polynomial.cpython-38.pyc\n",
      "  Moving to c:\\users\\91876\\anaconda3\\envs\\antonioenv\\lib\\site-packages\\numpy\\lib\\__pycache__\\recfunctions.cpython-38.pyc\n",
      "   from C:\\Users\\91876\\AppData\\Local\\Temp\\pip-uninstall-8yfx6584\\lib\\__pycache__\\recfunctions.cpython-38.pyc\n",
      "  Moving to c:\\users\\91876\\anaconda3\\envs\\antonioenv\\lib\\site-packages\\numpy\\lib\\__pycache__\\scimath.cpython-38.pyc\n",
      "   from C:\\Users\\91876\\AppData\\Local\\Temp\\pip-uninstall-8yfx6584\\lib\\__pycache__\\scimath.cpython-38.pyc\n",
      "  Moving to c:\\users\\91876\\anaconda3\\envs\\antonioenv\\lib\\site-packages\\numpy\\lib\\__pycache__\\setup.cpython-38.pyc\n",
      "   from C:\\Users\\91876\\AppData\\Local\\Temp\\pip-uninstall-8yfx6584\\lib\\__pycache__\\setup.cpython-38.pyc\n",
      "  Moving to c:\\users\\91876\\anaconda3\\envs\\antonioenv\\lib\\site-packages\\numpy\\lib\\__pycache__\\shape_base.cpython-38.pyc\n",
      "   from C:\\Users\\91876\\AppData\\Local\\Temp\\pip-uninstall-8yfx6584\\lib\\__pycache__\\shape_base.cpython-38.pyc\n",
      "  Moving to c:\\users\\91876\\anaconda3\\envs\\antonioenv\\lib\\site-packages\\numpy\\lib\\__pycache__\\stride_tricks.cpython-38.pyc\n",
      "   from C:\\Users\\91876\\AppData\\Local\\Temp\\pip-uninstall-8yfx6584\\lib\\__pycache__\\stride_tricks.cpython-38.pyc\n",
      "  Moving to c:\\users\\91876\\anaconda3\\envs\\antonioenv\\lib\\site-packages\\numpy\\lib\\__pycache__\\twodim_base.cpython-38.pyc\n",
      "   from C:\\Users\\91876\\AppData\\Local\\Temp\\pip-uninstall-8yfx6584\\lib\\__pycache__\\twodim_base.cpython-38.pyc\n",
      "  Moving to c:\\users\\91876\\anaconda3\\envs\\antonioenv\\lib\\site-packages\\numpy\\lib\\__pycache__\\type_check.cpython-38.pyc\n",
      "   from C:\\Users\\91876\\AppData\\Local\\Temp\\pip-uninstall-8yfx6584\\lib\\__pycache__\\type_check.cpython-38.pyc\n",
      "  Moving to c:\\users\\91876\\anaconda3\\envs\\antonioenv\\lib\\site-packages\\numpy\\lib\\__pycache__\\ufunclike.cpython-38.pyc\n",
      "   from C:\\Users\\91876\\AppData\\Local\\Temp\\pip-uninstall-8yfx6584\\lib\\__pycache__\\ufunclike.cpython-38.pyc\n",
      "  Moving to c:\\users\\91876\\anaconda3\\envs\\antonioenv\\lib\\site-packages\\numpy\\lib\\__pycache__\\user_array.cpython-38.pyc\n",
      "   from C:\\Users\\91876\\AppData\\Local\\Temp\\pip-uninstall-8yfx6584\\lib\\__pycache__\\user_array.cpython-38.pyc\n",
      "  Moving to c:\\users\\91876\\anaconda3\\envs\\antonioenv\\lib\\site-packages\\numpy\\lib\\__pycache__\\utils.cpython-38.pyc\n",
      "   from C:\\Users\\91876\\AppData\\Local\\Temp\\pip-uninstall-8yfx6584\\lib\\__pycache__\\utils.cpython-38.pyc\n",
      "  Moving to c:\\users\\91876\\anaconda3\\envs\\antonioenv\\lib\\site-packages\\numpy\\lib\\_datasource.py\n",
      "   from C:\\Users\\91876\\AppData\\Local\\Temp\\pip-uninstall-8yfx6584\\lib\\_datasource.py\n",
      "  Moving to c:\\users\\91876\\anaconda3\\envs\\antonioenv\\lib\\site-packages\\numpy\\lib\\_iotools.py\n",
      "   from C:\\Users\\91876\\AppData\\Local\\Temp\\pip-uninstall-8yfx6584\\lib\\_iotools.py\n",
      "  Moving to c:\\users\\91876\\anaconda3\\envs\\antonioenv\\lib\\site-packages\\numpy\\lib\\_version.py\n",
      "   from C:\\Users\\91876\\AppData\\Local\\Temp\\pip-uninstall-8yfx6584\\lib\\_version.py\n",
      "  Moving to c:\\users\\91876\\anaconda3\\envs\\antonioenv\\lib\\site-packages\\numpy\\lib\\arraypad.py\n",
      "   from C:\\Users\\91876\\AppData\\Local\\Temp\\pip-uninstall-8yfx6584\\lib\\arraypad.py\n",
      "  Moving to c:\\users\\91876\\anaconda3\\envs\\antonioenv\\lib\\site-packages\\numpy\\lib\\arraysetops.py\n",
      "   from C:\\Users\\91876\\AppData\\Local\\Temp\\pip-uninstall-8yfx6584\\lib\\arraysetops.py\n",
      "  Moving to c:\\users\\91876\\anaconda3\\envs\\antonioenv\\lib\\site-packages\\numpy\\lib\\arrayterator.py\n",
      "   from C:\\Users\\91876\\AppData\\Local\\Temp\\pip-uninstall-8yfx6584\\lib\\arrayterator.py\n",
      "  Moving to c:\\users\\91876\\anaconda3\\envs\\antonioenv\\lib\\site-packages\\numpy\\lib\\format.py\n",
      "   from C:\\Users\\91876\\AppData\\Local\\Temp\\pip-uninstall-8yfx6584\\lib\\format.py\n",
      "  Moving to c:\\users\\91876\\anaconda3\\envs\\antonioenv\\lib\\site-packages\\numpy\\lib\\function_base.py\n",
      "   from C:\\Users\\91876\\AppData\\Local\\Temp\\pip-uninstall-8yfx6584\\lib\\function_base.py\n",
      "  Moving to c:\\users\\91876\\anaconda3\\envs\\antonioenv\\lib\\site-packages\\numpy\\lib\\histograms.py\n",
      "   from C:\\Users\\91876\\AppData\\Local\\Temp\\pip-uninstall-8yfx6584\\lib\\histograms.py\n",
      "  Moving to c:\\users\\91876\\anaconda3\\envs\\antonioenv\\lib\\site-packages\\numpy\\lib\\index_tricks.py\n",
      "   from C:\\Users\\91876\\AppData\\Local\\Temp\\pip-uninstall-8yfx6584\\lib\\index_tricks.py\n",
      "  Moving to c:\\users\\91876\\anaconda3\\envs\\antonioenv\\lib\\site-packages\\numpy\\lib\\mixins.py\n",
      "   from C:\\Users\\91876\\AppData\\Local\\Temp\\pip-uninstall-8yfx6584\\lib\\mixins.py\n",
      "  Moving to c:\\users\\91876\\anaconda3\\envs\\antonioenv\\lib\\site-packages\\numpy\\lib\\nanfunctions.py\n",
      "   from C:\\Users\\91876\\AppData\\Local\\Temp\\pip-uninstall-8yfx6584\\lib\\nanfunctions.py\n",
      "  Moving to c:\\users\\91876\\anaconda3\\envs\\antonioenv\\lib\\site-packages\\numpy\\lib\\npyio.py\n",
      "   from C:\\Users\\91876\\AppData\\Local\\Temp\\pip-uninstall-8yfx6584\\lib\\npyio.py\n",
      "  Moving to c:\\users\\91876\\anaconda3\\envs\\antonioenv\\lib\\site-packages\\numpy\\lib\\polynomial.py\n",
      "   from C:\\Users\\91876\\AppData\\Local\\Temp\\pip-uninstall-8yfx6584\\lib\\polynomial.py\n",
      "  Moving to c:\\users\\91876\\anaconda3\\envs\\antonioenv\\lib\\site-packages\\numpy\\lib\\recfunctions.py\n",
      "   from C:\\Users\\91876\\AppData\\Local\\Temp\\pip-uninstall-8yfx6584\\lib\\recfunctions.py\n",
      "  Moving to c:\\users\\91876\\anaconda3\\envs\\antonioenv\\lib\\site-packages\\numpy\\lib\\scimath.py\n",
      "   from C:\\Users\\91876\\AppData\\Local\\Temp\\pip-uninstall-8yfx6584\\lib\\scimath.py\n",
      "  Moving to c:\\users\\91876\\anaconda3\\envs\\antonioenv\\lib\\site-packages\\numpy\\lib\\setup.py\n",
      "   from C:\\Users\\91876\\AppData\\Local\\Temp\\pip-uninstall-8yfx6584\\lib\\setup.py\n",
      "  Moving to c:\\users\\91876\\anaconda3\\envs\\antonioenv\\lib\\site-packages\\numpy\\lib\\shape_base.py\n",
      "   from C:\\Users\\91876\\AppData\\Local\\Temp\\pip-uninstall-8yfx6584\\lib\\shape_base.py\n",
      "  Moving to c:\\users\\91876\\anaconda3\\envs\\antonioenv\\lib\\site-packages\\numpy\\lib\\stride_tricks.py\n",
      "   from C:\\Users\\91876\\AppData\\Local\\Temp\\pip-uninstall-8yfx6584\\lib\\stride_tricks.py\n",
      "  Moving to c:\\users\\91876\\anaconda3\\envs\\antonioenv\\lib\\site-packages\\numpy\\lib\\tests\\__init__.py\n",
      "   from C:\\Users\\91876\\AppData\\Local\\Temp\\pip-uninstall-8yfx6584\\lib\\tests\\__init__.py\n",
      "  Moving to c:\\users\\91876\\anaconda3\\envs\\antonioenv\\lib\\site-packages\\numpy\\lib\\tests\\__pycache__\\__init__.cpython-38.pyc\n",
      "   from C:\\Users\\91876\\AppData\\Local\\Temp\\pip-uninstall-8yfx6584\\lib\\tests\\__pycache__\\__init__.cpython-38.pyc\n",
      "  Moving to c:\\users\\91876\\anaconda3\\envs\\antonioenv\\lib\\site-packages\\numpy\\lib\\tests\\__pycache__\\test__datasource.cpython-38.pyc\n",
      "   from C:\\Users\\91876\\AppData\\Local\\Temp\\pip-uninstall-8yfx6584\\lib\\tests\\__pycache__\\test__datasource.cpython-38.pyc\n",
      "  Moving to c:\\users\\91876\\anaconda3\\envs\\antonioenv\\lib\\site-packages\\numpy\\lib\\tests\\__pycache__\\test__iotools.cpython-38.pyc\n",
      "   from C:\\Users\\91876\\AppData\\Local\\Temp\\pip-uninstall-8yfx6584\\lib\\tests\\__pycache__\\test__iotools.cpython-38.pyc\n",
      "  Moving to c:\\users\\91876\\anaconda3\\envs\\antonioenv\\lib\\site-packages\\numpy\\lib\\tests\\__pycache__\\test__version.cpython-38.pyc\n",
      "   from C:\\Users\\91876\\AppData\\Local\\Temp\\pip-uninstall-8yfx6584\\lib\\tests\\__pycache__\\test__version.cpython-38.pyc\n",
      "  Moving to c:\\users\\91876\\anaconda3\\envs\\antonioenv\\lib\\site-packages\\numpy\\lib\\tests\\__pycache__\\test_arraypad.cpython-38.pyc\n",
      "   from C:\\Users\\91876\\AppData\\Local\\Temp\\pip-uninstall-8yfx6584\\lib\\tests\\__pycache__\\test_arraypad.cpython-38.pyc\n",
      "  Moving to c:\\users\\91876\\anaconda3\\envs\\antonioenv\\lib\\site-packages\\numpy\\lib\\tests\\__pycache__\\test_arraysetops.cpython-38.pyc\n",
      "   from C:\\Users\\91876\\AppData\\Local\\Temp\\pip-uninstall-8yfx6584\\lib\\tests\\__pycache__\\test_arraysetops.cpython-38.pyc\n",
      "  Moving to c:\\users\\91876\\anaconda3\\envs\\antonioenv\\lib\\site-packages\\numpy\\lib\\tests\\__pycache__\\test_arrayterator.cpython-38.pyc\n",
      "   from C:\\Users\\91876\\AppData\\Local\\Temp\\pip-uninstall-8yfx6584\\lib\\tests\\__pycache__\\test_arrayterator.cpython-38.pyc\n",
      "  Moving to c:\\users\\91876\\anaconda3\\envs\\antonioenv\\lib\\site-packages\\numpy\\lib\\tests\\__pycache__\\test_financial_expired.cpython-38.pyc\n",
      "   from C:\\Users\\91876\\AppData\\Local\\Temp\\pip-uninstall-8yfx6584\\lib\\tests\\__pycache__\\test_financial_expired.cpython-38.pyc\n",
      "  Moving to c:\\users\\91876\\anaconda3\\envs\\antonioenv\\lib\\site-packages\\numpy\\lib\\tests\\__pycache__\\test_format.cpython-38.pyc\n",
      "   from C:\\Users\\91876\\AppData\\Local\\Temp\\pip-uninstall-8yfx6584\\lib\\tests\\__pycache__\\test_format.cpython-38.pyc\n",
      "  Moving to c:\\users\\91876\\anaconda3\\envs\\antonioenv\\lib\\site-packages\\numpy\\lib\\tests\\__pycache__\\test_function_base.cpython-38.pyc\n",
      "   from C:\\Users\\91876\\AppData\\Local\\Temp\\pip-uninstall-8yfx6584\\lib\\tests\\__pycache__\\test_function_base.cpython-38.pyc\n",
      "  Moving to c:\\users\\91876\\anaconda3\\envs\\antonioenv\\lib\\site-packages\\numpy\\lib\\tests\\__pycache__\\test_histograms.cpython-38.pyc\n",
      "   from C:\\Users\\91876\\AppData\\Local\\Temp\\pip-uninstall-8yfx6584\\lib\\tests\\__pycache__\\test_histograms.cpython-38.pyc\n",
      "  Moving to c:\\users\\91876\\anaconda3\\envs\\antonioenv\\lib\\site-packages\\numpy\\lib\\tests\\__pycache__\\test_index_tricks.cpython-38.pyc\n",
      "   from C:\\Users\\91876\\AppData\\Local\\Temp\\pip-uninstall-8yfx6584\\lib\\tests\\__pycache__\\test_index_tricks.cpython-38.pyc\n",
      "  Moving to c:\\users\\91876\\anaconda3\\envs\\antonioenv\\lib\\site-packages\\numpy\\lib\\tests\\__pycache__\\test_io.cpython-38.pyc\n",
      "   from C:\\Users\\91876\\AppData\\Local\\Temp\\pip-uninstall-8yfx6584\\lib\\tests\\__pycache__\\test_io.cpython-38.pyc\n",
      "  Moving to c:\\users\\91876\\anaconda3\\envs\\antonioenv\\lib\\site-packages\\numpy\\lib\\tests\\__pycache__\\test_mixins.cpython-38.pyc\n",
      "   from C:\\Users\\91876\\AppData\\Local\\Temp\\pip-uninstall-8yfx6584\\lib\\tests\\__pycache__\\test_mixins.cpython-38.pyc\n",
      "  Moving to c:\\users\\91876\\anaconda3\\envs\\antonioenv\\lib\\site-packages\\numpy\\lib\\tests\\__pycache__\\test_nanfunctions.cpython-38.pyc\n",
      "   from C:\\Users\\91876\\AppData\\Local\\Temp\\pip-uninstall-8yfx6584\\lib\\tests\\__pycache__\\test_nanfunctions.cpython-38.pyc\n",
      "  Moving to c:\\users\\91876\\anaconda3\\envs\\antonioenv\\lib\\site-packages\\numpy\\lib\\tests\\__pycache__\\test_packbits.cpython-38.pyc\n",
      "   from C:\\Users\\91876\\AppData\\Local\\Temp\\pip-uninstall-8yfx6584\\lib\\tests\\__pycache__\\test_packbits.cpython-38.pyc\n",
      "  Moving to c:\\users\\91876\\anaconda3\\envs\\antonioenv\\lib\\site-packages\\numpy\\lib\\tests\\__pycache__\\test_polynomial.cpython-38.pyc\n",
      "   from C:\\Users\\91876\\AppData\\Local\\Temp\\pip-uninstall-8yfx6584\\lib\\tests\\__pycache__\\test_polynomial.cpython-38.pyc\n",
      "  Moving to c:\\users\\91876\\anaconda3\\envs\\antonioenv\\lib\\site-packages\\numpy\\lib\\tests\\__pycache__\\test_recfunctions.cpython-38.pyc\n",
      "   from C:\\Users\\91876\\AppData\\Local\\Temp\\pip-uninstall-8yfx6584\\lib\\tests\\__pycache__\\test_recfunctions.cpython-38.pyc\n",
      "  Moving to c:\\users\\91876\\anaconda3\\envs\\antonioenv\\lib\\site-packages\\numpy\\lib\\tests\\__pycache__\\test_regression.cpython-38.pyc\n",
      "   from C:\\Users\\91876\\AppData\\Local\\Temp\\pip-uninstall-8yfx6584\\lib\\tests\\__pycache__\\test_regression.cpython-38.pyc\n",
      "  Moving to c:\\users\\91876\\anaconda3\\envs\\antonioenv\\lib\\site-packages\\numpy\\lib\\tests\\__pycache__\\test_shape_base.cpython-38.pyc\n",
      "   from C:\\Users\\91876\\AppData\\Local\\Temp\\pip-uninstall-8yfx6584\\lib\\tests\\__pycache__\\test_shape_base.cpython-38.pyc\n",
      "  Moving to c:\\users\\91876\\anaconda3\\envs\\antonioenv\\lib\\site-packages\\numpy\\lib\\tests\\__pycache__\\test_stride_tricks.cpython-38.pyc\n",
      "   from C:\\Users\\91876\\AppData\\Local\\Temp\\pip-uninstall-8yfx6584\\lib\\tests\\__pycache__\\test_stride_tricks.cpython-38.pyc\n",
      "  Moving to c:\\users\\91876\\anaconda3\\envs\\antonioenv\\lib\\site-packages\\numpy\\lib\\tests\\__pycache__\\test_twodim_base.cpython-38.pyc\n",
      "   from C:\\Users\\91876\\AppData\\Local\\Temp\\pip-uninstall-8yfx6584\\lib\\tests\\__pycache__\\test_twodim_base.cpython-38.pyc\n",
      "  Moving to c:\\users\\91876\\anaconda3\\envs\\antonioenv\\lib\\site-packages\\numpy\\lib\\tests\\__pycache__\\test_type_check.cpython-38.pyc\n",
      "   from C:\\Users\\91876\\AppData\\Local\\Temp\\pip-uninstall-8yfx6584\\lib\\tests\\__pycache__\\test_type_check.cpython-38.pyc\n",
      "  Moving to c:\\users\\91876\\anaconda3\\envs\\antonioenv\\lib\\site-packages\\numpy\\lib\\tests\\__pycache__\\test_ufunclike.cpython-38.pyc\n",
      "   from C:\\Users\\91876\\AppData\\Local\\Temp\\pip-uninstall-8yfx6584\\lib\\tests\\__pycache__\\test_ufunclike.cpython-38.pyc\n",
      "  Moving to c:\\users\\91876\\anaconda3\\envs\\antonioenv\\lib\\site-packages\\numpy\\lib\\tests\\__pycache__\\test_utils.cpython-38.pyc\n",
      "   from C:\\Users\\91876\\AppData\\Local\\Temp\\pip-uninstall-8yfx6584\\lib\\tests\\__pycache__\\test_utils.cpython-38.pyc\n",
      "  Moving to c:\\users\\91876\\anaconda3\\envs\\antonioenv\\lib\\site-packages\\numpy\\lib\\tests\\data\\\n",
      "   from C:\\Users\\91876\\anaconda3\\envs\\AntonioEnv\\Lib\\site-packages\\numpy\\lib\\tests\\~=ta\n",
      "  Moving to c:\\users\\91876\\anaconda3\\envs\\antonioenv\\lib\\site-packages\\numpy\\lib\\tests\\test__datasource.py\n",
      "   from C:\\Users\\91876\\AppData\\Local\\Temp\\pip-uninstall-8yfx6584\\lib\\tests\\test__datasource.py\n",
      "  Moving to c:\\users\\91876\\anaconda3\\envs\\antonioenv\\lib\\site-packages\\numpy\\lib\\tests\\test__iotools.py\n",
      "   from C:\\Users\\91876\\AppData\\Local\\Temp\\pip-uninstall-8yfx6584\\lib\\tests\\test__iotools.py\n",
      "  Moving to c:\\users\\91876\\anaconda3\\envs\\antonioenv\\lib\\site-packages\\numpy\\lib\\tests\\test__version.py\n",
      "   from C:\\Users\\91876\\AppData\\Local\\Temp\\pip-uninstall-8yfx6584\\lib\\tests\\test__version.py\n",
      "  Moving to c:\\users\\91876\\anaconda3\\envs\\antonioenv\\lib\\site-packages\\numpy\\lib\\tests\\test_arraypad.py\n",
      "   from C:\\Users\\91876\\AppData\\Local\\Temp\\pip-uninstall-8yfx6584\\lib\\tests\\test_arraypad.py\n",
      "  Moving to c:\\users\\91876\\anaconda3\\envs\\antonioenv\\lib\\site-packages\\numpy\\lib\\tests\\test_arraysetops.py\n",
      "   from C:\\Users\\91876\\AppData\\Local\\Temp\\pip-uninstall-8yfx6584\\lib\\tests\\test_arraysetops.py\n",
      "  Moving to c:\\users\\91876\\anaconda3\\envs\\antonioenv\\lib\\site-packages\\numpy\\lib\\tests\\test_arrayterator.py\n",
      "   from C:\\Users\\91876\\AppData\\Local\\Temp\\pip-uninstall-8yfx6584\\lib\\tests\\test_arrayterator.py\n",
      "  Moving to c:\\users\\91876\\anaconda3\\envs\\antonioenv\\lib\\site-packages\\numpy\\lib\\tests\\test_financial_expired.py\n",
      "   from C:\\Users\\91876\\AppData\\Local\\Temp\\pip-uninstall-8yfx6584\\lib\\tests\\test_financial_expired.py\n",
      "  Moving to c:\\users\\91876\\anaconda3\\envs\\antonioenv\\lib\\site-packages\\numpy\\lib\\tests\\test_format.py\n",
      "   from C:\\Users\\91876\\AppData\\Local\\Temp\\pip-uninstall-8yfx6584\\lib\\tests\\test_format.py\n",
      "  Moving to c:\\users\\91876\\anaconda3\\envs\\antonioenv\\lib\\site-packages\\numpy\\lib\\tests\\test_function_base.py\n",
      "   from C:\\Users\\91876\\AppData\\Local\\Temp\\pip-uninstall-8yfx6584\\lib\\tests\\test_function_base.py\n",
      "  Moving to c:\\users\\91876\\anaconda3\\envs\\antonioenv\\lib\\site-packages\\numpy\\lib\\tests\\test_histograms.py\n",
      "   from C:\\Users\\91876\\AppData\\Local\\Temp\\pip-uninstall-8yfx6584\\lib\\tests\\test_histograms.py\n",
      "  Moving to c:\\users\\91876\\anaconda3\\envs\\antonioenv\\lib\\site-packages\\numpy\\lib\\tests\\test_index_tricks.py\n",
      "   from C:\\Users\\91876\\AppData\\Local\\Temp\\pip-uninstall-8yfx6584\\lib\\tests\\test_index_tricks.py\n",
      "  Moving to c:\\users\\91876\\anaconda3\\envs\\antonioenv\\lib\\site-packages\\numpy\\lib\\tests\\test_io.py\n",
      "   from C:\\Users\\91876\\AppData\\Local\\Temp\\pip-uninstall-8yfx6584\\lib\\tests\\test_io.py\n",
      "  Moving to c:\\users\\91876\\anaconda3\\envs\\antonioenv\\lib\\site-packages\\numpy\\lib\\tests\\test_mixins.py\n",
      "   from C:\\Users\\91876\\AppData\\Local\\Temp\\pip-uninstall-8yfx6584\\lib\\tests\\test_mixins.py\n",
      "  Moving to c:\\users\\91876\\anaconda3\\envs\\antonioenv\\lib\\site-packages\\numpy\\lib\\tests\\test_nanfunctions.py\n",
      "   from C:\\Users\\91876\\AppData\\Local\\Temp\\pip-uninstall-8yfx6584\\lib\\tests\\test_nanfunctions.py\n",
      "  Moving to c:\\users\\91876\\anaconda3\\envs\\antonioenv\\lib\\site-packages\\numpy\\lib\\tests\\test_packbits.py\n",
      "   from C:\\Users\\91876\\AppData\\Local\\Temp\\pip-uninstall-8yfx6584\\lib\\tests\\test_packbits.py\n",
      "  Moving to c:\\users\\91876\\anaconda3\\envs\\antonioenv\\lib\\site-packages\\numpy\\lib\\tests\\test_polynomial.py\n",
      "   from C:\\Users\\91876\\AppData\\Local\\Temp\\pip-uninstall-8yfx6584\\lib\\tests\\test_polynomial.py\n",
      "  Moving to c:\\users\\91876\\anaconda3\\envs\\antonioenv\\lib\\site-packages\\numpy\\lib\\tests\\test_recfunctions.py\n",
      "   from C:\\Users\\91876\\AppData\\Local\\Temp\\pip-uninstall-8yfx6584\\lib\\tests\\test_recfunctions.py\n",
      "  Moving to c:\\users\\91876\\anaconda3\\envs\\antonioenv\\lib\\site-packages\\numpy\\lib\\tests\\test_regression.py\n",
      "   from C:\\Users\\91876\\AppData\\Local\\Temp\\pip-uninstall-8yfx6584\\lib\\tests\\test_regression.py\n",
      "  Moving to c:\\users\\91876\\anaconda3\\envs\\antonioenv\\lib\\site-packages\\numpy\\lib\\tests\\test_shape_base.py\n",
      "   from C:\\Users\\91876\\AppData\\Local\\Temp\\pip-uninstall-8yfx6584\\lib\\tests\\test_shape_base.py\n",
      "  Moving to c:\\users\\91876\\anaconda3\\envs\\antonioenv\\lib\\site-packages\\numpy\\lib\\tests\\test_stride_tricks.py\n",
      "   from C:\\Users\\91876\\AppData\\Local\\Temp\\pip-uninstall-8yfx6584\\lib\\tests\\test_stride_tricks.py\n",
      "  Moving to c:\\users\\91876\\anaconda3\\envs\\antonioenv\\lib\\site-packages\\numpy\\lib\\tests\\test_twodim_base.py\n",
      "   from C:\\Users\\91876\\AppData\\Local\\Temp\\pip-uninstall-8yfx6584\\lib\\tests\\test_twodim_base.py\n",
      "  Moving to c:\\users\\91876\\anaconda3\\envs\\antonioenv\\lib\\site-packages\\numpy\\lib\\tests\\test_type_check.py\n",
      "   from C:\\Users\\91876\\AppData\\Local\\Temp\\pip-uninstall-8yfx6584\\lib\\tests\\test_type_check.py\n",
      "  Moving to c:\\users\\91876\\anaconda3\\envs\\antonioenv\\lib\\site-packages\\numpy\\lib\\tests\\test_ufunclike.py\n",
      "   from C:\\Users\\91876\\AppData\\Local\\Temp\\pip-uninstall-8yfx6584\\lib\\tests\\test_ufunclike.py\n",
      "  Moving to c:\\users\\91876\\anaconda3\\envs\\antonioenv\\lib\\site-packages\\numpy\\lib\\tests\\test_utils.py\n",
      "   from C:\\Users\\91876\\AppData\\Local\\Temp\\pip-uninstall-8yfx6584\\lib\\tests\\test_utils.py\n",
      "  Moving to c:\\users\\91876\\anaconda3\\envs\\antonioenv\\lib\\site-packages\\numpy\\lib\\twodim_base.py\n",
      "   from C:\\Users\\91876\\AppData\\Local\\Temp\\pip-uninstall-8yfx6584\\lib\\twodim_base.py\n",
      "  Moving to c:\\users\\91876\\anaconda3\\envs\\antonioenv\\lib\\site-packages\\numpy\\lib\\type_check.py\n",
      "   from C:\\Users\\91876\\AppData\\Local\\Temp\\pip-uninstall-8yfx6584\\lib\\type_check.py\n",
      "  Moving to c:\\users\\91876\\anaconda3\\envs\\antonioenv\\lib\\site-packages\\numpy\\lib\\ufunclike.py\n",
      "   from C:\\Users\\91876\\AppData\\Local\\Temp\\pip-uninstall-8yfx6584\\lib\\ufunclike.py\n",
      "  Moving to c:\\users\\91876\\anaconda3\\envs\\antonioenv\\lib\\site-packages\\numpy\\lib\\user_array.py\n",
      "   from C:\\Users\\91876\\AppData\\Local\\Temp\\pip-uninstall-8yfx6584\\lib\\user_array.py\n",
      "  Moving to c:\\users\\91876\\anaconda3\\envs\\antonioenv\\lib\\site-packages\\numpy\\lib\\utils.py\n",
      "   from C:\\Users\\91876\\AppData\\Local\\Temp\\pip-uninstall-8yfx6584\\lib\\utils.py\n",
      "  Moving to c:\\users\\91876\\anaconda3\\envs\\antonioenv\\lib\\site-packages\\numpy\\license.txt\n",
      "   from C:\\Users\\91876\\AppData\\Local\\Temp\\pip-uninstall-8yfx6584\\license.txt\n",
      "  Moving to c:\\users\\91876\\anaconda3\\envs\\antonioenv\\lib\\site-packages\\numpy\\linalg\\__init__.py\n",
      "   from C:\\Users\\91876\\AppData\\Local\\Temp\\pip-uninstall-8yfx6584\\linalg\\__init__.py\n",
      "  Moving to c:\\users\\91876\\anaconda3\\envs\\antonioenv\\lib\\site-packages\\numpy\\linalg\\__init__.pyi\n",
      "   from C:\\Users\\91876\\AppData\\Local\\Temp\\pip-uninstall-8yfx6584\\linalg\\__init__.pyi\n",
      "  Moving to c:\\users\\91876\\anaconda3\\envs\\antonioenv\\lib\\site-packages\\numpy\\linalg\\__pycache__\\\n",
      "   from C:\\Users\\91876\\anaconda3\\envs\\AntonioEnv\\Lib\\site-packages\\numpy\\linalg\\~.pycache__\n",
      "  Moving to c:\\users\\91876\\anaconda3\\envs\\antonioenv\\lib\\site-packages\\numpy\\linalg\\_umath_linalg.cp38-win_amd64.pyd\n",
      "   from C:\\Users\\91876\\AppData\\Local\\Temp\\pip-uninstall-8yfx6584\\linalg\\_umath_linalg.cp38-win_amd64.pyd\n",
      "  Moving to c:\\users\\91876\\anaconda3\\envs\\antonioenv\\lib\\site-packages\\numpy\\linalg\\lapack_lite.cp38-win_amd64.pyd\n",
      "   from C:\\Users\\91876\\AppData\\Local\\Temp\\pip-uninstall-8yfx6584\\linalg\\lapack_lite.cp38-win_amd64.pyd\n",
      "  Moving to c:\\users\\91876\\anaconda3\\envs\\antonioenv\\lib\\site-packages\\numpy\\linalg\\linalg.py\n",
      "   from C:\\Users\\91876\\AppData\\Local\\Temp\\pip-uninstall-8yfx6584\\linalg\\linalg.py\n",
      "  Moving to c:\\users\\91876\\anaconda3\\envs\\antonioenv\\lib\\site-packages\\numpy\\linalg\\setup.py\n",
      "   from C:\\Users\\91876\\AppData\\Local\\Temp\\pip-uninstall-8yfx6584\\linalg\\setup.py\n",
      "  Moving to c:\\users\\91876\\anaconda3\\envs\\antonioenv\\lib\\site-packages\\numpy\\linalg\\tests\\\n",
      "   from C:\\Users\\91876\\anaconda3\\envs\\AntonioEnv\\Lib\\site-packages\\numpy\\linalg\\~.sts\n",
      "  Moving to c:\\users\\91876\\anaconda3\\envs\\antonioenv\\lib\\site-packages\\numpy\\ma\\\n",
      "   from C:\\Users\\91876\\anaconda3\\envs\\AntonioEnv\\Lib\\site-packages\\numpy\\~.ma\n",
      "  Moving to c:\\users\\91876\\anaconda3\\envs\\antonioenv\\lib\\site-packages\\numpy\\matlib.py\n",
      "   from C:\\Users\\91876\\AppData\\Local\\Temp\\pip-uninstall-8yfx6584\\matlib.py\n",
      "  Moving to c:\\users\\91876\\anaconda3\\envs\\antonioenv\\lib\\site-packages\\numpy\\matrixlib\\\n",
      "   from C:\\Users\\91876\\anaconda3\\envs\\AntonioEnv\\Lib\\site-packages\\numpy\\~=trixlib\n",
      "  Moving to c:\\users\\91876\\anaconda3\\envs\\antonioenv\\lib\\site-packages\\numpy\\polynomial\\\n",
      "   from C:\\Users\\91876\\anaconda3\\envs\\AntonioEnv\\Lib\\site-packages\\numpy\\~=lynomial\n",
      "  Moving to c:\\users\\91876\\anaconda3\\envs\\antonioenv\\lib\\site-packages\\numpy\\py.typed\n",
      "   from C:\\Users\\91876\\AppData\\Local\\Temp\\pip-uninstall-8yfx6584\\py.typed\n",
      "  Moving to c:\\users\\91876\\anaconda3\\envs\\antonioenv\\lib\\site-packages\\numpy\\random\\__init__.pxd\n",
      "   from C:\\Users\\91876\\AppData\\Local\\Temp\\pip-uninstall-8yfx6584\\random\\__init__.pxd\n",
      "  Moving to c:\\users\\91876\\anaconda3\\envs\\antonioenv\\lib\\site-packages\\numpy\\random\\__init__.py\n",
      "   from C:\\Users\\91876\\AppData\\Local\\Temp\\pip-uninstall-8yfx6584\\random\\__init__.py\n",
      "  Moving to c:\\users\\91876\\anaconda3\\envs\\antonioenv\\lib\\site-packages\\numpy\\random\\__init__.pyi\n",
      "   from C:\\Users\\91876\\AppData\\Local\\Temp\\pip-uninstall-8yfx6584\\random\\__init__.pyi\n",
      "  Moving to c:\\users\\91876\\anaconda3\\envs\\antonioenv\\lib\\site-packages\\numpy\\random\\__pycache__\\\n",
      "   from C:\\Users\\91876\\anaconda3\\envs\\AntonioEnv\\Lib\\site-packages\\numpy\\random\\~=pycache__\n",
      "  Moving to c:\\users\\91876\\anaconda3\\envs\\antonioenv\\lib\\site-packages\\numpy\\random\\_bounded_integers.cp38-win_amd64.pyd\n",
      "   from C:\\Users\\91876\\AppData\\Local\\Temp\\pip-uninstall-8yfx6584\\random\\_bounded_integers.cp38-win_amd64.pyd\n",
      "  Moving to c:\\users\\91876\\anaconda3\\envs\\antonioenv\\lib\\site-packages\\numpy\\random\\_bounded_integers.pxd\n",
      "   from C:\\Users\\91876\\AppData\\Local\\Temp\\pip-uninstall-8yfx6584\\random\\_bounded_integers.pxd\n",
      "  Moving to c:\\users\\91876\\anaconda3\\envs\\antonioenv\\lib\\site-packages\\numpy\\random\\_common.cp38-win_amd64.pyd\n",
      "   from C:\\Users\\91876\\AppData\\Local\\Temp\\pip-uninstall-8yfx6584\\random\\_common.cp38-win_amd64.pyd\n",
      "  Moving to c:\\users\\91876\\anaconda3\\envs\\antonioenv\\lib\\site-packages\\numpy\\random\\_common.pxd\n",
      "   from C:\\Users\\91876\\AppData\\Local\\Temp\\pip-uninstall-8yfx6584\\random\\_common.pxd\n",
      "  Moving to c:\\users\\91876\\anaconda3\\envs\\antonioenv\\lib\\site-packages\\numpy\\random\\_examples\\cffi\\\n",
      "   from C:\\Users\\91876\\anaconda3\\envs\\AntonioEnv\\Lib\\site-packages\\numpy\\random\\_examples\\~=fi\n",
      "  Moving to c:\\users\\91876\\anaconda3\\envs\\antonioenv\\lib\\site-packages\\numpy\\random\\_examples\\cython\\\n",
      "   from C:\\Users\\91876\\anaconda3\\envs\\AntonioEnv\\Lib\\site-packages\\numpy\\random\\_examples\\~=thon\n",
      "  Moving to c:\\users\\91876\\anaconda3\\envs\\antonioenv\\lib\\site-packages\\numpy\\random\\_examples\\numba\\\n",
      "   from C:\\Users\\91876\\anaconda3\\envs\\AntonioEnv\\Lib\\site-packages\\numpy\\random\\_examples\\~=mba\n",
      "  Moving to c:\\users\\91876\\anaconda3\\envs\\antonioenv\\lib\\site-packages\\numpy\\random\\_generator.cp38-win_amd64.pyd\n",
      "   from C:\\Users\\91876\\AppData\\Local\\Temp\\pip-uninstall-8yfx6584\\random\\_generator.cp38-win_amd64.pyd\n",
      "  Moving to c:\\users\\91876\\anaconda3\\envs\\antonioenv\\lib\\site-packages\\numpy\\random\\_mt19937.cp38-win_amd64.pyd\n",
      "   from C:\\Users\\91876\\AppData\\Local\\Temp\\pip-uninstall-8yfx6584\\random\\_mt19937.cp38-win_amd64.pyd\n",
      "  Moving to c:\\users\\91876\\anaconda3\\envs\\antonioenv\\lib\\site-packages\\numpy\\random\\_pcg64.cp38-win_amd64.pyd\n",
      "   from C:\\Users\\91876\\AppData\\Local\\Temp\\pip-uninstall-8yfx6584\\random\\_pcg64.cp38-win_amd64.pyd\n",
      "  Moving to c:\\users\\91876\\anaconda3\\envs\\antonioenv\\lib\\site-packages\\numpy\\random\\_philox.cp38-win_amd64.pyd\n",
      "   from C:\\Users\\91876\\AppData\\Local\\Temp\\pip-uninstall-8yfx6584\\random\\_philox.cp38-win_amd64.pyd\n",
      "  Moving to c:\\users\\91876\\anaconda3\\envs\\antonioenv\\lib\\site-packages\\numpy\\random\\_pickle.py\n",
      "   from C:\\Users\\91876\\AppData\\Local\\Temp\\pip-uninstall-8yfx6584\\random\\_pickle.py\n",
      "  Moving to c:\\users\\91876\\anaconda3\\envs\\antonioenv\\lib\\site-packages\\numpy\\random\\_sfc64.cp38-win_amd64.pyd\n",
      "   from C:\\Users\\91876\\AppData\\Local\\Temp\\pip-uninstall-8yfx6584\\random\\_sfc64.cp38-win_amd64.pyd\n",
      "  Moving to c:\\users\\91876\\anaconda3\\envs\\antonioenv\\lib\\site-packages\\numpy\\random\\bit_generator.cp38-win_amd64.pyd\n",
      "   from C:\\Users\\91876\\AppData\\Local\\Temp\\pip-uninstall-8yfx6584\\random\\bit_generator.cp38-win_amd64.pyd\n",
      "  Moving to c:\\users\\91876\\anaconda3\\envs\\antonioenv\\lib\\site-packages\\numpy\\random\\bit_generator.pxd\n",
      "   from C:\\Users\\91876\\AppData\\Local\\Temp\\pip-uninstall-8yfx6584\\random\\bit_generator.pxd\n",
      "  Moving to c:\\users\\91876\\anaconda3\\envs\\antonioenv\\lib\\site-packages\\numpy\\random\\c_distributions.pxd\n",
      "   from C:\\Users\\91876\\AppData\\Local\\Temp\\pip-uninstall-8yfx6584\\random\\c_distributions.pxd\n",
      "  Moving to c:\\users\\91876\\anaconda3\\envs\\antonioenv\\lib\\site-packages\\numpy\\random\\lib\\\n",
      "   from C:\\Users\\91876\\anaconda3\\envs\\AntonioEnv\\Lib\\site-packages\\numpy\\random\\~=b\n",
      "  Moving to c:\\users\\91876\\anaconda3\\envs\\antonioenv\\lib\\site-packages\\numpy\\random\\mtrand.cp38-win_amd64.pyd\n",
      "   from C:\\Users\\91876\\AppData\\Local\\Temp\\pip-uninstall-8yfx6584\\random\\mtrand.cp38-win_amd64.pyd\n",
      "  Moving to c:\\users\\91876\\anaconda3\\envs\\antonioenv\\lib\\site-packages\\numpy\\random\\setup.py\n",
      "   from C:\\Users\\91876\\AppData\\Local\\Temp\\pip-uninstall-8yfx6584\\random\\setup.py\n",
      "  Moving to c:\\users\\91876\\anaconda3\\envs\\antonioenv\\lib\\site-packages\\numpy\\random\\tests\\\n",
      "   from C:\\Users\\91876\\anaconda3\\envs\\AntonioEnv\\Lib\\site-packages\\numpy\\random\\~=sts\n",
      "  Moving to c:\\users\\91876\\anaconda3\\envs\\antonioenv\\lib\\site-packages\\numpy\\rec.pyi\n",
      "   from C:\\Users\\91876\\AppData\\Local\\Temp\\pip-uninstall-8yfx6584\\rec.pyi\n",
      "  Moving to c:\\users\\91876\\anaconda3\\envs\\antonioenv\\lib\\site-packages\\numpy\\setup.py\n",
      "   from C:\\Users\\91876\\AppData\\Local\\Temp\\pip-uninstall-8yfx6584\\setup.py\n",
      "  Moving to c:\\users\\91876\\anaconda3\\envs\\antonioenv\\lib\\site-packages\\numpy\\testing\\\n",
      "   from C:\\Users\\91876\\anaconda3\\envs\\AntonioEnv\\Lib\\site-packages\\numpy\\~=sting\n",
      "  Moving to c:\\users\\91876\\anaconda3\\envs\\antonioenv\\lib\\site-packages\\numpy\\tests\\\n",
      "   from C:\\Users\\91876\\anaconda3\\envs\\AntonioEnv\\Lib\\site-packages\\numpy\\~=sts\n",
      "  Moving to c:\\users\\91876\\anaconda3\\envs\\antonioenv\\lib\\site-packages\\numpy\\typing\\\n",
      "   from C:\\Users\\91876\\anaconda3\\envs\\AntonioEnv\\Lib\\site-packages\\numpy\\~=ping\n",
      "  Moving to c:\\users\\91876\\anaconda3\\envs\\antonioenv\\lib\\site-packages\\numpy\\version.py\n",
      "   from C:\\Users\\91876\\AppData\\Local\\Temp\\pip-uninstall-8yfx6584\\version.py\n",
      "  Moving to c:\\users\\91876\\anaconda3\\envs\\antonioenv\\scripts\\f2py.exe\n",
      "   from C:\\Users\\91876\\AppData\\Local\\Temp\\pip-uninstall-wxy9iwy6\\f2py.exe\n"
     ]
    }
   ],
   "source": [
    "!pip install tensorflow==2.4.1"
   ]
  },
  {
   "cell_type": "code",
   "execution_count": 79,
   "metadata": {},
   "outputs": [],
   "source": [
    "import keras\n",
    "#from tensorflow import keras"
   ]
  },
  {
   "cell_type": "markdown",
   "metadata": {
    "id": "7GZwVgqA3sZn"
   },
   "source": [
    "#Model Making and Model Training"
   ]
  },
  {
   "cell_type": "code",
   "execution_count": 80,
   "metadata": {
    "executionInfo": {
     "elapsed": 938,
     "status": "ok",
     "timestamp": 1602743404592,
     "user": {
      "displayName": "DIVYANSHU BHAIK",
      "photoUrl": "https://lh3.googleusercontent.com/a-/AOh14Gi1vml2D36-XRNdiec3_IPIhcoGFtn36xsXJyiN=s64",
      "userId": "01508561723939667345"
     },
     "user_tz": -330
    },
    "id": "0hAfv_gD2a0R"
   },
   "outputs": [],
   "source": [
    "#keras == 2.3.1 may be  or 2.0.8\n",
    "\n",
    "from keras.models import Sequential\n",
    "from keras.layers import Conv2D,MaxPooling2D,Dense,Flatten,Dropout,BatchNormalization,AveragePooling2D\n",
    "from keras import optimizers\n",
    "#from keras.optimizers import SGD\n",
    "from keras.preprocessing.image import ImageDataGenerator"
   ]
  },
  {
   "cell_type": "markdown",
   "metadata": {
    "id": "5rBDiEJoAJL5"
   },
   "source": [
    "model based on deep cnn"
   ]
  },
  {
   "cell_type": "code",
   "execution_count": 81,
   "metadata": {
    "executionInfo": {
     "elapsed": 7501,
     "status": "ok",
     "timestamp": 1602743411916,
     "user": {
      "displayName": "DIVYANSHU BHAIK",
      "photoUrl": "https://lh3.googleusercontent.com/a-/AOh14Gi1vml2D36-XRNdiec3_IPIhcoGFtn36xsXJyiN=s64",
      "userId": "01508561723939667345"
     },
     "user_tz": -330
    },
    "id": "q1XsHT9iuLSB"
   },
   "outputs": [],
   "source": [
    "def define_model():\n",
    "\tmodel = Sequential()\n",
    "\tmodel.add(Conv2D(32, (3, 3), activation='relu', kernel_initializer='he_uniform', padding='same', input_shape=(50, 50, 1)))\n",
    "\tmodel.add(BatchNormalization())\n",
    "\tmodel.add(Conv2D(32, (3, 3), activation='relu', kernel_initializer='he_uniform', padding='same'))\n",
    "\tmodel.add(BatchNormalization())\n",
    "\tmodel.add(MaxPooling2D((2, 2)))\n",
    "\tmodel.add(Dropout(0.1))\n",
    "\tmodel.add(Conv2D(64, (3, 3), activation='relu', kernel_initializer='he_uniform', padding='same'))\n",
    "\tmodel.add(BatchNormalization())\n",
    "\tmodel.add(Conv2D(64, (3, 3), activation='relu', kernel_initializer='he_uniform', padding='same'))\n",
    "\tmodel.add(BatchNormalization())\n",
    "\tmodel.add(MaxPooling2D((2, 2)))\n",
    "\tmodel.add(Dropout(0.2))\n",
    "\tmodel.add(Conv2D(128, (3, 3), activation='relu', kernel_initializer='he_uniform', padding='same'))\n",
    "\tmodel.add(BatchNormalization())\n",
    "\tmodel.add(Conv2D(128, (3, 3), activation='relu', kernel_initializer='he_uniform', padding='same'))\n",
    "\tmodel.add(BatchNormalization())\n",
    "\tmodel.add(MaxPooling2D((2, 2)))\n",
    "\tmodel.add(Dropout(0.3))\n",
    "\tmodel.add(Conv2D(128, (3, 3), activation='relu', kernel_initializer='he_uniform', padding='same'))\n",
    "\tmodel.add(BatchNormalization())\n",
    "\tmodel.add(Conv2D(128, (3, 3), activation='relu', kernel_initializer='he_uniform', padding='same'))\n",
    "\tmodel.add(BatchNormalization())\n",
    "\tmodel.add(MaxPooling2D((2, 2)))\n",
    "\tmodel.add(Dropout(0.4))\n",
    "\tmodel.add(Conv2D(128, (3, 3), activation='relu', kernel_initializer='he_uniform', padding='same'))\n",
    "\tmodel.add(BatchNormalization())\n",
    "\tmodel.add(Conv2D(128, (3, 3), activation='relu', kernel_initializer='he_uniform', padding='same'))\n",
    "\tmodel.add(BatchNormalization())\n",
    "\tmodel.add(MaxPooling2D((2, 2)))\n",
    "\tmodel.add(Dropout(0.5))\n",
    "\tmodel.add(Flatten())\n",
    "\tmodel.add(Dense(128, activation='relu', kernel_initializer='he_uniform'))\n",
    "\tmodel.add(BatchNormalization())\n",
    "\tmodel.add(Dropout(0.5))\n",
    "\tmodel.add(Dense(128, activation='relu', kernel_initializer='he_uniform'));return model\n",
    "\n",
    "mobile = define_model()"
   ]
  },
  {
   "cell_type": "code",
   "execution_count": 82,
   "metadata": {
    "colab": {
     "base_uri": "https://localhost:8080/",
     "height": 1000
    },
    "executionInfo": {
     "elapsed": 1314,
     "status": "ok",
     "timestamp": 1602743423543,
     "user": {
      "displayName": "DIVYANSHU BHAIK",
      "photoUrl": "https://lh3.googleusercontent.com/a-/AOh14Gi1vml2D36-XRNdiec3_IPIhcoGFtn36xsXJyiN=s64",
      "userId": "01508561723939667345"
     },
     "user_tz": -330
    },
    "id": "mAU0INW385jw",
    "outputId": "c64621b1-fbc0-4f53-d133-2edd8307e4e0"
   },
   "outputs": [
    {
     "name": "stdout",
     "output_type": "stream",
     "text": [
      "Model: \"sequential\"\n",
      "_________________________________________________________________\n",
      "Layer (type)                 Output Shape              Param #   \n",
      "=================================================================\n",
      "conv2d (Conv2D)              (None, 50, 50, 32)        320       \n",
      "_________________________________________________________________\n",
      "batch_normalization (BatchNo (None, 50, 50, 32)        128       \n",
      "_________________________________________________________________\n",
      "conv2d_1 (Conv2D)            (None, 50, 50, 32)        9248      \n",
      "_________________________________________________________________\n",
      "batch_normalization_1 (Batch (None, 50, 50, 32)        128       \n",
      "_________________________________________________________________\n",
      "max_pooling2d (MaxPooling2D) (None, 25, 25, 32)        0         \n",
      "_________________________________________________________________\n",
      "dropout (Dropout)            (None, 25, 25, 32)        0         \n",
      "_________________________________________________________________\n",
      "conv2d_2 (Conv2D)            (None, 25, 25, 64)        18496     \n",
      "_________________________________________________________________\n",
      "batch_normalization_2 (Batch (None, 25, 25, 64)        256       \n",
      "_________________________________________________________________\n",
      "conv2d_3 (Conv2D)            (None, 25, 25, 64)        36928     \n",
      "_________________________________________________________________\n",
      "batch_normalization_3 (Batch (None, 25, 25, 64)        256       \n",
      "_________________________________________________________________\n",
      "max_pooling2d_1 (MaxPooling2 (None, 12, 12, 64)        0         \n",
      "_________________________________________________________________\n",
      "dropout_1 (Dropout)          (None, 12, 12, 64)        0         \n",
      "_________________________________________________________________\n",
      "conv2d_4 (Conv2D)            (None, 12, 12, 128)       73856     \n",
      "_________________________________________________________________\n",
      "batch_normalization_4 (Batch (None, 12, 12, 128)       512       \n",
      "_________________________________________________________________\n",
      "conv2d_5 (Conv2D)            (None, 12, 12, 128)       147584    \n",
      "_________________________________________________________________\n",
      "batch_normalization_5 (Batch (None, 12, 12, 128)       512       \n",
      "_________________________________________________________________\n",
      "max_pooling2d_2 (MaxPooling2 (None, 6, 6, 128)         0         \n",
      "_________________________________________________________________\n",
      "dropout_2 (Dropout)          (None, 6, 6, 128)         0         \n",
      "_________________________________________________________________\n",
      "conv2d_6 (Conv2D)            (None, 6, 6, 128)         147584    \n",
      "_________________________________________________________________\n",
      "batch_normalization_6 (Batch (None, 6, 6, 128)         512       \n",
      "_________________________________________________________________\n",
      "conv2d_7 (Conv2D)            (None, 6, 6, 128)         147584    \n",
      "_________________________________________________________________\n",
      "batch_normalization_7 (Batch (None, 6, 6, 128)         512       \n",
      "_________________________________________________________________\n",
      "max_pooling2d_3 (MaxPooling2 (None, 3, 3, 128)         0         \n",
      "_________________________________________________________________\n",
      "dropout_3 (Dropout)          (None, 3, 3, 128)         0         \n",
      "_________________________________________________________________\n",
      "conv2d_8 (Conv2D)            (None, 3, 3, 128)         147584    \n",
      "_________________________________________________________________\n",
      "batch_normalization_8 (Batch (None, 3, 3, 128)         512       \n",
      "_________________________________________________________________\n",
      "conv2d_9 (Conv2D)            (None, 3, 3, 128)         147584    \n",
      "_________________________________________________________________\n",
      "batch_normalization_9 (Batch (None, 3, 3, 128)         512       \n",
      "_________________________________________________________________\n",
      "max_pooling2d_4 (MaxPooling2 (None, 1, 1, 128)         0         \n",
      "_________________________________________________________________\n",
      "dropout_4 (Dropout)          (None, 1, 1, 128)         0         \n",
      "_________________________________________________________________\n",
      "flatten (Flatten)            (None, 128)               0         \n",
      "_________________________________________________________________\n",
      "dense (Dense)                (None, 128)               16512     \n",
      "_________________________________________________________________\n",
      "batch_normalization_10 (Batc (None, 128)               512       \n",
      "_________________________________________________________________\n",
      "dropout_5 (Dropout)          (None, 128)               0         \n",
      "_________________________________________________________________\n",
      "dense_1 (Dense)              (None, 128)               16512     \n",
      "=================================================================\n",
      "Total params: 914,144\n",
      "Trainable params: 911,968\n",
      "Non-trainable params: 2,176\n",
      "_________________________________________________________________\n"
     ]
    }
   ],
   "source": [
    "mobile.summary()"
   ]
  },
  {
   "cell_type": "code",
   "execution_count": 83,
   "metadata": {},
   "outputs": [],
   "source": [
    "from tensorflow import keras\n",
    "\n"
   ]
  },
  {
   "cell_type": "code",
   "execution_count": 84,
   "metadata": {},
   "outputs": [],
   "source": [
    "#!pip install tensorflow==2.0.0"
   ]
  },
  {
   "cell_type": "code",
   "execution_count": 85,
   "metadata": {
    "executionInfo": {
     "elapsed": 1985,
     "status": "ok",
     "timestamp": 1602743478493,
     "user": {
      "displayName": "DIVYANSHU BHAIK",
      "photoUrl": "https://lh3.googleusercontent.com/a-/AOh14Gi1vml2D36-XRNdiec3_IPIhcoGFtn36xsXJyiN=s64",
      "userId": "01508561723939667345"
     },
     "user_tz": -330
    },
    "id": "5K59YIqquV42"
   },
   "outputs": [],
   "source": [
    "op_layer = mobile.output\n",
    "final_layer = Dense(128,activation='relu',kernel_initializer='he_uniform')(op_layer)\n",
    "final_layer = Dense(128,activation='relu',kernel_initializer='he_uniform')(final_layer)\n",
    "final_layer = Dense(2,activation= 'softmax')(final_layer)\n",
    "from keras.models  import Model\n",
    "# Define model input and output\n",
    "model = Model(inputs = mobile.input , outputs = final_layer)\n",
    "opt = keras.optimizers.SGD(lr=0.001, momentum=0.9)\n",
    "\n",
    "import keras\n",
    "optimizer_sgd = tf.keras.optimizers.Adam(learning_rate=0.001)\n",
    "#model.compile(optimizer=optimizer_sgd, loss='categorical_crossentropy', metrics=['accuracy'])\n",
    "model.compile(optimizer= 'adam' , loss='categorical_crossentropy', metrics=['accuracy'])\n"
   ]
  },
  {
   "cell_type": "code",
   "execution_count": 86,
   "metadata": {
    "colab": {
     "base_uri": "https://localhost:8080/",
     "height": 1000
    },
    "executionInfo": {
     "elapsed": 1755,
     "status": "ok",
     "timestamp": 1602743497178,
     "user": {
      "displayName": "DIVYANSHU BHAIK",
      "photoUrl": "https://lh3.googleusercontent.com/a-/AOh14Gi1vml2D36-XRNdiec3_IPIhcoGFtn36xsXJyiN=s64",
      "userId": "01508561723939667345"
     },
     "user_tz": -330
    },
    "id": "WDTe1hS59NML",
    "outputId": "9136867b-b019-48f9-e20c-e30f42d2ec25"
   },
   "outputs": [
    {
     "name": "stdout",
     "output_type": "stream",
     "text": [
      "Model: \"model\"\n",
      "_________________________________________________________________\n",
      "Layer (type)                 Output Shape              Param #   \n",
      "=================================================================\n",
      "conv2d_input (InputLayer)    [(None, 50, 50, 1)]       0         \n",
      "_________________________________________________________________\n",
      "conv2d (Conv2D)              (None, 50, 50, 32)        320       \n",
      "_________________________________________________________________\n",
      "batch_normalization (BatchNo (None, 50, 50, 32)        128       \n",
      "_________________________________________________________________\n",
      "conv2d_1 (Conv2D)            (None, 50, 50, 32)        9248      \n",
      "_________________________________________________________________\n",
      "batch_normalization_1 (Batch (None, 50, 50, 32)        128       \n",
      "_________________________________________________________________\n",
      "max_pooling2d (MaxPooling2D) (None, 25, 25, 32)        0         \n",
      "_________________________________________________________________\n",
      "dropout (Dropout)            (None, 25, 25, 32)        0         \n",
      "_________________________________________________________________\n",
      "conv2d_2 (Conv2D)            (None, 25, 25, 64)        18496     \n",
      "_________________________________________________________________\n",
      "batch_normalization_2 (Batch (None, 25, 25, 64)        256       \n",
      "_________________________________________________________________\n",
      "conv2d_3 (Conv2D)            (None, 25, 25, 64)        36928     \n",
      "_________________________________________________________________\n",
      "batch_normalization_3 (Batch (None, 25, 25, 64)        256       \n",
      "_________________________________________________________________\n",
      "max_pooling2d_1 (MaxPooling2 (None, 12, 12, 64)        0         \n",
      "_________________________________________________________________\n",
      "dropout_1 (Dropout)          (None, 12, 12, 64)        0         \n",
      "_________________________________________________________________\n",
      "conv2d_4 (Conv2D)            (None, 12, 12, 128)       73856     \n",
      "_________________________________________________________________\n",
      "batch_normalization_4 (Batch (None, 12, 12, 128)       512       \n",
      "_________________________________________________________________\n",
      "conv2d_5 (Conv2D)            (None, 12, 12, 128)       147584    \n",
      "_________________________________________________________________\n",
      "batch_normalization_5 (Batch (None, 12, 12, 128)       512       \n",
      "_________________________________________________________________\n",
      "max_pooling2d_2 (MaxPooling2 (None, 6, 6, 128)         0         \n",
      "_________________________________________________________________\n",
      "dropout_2 (Dropout)          (None, 6, 6, 128)         0         \n",
      "_________________________________________________________________\n",
      "conv2d_6 (Conv2D)            (None, 6, 6, 128)         147584    \n",
      "_________________________________________________________________\n",
      "batch_normalization_6 (Batch (None, 6, 6, 128)         512       \n",
      "_________________________________________________________________\n",
      "conv2d_7 (Conv2D)            (None, 6, 6, 128)         147584    \n",
      "_________________________________________________________________\n",
      "batch_normalization_7 (Batch (None, 6, 6, 128)         512       \n",
      "_________________________________________________________________\n",
      "max_pooling2d_3 (MaxPooling2 (None, 3, 3, 128)         0         \n",
      "_________________________________________________________________\n",
      "dropout_3 (Dropout)          (None, 3, 3, 128)         0         \n",
      "_________________________________________________________________\n",
      "conv2d_8 (Conv2D)            (None, 3, 3, 128)         147584    \n",
      "_________________________________________________________________\n",
      "batch_normalization_8 (Batch (None, 3, 3, 128)         512       \n",
      "_________________________________________________________________\n",
      "conv2d_9 (Conv2D)            (None, 3, 3, 128)         147584    \n",
      "_________________________________________________________________\n",
      "batch_normalization_9 (Batch (None, 3, 3, 128)         512       \n",
      "_________________________________________________________________\n",
      "max_pooling2d_4 (MaxPooling2 (None, 1, 1, 128)         0         \n",
      "_________________________________________________________________\n",
      "dropout_4 (Dropout)          (None, 1, 1, 128)         0         \n",
      "_________________________________________________________________\n",
      "flatten (Flatten)            (None, 128)               0         \n",
      "_________________________________________________________________\n",
      "dense (Dense)                (None, 128)               16512     \n",
      "_________________________________________________________________\n",
      "batch_normalization_10 (Batc (None, 128)               512       \n",
      "_________________________________________________________________\n",
      "dropout_5 (Dropout)          (None, 128)               0         \n",
      "_________________________________________________________________\n",
      "dense_1 (Dense)              (None, 128)               16512     \n",
      "_________________________________________________________________\n",
      "dense_2 (Dense)              (None, 128)               16512     \n",
      "_________________________________________________________________\n",
      "dense_3 (Dense)              (None, 128)               16512     \n",
      "_________________________________________________________________\n",
      "dense_4 (Dense)              (None, 2)                 258       \n",
      "=================================================================\n",
      "Total params: 947,426\n",
      "Trainable params: 945,250\n",
      "Non-trainable params: 2,176\n",
      "_________________________________________________________________\n"
     ]
    }
   ],
   "source": [
    "model.summary()"
   ]
  },
  {
   "cell_type": "code",
   "execution_count": 87,
   "metadata": {
    "executionInfo": {
     "elapsed": 2024,
     "status": "ok",
     "timestamp": 1602743502910,
     "user": {
      "displayName": "DIVYANSHU BHAIK",
      "photoUrl": "https://lh3.googleusercontent.com/a-/AOh14Gi1vml2D36-XRNdiec3_IPIhcoGFtn36xsXJyiN=s64",
      "userId": "01508561723939667345"
     },
     "user_tz": -330
    },
    "id": "-iJUgAMNueJ-"
   },
   "outputs": [],
   "source": [
    "# plot diagnostic learning curves\n",
    "import matplotlib.pyplot as plt\n",
    "def summarize_diagnostics(hist):\n",
    "\tplt.plot(hist.history[\"accuracy\"])\n",
    "\tplt.plot(hist.history['val_accuracy'])\n",
    "\tplt.plot(hist.history['loss'])\n",
    "\tplt.plot(hist.history['val_loss'])\n",
    "\tplt.title(\"model accuracy\")\n",
    "\tplt.ylabel(\"Accuracy\")\n",
    "\tplt.xlabel(\"Epoch\")\n",
    "\tplt.legend([\"Accuracy\",\"Validation Accuracy\",\"loss\",\"Validation Loss\"])"
   ]
  },
  {
   "cell_type": "code",
   "execution_count": 88,
   "metadata": {
    "executionInfo": {
     "elapsed": 2010,
     "status": "ok",
     "timestamp": 1602743530769,
     "user": {
      "displayName": "DIVYANSHU BHAIK",
      "photoUrl": "https://lh3.googleusercontent.com/a-/AOh14Gi1vml2D36-XRNdiec3_IPIhcoGFtn36xsXJyiN=s64",
      "userId": "01508561723939667345"
     },
     "user_tz": -330
    },
    "id": "hQn5AQJN6S--"
   },
   "outputs": [],
   "source": [
    "callbacks = [\n",
    "    keras.callbacks.ModelCheckpoint('classification_deep_conv_model.h5', save_best_only=True),\n",
    "    keras.callbacks.ReduceLROnPlateau()]"
   ]
  },
  {
   "cell_type": "code",
   "execution_count": 89,
   "metadata": {
    "colab": {
     "base_uri": "https://localhost:8080/",
     "height": 1000
    },
    "executionInfo": {
     "elapsed": 1187349,
     "status": "ok",
     "timestamp": 1602744720095,
     "user": {
      "displayName": "DIVYANSHU BHAIK",
      "photoUrl": "https://lh3.googleusercontent.com/a-/AOh14Gi1vml2D36-XRNdiec3_IPIhcoGFtn36xsXJyiN=s64",
      "userId": "01508561723939667345"
     },
     "user_tz": -330
    },
    "id": "G7p5wlEvufOc",
    "outputId": "cac4aa84-4b04-4382-86eb-22611673ff7d",
    "scrolled": true
   },
   "outputs": [
    {
     "name": "stderr",
     "output_type": "stream",
     "text": [
      "C:\\Users\\91876\\AppData\\Roaming\\Python\\Python38\\site-packages\\tensorflow\\python\\keras\\engine\\training.py:1844: UserWarning: `Model.fit_generator` is deprecated and will be removed in a future version. Please use `Model.fit`, which supports generators.\n",
      "  warnings.warn('`Model.fit_generator` is deprecated and '\n"
     ]
    },
    {
     "name": "stdout",
     "output_type": "stream",
     "text": [
      "Epoch 1/500\n",
      "81/81 [==============================] - 64s 773ms/step - loss: 0.5699 - accuracy: 0.7908 - val_loss: 0.4889 - val_accuracy: 0.8273\n",
      "Epoch 2/500\n",
      "81/81 [==============================] - 55s 685ms/step - loss: 0.4687 - accuracy: 0.8322 - val_loss: 0.4510 - val_accuracy: 0.8273\n",
      "Epoch 3/500\n",
      "81/81 [==============================] - 56s 688ms/step - loss: 0.4382 - accuracy: 0.8329 - val_loss: 0.4192 - val_accuracy: 0.8273\n",
      "Epoch 4/500\n",
      "81/81 [==============================] - 56s 686ms/step - loss: 0.4196 - accuracy: 0.8397 - val_loss: 0.3953 - val_accuracy: 0.8296\n",
      "Epoch 5/500\n",
      "81/81 [==============================] - 56s 690ms/step - loss: 0.4313 - accuracy: 0.8218 - val_loss: 0.4450 - val_accuracy: 0.7772\n",
      "Epoch 6/500\n",
      "81/81 [==============================] - 55s 683ms/step - loss: 0.3941 - accuracy: 0.8399 - val_loss: 0.3656 - val_accuracy: 0.8481\n",
      "Epoch 7/500\n",
      "81/81 [==============================] - 55s 683ms/step - loss: 0.3633 - accuracy: 0.8493 - val_loss: 0.3495 - val_accuracy: 0.8597\n",
      "Epoch 8/500\n",
      "81/81 [==============================] - 55s 683ms/step - loss: 0.3371 - accuracy: 0.8586 - val_loss: 0.3781 - val_accuracy: 0.8658\n",
      "Epoch 9/500\n",
      "81/81 [==============================] - 56s 692ms/step - loss: 0.3122 - accuracy: 0.8677 - val_loss: 0.3981 - val_accuracy: 0.8628\n",
      "Epoch 10/500\n",
      "81/81 [==============================] - 55s 683ms/step - loss: 0.2896 - accuracy: 0.8776 - val_loss: 0.2751 - val_accuracy: 0.8882\n",
      "Epoch 11/500\n",
      "81/81 [==============================] - 54s 672ms/step - loss: 0.2820 - accuracy: 0.8821 - val_loss: 0.2281 - val_accuracy: 0.9113\n",
      "Epoch 12/500\n",
      "81/81 [==============================] - 55s 677ms/step - loss: 0.2615 - accuracy: 0.8928 - val_loss: 0.2003 - val_accuracy: 0.9190\n",
      "Epoch 13/500\n",
      "81/81 [==============================] - 54s 672ms/step - loss: 0.2318 - accuracy: 0.9056 - val_loss: 0.1851 - val_accuracy: 0.9268\n",
      "Epoch 14/500\n",
      "81/81 [==============================] - 55s 674ms/step - loss: 0.2665 - accuracy: 0.8911 - val_loss: 0.3089 - val_accuracy: 0.8443\n",
      "Epoch 15/500\n",
      "81/81 [==============================] - 55s 674ms/step - loss: 0.2588 - accuracy: 0.8947 - val_loss: 0.3400 - val_accuracy: 0.8327\n",
      "Epoch 16/500\n",
      "81/81 [==============================] - 57s 709ms/step - loss: 0.2482 - accuracy: 0.9010 - val_loss: 0.1845 - val_accuracy: 0.9260\n",
      "Epoch 17/500\n",
      "81/81 [==============================] - 59s 732ms/step - loss: 0.2090 - accuracy: 0.9148 - val_loss: 0.1834 - val_accuracy: 0.9268\n",
      "Epoch 18/500\n",
      "81/81 [==============================] - 59s 728ms/step - loss: 0.2204 - accuracy: 0.9110 - val_loss: 0.2112 - val_accuracy: 0.9090\n",
      "Epoch 19/500\n",
      "81/81 [==============================] - 59s 727ms/step - loss: 0.2125 - accuracy: 0.9177 - val_loss: 0.2207 - val_accuracy: 0.9029\n",
      "Epoch 20/500\n",
      "81/81 [==============================] - 59s 729ms/step - loss: 0.2182 - accuracy: 0.9101 - val_loss: 0.1663 - val_accuracy: 0.9237\n",
      "Epoch 21/500\n",
      "81/81 [==============================] - 57s 701ms/step - loss: 0.1789 - accuracy: 0.9256 - val_loss: 0.1985 - val_accuracy: 0.9160\n",
      "Epoch 22/500\n",
      "81/81 [==============================] - 56s 687ms/step - loss: 0.1914 - accuracy: 0.9241 - val_loss: 0.1663 - val_accuracy: 0.9291\n",
      "Epoch 23/500\n",
      "81/81 [==============================] - 55s 684ms/step - loss: 0.2055 - accuracy: 0.9177 - val_loss: 0.1605 - val_accuracy: 0.9406\n",
      "Epoch 24/500\n",
      "81/81 [==============================] - 56s 685ms/step - loss: 0.1828 - accuracy: 0.9305 - val_loss: 0.1521 - val_accuracy: 0.9399\n",
      "Epoch 25/500\n",
      "81/81 [==============================] - 55s 685ms/step - loss: 0.1756 - accuracy: 0.9270 - val_loss: 0.3217 - val_accuracy: 0.8743\n",
      "Epoch 26/500\n",
      "81/81 [==============================] - 56s 687ms/step - loss: 0.2552 - accuracy: 0.8993 - val_loss: 0.1669 - val_accuracy: 0.9399\n",
      "Epoch 27/500\n",
      "81/81 [==============================] - 55s 683ms/step - loss: 0.1926 - accuracy: 0.9254 - val_loss: 0.1511 - val_accuracy: 0.9437\n",
      "Epoch 28/500\n",
      "81/81 [==============================] - 56s 693ms/step - loss: 0.1736 - accuracy: 0.9261 - val_loss: 0.1801 - val_accuracy: 0.9244\n",
      "Epoch 29/500\n",
      "81/81 [==============================] - 55s 683ms/step - loss: 0.1702 - accuracy: 0.9326 - val_loss: 0.1684 - val_accuracy: 0.9291\n",
      "Epoch 30/500\n",
      "81/81 [==============================] - 55s 684ms/step - loss: 0.1628 - accuracy: 0.9356 - val_loss: 0.1965 - val_accuracy: 0.9337\n",
      "Epoch 31/500\n",
      "81/81 [==============================] - 56s 689ms/step - loss: 0.1616 - accuracy: 0.9365 - val_loss: 0.1620 - val_accuracy: 0.9314\n",
      "Epoch 32/500\n",
      "81/81 [==============================] - 55s 682ms/step - loss: 0.1599 - accuracy: 0.9341 - val_loss: 0.1611 - val_accuracy: 0.9383\n",
      "Epoch 33/500\n",
      "81/81 [==============================] - 55s 681ms/step - loss: 0.1677 - accuracy: 0.9379 - val_loss: 0.1503 - val_accuracy: 0.9352\n",
      "Epoch 34/500\n",
      "81/81 [==============================] - 55s 681ms/step - loss: 0.1518 - accuracy: 0.9477 - val_loss: 0.1324 - val_accuracy: 0.9476\n",
      "Epoch 35/500\n",
      "81/81 [==============================] - 55s 683ms/step - loss: 0.1427 - accuracy: 0.9471 - val_loss: 0.1469 - val_accuracy: 0.9453\n",
      "Epoch 36/500\n",
      "81/81 [==============================] - 55s 681ms/step - loss: 0.1288 - accuracy: 0.9546 - val_loss: 0.1436 - val_accuracy: 0.9468\n",
      "Epoch 37/500\n",
      "81/81 [==============================] - 55s 684ms/step - loss: 0.1765 - accuracy: 0.9303 - val_loss: 0.1461 - val_accuracy: 0.9399\n",
      "Epoch 38/500\n",
      "81/81 [==============================] - 55s 681ms/step - loss: 0.1422 - accuracy: 0.9456 - val_loss: 0.1415 - val_accuracy: 0.9460\n",
      "Epoch 39/500\n",
      "81/81 [==============================] - 55s 682ms/step - loss: 0.1615 - accuracy: 0.9336 - val_loss: 0.1375 - val_accuracy: 0.9445\n",
      "Epoch 40/500\n",
      "81/81 [==============================] - 55s 681ms/step - loss: 0.1603 - accuracy: 0.9357 - val_loss: 0.1356 - val_accuracy: 0.9491\n",
      "Epoch 41/500\n",
      "81/81 [==============================] - 55s 680ms/step - loss: 0.1447 - accuracy: 0.9469 - val_loss: 0.1306 - val_accuracy: 0.9476\n",
      "Epoch 42/500\n",
      "81/81 [==============================] - 56s 685ms/step - loss: 0.1363 - accuracy: 0.9499 - val_loss: 0.4910 - val_accuracy: 0.8551\n",
      "Epoch 43/500\n",
      "81/81 [==============================] - 58s 714ms/step - loss: 0.2250 - accuracy: 0.9123 - val_loss: 0.1401 - val_accuracy: 0.9468\n",
      "Epoch 44/500\n",
      "81/81 [==============================] - 56s 687ms/step - loss: 0.1513 - accuracy: 0.9375 - val_loss: 0.1543 - val_accuracy: 0.9298\n",
      "Epoch 45/500\n",
      "81/81 [==============================] - 55s 684ms/step - loss: 0.1347 - accuracy: 0.9428 - val_loss: 0.1218 - val_accuracy: 0.9476\n",
      "Epoch 46/500\n",
      "81/81 [==============================] - 56s 685ms/step - loss: 0.1305 - accuracy: 0.9477 - val_loss: 0.2652 - val_accuracy: 0.9082\n",
      "Epoch 47/500\n",
      "81/81 [==============================] - 56s 690ms/step - loss: 0.1833 - accuracy: 0.9313 - val_loss: 0.1371 - val_accuracy: 0.9453\n",
      "Epoch 48/500\n",
      "81/81 [==============================] - 56s 687ms/step - loss: 0.1374 - accuracy: 0.9490 - val_loss: 0.1360 - val_accuracy: 0.9406\n",
      "Epoch 49/500\n",
      "81/81 [==============================] - 55s 684ms/step - loss: 0.1254 - accuracy: 0.9524 - val_loss: 0.2230 - val_accuracy: 0.9067\n",
      "Epoch 50/500\n",
      "81/81 [==============================] - 56s 688ms/step - loss: 0.1497 - accuracy: 0.9431 - val_loss: 0.1395 - val_accuracy: 0.9483\n",
      "Epoch 51/500\n",
      "81/81 [==============================] - 55s 685ms/step - loss: 0.1208 - accuracy: 0.9541 - val_loss: 0.1300 - val_accuracy: 0.9537\n",
      "Epoch 52/500\n",
      "81/81 [==============================] - 55s 685ms/step - loss: 0.1052 - accuracy: 0.9576 - val_loss: 0.1194 - val_accuracy: 0.9568\n",
      "Epoch 53/500\n",
      "81/81 [==============================] - 55s 684ms/step - loss: 0.1175 - accuracy: 0.9605 - val_loss: 0.2890 - val_accuracy: 0.9175\n",
      "Epoch 54/500\n",
      "81/81 [==============================] - 56s 688ms/step - loss: 0.1448 - accuracy: 0.9448 - val_loss: 0.1328 - val_accuracy: 0.9522\n",
      "Epoch 55/500\n",
      "81/81 [==============================] - 56s 685ms/step - loss: 0.1177 - accuracy: 0.9547 - val_loss: 0.1121 - val_accuracy: 0.9499\n",
      "Epoch 56/500\n",
      "81/81 [==============================] - 56s 685ms/step - loss: 0.1101 - accuracy: 0.9629 - val_loss: 0.1224 - val_accuracy: 0.9522\n",
      "Epoch 57/500\n",
      "81/81 [==============================] - 55s 685ms/step - loss: 0.1119 - accuracy: 0.9605 - val_loss: 0.1566 - val_accuracy: 0.9337\n",
      "Epoch 58/500\n",
      "81/81 [==============================] - 56s 686ms/step - loss: 0.1032 - accuracy: 0.9611 - val_loss: 0.1136 - val_accuracy: 0.9553\n",
      "Epoch 59/500\n",
      "81/81 [==============================] - 55s 684ms/step - loss: 0.1833 - accuracy: 0.9348 - val_loss: 0.2798 - val_accuracy: 0.8859\n",
      "Epoch 60/500\n",
      "81/81 [==============================] - 55s 682ms/step - loss: 0.1750 - accuracy: 0.9257 - val_loss: 0.1665 - val_accuracy: 0.9298\n",
      "Epoch 61/500\n",
      "81/81 [==============================] - 55s 683ms/step - loss: 0.1353 - accuracy: 0.9497 - val_loss: 0.1423 - val_accuracy: 0.9483\n",
      "Epoch 62/500\n",
      "81/81 [==============================] - 55s 684ms/step - loss: 0.1393 - accuracy: 0.9407 - val_loss: 0.1552 - val_accuracy: 0.9383\n",
      "Epoch 63/500\n",
      "81/81 [==============================] - 56s 692ms/step - loss: 0.1234 - accuracy: 0.9560 - val_loss: 0.1784 - val_accuracy: 0.9291\n",
      "Epoch 64/500\n",
      "81/81 [==============================] - 57s 700ms/step - loss: 0.1201 - accuracy: 0.9543 - val_loss: 0.1579 - val_accuracy: 0.9399\n",
      "Epoch 65/500\n",
      "81/81 [==============================] - 56s 686ms/step - loss: 0.1193 - accuracy: 0.9557 - val_loss: 0.1597 - val_accuracy: 0.9422\n",
      "Epoch 66/500\n",
      "81/81 [==============================] - 55s 683ms/step - loss: 0.1259 - accuracy: 0.9501 - val_loss: 0.1210 - val_accuracy: 0.9514\n",
      "Epoch 67/500\n",
      "81/81 [==============================] - 55s 685ms/step - loss: 0.1064 - accuracy: 0.9552 - val_loss: 0.1137 - val_accuracy: 0.9568\n",
      "Epoch 68/500\n",
      "81/81 [==============================] - 55s 682ms/step - loss: 0.1132 - accuracy: 0.9585 - val_loss: 0.1126 - val_accuracy: 0.9591\n",
      "Epoch 69/500\n",
      "81/81 [==============================] - 55s 684ms/step - loss: 0.0894 - accuracy: 0.9667 - val_loss: 0.1134 - val_accuracy: 0.9522\n",
      "Epoch 70/500\n",
      "81/81 [==============================] - 55s 684ms/step - loss: 0.1054 - accuracy: 0.9630 - val_loss: 0.1134 - val_accuracy: 0.9553\n",
      "Epoch 71/500\n",
      "81/81 [==============================] - 55s 682ms/step - loss: 0.1051 - accuracy: 0.9650 - val_loss: 0.1137 - val_accuracy: 0.9591\n",
      "Epoch 72/500\n",
      "81/81 [==============================] - 55s 684ms/step - loss: 0.0922 - accuracy: 0.9668 - val_loss: 0.1113 - val_accuracy: 0.9584\n",
      "Epoch 73/500\n",
      "81/81 [==============================] - 55s 684ms/step - loss: 0.0955 - accuracy: 0.9638 - val_loss: 0.1135 - val_accuracy: 0.9591\n",
      "Epoch 74/500\n",
      "81/81 [==============================] - 55s 683ms/step - loss: 0.0890 - accuracy: 0.9660 - val_loss: 0.1107 - val_accuracy: 0.9599\n",
      "Epoch 75/500\n",
      "81/81 [==============================] - 56s 685ms/step - loss: 0.0872 - accuracy: 0.9659 - val_loss: 0.1108 - val_accuracy: 0.9607\n",
      "Epoch 76/500\n",
      "81/81 [==============================] - 55s 684ms/step - loss: 0.0941 - accuracy: 0.9650 - val_loss: 0.1146 - val_accuracy: 0.9591\n",
      "Epoch 77/500\n",
      "81/81 [==============================] - 55s 683ms/step - loss: 0.0902 - accuracy: 0.9634 - val_loss: 0.1365 - val_accuracy: 0.9514\n",
      "Epoch 78/500\n",
      "81/81 [==============================] - 56s 686ms/step - loss: 0.1008 - accuracy: 0.9634 - val_loss: 0.1189 - val_accuracy: 0.9545\n",
      "Epoch 79/500\n",
      "81/81 [==============================] - 55s 682ms/step - loss: 0.0893 - accuracy: 0.9692 - val_loss: 0.1141 - val_accuracy: 0.9584\n",
      "Epoch 80/500\n",
      "81/81 [==============================] - 56s 688ms/step - loss: 0.0908 - accuracy: 0.9669 - val_loss: 0.1166 - val_accuracy: 0.9599\n",
      "Epoch 81/500\n",
      "81/81 [==============================] - 56s 689ms/step - loss: 0.0825 - accuracy: 0.9692 - val_loss: 0.1120 - val_accuracy: 0.9591\n",
      "Epoch 82/500\n",
      "81/81 [==============================] - 56s 693ms/step - loss: 0.0913 - accuracy: 0.9703 - val_loss: 0.1104 - val_accuracy: 0.9591\n",
      "Epoch 83/500\n",
      "81/81 [==============================] - 55s 684ms/step - loss: 0.0826 - accuracy: 0.9692 - val_loss: 0.1115 - val_accuracy: 0.9607\n",
      "Epoch 84/500\n",
      "81/81 [==============================] - 55s 692ms/step - loss: 0.0778 - accuracy: 0.9725 - val_loss: 0.1117 - val_accuracy: 0.9599\n",
      "Epoch 85/500\n",
      "81/81 [==============================] - 55s 684ms/step - loss: 0.0851 - accuracy: 0.9628 - val_loss: 0.1156 - val_accuracy: 0.9561\n",
      "Epoch 86/500\n",
      "81/81 [==============================] - 56s 686ms/step - loss: 0.0799 - accuracy: 0.9710 - val_loss: 0.1178 - val_accuracy: 0.9537\n",
      "Epoch 87/500\n",
      "81/81 [==============================] - 56s 688ms/step - loss: 0.0873 - accuracy: 0.9644 - val_loss: 0.1118 - val_accuracy: 0.9568\n",
      "Epoch 88/500\n",
      "81/81 [==============================] - 55s 683ms/step - loss: 0.0844 - accuracy: 0.9653 - val_loss: 0.1238 - val_accuracy: 0.9591\n",
      "Epoch 89/500\n",
      "81/81 [==============================] - 56s 685ms/step - loss: 0.0701 - accuracy: 0.9751 - val_loss: 0.1212 - val_accuracy: 0.9568\n",
      "Epoch 90/500\n",
      "81/81 [==============================] - 55s 683ms/step - loss: 0.0845 - accuracy: 0.9652 - val_loss: 0.1198 - val_accuracy: 0.9545\n",
      "Epoch 91/500\n",
      "81/81 [==============================] - 56s 688ms/step - loss: 0.0839 - accuracy: 0.9668 - val_loss: 0.1130 - val_accuracy: 0.9568\n",
      "Epoch 92/500\n",
      "81/81 [==============================] - 55s 683ms/step - loss: 0.0943 - accuracy: 0.9642 - val_loss: 0.1113 - val_accuracy: 0.9576\n",
      "Epoch 93/500\n",
      "81/81 [==============================] - 55s 684ms/step - loss: 0.0770 - accuracy: 0.9743 - val_loss: 0.1112 - val_accuracy: 0.9568\n",
      "Epoch 94/500\n",
      "81/81 [==============================] - 55s 684ms/step - loss: 0.0708 - accuracy: 0.9719 - val_loss: 0.1113 - val_accuracy: 0.9576\n",
      "Epoch 95/500\n",
      "81/81 [==============================] - 55s 684ms/step - loss: 0.0850 - accuracy: 0.9698 - val_loss: 0.1119 - val_accuracy: 0.9561\n",
      "Epoch 96/500\n",
      "81/81 [==============================] - 56s 686ms/step - loss: 0.0748 - accuracy: 0.9691 - val_loss: 0.1119 - val_accuracy: 0.9561\n",
      "Epoch 97/500\n",
      "81/81 [==============================] - 55s 684ms/step - loss: 0.0777 - accuracy: 0.9742 - val_loss: 0.1132 - val_accuracy: 0.9584\n",
      "Epoch 98/500\n",
      "81/81 [==============================] - 56s 685ms/step - loss: 0.0888 - accuracy: 0.9658 - val_loss: 0.1122 - val_accuracy: 0.9591\n",
      "Epoch 99/500\n",
      "81/81 [==============================] - 56s 692ms/step - loss: 0.0877 - accuracy: 0.9731 - val_loss: 0.1115 - val_accuracy: 0.9591\n",
      "Epoch 100/500\n",
      "81/81 [==============================] - 55s 685ms/step - loss: 0.0870 - accuracy: 0.9675 - val_loss: 0.1113 - val_accuracy: 0.9599\n",
      "Epoch 101/500\n",
      "81/81 [==============================] - 55s 684ms/step - loss: 0.0811 - accuracy: 0.9697 - val_loss: 0.1112 - val_accuracy: 0.9591\n",
      "Epoch 102/500\n",
      "81/81 [==============================] - 55s 683ms/step - loss: 0.0765 - accuracy: 0.9738 - val_loss: 0.1113 - val_accuracy: 0.9591\n",
      "Epoch 103/500\n",
      "81/81 [==============================] - 55s 683ms/step - loss: 0.0795 - accuracy: 0.9704 - val_loss: 0.1118 - val_accuracy: 0.9614\n",
      "Epoch 104/500\n",
      "81/81 [==============================] - 55s 684ms/step - loss: 0.0891 - accuracy: 0.9669 - val_loss: 0.1119 - val_accuracy: 0.9599\n",
      "Epoch 105/500\n",
      "81/81 [==============================] - 55s 683ms/step - loss: 0.0740 - accuracy: 0.9729 - val_loss: 0.1114 - val_accuracy: 0.9607\n",
      "Epoch 106/500\n",
      "81/81 [==============================] - 56s 686ms/step - loss: 0.0693 - accuracy: 0.9776 - val_loss: 0.1112 - val_accuracy: 0.9599\n",
      "Epoch 107/500\n",
      "81/81 [==============================] - 56s 686ms/step - loss: 0.0706 - accuracy: 0.9745 - val_loss: 0.1114 - val_accuracy: 0.9576\n",
      "Epoch 108/500\n",
      "81/81 [==============================] - 55s 684ms/step - loss: 0.0790 - accuracy: 0.9701 - val_loss: 0.1114 - val_accuracy: 0.9607\n",
      "Epoch 109/500\n",
      "81/81 [==============================] - 55s 683ms/step - loss: 0.0768 - accuracy: 0.9736 - val_loss: 0.1113 - val_accuracy: 0.9607\n",
      "Epoch 110/500\n",
      "81/81 [==============================] - 57s 698ms/step - loss: 0.0837 - accuracy: 0.9697 - val_loss: 0.1113 - val_accuracy: 0.9599\n",
      "Epoch 111/500\n",
      "81/81 [==============================] - 56s 686ms/step - loss: 0.0931 - accuracy: 0.9690 - val_loss: 0.1113 - val_accuracy: 0.9607\n",
      "Epoch 112/500\n",
      "81/81 [==============================] - 56s 688ms/step - loss: 0.0810 - accuracy: 0.9712 - val_loss: 0.1112 - val_accuracy: 0.9599\n",
      "Epoch 113/500\n"
     ]
    },
    {
     "name": "stdout",
     "output_type": "stream",
     "text": [
      "81/81 [==============================] - 56s 689ms/step - loss: 0.0746 - accuracy: 0.9714 - val_loss: 0.1112 - val_accuracy: 0.9584\n",
      "Epoch 114/500\n",
      "81/81 [==============================] - 55s 685ms/step - loss: 0.0917 - accuracy: 0.9650 - val_loss: 0.1112 - val_accuracy: 0.9584\n",
      "Epoch 115/500\n",
      "81/81 [==============================] - 56s 690ms/step - loss: 0.0836 - accuracy: 0.9682 - val_loss: 0.1114 - val_accuracy: 0.9576\n",
      "Epoch 116/500\n",
      "81/81 [==============================] - 55s 683ms/step - loss: 0.0672 - accuracy: 0.9747 - val_loss: 0.1118 - val_accuracy: 0.9599\n",
      "Epoch 117/500\n",
      "81/81 [==============================] - 56s 686ms/step - loss: 0.0880 - accuracy: 0.9695 - val_loss: 0.1120 - val_accuracy: 0.9607\n",
      "Epoch 118/500\n",
      "81/81 [==============================] - 55s 684ms/step - loss: 0.0752 - accuracy: 0.9747 - val_loss: 0.1118 - val_accuracy: 0.9607\n",
      "Epoch 119/500\n",
      "81/81 [==============================] - 56s 686ms/step - loss: 0.0930 - accuracy: 0.9687 - val_loss: 0.1114 - val_accuracy: 0.9599\n",
      "Epoch 120/500\n",
      "81/81 [==============================] - 56s 686ms/step - loss: 0.0773 - accuracy: 0.9710 - val_loss: 0.1113 - val_accuracy: 0.9607\n",
      "Epoch 121/500\n",
      "81/81 [==============================] - 56s 693ms/step - loss: 0.0830 - accuracy: 0.9690 - val_loss: 0.1113 - val_accuracy: 0.9599\n",
      "Epoch 122/500\n",
      "81/81 [==============================] - 56s 688ms/step - loss: 0.0734 - accuracy: 0.9735 - val_loss: 0.1111 - val_accuracy: 0.9607\n",
      "Epoch 123/500\n",
      "81/81 [==============================] - 56s 688ms/step - loss: 0.0786 - accuracy: 0.9682 - val_loss: 0.1110 - val_accuracy: 0.9614\n",
      "Epoch 124/500\n",
      "81/81 [==============================] - 56s 690ms/step - loss: 0.0781 - accuracy: 0.9713 - val_loss: 0.1116 - val_accuracy: 0.9607\n",
      "Epoch 125/500\n",
      "81/81 [==============================] - 55s 684ms/step - loss: 0.0797 - accuracy: 0.9719 - val_loss: 0.1113 - val_accuracy: 0.9591\n",
      "Epoch 126/500\n",
      "81/81 [==============================] - 56s 688ms/step - loss: 0.0722 - accuracy: 0.9701 - val_loss: 0.1115 - val_accuracy: 0.9591\n",
      "Epoch 127/500\n",
      "81/81 [==============================] - 55s 683ms/step - loss: 0.0800 - accuracy: 0.9686 - val_loss: 0.1115 - val_accuracy: 0.9591\n",
      "Epoch 128/500\n",
      "81/81 [==============================] - 57s 707ms/step - loss: 0.0784 - accuracy: 0.9709 - val_loss: 0.1116 - val_accuracy: 0.9584\n",
      "Epoch 129/500\n",
      "81/81 [==============================] - 56s 693ms/step - loss: 0.0735 - accuracy: 0.9717 - val_loss: 0.1116 - val_accuracy: 0.9607\n",
      "Epoch 130/500\n",
      "81/81 [==============================] - 56s 691ms/step - loss: 0.0713 - accuracy: 0.9741 - val_loss: 0.1115 - val_accuracy: 0.9614\n",
      "Epoch 131/500\n",
      "81/81 [==============================] - 56s 687ms/step - loss: 0.0808 - accuracy: 0.9698 - val_loss: 0.1115 - val_accuracy: 0.9614\n",
      "Epoch 132/500\n",
      "81/81 [==============================] - 56s 690ms/step - loss: 0.0836 - accuracy: 0.9689 - val_loss: 0.1114 - val_accuracy: 0.9607\n",
      "Epoch 133/500\n",
      "81/81 [==============================] - 57s 698ms/step - loss: 0.0770 - accuracy: 0.9696 - val_loss: 0.1114 - val_accuracy: 0.9607\n",
      "Epoch 134/500\n",
      "81/81 [==============================] - 56s 690ms/step - loss: 0.0834 - accuracy: 0.9704 - val_loss: 0.1114 - val_accuracy: 0.9614\n",
      "Epoch 135/500\n",
      "81/81 [==============================] - 56s 688ms/step - loss: 0.0805 - accuracy: 0.9708 - val_loss: 0.1113 - val_accuracy: 0.9614\n",
      "Epoch 136/500\n",
      "81/81 [==============================] - 56s 687ms/step - loss: 0.0883 - accuracy: 0.9660 - val_loss: 0.1113 - val_accuracy: 0.9614\n",
      "Epoch 137/500\n",
      "81/81 [==============================] - 55s 683ms/step - loss: 0.0746 - accuracy: 0.9705 - val_loss: 0.1114 - val_accuracy: 0.9599\n",
      "Epoch 138/500\n",
      "81/81 [==============================] - 56s 687ms/step - loss: 0.0860 - accuracy: 0.9703 - val_loss: 0.1112 - val_accuracy: 0.9599\n",
      "Epoch 139/500\n",
      "81/81 [==============================] - 56s 688ms/step - loss: 0.0840 - accuracy: 0.9687 - val_loss: 0.1113 - val_accuracy: 0.9599\n",
      "Epoch 140/500\n",
      "81/81 [==============================] - 56s 688ms/step - loss: 0.0811 - accuracy: 0.9694 - val_loss: 0.1114 - val_accuracy: 0.9599\n",
      "Epoch 141/500\n",
      "81/81 [==============================] - 56s 688ms/step - loss: 0.0680 - accuracy: 0.9741 - val_loss: 0.1115 - val_accuracy: 0.9607\n",
      "Epoch 142/500\n",
      "81/81 [==============================] - 56s 687ms/step - loss: 0.0750 - accuracy: 0.9724 - val_loss: 0.1113 - val_accuracy: 0.9591\n",
      "Epoch 143/500\n",
      "81/81 [==============================] - 56s 686ms/step - loss: 0.0806 - accuracy: 0.9720 - val_loss: 0.1113 - val_accuracy: 0.9607\n",
      "Epoch 144/500\n",
      "81/81 [==============================] - 56s 689ms/step - loss: 0.0819 - accuracy: 0.9673 - val_loss: 0.1113 - val_accuracy: 0.9614\n",
      "Epoch 145/500\n",
      "81/81 [==============================] - 56s 687ms/step - loss: 0.0838 - accuracy: 0.9681 - val_loss: 0.1116 - val_accuracy: 0.9607\n",
      "Epoch 146/500\n",
      "81/81 [==============================] - 56s 695ms/step - loss: 0.0801 - accuracy: 0.9697 - val_loss: 0.1110 - val_accuracy: 0.9607\n",
      "Epoch 147/500\n",
      "81/81 [==============================] - 56s 688ms/step - loss: 0.0765 - accuracy: 0.9720 - val_loss: 0.1112 - val_accuracy: 0.9607\n",
      "Epoch 148/500\n",
      "81/81 [==============================] - 56s 685ms/step - loss: 0.0692 - accuracy: 0.9731 - val_loss: 0.1113 - val_accuracy: 0.9614\n",
      "Epoch 149/500\n",
      "81/81 [==============================] - 56s 690ms/step - loss: 0.0723 - accuracy: 0.9717 - val_loss: 0.1112 - val_accuracy: 0.9591\n",
      "Epoch 150/500\n",
      "81/81 [==============================] - 56s 687ms/step - loss: 0.0694 - accuracy: 0.9719 - val_loss: 0.1112 - val_accuracy: 0.9584\n",
      "Epoch 151/500\n",
      "81/81 [==============================] - 55s 685ms/step - loss: 0.0805 - accuracy: 0.9698 - val_loss: 0.1110 - val_accuracy: 0.9576\n",
      "Epoch 152/500\n",
      "81/81 [==============================] - 55s 684ms/step - loss: 0.0797 - accuracy: 0.9694 - val_loss: 0.1115 - val_accuracy: 0.9607\n",
      "Epoch 153/500\n",
      "81/81 [==============================] - 56s 688ms/step - loss: 0.0760 - accuracy: 0.9692 - val_loss: 0.1115 - val_accuracy: 0.9599\n",
      "Epoch 154/500\n",
      "81/81 [==============================] - 56s 687ms/step - loss: 0.0786 - accuracy: 0.9740 - val_loss: 0.1114 - val_accuracy: 0.9607\n",
      "Epoch 155/500\n",
      "81/81 [==============================] - 58s 710ms/step - loss: 0.0760 - accuracy: 0.9690 - val_loss: 0.1115 - val_accuracy: 0.9599\n",
      "Epoch 156/500\n",
      "81/81 [==============================] - 56s 688ms/step - loss: 0.0780 - accuracy: 0.9713 - val_loss: 0.1112 - val_accuracy: 0.9599\n",
      "Epoch 157/500\n",
      "81/81 [==============================] - 56s 685ms/step - loss: 0.0797 - accuracy: 0.9718 - val_loss: 0.1114 - val_accuracy: 0.9584\n",
      "Epoch 158/500\n",
      "81/81 [==============================] - 56s 685ms/step - loss: 0.0694 - accuracy: 0.9744 - val_loss: 0.1115 - val_accuracy: 0.9607\n",
      "Epoch 159/500\n",
      "81/81 [==============================] - 56s 686ms/step - loss: 0.0729 - accuracy: 0.9707 - val_loss: 0.1114 - val_accuracy: 0.9591\n",
      "Epoch 160/500\n",
      "81/81 [==============================] - 56s 688ms/step - loss: 0.0782 - accuracy: 0.9725 - val_loss: 0.1111 - val_accuracy: 0.9584\n",
      "Epoch 161/500\n",
      "81/81 [==============================] - 55s 683ms/step - loss: 0.0780 - accuracy: 0.9687 - val_loss: 0.1112 - val_accuracy: 0.9599\n",
      "Epoch 162/500\n",
      "81/81 [==============================] - 55s 684ms/step - loss: 0.0742 - accuracy: 0.9727 - val_loss: 0.1110 - val_accuracy: 0.9599\n",
      "Epoch 163/500\n",
      "81/81 [==============================] - 55s 684ms/step - loss: 0.0750 - accuracy: 0.9709 - val_loss: 0.1112 - val_accuracy: 0.9607\n",
      "Epoch 164/500\n",
      "81/81 [==============================] - 56s 690ms/step - loss: 0.0777 - accuracy: 0.9738 - val_loss: 0.1117 - val_accuracy: 0.9607\n",
      "Epoch 165/500\n",
      "81/81 [==============================] - 56s 685ms/step - loss: 0.0803 - accuracy: 0.9676 - val_loss: 0.1115 - val_accuracy: 0.9591\n",
      "Epoch 166/500\n",
      "81/81 [==============================] - 55s 684ms/step - loss: 0.0710 - accuracy: 0.9755 - val_loss: 0.1116 - val_accuracy: 0.9591\n",
      "Epoch 167/500\n",
      "81/81 [==============================] - 55s 684ms/step - loss: 0.0879 - accuracy: 0.9662 - val_loss: 0.1115 - val_accuracy: 0.9607\n",
      "Epoch 168/500\n",
      "81/81 [==============================] - 55s 684ms/step - loss: 0.0739 - accuracy: 0.9719 - val_loss: 0.1116 - val_accuracy: 0.9607\n",
      "Epoch 169/500\n",
      "81/81 [==============================] - 56s 687ms/step - loss: 0.0772 - accuracy: 0.9684 - val_loss: 0.1116 - val_accuracy: 0.9614\n",
      "Epoch 170/500\n",
      "81/81 [==============================] - 56s 685ms/step - loss: 0.0842 - accuracy: 0.9687 - val_loss: 0.1116 - val_accuracy: 0.9584\n",
      "Epoch 171/500\n",
      "81/81 [==============================] - 56s 688ms/step - loss: 0.0711 - accuracy: 0.9718 - val_loss: 0.1113 - val_accuracy: 0.9599\n",
      "Epoch 172/500\n",
      "81/81 [==============================] - 56s 688ms/step - loss: 0.0773 - accuracy: 0.9724 - val_loss: 0.1113 - val_accuracy: 0.9576\n",
      "Epoch 173/500\n",
      "81/81 [==============================] - 56s 688ms/step - loss: 0.0777 - accuracy: 0.9745 - val_loss: 0.1114 - val_accuracy: 0.9607\n",
      "Epoch 174/500\n",
      "81/81 [==============================] - 56s 688ms/step - loss: 0.0819 - accuracy: 0.9728 - val_loss: 0.1116 - val_accuracy: 0.9584\n",
      "Epoch 175/500\n",
      "81/81 [==============================] - 56s 691ms/step - loss: 0.0816 - accuracy: 0.9677 - val_loss: 0.1116 - val_accuracy: 0.9614\n",
      "Epoch 176/500\n",
      "81/81 [==============================] - 56s 686ms/step - loss: 0.0855 - accuracy: 0.9696 - val_loss: 0.1120 - val_accuracy: 0.9614\n",
      "Epoch 177/500\n",
      "81/81 [==============================] - 56s 688ms/step - loss: 0.0774 - accuracy: 0.9708 - val_loss: 0.1115 - val_accuracy: 0.9614\n",
      "Epoch 178/500\n",
      "81/81 [==============================] - 55s 684ms/step - loss: 0.0754 - accuracy: 0.9741 - val_loss: 0.1112 - val_accuracy: 0.9607\n",
      "Epoch 179/500\n",
      "81/81 [==============================] - 55s 685ms/step - loss: 0.0758 - accuracy: 0.9735 - val_loss: 0.1113 - val_accuracy: 0.9607\n",
      "Epoch 180/500\n",
      "81/81 [==============================] - 56s 686ms/step - loss: 0.0775 - accuracy: 0.9714 - val_loss: 0.1115 - val_accuracy: 0.9599\n",
      "Epoch 181/500\n",
      "81/81 [==============================] - 56s 688ms/step - loss: 0.0622 - accuracy: 0.9771 - val_loss: 0.1114 - val_accuracy: 0.9607\n",
      "Epoch 182/500\n",
      "81/81 [==============================] - 56s 689ms/step - loss: 0.0786 - accuracy: 0.9663 - val_loss: 0.1112 - val_accuracy: 0.9614\n",
      "Epoch 183/500\n",
      "81/81 [==============================] - 56s 686ms/step - loss: 0.0862 - accuracy: 0.9664 - val_loss: 0.1115 - val_accuracy: 0.9607\n",
      "Epoch 184/500\n",
      "81/81 [==============================] - 56s 688ms/step - loss: 0.0778 - accuracy: 0.9704 - val_loss: 0.1115 - val_accuracy: 0.9584\n",
      "Epoch 185/500\n",
      "81/81 [==============================] - 56s 686ms/step - loss: 0.0699 - accuracy: 0.9758 - val_loss: 0.1114 - val_accuracy: 0.9599\n",
      "Epoch 186/500\n",
      "81/81 [==============================] - 56s 687ms/step - loss: 0.0769 - accuracy: 0.9722 - val_loss: 0.1111 - val_accuracy: 0.9607\n",
      "Epoch 187/500\n",
      "81/81 [==============================] - 56s 686ms/step - loss: 0.0862 - accuracy: 0.9668 - val_loss: 0.1113 - val_accuracy: 0.9599\n",
      "Epoch 188/500\n",
      "81/81 [==============================] - 56s 687ms/step - loss: 0.0815 - accuracy: 0.9699 - val_loss: 0.1116 - val_accuracy: 0.9607\n",
      "Epoch 189/500\n",
      "81/81 [==============================] - 56s 687ms/step - loss: 0.0771 - accuracy: 0.9676 - val_loss: 0.1114 - val_accuracy: 0.9591\n",
      "Epoch 190/500\n",
      "81/81 [==============================] - 56s 688ms/step - loss: 0.0776 - accuracy: 0.9680 - val_loss: 0.1116 - val_accuracy: 0.9599\n",
      "Epoch 191/500\n",
      "81/81 [==============================] - 56s 686ms/step - loss: 0.0805 - accuracy: 0.9694 - val_loss: 0.1115 - val_accuracy: 0.9591\n",
      "Epoch 192/500\n",
      "81/81 [==============================] - 56s 688ms/step - loss: 0.0728 - accuracy: 0.9727 - val_loss: 0.1117 - val_accuracy: 0.9599\n",
      "Epoch 193/500\n",
      "81/81 [==============================] - 58s 711ms/step - loss: 0.0781 - accuracy: 0.9717 - val_loss: 0.1117 - val_accuracy: 0.9599\n",
      "Epoch 194/500\n",
      "81/81 [==============================] - 56s 687ms/step - loss: 0.0764 - accuracy: 0.9711 - val_loss: 0.1114 - val_accuracy: 0.9607\n",
      "Epoch 195/500\n",
      "81/81 [==============================] - 56s 689ms/step - loss: 0.0770 - accuracy: 0.9705 - val_loss: 0.1115 - val_accuracy: 0.9599\n",
      "Epoch 196/500\n",
      "81/81 [==============================] - 56s 686ms/step - loss: 0.0720 - accuracy: 0.9684 - val_loss: 0.1113 - val_accuracy: 0.9614\n",
      "Epoch 197/500\n",
      "81/81 [==============================] - 56s 687ms/step - loss: 0.0740 - accuracy: 0.9733 - val_loss: 0.1115 - val_accuracy: 0.9607\n",
      "Epoch 198/500\n",
      "81/81 [==============================] - 56s 689ms/step - loss: 0.0748 - accuracy: 0.9687 - val_loss: 0.1116 - val_accuracy: 0.9599\n",
      "Epoch 199/500\n",
      "81/81 [==============================] - 56s 688ms/step - loss: 0.0784 - accuracy: 0.9757 - val_loss: 0.1114 - val_accuracy: 0.9607\n",
      "Epoch 200/500\n",
      "81/81 [==============================] - 56s 687ms/step - loss: 0.0843 - accuracy: 0.9717 - val_loss: 0.1111 - val_accuracy: 0.9607\n",
      "Epoch 201/500\n",
      "81/81 [==============================] - 56s 688ms/step - loss: 0.0903 - accuracy: 0.9672 - val_loss: 0.1110 - val_accuracy: 0.9607\n",
      "Epoch 202/500\n",
      "81/81 [==============================] - 56s 687ms/step - loss: 0.0723 - accuracy: 0.9705 - val_loss: 0.1107 - val_accuracy: 0.9599\n",
      "Epoch 203/500\n",
      "81/81 [==============================] - 56s 691ms/step - loss: 0.0855 - accuracy: 0.9688 - val_loss: 0.1111 - val_accuracy: 0.9607\n",
      "Epoch 204/500\n",
      "81/81 [==============================] - 56s 688ms/step - loss: 0.0681 - accuracy: 0.9721 - val_loss: 0.1113 - val_accuracy: 0.9607\n",
      "Epoch 205/500\n",
      "81/81 [==============================] - 56s 697ms/step - loss: 0.0885 - accuracy: 0.9681 - val_loss: 0.1114 - val_accuracy: 0.9599\n",
      "Epoch 206/500\n",
      "81/81 [==============================] - 56s 688ms/step - loss: 0.0702 - accuracy: 0.9739 - val_loss: 0.1113 - val_accuracy: 0.9614\n",
      "Epoch 207/500\n",
      "81/81 [==============================] - 56s 690ms/step - loss: 0.0870 - accuracy: 0.9680 - val_loss: 0.1117 - val_accuracy: 0.9599\n",
      "Epoch 208/500\n",
      "81/81 [==============================] - 56s 687ms/step - loss: 0.0674 - accuracy: 0.9744 - val_loss: 0.1116 - val_accuracy: 0.9607\n",
      "Epoch 209/500\n",
      "81/81 [==============================] - 56s 688ms/step - loss: 0.0760 - accuracy: 0.9740 - val_loss: 0.1113 - val_accuracy: 0.9607\n",
      "Epoch 210/500\n",
      "81/81 [==============================] - 56s 688ms/step - loss: 0.0721 - accuracy: 0.9755 - val_loss: 0.1114 - val_accuracy: 0.9614\n",
      "Epoch 211/500\n",
      "81/81 [==============================] - 55s 684ms/step - loss: 0.0761 - accuracy: 0.9709 - val_loss: 0.1114 - val_accuracy: 0.9614\n",
      "Epoch 212/500\n",
      "81/81 [==============================] - 56s 688ms/step - loss: 0.0847 - accuracy: 0.9676 - val_loss: 0.1114 - val_accuracy: 0.9599\n",
      "Epoch 213/500\n",
      "81/81 [==============================] - 55s 684ms/step - loss: 0.0704 - accuracy: 0.9753 - val_loss: 0.1117 - val_accuracy: 0.9599\n",
      "Epoch 214/500\n",
      "81/81 [==============================] - 56s 688ms/step - loss: 0.0787 - accuracy: 0.9673 - val_loss: 0.1114 - val_accuracy: 0.9599\n",
      "Epoch 215/500\n",
      "81/81 [==============================] - 56s 686ms/step - loss: 0.0776 - accuracy: 0.9685 - val_loss: 0.1114 - val_accuracy: 0.9607\n",
      "Epoch 216/500\n",
      "81/81 [==============================] - 56s 688ms/step - loss: 0.0791 - accuracy: 0.9708 - val_loss: 0.1114 - val_accuracy: 0.9607\n",
      "Epoch 217/500\n",
      "81/81 [==============================] - 56s 686ms/step - loss: 0.0748 - accuracy: 0.9729 - val_loss: 0.1115 - val_accuracy: 0.9614\n",
      "Epoch 218/500\n",
      "81/81 [==============================] - 56s 688ms/step - loss: 0.0806 - accuracy: 0.9671 - val_loss: 0.1115 - val_accuracy: 0.9599\n",
      "Epoch 219/500\n",
      "81/81 [==============================] - 56s 686ms/step - loss: 0.0753 - accuracy: 0.9721 - val_loss: 0.1115 - val_accuracy: 0.9607\n",
      "Epoch 220/500\n",
      "81/81 [==============================] - 56s 697ms/step - loss: 0.0800 - accuracy: 0.9677 - val_loss: 0.1113 - val_accuracy: 0.9591\n",
      "Epoch 221/500\n",
      "81/81 [==============================] - 56s 687ms/step - loss: 0.0845 - accuracy: 0.9656 - val_loss: 0.1117 - val_accuracy: 0.9599\n",
      "Epoch 222/500\n",
      "81/81 [==============================] - 56s 688ms/step - loss: 0.0785 - accuracy: 0.9718 - val_loss: 0.1115 - val_accuracy: 0.9614\n",
      "Epoch 223/500\n",
      "81/81 [==============================] - 57s 698ms/step - loss: 0.0782 - accuracy: 0.9701 - val_loss: 0.1117 - val_accuracy: 0.9607\n",
      "Epoch 224/500\n",
      "81/81 [==============================] - 56s 691ms/step - loss: 0.0792 - accuracy: 0.9701 - val_loss: 0.1112 - val_accuracy: 0.9614\n",
      "Epoch 225/500\n"
     ]
    },
    {
     "name": "stdout",
     "output_type": "stream",
     "text": [
      "81/81 [==============================] - 56s 692ms/step - loss: 0.0868 - accuracy: 0.9677 - val_loss: 0.1110 - val_accuracy: 0.9614\n",
      "Epoch 226/500\n",
      "81/81 [==============================] - 56s 686ms/step - loss: 0.0718 - accuracy: 0.9747 - val_loss: 0.1111 - val_accuracy: 0.9599\n",
      "Epoch 227/500\n",
      "81/81 [==============================] - 56s 689ms/step - loss: 0.0695 - accuracy: 0.9718 - val_loss: 0.1111 - val_accuracy: 0.9614\n",
      "Epoch 228/500\n",
      "81/81 [==============================] - 56s 686ms/step - loss: 0.0776 - accuracy: 0.9712 - val_loss: 0.1113 - val_accuracy: 0.9614\n",
      "Epoch 229/500\n",
      "81/81 [==============================] - 56s 687ms/step - loss: 0.0769 - accuracy: 0.9714 - val_loss: 0.1112 - val_accuracy: 0.9599\n",
      "Epoch 230/500\n",
      "81/81 [==============================] - 56s 686ms/step - loss: 0.0658 - accuracy: 0.9779 - val_loss: 0.1114 - val_accuracy: 0.9607\n",
      "Epoch 231/500\n",
      "81/81 [==============================] - 56s 688ms/step - loss: 0.0742 - accuracy: 0.9729 - val_loss: 0.1110 - val_accuracy: 0.9607\n",
      "Epoch 232/500\n",
      "81/81 [==============================] - 55s 685ms/step - loss: 0.0738 - accuracy: 0.9724 - val_loss: 0.1110 - val_accuracy: 0.9607\n",
      "Epoch 233/500\n",
      "81/81 [==============================] - 56s 688ms/step - loss: 0.0782 - accuracy: 0.9710 - val_loss: 0.1112 - val_accuracy: 0.9599\n",
      "Epoch 234/500\n",
      "81/81 [==============================] - 56s 686ms/step - loss: 0.0719 - accuracy: 0.9729 - val_loss: 0.1112 - val_accuracy: 0.9607\n",
      "Epoch 235/500\n",
      "81/81 [==============================] - 56s 688ms/step - loss: 0.0734 - accuracy: 0.9745 - val_loss: 0.1112 - val_accuracy: 0.9607\n",
      "Epoch 236/500\n",
      "81/81 [==============================] - 56s 687ms/step - loss: 0.0839 - accuracy: 0.9669 - val_loss: 0.1113 - val_accuracy: 0.9599\n",
      "Epoch 237/500\n",
      "81/81 [==============================] - 56s 686ms/step - loss: 0.0832 - accuracy: 0.9681 - val_loss: 0.1114 - val_accuracy: 0.9607\n",
      "Epoch 238/500\n",
      "81/81 [==============================] - 56s 688ms/step - loss: 0.0781 - accuracy: 0.9706 - val_loss: 0.1112 - val_accuracy: 0.9607\n",
      "Epoch 239/500\n",
      "81/81 [==============================] - 56s 689ms/step - loss: 0.0678 - accuracy: 0.9753 - val_loss: 0.1111 - val_accuracy: 0.9599\n",
      "Epoch 240/500\n",
      "81/81 [==============================] - 56s 690ms/step - loss: 0.0894 - accuracy: 0.9662 - val_loss: 0.1113 - val_accuracy: 0.9607\n",
      "Epoch 241/500\n",
      "81/81 [==============================] - 56s 689ms/step - loss: 0.0696 - accuracy: 0.9738 - val_loss: 0.1115 - val_accuracy: 0.9607\n",
      "Epoch 242/500\n",
      "81/81 [==============================] - 56s 688ms/step - loss: 0.0714 - accuracy: 0.9722 - val_loss: 0.1112 - val_accuracy: 0.9607\n",
      "Epoch 243/500\n",
      "81/81 [==============================] - 56s 685ms/step - loss: 0.0780 - accuracy: 0.9695 - val_loss: 0.1115 - val_accuracy: 0.9599\n",
      "Epoch 244/500\n",
      "81/81 [==============================] - 56s 689ms/step - loss: 0.0790 - accuracy: 0.9718 - val_loss: 0.1111 - val_accuracy: 0.9607\n",
      "Epoch 245/500\n",
      "81/81 [==============================] - 57s 697ms/step - loss: 0.0894 - accuracy: 0.9655 - val_loss: 0.1112 - val_accuracy: 0.9607\n",
      "Epoch 246/500\n",
      "81/81 [==============================] - 56s 690ms/step - loss: 0.0783 - accuracy: 0.9707 - val_loss: 0.1118 - val_accuracy: 0.9607\n",
      "Epoch 247/500\n",
      "81/81 [==============================] - 56s 688ms/step - loss: 0.0798 - accuracy: 0.9689 - val_loss: 0.1117 - val_accuracy: 0.9599\n",
      "Epoch 248/500\n",
      "81/81 [==============================] - 56s 688ms/step - loss: 0.0809 - accuracy: 0.9731 - val_loss: 0.1112 - val_accuracy: 0.9614\n",
      "Epoch 249/500\n",
      "81/81 [==============================] - 56s 687ms/step - loss: 0.0792 - accuracy: 0.9704 - val_loss: 0.1115 - val_accuracy: 0.9607\n",
      "Epoch 250/500\n",
      "81/81 [==============================] - 56s 690ms/step - loss: 0.0738 - accuracy: 0.9717 - val_loss: 0.1116 - val_accuracy: 0.9607\n",
      "Epoch 251/500\n",
      "81/81 [==============================] - 56s 688ms/step - loss: 0.0862 - accuracy: 0.9659 - val_loss: 0.1115 - val_accuracy: 0.9607\n",
      "Epoch 252/500\n",
      "81/81 [==============================] - 56s 686ms/step - loss: 0.0654 - accuracy: 0.9744 - val_loss: 0.1118 - val_accuracy: 0.9607\n",
      "Epoch 253/500\n",
      "81/81 [==============================] - 56s 689ms/step - loss: 0.0777 - accuracy: 0.9751 - val_loss: 0.1117 - val_accuracy: 0.9607\n",
      "Epoch 254/500\n",
      "81/81 [==============================] - 56s 686ms/step - loss: 0.0826 - accuracy: 0.9706 - val_loss: 0.1113 - val_accuracy: 0.9599\n",
      "Epoch 255/500\n",
      "81/81 [==============================] - 56s 688ms/step - loss: 0.0871 - accuracy: 0.9675 - val_loss: 0.1113 - val_accuracy: 0.9607\n",
      "Epoch 256/500\n",
      "81/81 [==============================] - 56s 689ms/step - loss: 0.0754 - accuracy: 0.9718 - val_loss: 0.1112 - val_accuracy: 0.9591\n",
      "Epoch 257/500\n",
      "81/81 [==============================] - 57s 705ms/step - loss: 0.0812 - accuracy: 0.9697 - val_loss: 0.1114 - val_accuracy: 0.9607\n",
      "Epoch 258/500\n",
      "81/81 [==============================] - 56s 697ms/step - loss: 0.0852 - accuracy: 0.9664 - val_loss: 0.1117 - val_accuracy: 0.9607\n",
      "Epoch 259/500\n",
      "81/81 [==============================] - 56s 690ms/step - loss: 0.0807 - accuracy: 0.9703 - val_loss: 0.1116 - val_accuracy: 0.9599\n",
      "Epoch 260/500\n",
      "81/81 [==============================] - 56s 689ms/step - loss: 0.0692 - accuracy: 0.9712 - val_loss: 0.1115 - val_accuracy: 0.9607\n",
      "Epoch 261/500\n",
      "81/81 [==============================] - 56s 687ms/step - loss: 0.0851 - accuracy: 0.9704 - val_loss: 0.1114 - val_accuracy: 0.9614\n",
      "Epoch 262/500\n",
      "81/81 [==============================] - 56s 688ms/step - loss: 0.0838 - accuracy: 0.9708 - val_loss: 0.1113 - val_accuracy: 0.9607\n",
      "Epoch 263/500\n",
      "81/81 [==============================] - 56s 690ms/step - loss: 0.0669 - accuracy: 0.9761 - val_loss: 0.1111 - val_accuracy: 0.9607\n",
      "Epoch 264/500\n",
      "81/81 [==============================] - 56s 688ms/step - loss: 0.0705 - accuracy: 0.9751 - val_loss: 0.1112 - val_accuracy: 0.9599\n",
      "Epoch 265/500\n",
      "81/81 [==============================] - 56s 687ms/step - loss: 0.0700 - accuracy: 0.9740 - val_loss: 0.1113 - val_accuracy: 0.9607\n",
      "Epoch 266/500\n",
      "81/81 [==============================] - 56s 688ms/step - loss: 0.0780 - accuracy: 0.9698 - val_loss: 0.1116 - val_accuracy: 0.9599\n",
      "Epoch 267/500\n",
      "81/81 [==============================] - 56s 688ms/step - loss: 0.0933 - accuracy: 0.9660 - val_loss: 0.1115 - val_accuracy: 0.9599\n",
      "Epoch 268/500\n",
      "81/81 [==============================] - 56s 689ms/step - loss: 0.0948 - accuracy: 0.9656 - val_loss: 0.1112 - val_accuracy: 0.9607\n",
      "Epoch 269/500\n",
      "81/81 [==============================] - 56s 687ms/step - loss: 0.0814 - accuracy: 0.9718 - val_loss: 0.1115 - val_accuracy: 0.9607\n",
      "Epoch 270/500\n",
      "81/81 [==============================] - 56s 690ms/step - loss: 0.0748 - accuracy: 0.9744 - val_loss: 0.1114 - val_accuracy: 0.9607\n",
      "Epoch 271/500\n",
      "81/81 [==============================] - 56s 687ms/step - loss: 0.0722 - accuracy: 0.9735 - val_loss: 0.1115 - val_accuracy: 0.9607\n",
      "Epoch 272/500\n",
      "81/81 [==============================] - 56s 689ms/step - loss: 0.0743 - accuracy: 0.9727 - val_loss: 0.1114 - val_accuracy: 0.9614\n",
      "Epoch 273/500\n",
      "81/81 [==============================] - 56s 691ms/step - loss: 0.0854 - accuracy: 0.9715 - val_loss: 0.1117 - val_accuracy: 0.9607\n",
      "Epoch 274/500\n",
      "81/81 [==============================] - 56s 689ms/step - loss: 0.0822 - accuracy: 0.9664 - val_loss: 0.1112 - val_accuracy: 0.9599\n",
      "Epoch 275/500\n",
      "81/81 [==============================] - 56s 688ms/step - loss: 0.0831 - accuracy: 0.9685 - val_loss: 0.1112 - val_accuracy: 0.9591\n",
      "Epoch 276/500\n",
      "81/81 [==============================] - 56s 688ms/step - loss: 0.0723 - accuracy: 0.9718 - val_loss: 0.1118 - val_accuracy: 0.9599\n",
      "Epoch 277/500\n",
      "81/81 [==============================] - 56s 686ms/step - loss: 0.0718 - accuracy: 0.9726 - val_loss: 0.1114 - val_accuracy: 0.9599\n",
      "Epoch 278/500\n",
      "81/81 [==============================] - 56s 689ms/step - loss: 0.0754 - accuracy: 0.9698 - val_loss: 0.1113 - val_accuracy: 0.9599\n",
      "Epoch 279/500\n",
      "81/81 [==============================] - 56s 688ms/step - loss: 0.0739 - accuracy: 0.9720 - val_loss: 0.1115 - val_accuracy: 0.9599\n",
      "Epoch 280/500\n",
      "81/81 [==============================] - 56s 689ms/step - loss: 0.0765 - accuracy: 0.9697 - val_loss: 0.1113 - val_accuracy: 0.9591\n",
      "Epoch 281/500\n",
      "81/81 [==============================] - 56s 688ms/step - loss: 0.0645 - accuracy: 0.9808 - val_loss: 0.1112 - val_accuracy: 0.9591\n",
      "Epoch 282/500\n",
      "81/81 [==============================] - 56s 687ms/step - loss: 0.0795 - accuracy: 0.9707 - val_loss: 0.1114 - val_accuracy: 0.9607\n",
      "Epoch 283/500\n",
      "81/81 [==============================] - 56s 686ms/step - loss: 0.0723 - accuracy: 0.9728 - val_loss: 0.1114 - val_accuracy: 0.9607\n",
      "Epoch 284/500\n",
      "81/81 [==============================] - 56s 689ms/step - loss: 0.0856 - accuracy: 0.9686 - val_loss: 0.1115 - val_accuracy: 0.9607\n",
      "Epoch 285/500\n",
      "81/81 [==============================] - 56s 689ms/step - loss: 0.0715 - accuracy: 0.9713 - val_loss: 0.1115 - val_accuracy: 0.9614\n",
      "Epoch 286/500\n",
      "81/81 [==============================] - 56s 688ms/step - loss: 0.0766 - accuracy: 0.9705 - val_loss: 0.1114 - val_accuracy: 0.9614\n",
      "Epoch 287/500\n",
      "81/81 [==============================] - 56s 686ms/step - loss: 0.0851 - accuracy: 0.9710 - val_loss: 0.1114 - val_accuracy: 0.9599\n",
      "Epoch 288/500\n",
      "81/81 [==============================] - 56s 689ms/step - loss: 0.0822 - accuracy: 0.9691 - val_loss: 0.1115 - val_accuracy: 0.9614\n",
      "Epoch 289/500\n",
      "81/81 [==============================] - 56s 691ms/step - loss: 0.0790 - accuracy: 0.9699 - val_loss: 0.1113 - val_accuracy: 0.9614\n",
      "Epoch 290/500\n",
      "81/81 [==============================] - 56s 689ms/step - loss: 0.0651 - accuracy: 0.9749 - val_loss: 0.1115 - val_accuracy: 0.9599\n",
      "Epoch 291/500\n",
      "81/81 [==============================] - 56s 686ms/step - loss: 0.0748 - accuracy: 0.9706 - val_loss: 0.1114 - val_accuracy: 0.9607\n",
      "Epoch 292/500\n",
      "81/81 [==============================] - 56s 686ms/step - loss: 0.0735 - accuracy: 0.9695 - val_loss: 0.1113 - val_accuracy: 0.9607\n",
      "Epoch 293/500\n",
      "81/81 [==============================] - 55s 683ms/step - loss: 0.0767 - accuracy: 0.9743 - val_loss: 0.1115 - val_accuracy: 0.9607\n",
      "Epoch 294/500\n",
      "81/81 [==============================] - 56s 694ms/step - loss: 0.0746 - accuracy: 0.9715 - val_loss: 0.1112 - val_accuracy: 0.9599\n",
      "Epoch 295/500\n",
      "81/81 [==============================] - 56s 687ms/step - loss: 0.0818 - accuracy: 0.9711 - val_loss: 0.1113 - val_accuracy: 0.9607\n",
      "Epoch 296/500\n",
      "81/81 [==============================] - 56s 690ms/step - loss: 0.0821 - accuracy: 0.9715 - val_loss: 0.1115 - val_accuracy: 0.9607\n",
      "Epoch 297/500\n",
      "81/81 [==============================] - 56s 688ms/step - loss: 0.0684 - accuracy: 0.9740 - val_loss: 0.1113 - val_accuracy: 0.9591\n",
      "Epoch 298/500\n",
      "81/81 [==============================] - 56s 691ms/step - loss: 0.0875 - accuracy: 0.9716 - val_loss: 0.1111 - val_accuracy: 0.9591\n",
      "Epoch 299/500\n",
      "81/81 [==============================] - 56s 690ms/step - loss: 0.0819 - accuracy: 0.9706 - val_loss: 0.1112 - val_accuracy: 0.9599\n",
      "Epoch 300/500\n",
      "81/81 [==============================] - 56s 691ms/step - loss: 0.0769 - accuracy: 0.9723 - val_loss: 0.1113 - val_accuracy: 0.9607\n",
      "Epoch 301/500\n",
      "81/81 [==============================] - 56s 689ms/step - loss: 0.0730 - accuracy: 0.9758 - val_loss: 0.1111 - val_accuracy: 0.9599\n",
      "Epoch 302/500\n",
      "81/81 [==============================] - 56s 687ms/step - loss: 0.0829 - accuracy: 0.9705 - val_loss: 0.1112 - val_accuracy: 0.9607\n",
      "Epoch 303/500\n",
      "81/81 [==============================] - 56s 689ms/step - loss: 0.0757 - accuracy: 0.9714 - val_loss: 0.1117 - val_accuracy: 0.9614\n",
      "Epoch 304/500\n",
      "81/81 [==============================] - 56s 692ms/step - loss: 0.0795 - accuracy: 0.9682 - val_loss: 0.1117 - val_accuracy: 0.9591\n",
      "Epoch 305/500\n",
      "81/81 [==============================] - 56s 689ms/step - loss: 0.0756 - accuracy: 0.9707 - val_loss: 0.1115 - val_accuracy: 0.9591\n",
      "Epoch 306/500\n",
      "81/81 [==============================] - 56s 691ms/step - loss: 0.0805 - accuracy: 0.9695 - val_loss: 0.1114 - val_accuracy: 0.9614\n",
      "Epoch 307/500\n",
      "81/81 [==============================] - 56s 687ms/step - loss: 0.0827 - accuracy: 0.9707 - val_loss: 0.1109 - val_accuracy: 0.9607\n",
      "Epoch 308/500\n",
      "81/81 [==============================] - 56s 689ms/step - loss: 0.0801 - accuracy: 0.9711 - val_loss: 0.1111 - val_accuracy: 0.9591\n",
      "Epoch 309/500\n",
      "81/81 [==============================] - 56s 690ms/step - loss: 0.0749 - accuracy: 0.9732 - val_loss: 0.1112 - val_accuracy: 0.9607\n",
      "Epoch 310/500\n",
      "81/81 [==============================] - 56s 689ms/step - loss: 0.0786 - accuracy: 0.9729 - val_loss: 0.1113 - val_accuracy: 0.9591\n",
      "Epoch 311/500\n",
      "81/81 [==============================] - 56s 691ms/step - loss: 0.0811 - accuracy: 0.9735 - val_loss: 0.1116 - val_accuracy: 0.9607\n",
      "Epoch 312/500\n",
      "81/81 [==============================] - 56s 688ms/step - loss: 0.0736 - accuracy: 0.9738 - val_loss: 0.1112 - val_accuracy: 0.9599\n",
      "Epoch 313/500\n",
      "81/81 [==============================] - 56s 691ms/step - loss: 0.0849 - accuracy: 0.9729 - val_loss: 0.1112 - val_accuracy: 0.9599\n",
      "Epoch 314/500\n",
      "81/81 [==============================] - 56s 689ms/step - loss: 0.0831 - accuracy: 0.9679 - val_loss: 0.1113 - val_accuracy: 0.9614\n",
      "Epoch 315/500\n",
      "81/81 [==============================] - 56s 690ms/step - loss: 0.0655 - accuracy: 0.9777 - val_loss: 0.1114 - val_accuracy: 0.9599\n",
      "Epoch 316/500\n",
      "81/81 [==============================] - 56s 689ms/step - loss: 0.0903 - accuracy: 0.9650 - val_loss: 0.1115 - val_accuracy: 0.9599\n",
      "Epoch 317/500\n",
      "81/81 [==============================] - 56s 692ms/step - loss: 0.0773 - accuracy: 0.9718 - val_loss: 0.1112 - val_accuracy: 0.9614\n",
      "Epoch 318/500\n",
      "81/81 [==============================] - 56s 688ms/step - loss: 0.0763 - accuracy: 0.9751 - val_loss: 0.1111 - val_accuracy: 0.9599\n",
      "Epoch 319/500\n",
      "81/81 [==============================] - 56s 689ms/step - loss: 0.0718 - accuracy: 0.9765 - val_loss: 0.1114 - val_accuracy: 0.9607\n",
      "Epoch 320/500\n",
      "81/81 [==============================] - 56s 688ms/step - loss: 0.0729 - accuracy: 0.9719 - val_loss: 0.1115 - val_accuracy: 0.9614\n",
      "Epoch 321/500\n",
      "81/81 [==============================] - 56s 691ms/step - loss: 0.0893 - accuracy: 0.9668 - val_loss: 0.1114 - val_accuracy: 0.9599\n",
      "Epoch 322/500\n",
      "81/81 [==============================] - 58s 713ms/step - loss: 0.0704 - accuracy: 0.9710 - val_loss: 0.1117 - val_accuracy: 0.9599\n",
      "Epoch 323/500\n",
      "81/81 [==============================] - 56s 688ms/step - loss: 0.0760 - accuracy: 0.9691 - val_loss: 0.1115 - val_accuracy: 0.9599\n",
      "Epoch 324/500\n",
      "81/81 [==============================] - 56s 687ms/step - loss: 0.0704 - accuracy: 0.9740 - val_loss: 0.1112 - val_accuracy: 0.9591\n",
      "Epoch 325/500\n",
      "81/81 [==============================] - 56s 688ms/step - loss: 0.0787 - accuracy: 0.9686 - val_loss: 0.1112 - val_accuracy: 0.9607\n",
      "Epoch 326/500\n",
      "81/81 [==============================] - 56s 688ms/step - loss: 0.0774 - accuracy: 0.9725 - val_loss: 0.1111 - val_accuracy: 0.9607\n",
      "Epoch 327/500\n",
      "81/81 [==============================] - 56s 688ms/step - loss: 0.0735 - accuracy: 0.9723 - val_loss: 0.1113 - val_accuracy: 0.9599\n",
      "Epoch 328/500\n",
      "81/81 [==============================] - 56s 689ms/step - loss: 0.0735 - accuracy: 0.9727 - val_loss: 0.1115 - val_accuracy: 0.9607\n",
      "Epoch 329/500\n",
      "81/81 [==============================] - 56s 688ms/step - loss: 0.0781 - accuracy: 0.9730 - val_loss: 0.1113 - val_accuracy: 0.9599\n",
      "Epoch 330/500\n",
      "81/81 [==============================] - 56s 689ms/step - loss: 0.0712 - accuracy: 0.9759 - val_loss: 0.1114 - val_accuracy: 0.9607\n",
      "Epoch 331/500\n",
      "81/81 [==============================] - 56s 689ms/step - loss: 0.0703 - accuracy: 0.9747 - val_loss: 0.1115 - val_accuracy: 0.9607\n",
      "Epoch 332/500\n",
      "81/81 [==============================] - 56s 690ms/step - loss: 0.0746 - accuracy: 0.9721 - val_loss: 0.1117 - val_accuracy: 0.9599\n",
      "Epoch 333/500\n",
      "81/81 [==============================] - 56s 687ms/step - loss: 0.0701 - accuracy: 0.9698 - val_loss: 0.1116 - val_accuracy: 0.9599\n",
      "Epoch 334/500\n",
      "81/81 [==============================] - 56s 690ms/step - loss: 0.0750 - accuracy: 0.9686 - val_loss: 0.1117 - val_accuracy: 0.9584\n",
      "Epoch 335/500\n",
      "81/81 [==============================] - 56s 688ms/step - loss: 0.0713 - accuracy: 0.9735 - val_loss: 0.1113 - val_accuracy: 0.9607\n",
      "Epoch 336/500\n",
      "81/81 [==============================] - 56s 691ms/step - loss: 0.0786 - accuracy: 0.9698 - val_loss: 0.1115 - val_accuracy: 0.9576\n",
      "Epoch 337/500\n"
     ]
    },
    {
     "name": "stdout",
     "output_type": "stream",
     "text": [
      "81/81 [==============================] - 56s 687ms/step - loss: 0.0719 - accuracy: 0.9739 - val_loss: 0.1113 - val_accuracy: 0.9591\n",
      "Epoch 338/500\n",
      "81/81 [==============================] - 56s 690ms/step - loss: 0.0747 - accuracy: 0.9760 - val_loss: 0.1113 - val_accuracy: 0.9591\n",
      "Epoch 339/500\n",
      "81/81 [==============================] - 56s 687ms/step - loss: 0.0738 - accuracy: 0.9751 - val_loss: 0.1115 - val_accuracy: 0.9607\n",
      "Epoch 340/500\n",
      "81/81 [==============================] - 56s 687ms/step - loss: 0.0871 - accuracy: 0.9686 - val_loss: 0.1114 - val_accuracy: 0.9607\n",
      "Epoch 341/500\n",
      "81/81 [==============================] - 56s 687ms/step - loss: 0.0720 - accuracy: 0.9725 - val_loss: 0.1116 - val_accuracy: 0.9607\n",
      "Epoch 342/500\n",
      "81/81 [==============================] - 56s 687ms/step - loss: 0.0827 - accuracy: 0.9708 - val_loss: 0.1114 - val_accuracy: 0.9607\n",
      "Epoch 343/500\n",
      "81/81 [==============================] - 56s 689ms/step - loss: 0.0819 - accuracy: 0.9761 - val_loss: 0.1114 - val_accuracy: 0.9599\n",
      "Epoch 344/500\n",
      "81/81 [==============================] - 56s 688ms/step - loss: 0.0728 - accuracy: 0.9716 - val_loss: 0.1115 - val_accuracy: 0.9607\n",
      "Epoch 345/500\n",
      "81/81 [==============================] - 56s 687ms/step - loss: 0.0807 - accuracy: 0.9662 - val_loss: 0.1113 - val_accuracy: 0.9614\n",
      "Epoch 346/500\n",
      "81/81 [==============================] - 56s 688ms/step - loss: 0.0738 - accuracy: 0.9716 - val_loss: 0.1113 - val_accuracy: 0.9607\n",
      "Epoch 347/500\n",
      "81/81 [==============================] - 56s 688ms/step - loss: 0.0830 - accuracy: 0.9664 - val_loss: 0.1116 - val_accuracy: 0.9599\n",
      "Epoch 348/500\n",
      "81/81 [==============================] - 56s 687ms/step - loss: 0.0693 - accuracy: 0.9732 - val_loss: 0.1117 - val_accuracy: 0.9607\n",
      "Epoch 349/500\n",
      "81/81 [==============================] - 56s 690ms/step - loss: 0.0826 - accuracy: 0.9709 - val_loss: 0.1113 - val_accuracy: 0.9607\n",
      "Epoch 350/500\n",
      "81/81 [==============================] - 56s 687ms/step - loss: 0.0701 - accuracy: 0.9731 - val_loss: 0.1112 - val_accuracy: 0.9607\n",
      "Epoch 351/500\n",
      "81/81 [==============================] - 56s 687ms/step - loss: 0.0806 - accuracy: 0.9662 - val_loss: 0.1115 - val_accuracy: 0.9607\n",
      "Epoch 352/500\n",
      "81/81 [==============================] - 56s 687ms/step - loss: 0.0798 - accuracy: 0.9706 - val_loss: 0.1116 - val_accuracy: 0.9607\n",
      "Epoch 353/500\n",
      "81/81 [==============================] - 56s 687ms/step - loss: 0.0970 - accuracy: 0.9651 - val_loss: 0.1115 - val_accuracy: 0.9607\n",
      "Epoch 354/500\n",
      "81/81 [==============================] - 57s 698ms/step - loss: 0.0742 - accuracy: 0.9720 - val_loss: 0.1112 - val_accuracy: 0.9614\n",
      "Epoch 355/500\n",
      "81/81 [==============================] - 56s 688ms/step - loss: 0.0786 - accuracy: 0.9711 - val_loss: 0.1115 - val_accuracy: 0.9614\n",
      "Epoch 356/500\n",
      "81/81 [==============================] - 56s 689ms/step - loss: 0.0851 - accuracy: 0.9651 - val_loss: 0.1115 - val_accuracy: 0.9607\n",
      "Epoch 357/500\n",
      "81/81 [==============================] - 56s 689ms/step - loss: 0.0808 - accuracy: 0.9673 - val_loss: 0.1112 - val_accuracy: 0.9614\n",
      "Epoch 358/500\n",
      "81/81 [==============================] - 56s 695ms/step - loss: 0.0860 - accuracy: 0.9678 - val_loss: 0.1113 - val_accuracy: 0.9591\n",
      "Epoch 359/500\n",
      "81/81 [==============================] - 56s 688ms/step - loss: 0.0834 - accuracy: 0.9697 - val_loss: 0.1112 - val_accuracy: 0.9599\n",
      "Epoch 360/500\n",
      "81/81 [==============================] - 56s 690ms/step - loss: 0.0736 - accuracy: 0.9744 - val_loss: 0.1111 - val_accuracy: 0.9607\n",
      "Epoch 361/500\n",
      "81/81 [==============================] - 56s 689ms/step - loss: 0.0881 - accuracy: 0.9630 - val_loss: 0.1113 - val_accuracy: 0.9599\n",
      "Epoch 362/500\n",
      "81/81 [==============================] - 56s 690ms/step - loss: 0.0739 - accuracy: 0.9737 - val_loss: 0.1117 - val_accuracy: 0.9607\n",
      "Epoch 363/500\n",
      "81/81 [==============================] - 56s 687ms/step - loss: 0.0819 - accuracy: 0.9704 - val_loss: 0.1116 - val_accuracy: 0.9607\n",
      "Epoch 364/500\n",
      "81/81 [==============================] - 56s 689ms/step - loss: 0.0906 - accuracy: 0.9664 - val_loss: 0.1114 - val_accuracy: 0.9599\n",
      "Epoch 365/500\n",
      "81/81 [==============================] - 56s 688ms/step - loss: 0.0752 - accuracy: 0.9698 - val_loss: 0.1116 - val_accuracy: 0.9599\n",
      "Epoch 366/500\n",
      "81/81 [==============================] - 56s 689ms/step - loss: 0.0762 - accuracy: 0.9745 - val_loss: 0.1115 - val_accuracy: 0.9599\n",
      "Epoch 367/500\n",
      "81/81 [==============================] - 56s 689ms/step - loss: 0.0783 - accuracy: 0.9701 - val_loss: 0.1118 - val_accuracy: 0.9599\n",
      "Epoch 368/500\n",
      "81/81 [==============================] - 56s 689ms/step - loss: 0.0867 - accuracy: 0.9641 - val_loss: 0.1116 - val_accuracy: 0.9591\n",
      "Epoch 369/500\n",
      "81/81 [==============================] - 56s 689ms/step - loss: 0.0802 - accuracy: 0.9699 - val_loss: 0.1114 - val_accuracy: 0.9599\n",
      "Epoch 370/500\n",
      "81/81 [==============================] - 56s 689ms/step - loss: 0.0724 - accuracy: 0.9733 - val_loss: 0.1114 - val_accuracy: 0.9599\n",
      "Epoch 371/500\n",
      "81/81 [==============================] - 56s 690ms/step - loss: 0.0783 - accuracy: 0.9699 - val_loss: 0.1112 - val_accuracy: 0.9584\n",
      "Epoch 372/500\n",
      "81/81 [==============================] - 56s 688ms/step - loss: 0.0851 - accuracy: 0.9660 - val_loss: 0.1113 - val_accuracy: 0.9584\n",
      "Epoch 373/500\n",
      "81/81 [==============================] - 56s 690ms/step - loss: 0.0754 - accuracy: 0.9696 - val_loss: 0.1112 - val_accuracy: 0.9614\n",
      "Epoch 374/500\n",
      "81/81 [==============================] - 56s 689ms/step - loss: 0.0827 - accuracy: 0.9702 - val_loss: 0.1115 - val_accuracy: 0.9599\n",
      "Epoch 375/500\n",
      "81/81 [==============================] - 56s 693ms/step - loss: 0.0783 - accuracy: 0.9719 - val_loss: 0.1115 - val_accuracy: 0.9599\n",
      "Epoch 376/500\n",
      "81/81 [==============================] - 56s 690ms/step - loss: 0.0766 - accuracy: 0.9733 - val_loss: 0.1115 - val_accuracy: 0.9607\n",
      "Epoch 377/500\n",
      "81/81 [==============================] - 56s 690ms/step - loss: 0.0760 - accuracy: 0.9698 - val_loss: 0.1113 - val_accuracy: 0.9607\n",
      "Epoch 378/500\n",
      "81/81 [==============================] - 56s 688ms/step - loss: 0.0895 - accuracy: 0.9676 - val_loss: 0.1114 - val_accuracy: 0.9599\n",
      "Epoch 379/500\n",
      "81/81 [==============================] - 56s 692ms/step - loss: 0.0784 - accuracy: 0.9691 - val_loss: 0.1113 - val_accuracy: 0.9599\n",
      "Epoch 380/500\n",
      "81/81 [==============================] - 56s 688ms/step - loss: 0.0782 - accuracy: 0.9699 - val_loss: 0.1115 - val_accuracy: 0.9584\n",
      "Epoch 381/500\n",
      "81/81 [==============================] - 56s 689ms/step - loss: 0.0755 - accuracy: 0.9705 - val_loss: 0.1121 - val_accuracy: 0.9576\n",
      "Epoch 382/500\n",
      "81/81 [==============================] - 56s 689ms/step - loss: 0.0864 - accuracy: 0.9660 - val_loss: 0.1117 - val_accuracy: 0.9568\n",
      "Epoch 383/500\n",
      "81/81 [==============================] - 56s 689ms/step - loss: 0.0889 - accuracy: 0.9641 - val_loss: 0.1115 - val_accuracy: 0.9576\n",
      "Epoch 384/500\n",
      "81/81 [==============================] - 56s 689ms/step - loss: 0.0809 - accuracy: 0.9696 - val_loss: 0.1114 - val_accuracy: 0.9584\n",
      "Epoch 385/500\n",
      "81/81 [==============================] - 56s 688ms/step - loss: 0.0777 - accuracy: 0.9722 - val_loss: 0.1115 - val_accuracy: 0.9599\n",
      "Epoch 386/500\n",
      "81/81 [==============================] - 57s 707ms/step - loss: 0.0780 - accuracy: 0.9690 - val_loss: 0.1115 - val_accuracy: 0.9599\n",
      "Epoch 387/500\n",
      "81/81 [==============================] - 56s 695ms/step - loss: 0.0861 - accuracy: 0.9645 - val_loss: 0.1116 - val_accuracy: 0.9607\n",
      "Epoch 388/500\n",
      "81/81 [==============================] - 56s 689ms/step - loss: 0.0776 - accuracy: 0.9675 - val_loss: 0.1112 - val_accuracy: 0.9599\n",
      "Epoch 389/500\n",
      "81/81 [==============================] - 56s 689ms/step - loss: 0.0861 - accuracy: 0.9672 - val_loss: 0.1112 - val_accuracy: 0.9607\n",
      "Epoch 390/500\n",
      "81/81 [==============================] - 56s 690ms/step - loss: 0.0750 - accuracy: 0.9723 - val_loss: 0.1116 - val_accuracy: 0.9599\n",
      "Epoch 391/500\n",
      "81/81 [==============================] - 56s 696ms/step - loss: 0.0737 - accuracy: 0.9687 - val_loss: 0.1115 - val_accuracy: 0.9599\n",
      "Epoch 392/500\n",
      "81/81 [==============================] - 56s 690ms/step - loss: 0.0790 - accuracy: 0.9715 - val_loss: 0.1114 - val_accuracy: 0.9584\n",
      "Epoch 393/500\n",
      "81/81 [==============================] - 56s 686ms/step - loss: 0.0716 - accuracy: 0.9722 - val_loss: 0.1113 - val_accuracy: 0.9584\n",
      "Epoch 394/500\n",
      "81/81 [==============================] - 56s 688ms/step - loss: 0.0806 - accuracy: 0.9697 - val_loss: 0.1114 - val_accuracy: 0.9607\n",
      "Epoch 395/500\n",
      "81/81 [==============================] - 56s 686ms/step - loss: 0.0882 - accuracy: 0.9690 - val_loss: 0.1112 - val_accuracy: 0.9614\n",
      "Epoch 396/500\n",
      "81/81 [==============================] - 56s 686ms/step - loss: 0.0757 - accuracy: 0.9701 - val_loss: 0.1112 - val_accuracy: 0.9599\n",
      "Epoch 397/500\n",
      "81/81 [==============================] - 56s 689ms/step - loss: 0.0753 - accuracy: 0.9666 - val_loss: 0.1111 - val_accuracy: 0.9614\n",
      "Epoch 398/500\n",
      "81/81 [==============================] - 56s 687ms/step - loss: 0.0897 - accuracy: 0.9671 - val_loss: 0.1114 - val_accuracy: 0.9607\n",
      "Epoch 399/500\n",
      "81/81 [==============================] - 56s 688ms/step - loss: 0.0753 - accuracy: 0.9707 - val_loss: 0.1113 - val_accuracy: 0.9607\n",
      "Epoch 400/500\n",
      "81/81 [==============================] - 56s 688ms/step - loss: 0.0750 - accuracy: 0.9703 - val_loss: 0.1115 - val_accuracy: 0.9614\n",
      "Epoch 401/500\n",
      "81/81 [==============================] - 56s 688ms/step - loss: 0.0702 - accuracy: 0.9768 - val_loss: 0.1116 - val_accuracy: 0.9607\n",
      "Epoch 402/500\n",
      "81/81 [==============================] - 56s 689ms/step - loss: 0.0761 - accuracy: 0.9742 - val_loss: 0.1116 - val_accuracy: 0.9607\n",
      "Epoch 403/500\n",
      "81/81 [==============================] - 56s 690ms/step - loss: 0.0834 - accuracy: 0.9683 - val_loss: 0.1117 - val_accuracy: 0.9607\n",
      "Epoch 404/500\n",
      "81/81 [==============================] - 56s 688ms/step - loss: 0.0711 - accuracy: 0.9730 - val_loss: 0.1115 - val_accuracy: 0.9607\n",
      "Epoch 405/500\n",
      "81/81 [==============================] - 56s 688ms/step - loss: 0.0695 - accuracy: 0.9758 - val_loss: 0.1116 - val_accuracy: 0.9599\n",
      "Epoch 406/500\n",
      "81/81 [==============================] - 56s 687ms/step - loss: 0.0881 - accuracy: 0.9693 - val_loss: 0.1115 - val_accuracy: 0.9599\n",
      "Epoch 407/500\n",
      "81/81 [==============================] - 56s 689ms/step - loss: 0.0655 - accuracy: 0.9763 - val_loss: 0.1116 - val_accuracy: 0.9599\n",
      "Epoch 408/500\n",
      "81/81 [==============================] - 56s 688ms/step - loss: 0.0799 - accuracy: 0.9658 - val_loss: 0.1115 - val_accuracy: 0.9607\n",
      "Epoch 409/500\n",
      "81/81 [==============================] - 56s 687ms/step - loss: 0.0930 - accuracy: 0.9618 - val_loss: 0.1113 - val_accuracy: 0.9607\n",
      "Epoch 410/500\n",
      "81/81 [==============================] - 56s 687ms/step - loss: 0.0735 - accuracy: 0.9756 - val_loss: 0.1112 - val_accuracy: 0.9607\n",
      "Epoch 411/500\n",
      "81/81 [==============================] - 56s 694ms/step - loss: 0.0805 - accuracy: 0.9704 - val_loss: 0.1111 - val_accuracy: 0.9599\n",
      "Epoch 412/500\n",
      "81/81 [==============================] - 56s 688ms/step - loss: 0.0829 - accuracy: 0.9695 - val_loss: 0.1109 - val_accuracy: 0.9584\n",
      "Epoch 413/500\n",
      "81/81 [==============================] - 56s 688ms/step - loss: 0.0801 - accuracy: 0.9707 - val_loss: 0.1112 - val_accuracy: 0.9607\n",
      "Epoch 414/500\n",
      "81/81 [==============================] - 56s 686ms/step - loss: 0.0747 - accuracy: 0.9722 - val_loss: 0.1117 - val_accuracy: 0.9607\n",
      "Epoch 415/500\n",
      "81/81 [==============================] - 55s 683ms/step - loss: 0.0852 - accuracy: 0.9686 - val_loss: 0.1115 - val_accuracy: 0.9607\n",
      "Epoch 416/500\n",
      "81/81 [==============================] - 56s 688ms/step - loss: 0.0755 - accuracy: 0.9683 - val_loss: 0.1115 - val_accuracy: 0.9599\n",
      "Epoch 417/500\n",
      "81/81 [==============================] - 55s 684ms/step - loss: 0.0824 - accuracy: 0.9677 - val_loss: 0.1115 - val_accuracy: 0.9614\n",
      "Epoch 418/500\n",
      "81/81 [==============================] - 56s 689ms/step - loss: 0.0699 - accuracy: 0.9726 - val_loss: 0.1111 - val_accuracy: 0.9599\n",
      "Epoch 419/500\n",
      "81/81 [==============================] - 55s 683ms/step - loss: 0.0790 - accuracy: 0.9681 - val_loss: 0.1115 - val_accuracy: 0.9599\n",
      "Epoch 420/500\n",
      "81/81 [==============================] - 55s 684ms/step - loss: 0.0808 - accuracy: 0.9689 - val_loss: 0.1114 - val_accuracy: 0.9599\n",
      "Epoch 421/500\n",
      "81/81 [==============================] - 55s 683ms/step - loss: 0.0827 - accuracy: 0.9726 - val_loss: 0.1115 - val_accuracy: 0.9599\n",
      "Epoch 422/500\n",
      "81/81 [==============================] - 56s 687ms/step - loss: 0.0748 - accuracy: 0.9684 - val_loss: 0.1114 - val_accuracy: 0.9607\n",
      "Epoch 423/500\n",
      "81/81 [==============================] - 56s 687ms/step - loss: 0.0757 - accuracy: 0.9700 - val_loss: 0.1115 - val_accuracy: 0.9607\n",
      "Epoch 424/500\n",
      "81/81 [==============================] - 55s 684ms/step - loss: 0.0718 - accuracy: 0.9740 - val_loss: 0.1114 - val_accuracy: 0.9599\n",
      "Epoch 425/500\n",
      "81/81 [==============================] - 55s 684ms/step - loss: 0.0781 - accuracy: 0.9743 - val_loss: 0.1113 - val_accuracy: 0.9599\n",
      "Epoch 426/500\n",
      "81/81 [==============================] - 55s 684ms/step - loss: 0.0813 - accuracy: 0.9678 - val_loss: 0.1115 - val_accuracy: 0.9599\n",
      "Epoch 427/500\n",
      "81/81 [==============================] - 55s 684ms/step - loss: 0.0689 - accuracy: 0.9744 - val_loss: 0.1117 - val_accuracy: 0.9591\n",
      "Epoch 428/500\n",
      "81/81 [==============================] - 55s 682ms/step - loss: 0.0736 - accuracy: 0.9729 - val_loss: 0.1114 - val_accuracy: 0.9591\n",
      "Epoch 429/500\n",
      "81/81 [==============================] - 55s 684ms/step - loss: 0.0700 - accuracy: 0.9723 - val_loss: 0.1113 - val_accuracy: 0.9591\n",
      "Epoch 430/500\n",
      "81/81 [==============================] - 55s 684ms/step - loss: 0.0817 - accuracy: 0.9704 - val_loss: 0.1111 - val_accuracy: 0.9591\n",
      "Epoch 431/500\n",
      "81/81 [==============================] - 55s 685ms/step - loss: 0.0776 - accuracy: 0.9685 - val_loss: 0.1113 - val_accuracy: 0.9599\n",
      "Epoch 432/500\n",
      "81/81 [==============================] - 56s 685ms/step - loss: 0.0843 - accuracy: 0.9652 - val_loss: 0.1117 - val_accuracy: 0.9599\n",
      "Epoch 433/500\n",
      "81/81 [==============================] - 56s 688ms/step - loss: 0.0781 - accuracy: 0.9694 - val_loss: 0.1116 - val_accuracy: 0.9607\n",
      "Epoch 434/500\n",
      "81/81 [==============================] - 55s 683ms/step - loss: 0.0705 - accuracy: 0.9753 - val_loss: 0.1115 - val_accuracy: 0.9607\n",
      "Epoch 435/500\n",
      "81/81 [==============================] - 55s 685ms/step - loss: 0.0800 - accuracy: 0.9691 - val_loss: 0.1114 - val_accuracy: 0.9607\n",
      "Epoch 436/500\n",
      "81/81 [==============================] - 56s 686ms/step - loss: 0.0733 - accuracy: 0.9713 - val_loss: 0.1116 - val_accuracy: 0.9607\n",
      "Epoch 437/500\n",
      "81/81 [==============================] - 56s 688ms/step - loss: 0.0700 - accuracy: 0.9769 - val_loss: 0.1115 - val_accuracy: 0.9607\n",
      "Epoch 438/500\n",
      "81/81 [==============================] - 56s 688ms/step - loss: 0.0860 - accuracy: 0.9697 - val_loss: 0.1119 - val_accuracy: 0.9607\n",
      "Epoch 439/500\n",
      "81/81 [==============================] - 56s 687ms/step - loss: 0.0739 - accuracy: 0.9696 - val_loss: 0.1117 - val_accuracy: 0.9607\n",
      "Epoch 440/500\n",
      "81/81 [==============================] - 56s 686ms/step - loss: 0.0733 - accuracy: 0.9685 - val_loss: 0.1115 - val_accuracy: 0.9607\n",
      "Epoch 441/500\n",
      "81/81 [==============================] - 55s 684ms/step - loss: 0.0854 - accuracy: 0.9674 - val_loss: 0.1113 - val_accuracy: 0.9591\n",
      "Epoch 442/500\n",
      "81/81 [==============================] - 56s 686ms/step - loss: 0.0889 - accuracy: 0.9681 - val_loss: 0.1111 - val_accuracy: 0.9584\n",
      "Epoch 443/500\n",
      "81/81 [==============================] - 55s 683ms/step - loss: 0.0785 - accuracy: 0.9702 - val_loss: 0.1114 - val_accuracy: 0.9599\n",
      "Epoch 444/500\n",
      "81/81 [==============================] - 55s 684ms/step - loss: 0.0925 - accuracy: 0.9648 - val_loss: 0.1115 - val_accuracy: 0.9591\n",
      "Epoch 445/500\n",
      "81/81 [==============================] - 55s 684ms/step - loss: 0.0703 - accuracy: 0.9721 - val_loss: 0.1117 - val_accuracy: 0.9584\n",
      "Epoch 446/500\n",
      "81/81 [==============================] - 56s 686ms/step - loss: 0.0839 - accuracy: 0.9703 - val_loss: 0.1116 - val_accuracy: 0.9599\n",
      "Epoch 447/500\n",
      "81/81 [==============================] - 55s 685ms/step - loss: 0.0834 - accuracy: 0.9654 - val_loss: 0.1117 - val_accuracy: 0.9607\n",
      "Epoch 448/500\n",
      "81/81 [==============================] - 56s 686ms/step - loss: 0.0789 - accuracy: 0.9663 - val_loss: 0.1117 - val_accuracy: 0.9607\n",
      "Epoch 449/500\n"
     ]
    },
    {
     "name": "stdout",
     "output_type": "stream",
     "text": [
      "81/81 [==============================] - 56s 687ms/step - loss: 0.0815 - accuracy: 0.9713 - val_loss: 0.1112 - val_accuracy: 0.9599\n",
      "Epoch 450/500\n",
      "81/81 [==============================] - 55s 692ms/step - loss: 0.0791 - accuracy: 0.9687 - val_loss: 0.1112 - val_accuracy: 0.9584\n",
      "Epoch 451/500\n",
      "81/81 [==============================] - 57s 709ms/step - loss: 0.0737 - accuracy: 0.9694 - val_loss: 0.1111 - val_accuracy: 0.9591\n",
      "Epoch 452/500\n",
      "81/81 [==============================] - 55s 685ms/step - loss: 0.0956 - accuracy: 0.9654 - val_loss: 0.1115 - val_accuracy: 0.9607\n",
      "Epoch 453/500\n",
      "81/81 [==============================] - 56s 687ms/step - loss: 0.0706 - accuracy: 0.9743 - val_loss: 0.1117 - val_accuracy: 0.9607\n",
      "Epoch 454/500\n",
      "81/81 [==============================] - 55s 685ms/step - loss: 0.0764 - accuracy: 0.9708 - val_loss: 0.1117 - val_accuracy: 0.9591\n",
      "Epoch 455/500\n",
      "81/81 [==============================] - 56s 695ms/step - loss: 0.0802 - accuracy: 0.9720 - val_loss: 0.1114 - val_accuracy: 0.9607\n",
      "Epoch 456/500\n",
      "81/81 [==============================] - 55s 685ms/step - loss: 0.0725 - accuracy: 0.9723 - val_loss: 0.1114 - val_accuracy: 0.9599\n",
      "Epoch 457/500\n",
      "81/81 [==============================] - 55s 684ms/step - loss: 0.0818 - accuracy: 0.9696 - val_loss: 0.1114 - val_accuracy: 0.9584\n",
      "Epoch 458/500\n",
      "81/81 [==============================] - 56s 691ms/step - loss: 0.0735 - accuracy: 0.9717 - val_loss: 0.1112 - val_accuracy: 0.9591\n",
      "Epoch 459/500\n",
      "81/81 [==============================] - 55s 685ms/step - loss: 0.0785 - accuracy: 0.9693 - val_loss: 0.1112 - val_accuracy: 0.9584\n",
      "Epoch 460/500\n",
      "81/81 [==============================] - 55s 684ms/step - loss: 0.0764 - accuracy: 0.9687 - val_loss: 0.1112 - val_accuracy: 0.9591\n",
      "Epoch 461/500\n",
      "81/81 [==============================] - 56s 685ms/step - loss: 0.0862 - accuracy: 0.9681 - val_loss: 0.1112 - val_accuracy: 0.9599\n",
      "Epoch 462/500\n",
      "81/81 [==============================] - 55s 684ms/step - loss: 0.0800 - accuracy: 0.9701 - val_loss: 0.1116 - val_accuracy: 0.9599\n",
      "Epoch 463/500\n",
      "81/81 [==============================] - 55s 684ms/step - loss: 0.0819 - accuracy: 0.9689 - val_loss: 0.1110 - val_accuracy: 0.9599\n",
      "Epoch 464/500\n",
      "81/81 [==============================] - 56s 685ms/step - loss: 0.0858 - accuracy: 0.9705 - val_loss: 0.1111 - val_accuracy: 0.9584\n",
      "Epoch 465/500\n",
      "81/81 [==============================] - 56s 685ms/step - loss: 0.0733 - accuracy: 0.9740 - val_loss: 0.1111 - val_accuracy: 0.9599\n",
      "Epoch 466/500\n",
      "81/81 [==============================] - 56s 687ms/step - loss: 0.0788 - accuracy: 0.9713 - val_loss: 0.1116 - val_accuracy: 0.9614\n",
      "Epoch 467/500\n",
      "81/81 [==============================] - 56s 686ms/step - loss: 0.0670 - accuracy: 0.9757 - val_loss: 0.1114 - val_accuracy: 0.9614\n",
      "Epoch 468/500\n",
      "81/81 [==============================] - 56s 688ms/step - loss: 0.0843 - accuracy: 0.9708 - val_loss: 0.1113 - val_accuracy: 0.9607\n",
      "Epoch 469/500\n",
      "81/81 [==============================] - 56s 686ms/step - loss: 0.0761 - accuracy: 0.9708 - val_loss: 0.1117 - val_accuracy: 0.9607\n",
      "Epoch 470/500\n",
      "81/81 [==============================] - 56s 686ms/step - loss: 0.0725 - accuracy: 0.9722 - val_loss: 0.1116 - val_accuracy: 0.9607\n",
      "Epoch 471/500\n",
      "81/81 [==============================] - 56s 686ms/step - loss: 0.0793 - accuracy: 0.9713 - val_loss: 0.1117 - val_accuracy: 0.9614\n",
      "Epoch 472/500\n",
      "81/81 [==============================] - 56s 690ms/step - loss: 0.0773 - accuracy: 0.9682 - val_loss: 0.1113 - val_accuracy: 0.9607\n",
      "Epoch 473/500\n",
      "81/81 [==============================] - 55s 685ms/step - loss: 0.0768 - accuracy: 0.9725 - val_loss: 0.1114 - val_accuracy: 0.9607\n",
      "Epoch 474/500\n",
      "81/81 [==============================] - 56s 688ms/step - loss: 0.0786 - accuracy: 0.9701 - val_loss: 0.1116 - val_accuracy: 0.9607\n",
      "Epoch 475/500\n",
      "81/81 [==============================] - 55s 684ms/step - loss: 0.0870 - accuracy: 0.9703 - val_loss: 0.1114 - val_accuracy: 0.9607\n",
      "Epoch 476/500\n",
      "81/81 [==============================] - 55s 685ms/step - loss: 0.0745 - accuracy: 0.9725 - val_loss: 0.1113 - val_accuracy: 0.9607\n",
      "Epoch 477/500\n",
      "81/81 [==============================] - 56s 686ms/step - loss: 0.0740 - accuracy: 0.9697 - val_loss: 0.1111 - val_accuracy: 0.9599\n",
      "Epoch 478/500\n",
      "81/81 [==============================] - 56s 688ms/step - loss: 0.0887 - accuracy: 0.9690 - val_loss: 0.1117 - val_accuracy: 0.9614\n",
      "Epoch 479/500\n",
      "81/81 [==============================] - 56s 687ms/step - loss: 0.0741 - accuracy: 0.9712 - val_loss: 0.1113 - val_accuracy: 0.9607\n",
      "Epoch 480/500\n",
      "81/81 [==============================] - 55s 685ms/step - loss: 0.0827 - accuracy: 0.9690 - val_loss: 0.1112 - val_accuracy: 0.9599\n",
      "Epoch 481/500\n",
      "81/81 [==============================] - 56s 688ms/step - loss: 0.0824 - accuracy: 0.9677 - val_loss: 0.1114 - val_accuracy: 0.9607\n",
      "Epoch 482/500\n",
      "81/81 [==============================] - 55s 683ms/step - loss: 0.0749 - accuracy: 0.9742 - val_loss: 0.1112 - val_accuracy: 0.9607\n",
      "Epoch 483/500\n",
      "81/81 [==============================] - 56s 691ms/step - loss: 0.0773 - accuracy: 0.9713 - val_loss: 0.1115 - val_accuracy: 0.9607\n",
      "Epoch 484/500\n",
      "81/81 [==============================] - 55s 685ms/step - loss: 0.0701 - accuracy: 0.9699 - val_loss: 0.1115 - val_accuracy: 0.9607\n",
      "Epoch 485/500\n",
      "81/81 [==============================] - 56s 688ms/step - loss: 0.0861 - accuracy: 0.9680 - val_loss: 0.1116 - val_accuracy: 0.9607\n",
      "Epoch 486/500\n",
      "81/81 [==============================] - 56s 686ms/step - loss: 0.0797 - accuracy: 0.9709 - val_loss: 0.1111 - val_accuracy: 0.9599\n",
      "Epoch 487/500\n",
      "81/81 [==============================] - 56s 691ms/step - loss: 0.0842 - accuracy: 0.9695 - val_loss: 0.1111 - val_accuracy: 0.9607\n",
      "Epoch 488/500\n",
      "81/81 [==============================] - 56s 687ms/step - loss: 0.0825 - accuracy: 0.9719 - val_loss: 0.1113 - val_accuracy: 0.9607\n",
      "Epoch 489/500\n",
      "81/81 [==============================] - 56s 689ms/step - loss: 0.0734 - accuracy: 0.9729 - val_loss: 0.1114 - val_accuracy: 0.9607\n",
      "Epoch 490/500\n",
      "81/81 [==============================] - 55s 684ms/step - loss: 0.0750 - accuracy: 0.9716 - val_loss: 0.1110 - val_accuracy: 0.9599\n",
      "Epoch 491/500\n",
      "81/81 [==============================] - 55s 685ms/step - loss: 0.0742 - accuracy: 0.9733 - val_loss: 0.1113 - val_accuracy: 0.9584\n",
      "Epoch 492/500\n",
      "81/81 [==============================] - 56s 687ms/step - loss: 0.0709 - accuracy: 0.9754 - val_loss: 0.1114 - val_accuracy: 0.9591\n",
      "Epoch 493/500\n",
      "81/81 [==============================] - 56s 687ms/step - loss: 0.0708 - accuracy: 0.9719 - val_loss: 0.1119 - val_accuracy: 0.9607\n",
      "Epoch 494/500\n",
      "81/81 [==============================] - 56s 687ms/step - loss: 0.0748 - accuracy: 0.9712 - val_loss: 0.1121 - val_accuracy: 0.9576\n",
      "Epoch 495/500\n",
      "81/81 [==============================] - 55s 684ms/step - loss: 0.0747 - accuracy: 0.9705 - val_loss: 0.1119 - val_accuracy: 0.9591\n",
      "Epoch 496/500\n",
      "81/81 [==============================] - 56s 689ms/step - loss: 0.0759 - accuracy: 0.9734 - val_loss: 0.1117 - val_accuracy: 0.9591\n",
      "Epoch 497/500\n",
      "81/81 [==============================] - 56s 686ms/step - loss: 0.0855 - accuracy: 0.9667 - val_loss: 0.1114 - val_accuracy: 0.9599\n",
      "Epoch 498/500\n",
      "81/81 [==============================] - 56s 690ms/step - loss: 0.0733 - accuracy: 0.9744 - val_loss: 0.1115 - val_accuracy: 0.9607\n",
      "Epoch 499/500\n",
      "81/81 [==============================] - 56s 685ms/step - loss: 0.0845 - accuracy: 0.9693 - val_loss: 0.1113 - val_accuracy: 0.9607\n",
      "Epoch 500/500\n",
      "81/81 [==============================] - 56s 694ms/step - loss: 0.0916 - accuracy: 0.9637 - val_loss: 0.1112 - val_accuracy: 0.9607\n",
      "41/41 [==============================] - 2s 54ms/step - loss: 0.1112 - accuracy: 0.9607\n",
      "> 96.068\n"
     ]
    },
    {
     "data": {
      "image/png": "[encoded data removed]",
      "text/plain": [
       "<Figure size 432x288 with 1 Axes>"
      ]
     },
     "metadata": {
      "needs_background": "light"
     },
     "output_type": "display_data"
    }
   ],
   "source": [
    "# run the test harness for evaluating a model\n",
    "def run_test_harness():\n",
    "\t# create data generator\n",
    "\tdatagen = ImageDataGenerator(width_shift_range=0.1, height_shift_range=0.1, horizontal_flip=True,zoom_range=0.1)\n",
    "\t# prepare iterator\n",
    "\tit_train = datagen.flow(X_train_images_np, y_train_labels_np, batch_size=64)\n",
    "\t# fit model\n",
    "\tsteps = int(X_train_images_np.shape[0] / 64)\n",
    "\thist = model.fit_generator(it_train, steps_per_epoch=steps, epochs=500, validation_data=(X_val_images_np, y_val_labels_np), verbose=1, callbacks = callbacks)\n",
    "\t# evaluate model\n",
    "\t_, acc = model.evaluate(X_val_images_np, y_val_labels_np, verbose=1)\n",
    "\tprint('> %.3f' % (acc * 100.0))\n",
    "\t# learning curves\n",
    "\tsummarize_diagnostics(hist)\n",
    "\n",
    "# entry point, run the test harness\n",
    "run_test_harness()"
   ]
  },
  {
   "cell_type": "code",
   "execution_count": 90,
   "metadata": {
    "executionInfo": {
     "elapsed": 1671,
     "status": "ok",
     "timestamp": 1602744781729,
     "user": {
      "displayName": "DIVYANSHU BHAIK",
      "photoUrl": "https://lh3.googleusercontent.com/a-/AOh14Gi1vml2D36-XRNdiec3_IPIhcoGFtn36xsXJyiN=s64",
      "userId": "01508561723939667345"
     },
     "user_tz": -330
    },
    "id": "-at21dhZ7QUh"
   },
   "outputs": [],
   "source": [
    "model_new_1 = keras.models.load_model(\"classification_deep_conv_model.h5\")"
   ]
  },
  {
   "cell_type": "code",
   "execution_count": 91,
   "metadata": {
    "colab": {
     "base_uri": "https://localhost:8080/",
     "height": 1000
    },
    "executionInfo": {
     "elapsed": 1627,
     "status": "ok",
     "timestamp": 1602744785439,
     "user": {
      "displayName": "DIVYANSHU BHAIK",
      "photoUrl": "https://lh3.googleusercontent.com/a-/AOh14Gi1vml2D36-XRNdiec3_IPIhcoGFtn36xsXJyiN=s64",
      "userId": "01508561723939667345"
     },
     "user_tz": -330
    },
    "id": "vQTTrJhA0mV6",
    "outputId": "aaa4e7c6-7c2f-4a97-9e79-0beb7f6e0193"
   },
   "outputs": [
    {
     "name": "stdout",
     "output_type": "stream",
     "text": [
      "Model: \"model\"\n",
      "_________________________________________________________________\n",
      "Layer (type)                 Output Shape              Param #   \n",
      "=================================================================\n",
      "conv2d_input (InputLayer)    [(None, 50, 50, 1)]       0         \n",
      "_________________________________________________________________\n",
      "conv2d (Conv2D)              (None, 50, 50, 32)        320       \n",
      "_________________________________________________________________\n",
      "batch_normalization (BatchNo (None, 50, 50, 32)        128       \n",
      "_________________________________________________________________\n",
      "conv2d_1 (Conv2D)            (None, 50, 50, 32)        9248      \n",
      "_________________________________________________________________\n",
      "batch_normalization_1 (Batch (None, 50, 50, 32)        128       \n",
      "_________________________________________________________________\n",
      "max_pooling2d (MaxPooling2D) (None, 25, 25, 32)        0         \n",
      "_________________________________________________________________\n",
      "dropout (Dropout)            (None, 25, 25, 32)        0         \n",
      "_________________________________________________________________\n",
      "conv2d_2 (Conv2D)            (None, 25, 25, 64)        18496     \n",
      "_________________________________________________________________\n",
      "batch_normalization_2 (Batch (None, 25, 25, 64)        256       \n",
      "_________________________________________________________________\n",
      "conv2d_3 (Conv2D)            (None, 25, 25, 64)        36928     \n",
      "_________________________________________________________________\n",
      "batch_normalization_3 (Batch (None, 25, 25, 64)        256       \n",
      "_________________________________________________________________\n",
      "max_pooling2d_1 (MaxPooling2 (None, 12, 12, 64)        0         \n",
      "_________________________________________________________________\n",
      "dropout_1 (Dropout)          (None, 12, 12, 64)        0         \n",
      "_________________________________________________________________\n",
      "conv2d_4 (Conv2D)            (None, 12, 12, 128)       73856     \n",
      "_________________________________________________________________\n",
      "batch_normalization_4 (Batch (None, 12, 12, 128)       512       \n",
      "_________________________________________________________________\n",
      "conv2d_5 (Conv2D)            (None, 12, 12, 128)       147584    \n",
      "_________________________________________________________________\n",
      "batch_normalization_5 (Batch (None, 12, 12, 128)       512       \n",
      "_________________________________________________________________\n",
      "max_pooling2d_2 (MaxPooling2 (None, 6, 6, 128)         0         \n",
      "_________________________________________________________________\n",
      "dropout_2 (Dropout)          (None, 6, 6, 128)         0         \n",
      "_________________________________________________________________\n",
      "conv2d_6 (Conv2D)            (None, 6, 6, 128)         147584    \n",
      "_________________________________________________________________\n",
      "batch_normalization_6 (Batch (None, 6, 6, 128)         512       \n",
      "_________________________________________________________________\n",
      "conv2d_7 (Conv2D)            (None, 6, 6, 128)         147584    \n",
      "_________________________________________________________________\n",
      "batch_normalization_7 (Batch (None, 6, 6, 128)         512       \n",
      "_________________________________________________________________\n",
      "max_pooling2d_3 (MaxPooling2 (None, 3, 3, 128)         0         \n",
      "_________________________________________________________________\n",
      "dropout_3 (Dropout)          (None, 3, 3, 128)         0         \n",
      "_________________________________________________________________\n",
      "conv2d_8 (Conv2D)            (None, 3, 3, 128)         147584    \n",
      "_________________________________________________________________\n",
      "batch_normalization_8 (Batch (None, 3, 3, 128)         512       \n",
      "_________________________________________________________________\n",
      "conv2d_9 (Conv2D)            (None, 3, 3, 128)         147584    \n",
      "_________________________________________________________________\n",
      "batch_normalization_9 (Batch (None, 3, 3, 128)         512       \n",
      "_________________________________________________________________\n",
      "max_pooling2d_4 (MaxPooling2 (None, 1, 1, 128)         0         \n",
      "_________________________________________________________________\n",
      "dropout_4 (Dropout)          (None, 1, 1, 128)         0         \n",
      "_________________________________________________________________\n",
      "flatten (Flatten)            (None, 128)               0         \n",
      "_________________________________________________________________\n",
      "dense (Dense)                (None, 128)               16512     \n",
      "_________________________________________________________________\n",
      "batch_normalization_10 (Batc (None, 128)               512       \n",
      "_________________________________________________________________\n",
      "dropout_5 (Dropout)          (None, 128)               0         \n",
      "_________________________________________________________________\n",
      "dense_1 (Dense)              (None, 128)               16512     \n",
      "_________________________________________________________________\n",
      "dense_2 (Dense)              (None, 128)               16512     \n",
      "_________________________________________________________________\n",
      "dense_3 (Dense)              (None, 128)               16512     \n",
      "_________________________________________________________________\n",
      "dense_4 (Dense)              (None, 2)                 258       \n",
      "=================================================================\n",
      "Total params: 947,426\n",
      "Trainable params: 945,250\n",
      "Non-trainable params: 2,176\n",
      "_________________________________________________________________\n"
     ]
    }
   ],
   "source": [
    "model_new_1.summary()"
   ]
  },
  {
   "cell_type": "code",
   "execution_count": 92,
   "metadata": {
    "colab": {
     "base_uri": "https://localhost:8080/",
     "height": 67
    },
    "executionInfo": {
     "elapsed": 1254,
     "status": "ok",
     "timestamp": 1602744792733,
     "user": {
      "displayName": "DIVYANSHU BHAIK",
      "photoUrl": "https://lh3.googleusercontent.com/a-/AOh14Gi1vml2D36-XRNdiec3_IPIhcoGFtn36xsXJyiN=s64",
      "userId": "01508561723939667345"
     },
     "user_tz": -330
    },
    "id": "fz72edIl0qih",
    "outputId": "bd89870f-a41a-48f6-8d76-c0ccb29771b2"
   },
   "outputs": [
    {
     "name": "stdout",
     "output_type": "stream",
     "text": [
      "confusion matrix\n",
      "[[1309   31]\n",
      " [  42  240]]\n"
     ]
    }
   ],
   "source": [
    "from sklearn.metrics import confusion_matrix,classification_report\n",
    "y_pred = model_new_1.predict(X_test_images_np)\n",
    "y_p = np.argmax(y_pred,axis=1)\n",
    "y_true = np.argmax(y_test_labels_np,axis=1)\n",
    "print('confusion matrix')\n",
    "print(confusion_matrix(y_true,y_p))\n"
   ]
  },
  {
   "cell_type": "code",
   "execution_count": 93,
   "metadata": {
    "colab": {
     "base_uri": "https://localhost:8080/",
     "height": 185
    },
    "executionInfo": {
     "elapsed": 2178,
     "status": "ok",
     "timestamp": 1602744807898,
     "user": {
      "displayName": "DIVYANSHU BHAIK",
      "photoUrl": "https://lh3.googleusercontent.com/a-/AOh14Gi1vml2D36-XRNdiec3_IPIhcoGFtn36xsXJyiN=s64",
      "userId": "01508561723939667345"
     },
     "user_tz": -330
    },
    "id": "KZ1ZBzXs0zUb",
    "outputId": "bb3f23b5-3423-4b87-da3d-34f9587379b7"
   },
   "outputs": [
    {
     "name": "stdout",
     "output_type": "stream",
     "text": [
      "Classification report\n",
      "              precision    recall  f1-score   support\n",
      "\n",
      "           0       0.97      0.98      0.97      1340\n",
      "           1       0.89      0.85      0.87       282\n",
      "\n",
      "    accuracy                           0.95      1622\n",
      "   macro avg       0.93      0.91      0.92      1622\n",
      "weighted avg       0.95      0.95      0.95      1622\n",
      "\n"
     ]
    }
   ],
   "source": [
    "print('Classification report')\n",
    "print(classification_report(y_true,y_p))"
   ]
  },
  {
   "cell_type": "code",
   "execution_count": 94,
   "metadata": {
    "executionInfo": {
     "elapsed": 2260,
     "status": "ok",
     "timestamp": 1602744943378,
     "user": {
      "displayName": "DIVYANSHU BHAIK",
      "photoUrl": "https://lh3.googleusercontent.com/a-/AOh14Gi1vml2D36-XRNdiec3_IPIhcoGFtn36xsXJyiN=s64",
      "userId": "01508561723939667345"
     },
     "user_tz": -330
    },
    "id": "D1afoVFY2lIq"
   },
   "outputs": [],
   "source": [
    "from sklearn.preprocessing import StandardScaler\n",
    "sc = StandardScaler()\n",
    "op_layer = model_new_1.get_layer('dense_3').output\n",
    "model_new = Model(inputs = model_new_1.input,outputs = op_layer)\n",
    "train_new = sc.fit_transform(model_new.predict(X_train_images_np))\n",
    "val_new = sc.fit_transform(model_new.predict(X_val_images_np))\n",
    "test_new = sc.fit_transform(model_new.predict(X_test_images_np))"
   ]
  },
  {
   "cell_type": "code",
   "execution_count": 1,
   "metadata": {
    "colab": {
     "base_uri": "https://localhost:8080/",
     "height": 67
    },
    "executionInfo": {
     "elapsed": 2851,
     "status": "ok",
     "timestamp": 1602744975608,
     "user": {
      "displayName": "DIVYANSHU BHAIK",
      "photoUrl": "https://lh3.googleusercontent.com/a-/AOh14Gi1vml2D36-XRNdiec3_IPIhcoGFtn36xsXJyiN=s64",
      "userId": "01508561723939667345"
     },
     "user_tz": -330
    },
    "id": "8JZyPUyl1XRG",
    "outputId": "b2ff5e1e-c988-4572-e9c9-0d1ee9261973"
   },
   "outputs": [
    {
     "name": "stdout",
     "output_type": "stream",
     "text": [
      "Training score of svm 0.7847696163485637\n",
      "validation score of svm : 0.7583654587509638\n",
      "testing score of svm : 0.7531442663378545\n"
     ]
    }
   ],
   "source": [
    "from sklearn.svm import SVC\n",
    "svm = SVC(kernel='rbf')\n",
    "svm.fit(train_new,np.argmax(y_train_labels_np,axis=1))\n",
    "print('Training score of svm',svm.score(train_new,np.argmax(y_train_labels_np,axis=1)))\n",
    "print('validation score of svm :',svm.score(val_new,np.argmax(y_val_labels_np,axis=1)))\n",
    "print('testing score of svm :',svm.score(test_new,np.argmax(y_test_labels_np,axis=1)))"
   ]
  },
  {
   "cell_type": "code",
   "execution_count": 100,
   "metadata": {},
   "outputs": [],
   "source": [
    "# non warning will be displayed\n",
    "import warnings\n",
    "warnings.filterwarnings('ignore')"
   ]
  },
  {
   "cell_type": "code",
   "execution_count": 2,
   "metadata": {
    "colab": {
     "base_uri": "https://localhost:8080/",
     "height": 67
    },
    "executionInfo": {
     "elapsed": 3855,
     "status": "ok",
     "timestamp": 1602744988786,
     "user": {
      "displayName": "DIVYANSHU BHAIK",
      "photoUrl": "https://lh3.googleusercontent.com/a-/AOh14Gi1vml2D36-XRNdiec3_IPIhcoGFtn36xsXJyiN=s64",
      "userId": "01508561723939667345"
     },
     "user_tz": -330
    },
    "id": "b1cs_C8E2oBe",
    "outputId": "149685ae-e99d-4fa3-8edb-b66a67beabc5"
   },
   "outputs": [
    {
     "name": "stdout",
     "output_type": "stream",
     "text": [
      "Training score of xgb 0.7994216310005783\n",
      "validation score of xgb : 0.9560524286815728\n",
      "testing score of xgb : 0.756843403205918\n"
     ]
    }
   ],
   "source": [
    "from xgboost import XGBClassifier\n",
    "xg = XGBClassifier()\n",
    "xg.fit(train_new,np.argmax(y_train_labels_np,axis=1))\n",
    "print('Training score of xgb',xg.score(train_new,np.argmax(y_train_labels_np,axis=1)))\n",
    "print('validation score of xgb :',xg.score(val_new,np.argmax(y_val_labels_np,axis=1)))\n",
    "print('testing score of xgb :',xg.score(test_new,np.argmax(y_test_labels_np,axis=1)))"
   ]
  },
  {
   "cell_type": "code",
   "execution_count": 3,
   "metadata": {
    "colab": {
     "base_uri": "https://localhost:8080/",
     "height": 67
    },
    "executionInfo": {
     "elapsed": 2237,
     "status": "ok",
     "timestamp": 1602744996370,
     "user": {
      "displayName": "DIVYANSHU BHAIK",
      "photoUrl": "https://lh3.googleusercontent.com/a-/AOh14Gi1vml2D36-XRNdiec3_IPIhcoGFtn36xsXJyiN=s64",
      "userId": "01508561723939667345"
     },
     "user_tz": -330
    },
    "id": "5Xl4LpT3-kBn",
    "outputId": "70b9c0bc-d3aa-4aa1-c3db-8aa06d14d539"
   },
   "outputs": [
    {
     "name": "stdout",
     "output_type": "stream",
     "text": [
      "Training score of random_forest 0.7855357752458275\n",
      "validation score of random_forest : 0.7537393986121819\n",
      "testing score of random_forest : 0.7580764488286067\n"
     ]
    }
   ],
   "source": [
    "from sklearn.ensemble import RandomForestClassifier\n",
    "rf=RandomForestClassifier()\n",
    "rf.fit(train_new,np.argmax(y_train_labels_np,axis=1))\n",
    "print('Training score of random_forest',rf.score(train_new,np.argmax(y_train_labels_np,axis=1)))\n",
    "print('validation score of random_forest :',rf.score(val_new,np.argmax(y_val_labels_np,axis=1)))\n",
    "print('testing score of random_forest :',rf.score(test_new,np.argmax(y_test_labels_np,axis=1)))"
   ]
  },
  {
   "cell_type": "code",
   "execution_count": null,
   "metadata": {
    "id": "N5gYkmXmC8jO"
   },
   "outputs": [],
   "source": []
  }
 ],
 "metadata": {
  "colab": {
   "collapsed_sections": [],
   "name": "Lungcancer_1.ipynb",
   "provenance": []
  },
  "kernelspec": {
   "display_name": "AntonioEnv",
   "language": "python",
   "name": "antonioenv"
  },
  "language_info": {
   "codemirror_mode": {
    "name": "ipython",
    "version": 3
   },
   "file_extension": ".py",
   "mimetype": "text/x-python",
   "name": "python",
   "nbconvert_exporter": "python",
   "pygments_lexer": "ipython3",
   "version": "3.8.10"
  }
 },
 "nbformat": 4,
 "nbformat_minor": 1
}
