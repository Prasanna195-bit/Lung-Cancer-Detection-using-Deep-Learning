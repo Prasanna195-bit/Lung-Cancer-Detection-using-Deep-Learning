{
 "cells": [
  {
   "cell_type": "markdown",
   "metadata": {},
   "source": [
    "# LUNG CANCER DETECTION "
   ]
  },
  {
   "cell_type": "code",
   "execution_count": 1,
   "metadata": {},
   "outputs": [
    {
     "name": "stderr",
     "output_type": "stream",
     "text": [
      "Using TensorFlow backend.\n"
     ]
    }
   ],
   "source": [
    "import numpy as np\n",
    "import keras\n",
    "from keras.models import Sequential\n",
    "from keras.layers import Dense, Activation, Dropout, Flatten, Conv2D, MaxPooling2D\n",
    "from keras.layers.normalization import BatchNormalization\n",
    "from keras.preprocessing.image import ImageDataGenerator\n",
    "from keras.metrics import categorical_accuracy,categorical_crossentropy, top_k_categorical_accuracy\n",
    "from keras import backend as k\n",
    "from keras.layers.convolutional import*\n",
    "import os\n",
    "import tensorflow as tf\n",
    "import random as rn\n",
    "from matplotlib import pyplot as plt\n",
    "import itertools\n",
    "from keras.models import Model\n",
    "import matplotlib.pyplot as plt\n",
    "from keras.optimizers import Adam,RMSprop\n",
    "%matplotlib inline\n",
    "import json"
   ]
  },
  {
   "cell_type": "code",
   "execution_count": 2,
   "metadata": {},
   "outputs": [],
   "source": [
    "tf.keras.backend.clear_session()"
   ]
  },
  {
   "cell_type": "code",
   "execution_count": 3,
   "metadata": {},
   "outputs": [],
   "source": [
    "#CREATING VARIABLES AND ASSIGNING PATH\n",
    "train_path='D:/Sahana/New_Segment/train'\n",
    "valid_path='D:/Sahana/New_Segment/valid'\n",
    "test_path='D:/Sahana/New_Segment/test'"
   ]
  },
  {
   "cell_type": "code",
   "execution_count": 4,
   "metadata": {},
   "outputs": [
    {
     "name": "stdout",
     "output_type": "stream",
     "text": [
      "Found 1082 images belonging to 2 classes.\n",
      "Found 218 images belonging to 2 classes.\n",
      "Found 1 images belonging to 1 classes.\n"
     ]
    }
   ],
   "source": [
    "train_batches=ImageDataGenerator().flow_from_directory(train_path,target_size=(224,224),classes=['0','1'],batch_size=10)\n",
    "valid_batches=ImageDataGenerator().flow_from_directory(valid_path,target_size=(224,224),classes=['000','111'],batch_size=5)\n",
    "test_batches=ImageDataGenerator().flow_from_directory(test_path,target_size=(224,224),classes=['11'],batch_size=1)"
   ]
  },
  {
   "cell_type": "code",
   "execution_count": 5,
   "metadata": {},
   "outputs": [],
   "source": [
    "#FUNCTION TO DISPLAY THE IMAGES\n",
    "#plot image with labels\n",
    "def plots(ims,figsize=(12,6),rows=1,interp=False,titles=None):\n",
    "    if type(ims[0]) is np.ndarray:\n",
    "        ims=np.array(ims).astype(np.uint8)\n",
    "        if(ims.shape[-1]!=3):\n",
    "            ims=ims.transpose((0,2,3,1))\n",
    "    f=plt.figure(figsize=figsize)\n",
    "    cols=len(ims)//rows if len(ims) %2==0 else len(ims)//rows+1\n",
    "    for i in range(len(ims)):\n",
    "        sp=f.add_subplot(rows,cols,i+1)\n",
    "        sp.axis('off')\n",
    "        if titles is not None:\n",
    "            sp.set_title(titles[i],fontsize=16)\n",
    "        plt.imshow(ims[i],cmap=\"CMRmap\",interpolation=None if interp else 'none')"
   ]
  },
  {
   "cell_type": "code",
   "execution_count": 6,
   "metadata": {},
   "outputs": [],
   "source": [
    "imgs,labels=next(train_batches)"
   ]
  },
  {
   "cell_type": "code",
   "execution_count": 7,
   "metadata": {},
   "outputs": [
    {
     "name": "stdout",
     "output_type": "stream",
     "text": [
      "FEW IMAGES OF TRAINING DATASET\n"
     ]
    },
    {
     "name": "stderr",
     "output_type": "stream",
     "text": [
      "C:\\Users\\Sandhya R K\\Anaconda3\\envs\\tf-gpu\\lib\\site-packages\\matplotlib\\text.py:1165: FutureWarning: elementwise comparison failed; returning scalar instead, but in the future will perform elementwise comparison\n",
      "  if s != self._text:\n"
     ]
    },
    {
     "data": {
      "image/png": "[encoded data removed]",
      "text/plain": [
       "<Figure size 864x432 with 10 Axes>"
      ]
     },
     "metadata": {
      "needs_background": "light"
     },
     "output_type": "display_data"
    }
   ],
   "source": [
    "#we call the function plot to display images\n",
    "print(\"FEW IMAGES OF TRAINING DATASET\")\n",
    "plots(imgs, titles=labels)"
   ]
  },
  {
   "cell_type": "code",
   "execution_count": 9,
   "metadata": {},
   "outputs": [],
   "source": [
    "import time\n",
    "\n",
    "class TimeHistory(keras.callbacks.Callback):\n",
    "    def on_train_begin(self, logs={}):\n",
    "        self.times = []\n",
    "\n",
    "    def on_epoch_begin(self, epoch, logs={}):\n",
    "        self.epoch_time_start = time.time()\n",
    "\n",
    "    def on_epoch_end(self, epoch, logs={}):\n",
    "        self.times.append(time.time() - self.epoch_time_start)\n"
   ]
  },
  {
   "cell_type": "code",
   "execution_count": 10,
   "metadata": {},
   "outputs": [],
   "source": [
    "time_callback = TimeHistory()"
   ]
  },
  {
   "cell_type": "code",
   "execution_count": 11,
   "metadata": {},
   "outputs": [],
   "source": [
    "import json\n",
    "from keras.callbacks import Callback, ModelCheckpoint, ReduceLROnPlateau, TensorBoard"
   ]
  },
  {
   "cell_type": "code",
   "execution_count": 12,
   "metadata": {},
   "outputs": [],
   "source": [
    "from tensorflow.keras.applications.vgg16 import VGG16"
   ]
  },
  {
   "cell_type": "code",
   "execution_count": 13,
   "metadata": {},
   "outputs": [],
   "source": [
    "from tensorflow.keras import layers "
   ]
  },
  {
   "cell_type": "code",
   "execution_count": 14,
   "metadata": {},
   "outputs": [],
   "source": [
    "base_model = VGG16(input_shape = (224, 224, 3), # Shape of our images\n",
    "include_top = False, # Leave out the last fully connected layer\n",
    "weights = 'imagenet')"
   ]
  },
  {
   "cell_type": "code",
   "execution_count": 15,
   "metadata": {},
   "outputs": [
    {
     "name": "stdout",
     "output_type": "stream",
     "text": [
      "Model: \"vgg16\"\n",
      "_________________________________________________________________\n",
      "Layer (type)                 Output Shape              Param #   \n",
      "=================================================================\n",
      "input_1 (InputLayer)         [(None, 224, 224, 3)]     0         \n",
      "_________________________________________________________________\n",
      "block1_conv1 (Conv2D)        (None, 224, 224, 64)      1792      \n",
      "_________________________________________________________________\n",
      "block1_conv2 (Conv2D)        (None, 224, 224, 64)      36928     \n",
      "_________________________________________________________________\n",
      "block1_pool (MaxPooling2D)   (None, 112, 112, 64)      0         \n",
      "_________________________________________________________________\n",
      "block2_conv1 (Conv2D)        (None, 112, 112, 128)     73856     \n",
      "_________________________________________________________________\n",
      "block2_conv2 (Conv2D)        (None, 112, 112, 128)     147584    \n",
      "_________________________________________________________________\n",
      "block2_pool (MaxPooling2D)   (None, 56, 56, 128)       0         \n",
      "_________________________________________________________________\n",
      "block3_conv1 (Conv2D)        (None, 56, 56, 256)       295168    \n",
      "_________________________________________________________________\n",
      "block3_conv2 (Conv2D)        (None, 56, 56, 256)       590080    \n",
      "_________________________________________________________________\n",
      "block3_conv3 (Conv2D)        (None, 56, 56, 256)       590080    \n",
      "_________________________________________________________________\n",
      "block3_pool (MaxPooling2D)   (None, 28, 28, 256)       0         \n",
      "_________________________________________________________________\n",
      "block4_conv1 (Conv2D)        (None, 28, 28, 512)       1180160   \n",
      "_________________________________________________________________\n",
      "block4_conv2 (Conv2D)        (None, 28, 28, 512)       2359808   \n",
      "_________________________________________________________________\n",
      "block4_conv3 (Conv2D)        (None, 28, 28, 512)       2359808   \n",
      "_________________________________________________________________\n",
      "block4_pool (MaxPooling2D)   (None, 14, 14, 512)       0         \n",
      "_________________________________________________________________\n",
      "block5_conv1 (Conv2D)        (None, 14, 14, 512)       2359808   \n",
      "_________________________________________________________________\n",
      "block5_conv2 (Conv2D)        (None, 14, 14, 512)       2359808   \n",
      "_________________________________________________________________\n",
      "block5_conv3 (Conv2D)        (None, 14, 14, 512)       2359808   \n",
      "_________________________________________________________________\n",
      "block5_pool (MaxPooling2D)   (None, 7, 7, 512)         0         \n",
      "=================================================================\n",
      "Total params: 14,714,688\n",
      "Trainable params: 14,714,688\n",
      "Non-trainable params: 0\n",
      "_________________________________________________________________\n"
     ]
    }
   ],
   "source": [
    "base_model.summary()"
   ]
  },
  {
   "cell_type": "code",
   "execution_count": 16,
   "metadata": {},
   "outputs": [],
   "source": [
    "for layer in base_model.layers:\n",
    "    layer.trainable = False"
   ]
  },
  {
   "cell_type": "code",
   "execution_count": 17,
   "metadata": {},
   "outputs": [],
   "source": [
    "# Flatten the output layer to 1 dimension\n",
    "x = layers.Flatten()(base_model.output)\n",
    "\n",
    "# Add a fully connected layer with 512 hidden units and ReLU activation\n",
    "x = layers.Dense(512, activation='relu')(x)\n",
    "\n",
    "# Add a dropout rate of 0.5\n",
    "x = layers.Dropout(0.5)(x)\n",
    "\n",
    "# Add a final sigmoid layer for classification\n",
    "x = layers.Dense(2, activation='softmax')(x)\n",
    "\n"
   ]
  },
  {
   "cell_type": "code",
   "execution_count": 18,
   "metadata": {},
   "outputs": [],
   "source": [
    "model = tf.keras.models.Model(base_model.input, x)"
   ]
  },
  {
   "cell_type": "code",
   "execution_count": 19,
   "metadata": {},
   "outputs": [
    {
     "name": "stdout",
     "output_type": "stream",
     "text": [
      "Model: \"model\"\n",
      "_________________________________________________________________\n",
      "Layer (type)                 Output Shape              Param #   \n",
      "=================================================================\n",
      "input_1 (InputLayer)         [(None, 224, 224, 3)]     0         \n",
      "_________________________________________________________________\n",
      "block1_conv1 (Conv2D)        (None, 224, 224, 64)      1792      \n",
      "_________________________________________________________________\n",
      "block1_conv2 (Conv2D)        (None, 224, 224, 64)      36928     \n",
      "_________________________________________________________________\n",
      "block1_pool (MaxPooling2D)   (None, 112, 112, 64)      0         \n",
      "_________________________________________________________________\n",
      "block2_conv1 (Conv2D)        (None, 112, 112, 128)     73856     \n",
      "_________________________________________________________________\n",
      "block2_conv2 (Conv2D)        (None, 112, 112, 128)     147584    \n",
      "_________________________________________________________________\n",
      "block2_pool (MaxPooling2D)   (None, 56, 56, 128)       0         \n",
      "_________________________________________________________________\n",
      "block3_conv1 (Conv2D)        (None, 56, 56, 256)       295168    \n",
      "_________________________________________________________________\n",
      "block3_conv2 (Conv2D)        (None, 56, 56, 256)       590080    \n",
      "_________________________________________________________________\n",
      "block3_conv3 (Conv2D)        (None, 56, 56, 256)       590080    \n",
      "_________________________________________________________________\n",
      "block3_pool (MaxPooling2D)   (None, 28, 28, 256)       0         \n",
      "_________________________________________________________________\n",
      "block4_conv1 (Conv2D)        (None, 28, 28, 512)       1180160   \n",
      "_________________________________________________________________\n",
      "block4_conv2 (Conv2D)        (None, 28, 28, 512)       2359808   \n",
      "_________________________________________________________________\n",
      "block4_conv3 (Conv2D)        (None, 28, 28, 512)       2359808   \n",
      "_________________________________________________________________\n",
      "block4_pool (MaxPooling2D)   (None, 14, 14, 512)       0         \n",
      "_________________________________________________________________\n",
      "block5_conv1 (Conv2D)        (None, 14, 14, 512)       2359808   \n",
      "_________________________________________________________________\n",
      "block5_conv2 (Conv2D)        (None, 14, 14, 512)       2359808   \n",
      "_________________________________________________________________\n",
      "block5_conv3 (Conv2D)        (None, 14, 14, 512)       2359808   \n",
      "_________________________________________________________________\n",
      "block5_pool (MaxPooling2D)   (None, 7, 7, 512)         0         \n",
      "_________________________________________________________________\n",
      "flatten (Flatten)            (None, 25088)             0         \n",
      "_________________________________________________________________\n",
      "dense (Dense)                (None, 512)               12845568  \n",
      "_________________________________________________________________\n",
      "dropout (Dropout)            (None, 512)               0         \n",
      "_________________________________________________________________\n",
      "dense_1 (Dense)              (None, 2)                 1026      \n",
      "=================================================================\n",
      "Total params: 27,561,282\n",
      "Trainable params: 12,846,594\n",
      "Non-trainable params: 14,714,688\n",
      "_________________________________________________________________\n"
     ]
    }
   ],
   "source": [
    "model.summary()"
   ]
  },
  {
   "cell_type": "code",
   "execution_count": 20,
   "metadata": {},
   "outputs": [],
   "source": [
    "model.compile(tf.keras.optimizers.Adam(lr=.0001),loss='binary_crossentropy',metrics=['accuracy'])"
   ]
  },
  {
   "cell_type": "code",
   "execution_count": 21,
   "metadata": {},
   "outputs": [],
   "source": [
    "tf.keras.backend.clear_session()"
   ]
  },
  {
   "cell_type": "code",
   "execution_count": 22,
   "metadata": {},
   "outputs": [
    {
     "name": "stdout",
     "output_type": "stream",
     "text": [
      "WARNING:tensorflow:From <ipython-input-22-ab25baf6376a>:9: Model.fit_generator (from tensorflow.python.keras.engine.training) is deprecated and will be removed in a future version.\n",
      "Instructions for updating:\n",
      "Please use Model.fit, which supports generators.\n",
      "WARNING:tensorflow:sample_weight modes were coerced from\n",
      "  ...\n",
      "    to  \n",
      "  ['...']\n",
      "WARNING:tensorflow:sample_weight modes were coerced from\n",
      "  ...\n",
      "    to  \n",
      "  ['...']\n",
      "Train for 108 steps, validate for 44 steps\n",
      "Epoch 1/25\n",
      "107/108 [============================>.] - ETA: 0s - loss: 2.3502 - accuracy: 0.7486\n",
      "Epoch 00001: val_accuracy improved from -inf to 0.80275, saving model to VGG16_weights_best.hdf5\n",
      "108/108 [==============================] - 31s 289ms/step - loss: 2.3305 - accuracy: 0.7500 - val_loss: 2.0500 - val_accuracy: 0.8028\n",
      "Epoch 2/25\n",
      "107/108 [============================>.] - ETA: 0s - loss: 0.8881 - accuracy: 0.8889\n",
      "Epoch 00002: val_accuracy improved from 0.80275 to 0.92661, saving model to VGG16_weights_best.hdf5\n",
      "108/108 [==============================] - 18s 168ms/step - loss: 0.8872 - accuracy: 0.8871 - val_loss: 0.8006 - val_accuracy: 0.9266\n",
      "Epoch 3/25\n",
      "107/108 [============================>.] - ETA: 0s - loss: 0.4714 - accuracy: 0.9247\n",
      "Epoch 00003: val_accuracy did not improve from 0.92661\n",
      "108/108 [==============================] - 17s 160ms/step - loss: 0.4671 - accuracy: 0.9254 - val_loss: 0.8361 - val_accuracy: 0.9037\n",
      "Epoch 4/25\n",
      "107/108 [============================>.] - ETA: 0s - loss: 0.5310 - accuracy: 0.9294\n",
      "Epoch 00004: ReduceLROnPlateau reducing learning rate to 1.9999999494757503e-05.\n",
      "\n",
      "Epoch 00004: val_accuracy did not improve from 0.92661\n",
      "108/108 [==============================] - 17s 160ms/step - loss: 0.5262 - accuracy: 0.9300 - val_loss: 0.7375 - val_accuracy: 0.9220\n",
      "Epoch 5/25\n",
      "107/108 [============================>.] - ETA: 0s - loss: 0.1785 - accuracy: 0.9567\n",
      "Epoch 00005: val_accuracy improved from 0.92661 to 0.94495, saving model to VGG16_weights_best.hdf5\n",
      "108/108 [==============================] - 19s 171ms/step - loss: 0.1770 - accuracy: 0.9571 - val_loss: 0.6676 - val_accuracy: 0.9450\n",
      "Epoch 6/25\n",
      "107/108 [============================>.] - ETA: 0s - loss: 0.1258 - accuracy: 0.9746\n",
      "Epoch 00006: val_accuracy did not improve from 0.94495\n",
      "108/108 [==============================] - 17s 160ms/step - loss: 0.1246 - accuracy: 0.9748 - val_loss: 0.6682 - val_accuracy: 0.9450\n",
      "Epoch 7/25\n",
      "107/108 [============================>.] - ETA: 0s - loss: 0.0896 - accuracy: 0.9755\n",
      "Epoch 00007: ReduceLROnPlateau reducing learning rate to 3.999999898951501e-06.\n",
      "\n",
      "Epoch 00007: val_accuracy did not improve from 0.94495\n",
      "108/108 [==============================] - 17s 160ms/step - loss: 0.0889 - accuracy: 0.9757 - val_loss: 0.6548 - val_accuracy: 0.9450\n",
      "Epoch 8/25\n",
      "107/108 [============================>.] - ETA: 0s - loss: 0.0723 - accuracy: 0.9802\n",
      "Epoch 00008: val_accuracy did not improve from 0.94495\n",
      "108/108 [==============================] - 17s 161ms/step - loss: 0.0749 - accuracy: 0.9795 - val_loss: 0.6520 - val_accuracy: 0.9450\n",
      "Epoch 9/25\n",
      "107/108 [============================>.] - ETA: 0s - loss: 0.0605 - accuracy: 0.9783\n",
      "Epoch 00009: ReduceLROnPlateau reducing learning rate to 7.999999979801942e-07.\n",
      "\n",
      "Epoch 00009: val_accuracy did not improve from 0.94495\n",
      "108/108 [==============================] - 17s 161ms/step - loss: 0.0599 - accuracy: 0.9785 - val_loss: 0.6757 - val_accuracy: 0.9450\n",
      "Epoch 10/25\n",
      "107/108 [============================>.] - ETA: 0s - loss: 0.0910 - accuracy: 0.9727\n",
      "Epoch 00010: val_accuracy did not improve from 0.94495\n",
      "108/108 [==============================] - 17s 161ms/step - loss: 0.0927 - accuracy: 0.9720 - val_loss: 0.6702 - val_accuracy: 0.9450\n",
      "Epoch 11/25\n",
      "107/108 [============================>.] - ETA: 0s - loss: 0.0727 - accuracy: 0.9774\n",
      "Epoch 00011: ReduceLROnPlateau reducing learning rate to 1.600000018697756e-07.\n",
      "\n",
      "Epoch 00011: val_accuracy did not improve from 0.94495\n",
      "108/108 [==============================] - 17s 161ms/step - loss: 0.0721 - accuracy: 0.9776 - val_loss: 0.6647 - val_accuracy: 0.9450\n",
      "Epoch 12/25\n",
      "107/108 [============================>.] - ETA: 0s - loss: 0.0894 - accuracy: 0.9755\n",
      "Epoch 00012: val_accuracy did not improve from 0.94495\n",
      "108/108 [==============================] - 17s 161ms/step - loss: 0.0886 - accuracy: 0.9757 - val_loss: 0.6642 - val_accuracy: 0.9450\n",
      "Epoch 13/25\n",
      "107/108 [============================>.] - ETA: 0s - loss: 0.0845 - accuracy: 0.9821\n",
      "Epoch 00013: ReduceLROnPlateau reducing learning rate to 3.199999980552093e-08.\n",
      "\n",
      "Epoch 00013: val_accuracy did not improve from 0.94495\n",
      "108/108 [==============================] - 17s 161ms/step - loss: 0.0873 - accuracy: 0.9813 - val_loss: 0.6625 - val_accuracy: 0.9450\n",
      "Epoch 14/25\n",
      "107/108 [============================>.] - ETA: 0s - loss: 0.0614 - accuracy: 0.9821\n",
      "Epoch 00014: val_accuracy did not improve from 0.94495\n",
      "108/108 [==============================] - 17s 161ms/step - loss: 0.0609 - accuracy: 0.9823 - val_loss: 0.6625 - val_accuracy: 0.9450\n",
      "Epoch 15/25\n",
      "107/108 [============================>.] - ETA: 0s - loss: 0.0916 - accuracy: 0.9831\n",
      "Epoch 00015: ReduceLROnPlateau reducing learning rate to 6.399999818995639e-09.\n",
      "\n",
      "Epoch 00015: val_accuracy did not improve from 0.94495\n",
      "108/108 [==============================] - 17s 161ms/step - loss: 0.0928 - accuracy: 0.9823 - val_loss: 0.6622 - val_accuracy: 0.9450\n",
      "Epoch 16/25\n",
      "107/108 [============================>.] - ETA: 0s - loss: 0.0742 - accuracy: 0.9821\n",
      "Epoch 00016: val_accuracy did not improve from 0.94495\n",
      "108/108 [==============================] - 17s 161ms/step - loss: 0.0735 - accuracy: 0.9823 - val_loss: 0.6622 - val_accuracy: 0.9450\n",
      "Epoch 17/25\n",
      "107/108 [============================>.] - ETA: 0s - loss: 0.0563 - accuracy: 0.9849\n",
      "Epoch 00017: ReduceLROnPlateau reducing learning rate to 1.279999928271991e-09.\n",
      "\n",
      "Epoch 00017: val_accuracy did not improve from 0.94495\n",
      "108/108 [==============================] - 17s 161ms/step - loss: 0.0558 - accuracy: 0.9851 - val_loss: 0.6622 - val_accuracy: 0.9450\n",
      "Epoch 18/25\n",
      "107/108 [============================>.] - ETA: 0s - loss: 0.0762 - accuracy: 0.9783\n",
      "Epoch 00018: val_accuracy did not improve from 0.94495\n",
      "108/108 [==============================] - 17s 160ms/step - loss: 0.0759 - accuracy: 0.9785 - val_loss: 0.6622 - val_accuracy: 0.9450\n",
      "Epoch 19/25\n",
      "107/108 [============================>.] - ETA: 0s - loss: 0.0800 - accuracy: 0.9793\n",
      "Epoch 00019: ReduceLROnPlateau reducing learning rate to 2.55999976772614e-10.\n",
      "\n",
      "Epoch 00019: val_accuracy did not improve from 0.94495\n",
      "108/108 [==============================] - 17s 161ms/step - loss: 0.0793 - accuracy: 0.9795 - val_loss: 0.6622 - val_accuracy: 0.9450\n",
      "Epoch 20/25\n",
      "107/108 [============================>.] - ETA: 0s - loss: 0.0789 - accuracy: 0.9821\n",
      "Epoch 00020: val_accuracy did not improve from 0.94495\n",
      "108/108 [==============================] - 17s 161ms/step - loss: 0.0784 - accuracy: 0.9823 - val_loss: 0.6622 - val_accuracy: 0.9450\n",
      "Epoch 21/25\n",
      "107/108 [============================>.] - ETA: 0s - loss: 0.0670 - accuracy: 0.9812\n",
      "Epoch 00021: ReduceLROnPlateau reducing learning rate to 5.119999424429978e-11.\n",
      "\n",
      "Epoch 00021: val_accuracy did not improve from 0.94495\n",
      "108/108 [==============================] - 17s 161ms/step - loss: 0.0664 - accuracy: 0.9813 - val_loss: 0.6622 - val_accuracy: 0.9450\n",
      "Epoch 22/25\n",
      "107/108 [============================>.] - ETA: 0s - loss: 0.0656 - accuracy: 0.9831\n",
      "Epoch 00022: val_accuracy did not improve from 0.94495\n",
      "108/108 [==============================] - 17s 161ms/step - loss: 0.0655 - accuracy: 0.9832 - val_loss: 0.6622 - val_accuracy: 0.9450\n",
      "Epoch 23/25\n",
      "107/108 [============================>.] - ETA: 0s - loss: 0.0619 - accuracy: 0.9812\n",
      "Epoch 00023: ReduceLROnPlateau reducing learning rate to 1.0239999126415712e-11.\n",
      "\n",
      "Epoch 00023: val_accuracy did not improve from 0.94495\n",
      "108/108 [==============================] - 17s 161ms/step - loss: 0.0617 - accuracy: 0.9813 - val_loss: 0.6622 - val_accuracy: 0.9450\n",
      "Epoch 24/25\n",
      "107/108 [============================>.] - ETA: 0s - loss: 0.0615 - accuracy: 0.9821\n",
      "Epoch 00024: val_accuracy did not improve from 0.94495\n",
      "108/108 [==============================] - 17s 161ms/step - loss: 0.0611 - accuracy: 0.9823 - val_loss: 0.6622 - val_accuracy: 0.9450\n"
     ]
    },
    {
     "name": "stdout",
     "output_type": "stream",
     "text": [
      "Epoch 25/25\n",
      "107/108 [============================>.] - ETA: 0s - loss: 0.0565 - accuracy: 0.9831\n",
      "Epoch 00025: ReduceLROnPlateau reducing learning rate to 2.0479997905886727e-12.\n",
      "\n",
      "Epoch 00025: val_accuracy did not improve from 0.94495\n",
      "108/108 [==============================] - 17s 161ms/step - loss: 0.0584 - accuracy: 0.9823 - val_loss: 0.6622 - val_accuracy: 0.9450\n"
     ]
    }
   ],
   "source": [
    "learn_control = ReduceLROnPlateau(monitor='val_accuracy', patience=2,\n",
    "                                  verbose=1,factor=0.2)\n",
    "\n",
    "filepath=\"VGG16_weights_best.hdf5\"\n",
    "checkpoint = ModelCheckpoint(filepath, monitor='val_accuracy', verbose=1, save_best_only=True, mode='max')\n",
    "\n",
    "history= model.fit_generator(train_batches, steps_per_epoch=108,\n",
    "                              validation_data=valid_batches,validation_steps=44,epochs=25,verbose=1,\n",
    "                              callbacks=[learn_control, checkpoint,time_callback]\n",
    ")"
   ]
  },
  {
   "cell_type": "code",
   "execution_count": 23,
   "metadata": {},
   "outputs": [
    {
     "data": {
      "text/plain": [
       "449.47456431388855"
      ]
     },
     "execution_count": 23,
     "metadata": {},
     "output_type": "execute_result"
    }
   ],
   "source": [
    "sum(time_callback.times)"
   ]
  },
  {
   "cell_type": "code",
   "execution_count": 24,
   "metadata": {},
   "outputs": [],
   "source": [
    "import pandas as pd"
   ]
  },
  {
   "cell_type": "code",
   "execution_count": 25,
   "metadata": {},
   "outputs": [
    {
     "data": {
      "text/plain": [
       "<matplotlib.axes._subplots.AxesSubplot at 0x1eb94b64d88>"
      ]
     },
     "execution_count": 25,
     "metadata": {},
     "output_type": "execute_result"
    },
    {
     "data": {
      "image/png": "[encoded data removed]",
      "text/plain": [
       "<Figure size 432x288 with 1 Axes>"
      ]
     },
     "metadata": {
      "needs_background": "light"
     },
     "output_type": "display_data"
    },
    {
     "data": {
      "image/png": "[encoded data removed]",
      "text/plain": [
       "<Figure size 432x288 with 1 Axes>"
      ]
     },
     "metadata": {
      "needs_background": "light"
     },
     "output_type": "display_data"
    }
   ],
   "source": [
    "history_df = pd.DataFrame(history.history)\n",
    "history_df[['loss', 'val_loss']].plot()\n",
    "\n",
    "history_df = pd.DataFrame(history.history)\n",
    "history_df[['accuracy', 'val_accuracy']].plot()\n"
   ]
  },
  {
   "cell_type": "code",
   "execution_count": 26,
   "metadata": {},
   "outputs": [
    {
     "name": "stdout",
     "output_type": "stream",
     "text": [
      "WARNING:tensorflow:sample_weight modes were coerced from\n",
      "  ...\n",
      "    to  \n",
      "  ['...']\n",
      "109/109 [==============================] - 14s 127ms/step - loss: 0.0306 - accuracy: 0.9908\n",
      "Training set of Images\n",
      "loss, accuracy [0.030646910582568215, 0.9907579]\n"
     ]
    }
   ],
   "source": [
    "results = model.evaluate(train_batches)\n",
    "print(\"Training set of Images\")\n",
    "print('loss, accuracy', results)"
   ]
  },
  {
   "cell_type": "code",
   "execution_count": 27,
   "metadata": {},
   "outputs": [
    {
     "name": "stdout",
     "output_type": "stream",
     "text": [
      "WARNING:tensorflow:sample_weight modes were coerced from\n",
      "  ...\n",
      "    to  \n",
      "  ['...']\n",
      "44/44 [==============================] - 4s 81ms/step - loss: 0.6622 - accuracy: 0.9450\n",
      "Training set of Images\n",
      "loss, accuracy [0.6621595897722049, 0.94495416]\n"
     ]
    }
   ],
   "source": [
    "results1 = model.evaluate(valid_batches)\n",
    "print(\"Training set of Images\")\n",
    "print('loss, accuracy', results1)"
   ]
  }
 ],
 "metadata": {
  "kernelspec": {
   "display_name": "Python 3",
   "language": "python",
   "name": "python3"
  },
  "language_info": {
   "codemirror_mode": {
    "name": "ipython",
    "version": 3
   },
   "file_extension": ".py",
   "mimetype": "text/x-python",
   "name": "python",
   "nbconvert_exporter": "python",
   "pygments_lexer": "ipython3",
   "version": "3.7.7"
  }
 },
 "nbformat": 4,
 "nbformat_minor": 4
}
